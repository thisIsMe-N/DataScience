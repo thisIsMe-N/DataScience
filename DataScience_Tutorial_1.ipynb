{
  "nbformat": 4,
  "nbformat_minor": 0,
  "metadata": {
    "colab": {
      "name": "DataScience_Tutorial_1.ipynb",
      "provenance": []
    },
    "kernelspec": {
      "name": "python3",
      "display_name": "Python 3"
    },
    "language_info": {
      "name": "python"
    }
  },
  "cells": [
    {
      "cell_type": "code",
      "execution_count": 215,
      "metadata": {
        "id": "fd40ZyqrYV5v"
      },
      "outputs": [],
      "source": [
        "import pandas as pd\n",
        "import numpy as np\n",
        "import matplotlib.pyplot as plt\n",
        "import seaborn as sns"
      ]
    },
    {
      "cell_type": "markdown",
      "source": [
        "### Reading Data from CSV file"
      ],
      "metadata": {
        "id": "868IGsbkdW_l"
      }
    },
    {
      "cell_type": "code",
      "source": [
        "!  pip install openpyxl==3.0.9"
      ],
      "metadata": {
        "colab": {
          "base_uri": "https://localhost:8080/"
        },
        "id": "ay-SRO75t1TN",
        "outputId": "1c6f7d08-cff6-48f0-9e7c-d6d6f0d77306"
      },
      "execution_count": 216,
      "outputs": [
        {
          "output_type": "stream",
          "name": "stdout",
          "text": [
            "Requirement already satisfied: openpyxl==3.0.9 in /usr/local/lib/python3.7/dist-packages (3.0.9)\n",
            "Requirement already satisfied: et-xmlfile in /usr/local/lib/python3.7/dist-packages (from openpyxl==3.0.9) (1.1.0)\n"
          ]
        }
      ]
    },
    {
      "cell_type": "code",
      "source": [
        "df = pd.read_excel('/content/drive/MyDrive/Fires_100.xlsx', sheet_name='2016')"
      ],
      "metadata": {
        "id": "ZTS0K84AY0Kd"
      },
      "execution_count": 217,
      "outputs": []
    },
    {
      "cell_type": "code",
      "source": [
        "df.head()"
      ],
      "metadata": {
        "colab": {
          "base_uri": "https://localhost:8080/",
          "height": 337
        },
        "id": "DskCLuobZLBg",
        "outputId": "cc30d6e0-820b-4ee1-cfde-c318946d8c26"
      },
      "execution_count": 218,
      "outputs": [
        {
          "output_type": "execute_result",
          "data": {
            "text/html": [
              "\n",
              "  <div id=\"df-f43b4b07-ffbf-4fe9-87d5-4d014051254d\">\n",
              "    <div class=\"colab-df-container\">\n",
              "      <div>\n",
              "<style scoped>\n",
              "    .dataframe tbody tr th:only-of-type {\n",
              "        vertical-align: middle;\n",
              "    }\n",
              "\n",
              "    .dataframe tbody tr th {\n",
              "        vertical-align: top;\n",
              "    }\n",
              "\n",
              "    .dataframe thead th {\n",
              "        text-align: right;\n",
              "    }\n",
              "</style>\n",
              "<table border=\"1\" class=\"dataframe\">\n",
              "  <thead>\n",
              "    <tr style=\"text-align: right;\">\n",
              "      <th></th>\n",
              "      <th>YEAR</th>\n",
              "      <th>STATE</th>\n",
              "      <th>AGENCY</th>\n",
              "      <th>UNIT_ID</th>\n",
              "      <th>FIRE_NAME</th>\n",
              "      <th>INC_NUM</th>\n",
              "      <th>ALARM_DATE</th>\n",
              "      <th>CONT_DATE</th>\n",
              "      <th>CAUSE</th>\n",
              "      <th>COMMENTS</th>\n",
              "      <th>REPORT_AC</th>\n",
              "      <th>GIS_ACRES</th>\n",
              "      <th>C_METHOD</th>\n",
              "      <th>OBJECTIVE</th>\n",
              "    </tr>\n",
              "  </thead>\n",
              "  <tbody>\n",
              "    <tr>\n",
              "      <th>0</th>\n",
              "      <td>1878</td>\n",
              "      <td>California</td>\n",
              "      <td>Contract County</td>\n",
              "      <td>Los Angeles County</td>\n",
              "      <td></td>\n",
              "      <td>0</td>\n",
              "      <td>&lt;Null&gt;</td>\n",
              "      <td>&lt;Null&gt;</td>\n",
              "      <td>14 - Unknown / Unidentified</td>\n",
              "      <td>NaN</td>\n",
              "      <td>&lt;Null&gt;</td>\n",
              "      <td>59468.8800</td>\n",
              "      <td>&lt;Null&gt;</td>\n",
              "      <td>Suppression (Wildfire)</td>\n",
              "    </tr>\n",
              "    <tr>\n",
              "      <th>1</th>\n",
              "      <td>1895</td>\n",
              "      <td>California</td>\n",
              "      <td>Contract County</td>\n",
              "      <td>Los Angeles County</td>\n",
              "      <td></td>\n",
              "      <td>0</td>\n",
              "      <td>&lt;Null&gt;</td>\n",
              "      <td>&lt;Null&gt;</td>\n",
              "      <td>14 - Unknown / Unidentified</td>\n",
              "      <td>NaN</td>\n",
              "      <td>&lt;Null&gt;</td>\n",
              "      <td>628.1136</td>\n",
              "      <td>&lt;Null&gt;</td>\n",
              "      <td>Suppression (Wildfire)</td>\n",
              "    </tr>\n",
              "    <tr>\n",
              "      <th>2</th>\n",
              "      <td>1896</td>\n",
              "      <td>California</td>\n",
              "      <td>Contract County</td>\n",
              "      <td>Los Angeles County</td>\n",
              "      <td></td>\n",
              "      <td>0</td>\n",
              "      <td>&lt;Null&gt;</td>\n",
              "      <td>&lt;Null&gt;</td>\n",
              "      <td>14 - Unknown / Unidentified</td>\n",
              "      <td>NaN</td>\n",
              "      <td>&lt;Null&gt;</td>\n",
              "      <td>7531.7170</td>\n",
              "      <td>&lt;Null&gt;</td>\n",
              "      <td>Suppression (Wildfire)</td>\n",
              "    </tr>\n",
              "    <tr>\n",
              "      <th>3</th>\n",
              "      <td>1898</td>\n",
              "      <td>California</td>\n",
              "      <td>Contract County</td>\n",
              "      <td>Los Angeles County</td>\n",
              "      <td></td>\n",
              "      <td>0</td>\n",
              "      <td>&lt;Null&gt;</td>\n",
              "      <td>&lt;Null&gt;</td>\n",
              "      <td>14 - Unknown / Unidentified</td>\n",
              "      <td>NaN</td>\n",
              "      <td>&lt;Null&gt;</td>\n",
              "      <td>1660.1030</td>\n",
              "      <td>&lt;Null&gt;</td>\n",
              "      <td>Suppression (Wildfire)</td>\n",
              "    </tr>\n",
              "    <tr>\n",
              "      <th>4</th>\n",
              "      <td>1898</td>\n",
              "      <td>California</td>\n",
              "      <td>Contract County</td>\n",
              "      <td>Los Angeles County</td>\n",
              "      <td></td>\n",
              "      <td>0</td>\n",
              "      <td>&lt;Null&gt;</td>\n",
              "      <td>&lt;Null&gt;</td>\n",
              "      <td>14 - Unknown / Unidentified</td>\n",
              "      <td>NaN</td>\n",
              "      <td>&lt;Null&gt;</td>\n",
              "      <td>428.4387</td>\n",
              "      <td>&lt;Null&gt;</td>\n",
              "      <td>Suppression (Wildfire)</td>\n",
              "    </tr>\n",
              "  </tbody>\n",
              "</table>\n",
              "</div>\n",
              "      <button class=\"colab-df-convert\" onclick=\"convertToInteractive('df-f43b4b07-ffbf-4fe9-87d5-4d014051254d')\"\n",
              "              title=\"Convert this dataframe to an interactive table.\"\n",
              "              style=\"display:none;\">\n",
              "        \n",
              "  <svg xmlns=\"http://www.w3.org/2000/svg\" height=\"24px\"viewBox=\"0 0 24 24\"\n",
              "       width=\"24px\">\n",
              "    <path d=\"M0 0h24v24H0V0z\" fill=\"none\"/>\n",
              "    <path d=\"M18.56 5.44l.94 2.06.94-2.06 2.06-.94-2.06-.94-.94-2.06-.94 2.06-2.06.94zm-11 1L8.5 8.5l.94-2.06 2.06-.94-2.06-.94L8.5 2.5l-.94 2.06-2.06.94zm10 10l.94 2.06.94-2.06 2.06-.94-2.06-.94-.94-2.06-.94 2.06-2.06.94z\"/><path d=\"M17.41 7.96l-1.37-1.37c-.4-.4-.92-.59-1.43-.59-.52 0-1.04.2-1.43.59L10.3 9.45l-7.72 7.72c-.78.78-.78 2.05 0 2.83L4 21.41c.39.39.9.59 1.41.59.51 0 1.02-.2 1.41-.59l7.78-7.78 2.81-2.81c.8-.78.8-2.07 0-2.86zM5.41 20L4 18.59l7.72-7.72 1.47 1.35L5.41 20z\"/>\n",
              "  </svg>\n",
              "      </button>\n",
              "      \n",
              "  <style>\n",
              "    .colab-df-container {\n",
              "      display:flex;\n",
              "      flex-wrap:wrap;\n",
              "      gap: 12px;\n",
              "    }\n",
              "\n",
              "    .colab-df-convert {\n",
              "      background-color: #E8F0FE;\n",
              "      border: none;\n",
              "      border-radius: 50%;\n",
              "      cursor: pointer;\n",
              "      display: none;\n",
              "      fill: #1967D2;\n",
              "      height: 32px;\n",
              "      padding: 0 0 0 0;\n",
              "      width: 32px;\n",
              "    }\n",
              "\n",
              "    .colab-df-convert:hover {\n",
              "      background-color: #E2EBFA;\n",
              "      box-shadow: 0px 1px 2px rgba(60, 64, 67, 0.3), 0px 1px 3px 1px rgba(60, 64, 67, 0.15);\n",
              "      fill: #174EA6;\n",
              "    }\n",
              "\n",
              "    [theme=dark] .colab-df-convert {\n",
              "      background-color: #3B4455;\n",
              "      fill: #D2E3FC;\n",
              "    }\n",
              "\n",
              "    [theme=dark] .colab-df-convert:hover {\n",
              "      background-color: #434B5C;\n",
              "      box-shadow: 0px 1px 3px 1px rgba(0, 0, 0, 0.15);\n",
              "      filter: drop-shadow(0px 1px 2px rgba(0, 0, 0, 0.3));\n",
              "      fill: #FFFFFF;\n",
              "    }\n",
              "  </style>\n",
              "\n",
              "      <script>\n",
              "        const buttonEl =\n",
              "          document.querySelector('#df-f43b4b07-ffbf-4fe9-87d5-4d014051254d button.colab-df-convert');\n",
              "        buttonEl.style.display =\n",
              "          google.colab.kernel.accessAllowed ? 'block' : 'none';\n",
              "\n",
              "        async function convertToInteractive(key) {\n",
              "          const element = document.querySelector('#df-f43b4b07-ffbf-4fe9-87d5-4d014051254d');\n",
              "          const dataTable =\n",
              "            await google.colab.kernel.invokeFunction('convertToInteractive',\n",
              "                                                     [key], {});\n",
              "          if (!dataTable) return;\n",
              "\n",
              "          const docLinkHtml = 'Like what you see? Visit the ' +\n",
              "            '<a target=\"_blank\" href=https://colab.research.google.com/notebooks/data_table.ipynb>data table notebook</a>'\n",
              "            + ' to learn more about interactive tables.';\n",
              "          element.innerHTML = '';\n",
              "          dataTable['output_type'] = 'display_data';\n",
              "          await google.colab.output.renderOutput(dataTable, element);\n",
              "          const docLink = document.createElement('div');\n",
              "          docLink.innerHTML = docLinkHtml;\n",
              "          element.appendChild(docLink);\n",
              "        }\n",
              "      </script>\n",
              "    </div>\n",
              "  </div>\n",
              "  "
            ],
            "text/plain": [
              "   YEAR       STATE  ... C_METHOD               OBJECTIVE\n",
              "0  1878  California  ...   <Null>  Suppression (Wildfire)\n",
              "1  1895  California  ...   <Null>  Suppression (Wildfire)\n",
              "2  1896  California  ...   <Null>  Suppression (Wildfire)\n",
              "3  1898  California  ...   <Null>  Suppression (Wildfire)\n",
              "4  1898  California  ...   <Null>  Suppression (Wildfire)\n",
              "\n",
              "[5 rows x 14 columns]"
            ]
          },
          "metadata": {},
          "execution_count": 218
        }
      ]
    },
    {
      "cell_type": "markdown",
      "source": [
        "From the above dataset, we can see that the Missing values are encoded as '<'NULL'>'. But we don't know if these values have been considered as NULL in Pandas Dataframe or not."
      ],
      "metadata": {
        "id": "jj9V6C1eKHru"
      }
    },
    {
      "cell_type": "markdown",
      "source": [
        "# Data Preprocessing "
      ],
      "metadata": {
        "id": "tzBNK5LvH1i3"
      }
    },
    {
      "cell_type": "markdown",
      "source": [
        "## Data Cleaning\n",
        "\n",
        "### Step 1: Encoding as NaN value"
      ],
      "metadata": {
        "id": "ALp2bT-Df0mk"
      }
    },
    {
      "cell_type": "markdown",
      "source": [
        "Checking the data type of each column in dataset. Here we can see that all the columns are appearing to be Not Null even though they have '<'NULL'>' values"
      ],
      "metadata": {
        "id": "nOwRdkRmJ-81"
      }
    },
    {
      "cell_type": "code",
      "source": [
        "df.info()"
      ],
      "metadata": {
        "colab": {
          "base_uri": "https://localhost:8080/"
        },
        "id": "bNR465XNZMgC",
        "outputId": "ab920512-72ac-4520-f20d-7bea65235a27"
      },
      "execution_count": 219,
      "outputs": [
        {
          "output_type": "stream",
          "name": "stdout",
          "text": [
            "<class 'pandas.core.frame.DataFrame'>\n",
            "RangeIndex: 11795 entries, 0 to 11794\n",
            "Data columns (total 14 columns):\n",
            " #   Column      Non-Null Count  Dtype  \n",
            "---  ------      --------------  -----  \n",
            " 0   YEAR        11789 non-null  object \n",
            " 1   STATE       11795 non-null  object \n",
            " 2   AGENCY      11795 non-null  object \n",
            " 3   UNIT_ID     11794 non-null  object \n",
            " 4   FIRE_NAME   11769 non-null  object \n",
            " 5   INC_NUM     11720 non-null  object \n",
            " 6   ALARM_DATE  11795 non-null  object \n",
            " 7   CONT_DATE   11795 non-null  object \n",
            " 8   CAUSE       11795 non-null  object \n",
            " 9   COMMENTS    1961 non-null   object \n",
            " 10  REPORT_AC   11795 non-null  object \n",
            " 11  GIS_ACRES   11795 non-null  float64\n",
            " 12  C_METHOD    11795 non-null  object \n",
            " 13  OBJECTIVE   11795 non-null  object \n",
            "dtypes: float64(1), object(13)\n",
            "memory usage: 1.3+ MB\n"
          ]
        }
      ]
    },
    {
      "cell_type": "markdown",
      "source": [
        "Printing number of '<'NULL'>' values in each column"
      ],
      "metadata": {
        "id": "BstreoAZLNJl"
      }
    },
    {
      "cell_type": "code",
      "source": [
        "print('No of <Null> values in each column: \\n')\n",
        "for col in df.columns:\n",
        "    num = df[df[col] == '<Null>'].shape[0]\n",
        "    print(f'{col} : {num}')\n"
      ],
      "metadata": {
        "colab": {
          "base_uri": "https://localhost:8080/"
        },
        "id": "XvJNtbmtZP29",
        "outputId": "6b916d57-fe3f-40bb-ed17-c6fba6d207f7"
      },
      "execution_count": 220,
      "outputs": [
        {
          "output_type": "stream",
          "name": "stdout",
          "text": [
            "No of <Null> values in each column: \n",
            "\n",
            "YEAR : 56\n",
            "STATE : 0\n",
            "AGENCY : 0\n",
            "UNIT_ID : 2\n",
            "FIRE_NAME : 2\n",
            "INC_NUM : 401\n",
            "ALARM_DATE : 3985\n",
            "CONT_DATE : 8821\n",
            "CAUSE : 11\n",
            "COMMENTS : 232\n",
            "REPORT_AC : 8289\n",
            "GIS_ACRES : 0\n",
            "C_METHOD : 8443\n",
            "OBJECTIVE : 56\n"
          ]
        }
      ]
    },
    {
      "cell_type": "markdown",
      "source": [
        "##### Encoding <'Null'> as NaN so that they will be considered as missing values. Pandas Read Excel function has an option of encoding a certain value as NaN by using na_values parameter"
      ],
      "metadata": {
        "id": "173oxtm8dngu"
      }
    },
    {
      "cell_type": "code",
      "source": [
        "df_wf = pd.read_excel('/content/drive/MyDrive/Fires_100.xlsx',na_values=['<Null>'], sheet_name='2016')"
      ],
      "metadata": {
        "id": "ASdfVcoHajrg"
      },
      "execution_count": 221,
      "outputs": []
    },
    {
      "cell_type": "markdown",
      "source": [
        "All '<'Null'>' values have been converted to NaN"
      ],
      "metadata": {
        "id": "dNWiJrqxMpAE"
      }
    },
    {
      "cell_type": "code",
      "source": [
        "df_wf.head()"
      ],
      "metadata": {
        "colab": {
          "base_uri": "https://localhost:8080/",
          "height": 337
        },
        "id": "c-Ys2T0dbQhP",
        "outputId": "f1891e43-9880-40df-d1ff-6ddc76d4ebc3"
      },
      "execution_count": 222,
      "outputs": [
        {
          "output_type": "execute_result",
          "data": {
            "text/html": [
              "\n",
              "  <div id=\"df-12e20d69-1ea2-4f0d-b9f9-e5374871cdad\">\n",
              "    <div class=\"colab-df-container\">\n",
              "      <div>\n",
              "<style scoped>\n",
              "    .dataframe tbody tr th:only-of-type {\n",
              "        vertical-align: middle;\n",
              "    }\n",
              "\n",
              "    .dataframe tbody tr th {\n",
              "        vertical-align: top;\n",
              "    }\n",
              "\n",
              "    .dataframe thead th {\n",
              "        text-align: right;\n",
              "    }\n",
              "</style>\n",
              "<table border=\"1\" class=\"dataframe\">\n",
              "  <thead>\n",
              "    <tr style=\"text-align: right;\">\n",
              "      <th></th>\n",
              "      <th>YEAR</th>\n",
              "      <th>STATE</th>\n",
              "      <th>AGENCY</th>\n",
              "      <th>UNIT_ID</th>\n",
              "      <th>FIRE_NAME</th>\n",
              "      <th>INC_NUM</th>\n",
              "      <th>ALARM_DATE</th>\n",
              "      <th>CONT_DATE</th>\n",
              "      <th>CAUSE</th>\n",
              "      <th>COMMENTS</th>\n",
              "      <th>REPORT_AC</th>\n",
              "      <th>GIS_ACRES</th>\n",
              "      <th>C_METHOD</th>\n",
              "      <th>OBJECTIVE</th>\n",
              "    </tr>\n",
              "  </thead>\n",
              "  <tbody>\n",
              "    <tr>\n",
              "      <th>0</th>\n",
              "      <td>1878.0</td>\n",
              "      <td>California</td>\n",
              "      <td>Contract County</td>\n",
              "      <td>Los Angeles County</td>\n",
              "      <td></td>\n",
              "      <td>0</td>\n",
              "      <td>NaN</td>\n",
              "      <td>NaT</td>\n",
              "      <td>14 - Unknown / Unidentified</td>\n",
              "      <td>NaN</td>\n",
              "      <td>NaN</td>\n",
              "      <td>59468.8800</td>\n",
              "      <td>NaN</td>\n",
              "      <td>Suppression (Wildfire)</td>\n",
              "    </tr>\n",
              "    <tr>\n",
              "      <th>1</th>\n",
              "      <td>1895.0</td>\n",
              "      <td>California</td>\n",
              "      <td>Contract County</td>\n",
              "      <td>Los Angeles County</td>\n",
              "      <td></td>\n",
              "      <td>0</td>\n",
              "      <td>NaN</td>\n",
              "      <td>NaT</td>\n",
              "      <td>14 - Unknown / Unidentified</td>\n",
              "      <td>NaN</td>\n",
              "      <td>NaN</td>\n",
              "      <td>628.1136</td>\n",
              "      <td>NaN</td>\n",
              "      <td>Suppression (Wildfire)</td>\n",
              "    </tr>\n",
              "    <tr>\n",
              "      <th>2</th>\n",
              "      <td>1896.0</td>\n",
              "      <td>California</td>\n",
              "      <td>Contract County</td>\n",
              "      <td>Los Angeles County</td>\n",
              "      <td></td>\n",
              "      <td>0</td>\n",
              "      <td>NaN</td>\n",
              "      <td>NaT</td>\n",
              "      <td>14 - Unknown / Unidentified</td>\n",
              "      <td>NaN</td>\n",
              "      <td>NaN</td>\n",
              "      <td>7531.7170</td>\n",
              "      <td>NaN</td>\n",
              "      <td>Suppression (Wildfire)</td>\n",
              "    </tr>\n",
              "    <tr>\n",
              "      <th>3</th>\n",
              "      <td>1898.0</td>\n",
              "      <td>California</td>\n",
              "      <td>Contract County</td>\n",
              "      <td>Los Angeles County</td>\n",
              "      <td></td>\n",
              "      <td>0</td>\n",
              "      <td>NaN</td>\n",
              "      <td>NaT</td>\n",
              "      <td>14 - Unknown / Unidentified</td>\n",
              "      <td>NaN</td>\n",
              "      <td>NaN</td>\n",
              "      <td>1660.1030</td>\n",
              "      <td>NaN</td>\n",
              "      <td>Suppression (Wildfire)</td>\n",
              "    </tr>\n",
              "    <tr>\n",
              "      <th>4</th>\n",
              "      <td>1898.0</td>\n",
              "      <td>California</td>\n",
              "      <td>Contract County</td>\n",
              "      <td>Los Angeles County</td>\n",
              "      <td></td>\n",
              "      <td>0</td>\n",
              "      <td>NaN</td>\n",
              "      <td>NaT</td>\n",
              "      <td>14 - Unknown / Unidentified</td>\n",
              "      <td>NaN</td>\n",
              "      <td>NaN</td>\n",
              "      <td>428.4387</td>\n",
              "      <td>NaN</td>\n",
              "      <td>Suppression (Wildfire)</td>\n",
              "    </tr>\n",
              "  </tbody>\n",
              "</table>\n",
              "</div>\n",
              "      <button class=\"colab-df-convert\" onclick=\"convertToInteractive('df-12e20d69-1ea2-4f0d-b9f9-e5374871cdad')\"\n",
              "              title=\"Convert this dataframe to an interactive table.\"\n",
              "              style=\"display:none;\">\n",
              "        \n",
              "  <svg xmlns=\"http://www.w3.org/2000/svg\" height=\"24px\"viewBox=\"0 0 24 24\"\n",
              "       width=\"24px\">\n",
              "    <path d=\"M0 0h24v24H0V0z\" fill=\"none\"/>\n",
              "    <path d=\"M18.56 5.44l.94 2.06.94-2.06 2.06-.94-2.06-.94-.94-2.06-.94 2.06-2.06.94zm-11 1L8.5 8.5l.94-2.06 2.06-.94-2.06-.94L8.5 2.5l-.94 2.06-2.06.94zm10 10l.94 2.06.94-2.06 2.06-.94-2.06-.94-.94-2.06-.94 2.06-2.06.94z\"/><path d=\"M17.41 7.96l-1.37-1.37c-.4-.4-.92-.59-1.43-.59-.52 0-1.04.2-1.43.59L10.3 9.45l-7.72 7.72c-.78.78-.78 2.05 0 2.83L4 21.41c.39.39.9.59 1.41.59.51 0 1.02-.2 1.41-.59l7.78-7.78 2.81-2.81c.8-.78.8-2.07 0-2.86zM5.41 20L4 18.59l7.72-7.72 1.47 1.35L5.41 20z\"/>\n",
              "  </svg>\n",
              "      </button>\n",
              "      \n",
              "  <style>\n",
              "    .colab-df-container {\n",
              "      display:flex;\n",
              "      flex-wrap:wrap;\n",
              "      gap: 12px;\n",
              "    }\n",
              "\n",
              "    .colab-df-convert {\n",
              "      background-color: #E8F0FE;\n",
              "      border: none;\n",
              "      border-radius: 50%;\n",
              "      cursor: pointer;\n",
              "      display: none;\n",
              "      fill: #1967D2;\n",
              "      height: 32px;\n",
              "      padding: 0 0 0 0;\n",
              "      width: 32px;\n",
              "    }\n",
              "\n",
              "    .colab-df-convert:hover {\n",
              "      background-color: #E2EBFA;\n",
              "      box-shadow: 0px 1px 2px rgba(60, 64, 67, 0.3), 0px 1px 3px 1px rgba(60, 64, 67, 0.15);\n",
              "      fill: #174EA6;\n",
              "    }\n",
              "\n",
              "    [theme=dark] .colab-df-convert {\n",
              "      background-color: #3B4455;\n",
              "      fill: #D2E3FC;\n",
              "    }\n",
              "\n",
              "    [theme=dark] .colab-df-convert:hover {\n",
              "      background-color: #434B5C;\n",
              "      box-shadow: 0px 1px 3px 1px rgba(0, 0, 0, 0.15);\n",
              "      filter: drop-shadow(0px 1px 2px rgba(0, 0, 0, 0.3));\n",
              "      fill: #FFFFFF;\n",
              "    }\n",
              "  </style>\n",
              "\n",
              "      <script>\n",
              "        const buttonEl =\n",
              "          document.querySelector('#df-12e20d69-1ea2-4f0d-b9f9-e5374871cdad button.colab-df-convert');\n",
              "        buttonEl.style.display =\n",
              "          google.colab.kernel.accessAllowed ? 'block' : 'none';\n",
              "\n",
              "        async function convertToInteractive(key) {\n",
              "          const element = document.querySelector('#df-12e20d69-1ea2-4f0d-b9f9-e5374871cdad');\n",
              "          const dataTable =\n",
              "            await google.colab.kernel.invokeFunction('convertToInteractive',\n",
              "                                                     [key], {});\n",
              "          if (!dataTable) return;\n",
              "\n",
              "          const docLinkHtml = 'Like what you see? Visit the ' +\n",
              "            '<a target=\"_blank\" href=https://colab.research.google.com/notebooks/data_table.ipynb>data table notebook</a>'\n",
              "            + ' to learn more about interactive tables.';\n",
              "          element.innerHTML = '';\n",
              "          dataTable['output_type'] = 'display_data';\n",
              "          await google.colab.output.renderOutput(dataTable, element);\n",
              "          const docLink = document.createElement('div');\n",
              "          docLink.innerHTML = docLinkHtml;\n",
              "          element.appendChild(docLink);\n",
              "        }\n",
              "      </script>\n",
              "    </div>\n",
              "  </div>\n",
              "  "
            ],
            "text/plain": [
              "     YEAR       STATE  ... C_METHOD               OBJECTIVE\n",
              "0  1878.0  California  ...      NaN  Suppression (Wildfire)\n",
              "1  1895.0  California  ...      NaN  Suppression (Wildfire)\n",
              "2  1896.0  California  ...      NaN  Suppression (Wildfire)\n",
              "3  1898.0  California  ...      NaN  Suppression (Wildfire)\n",
              "4  1898.0  California  ...      NaN  Suppression (Wildfire)\n",
              "\n",
              "[5 rows x 14 columns]"
            ]
          },
          "metadata": {},
          "execution_count": 222
        }
      ]
    },
    {
      "cell_type": "markdown",
      "source": [
        "Counting number of NaN values"
      ],
      "metadata": {
        "id": "8kB_qQloMvO_"
      }
    },
    {
      "cell_type": "code",
      "source": [
        "df_wf.isna().sum()"
      ],
      "metadata": {
        "colab": {
          "base_uri": "https://localhost:8080/"
        },
        "id": "5tiW7MpybTQz",
        "outputId": "eea87236-9bed-4ece-a8cf-b1783bd0931c"
      },
      "execution_count": 223,
      "outputs": [
        {
          "output_type": "execute_result",
          "data": {
            "text/plain": [
              "YEAR             62\n",
              "STATE             0\n",
              "AGENCY            0\n",
              "UNIT_ID           3\n",
              "FIRE_NAME        28\n",
              "INC_NUM         476\n",
              "ALARM_DATE     3985\n",
              "CONT_DATE      8821\n",
              "CAUSE            11\n",
              "COMMENTS      10066\n",
              "REPORT_AC      8289\n",
              "GIS_ACRES         0\n",
              "C_METHOD       8443\n",
              "OBJECTIVE        56\n",
              "dtype: int64"
            ]
          },
          "metadata": {},
          "execution_count": 223
        }
      ]
    },
    {
      "cell_type": "markdown",
      "source": [
        "#### Printing number of data samples, number of features, number of classes"
      ],
      "metadata": {
        "id": "DMCo8pPBI7vs"
      }
    },
    {
      "cell_type": "code",
      "source": [
        "print(f'No. of data samples: {len(df_wf)}')\n",
        "print(f'No. of Features: {len(df_wf.columns)}')\n",
        "print(f'No. of classes: {len(df_wf[\"OBJECTIVE\"].value_counts())}')"
      ],
      "metadata": {
        "colab": {
          "base_uri": "https://localhost:8080/"
        },
        "id": "gCEzIhs3I5nd",
        "outputId": "23337871-c4e6-4cab-e607-cfa6a5fe07c2"
      },
      "execution_count": 224,
      "outputs": [
        {
          "output_type": "stream",
          "name": "stdout",
          "text": [
            "No. of data samples: 11795\n",
            "No. of Features: 14\n",
            "No. of classes: 2\n"
          ]
        }
      ]
    },
    {
      "cell_type": "markdown",
      "source": [
        "#### Printing number of data samples per class"
      ],
      "metadata": {
        "id": "iZIX5Lg8MQqR"
      }
    },
    {
      "cell_type": "code",
      "source": [
        "df_wf[\"OBJECTIVE\"].value_counts()"
      ],
      "metadata": {
        "colab": {
          "base_uri": "https://localhost:8080/"
        },
        "id": "axBEUyBMMLe-",
        "outputId": "cdb86a54-50cd-45dd-fe90-81e34e67772c"
      },
      "execution_count": 225,
      "outputs": [
        {
          "output_type": "execute_result",
          "data": {
            "text/plain": [
              "Suppression (Wildfire)    11575\n",
              "Resource Benefit (WFU)      164\n",
              "Name: OBJECTIVE, dtype: int64"
            ]
          },
          "metadata": {},
          "execution_count": 225
        }
      ]
    },
    {
      "cell_type": "markdown",
      "source": [
        "#### Checking the values in Fire Name column"
      ],
      "metadata": {
        "id": "KWG-NfUgf7d-"
      }
    },
    {
      "cell_type": "code",
      "source": [
        "df_wf['FIRE_NAME'].value_counts()"
      ],
      "metadata": {
        "colab": {
          "base_uri": "https://localhost:8080/"
        },
        "id": "MftJ8XyKcTC9",
        "outputId": "1140f8cb-c2ac-4898-f7ae-e57e77d44f24"
      },
      "execution_count": 226,
      "outputs": [
        {
          "output_type": "execute_result",
          "data": {
            "text/plain": [
              "                     4081\n",
              "UKNOWN                 72\n",
              "COTTONWOOD             19\n",
              "BEAR                   17\n",
              "RIVER                  17\n",
              "                     ... \n",
              "MORONGO #7              1\n",
              "OUTSIDE ORIGIN #4       1\n",
              "VAN VLEET               1\n",
              "VANETTI                 1\n",
              "TAYLOR RANCH            1\n",
              "Name: FIRE_NAME, Length: 5586, dtype: int64"
            ]
          },
          "metadata": {},
          "execution_count": 226
        }
      ]
    },
    {
      "cell_type": "code",
      "source": [
        "df_wf['FIRE_NAME'].value_counts()['UNKNOWN']"
      ],
      "metadata": {
        "colab": {
          "base_uri": "https://localhost:8080/"
        },
        "id": "rC-rYEkfmUdj",
        "outputId": "277edb90-1390-4b2c-a005-b98ae3f06ff2"
      },
      "execution_count": 227,
      "outputs": [
        {
          "output_type": "execute_result",
          "data": {
            "text/plain": [
              "6"
            ]
          },
          "metadata": {},
          "execution_count": 227
        }
      ]
    },
    {
      "cell_type": "markdown",
      "source": [
        "Most of the rows of Fire Name column are ' '  string. Around 72 rows have 'UKNOWN' value for this column, six rows have 'UNKNOWN' value.  And some of the rows have NaN. So first replace 'UKNOWN' by 'UNKNOWN'. Then replace  'UNKNOWN' with NaN"
      ],
      "metadata": {
        "id": "hGA_Uj4DgBdx"
      }
    },
    {
      "cell_type": "code",
      "source": [
        "df_wf['FIRE_NAME'] = df_wf['FIRE_NAME'].replace('UKNOWN','UNKNOWN')\n",
        "df_wf['FIRE_NAME'] = df_wf['FIRE_NAME'].replace(' ','UNKNOWN')\n",
        "df_wf['FIRE_NAME'] = df_wf['FIRE_NAME'].replace('UNKNOWN', np.nan)"
      ],
      "metadata": {
        "id": "W-Tew83Bk73c"
      },
      "execution_count": 228,
      "outputs": []
    },
    {
      "cell_type": "markdown",
      "source": [
        "Corrected values in Fire_Name column"
      ],
      "metadata": {
        "id": "I8bM_BWSNc1T"
      }
    },
    {
      "cell_type": "code",
      "source": [
        "df_wf['FIRE_NAME'].value_counts()"
      ],
      "metadata": {
        "colab": {
          "base_uri": "https://localhost:8080/"
        },
        "id": "ki6rfe4pnVCR",
        "outputId": "28a449b2-6b76-4646-ae0f-0df67da363d3"
      },
      "execution_count": 229,
      "outputs": [
        {
          "output_type": "execute_result",
          "data": {
            "text/plain": [
              "COTTONWOOD           19\n",
              "BEAR                 17\n",
              "RIVER                17\n",
              "LAKE                 16\n",
              "CANYON               16\n",
              "                     ..\n",
              "MORONGO #7            1\n",
              "OUTSIDE ORIGIN #4     1\n",
              "VAN VLEET             1\n",
              "VANETTI               1\n",
              "TAYLOR RANCH          1\n",
              "Name: FIRE_NAME, Length: 5583, dtype: int64"
            ]
          },
          "metadata": {},
          "execution_count": 229
        }
      ]
    },
    {
      "cell_type": "markdown",
      "source": [
        "Checking Missing values "
      ],
      "metadata": {
        "id": "WpIdJ7-qNioa"
      }
    },
    {
      "cell_type": "code",
      "source": [
        "df_wf.isna().sum()"
      ],
      "metadata": {
        "colab": {
          "base_uri": "https://localhost:8080/"
        },
        "id": "ho-2aVK3nXvD",
        "outputId": "1bce96b5-d71a-453d-c767-a5e2a4e8461e"
      },
      "execution_count": 230,
      "outputs": [
        {
          "output_type": "execute_result",
          "data": {
            "text/plain": [
              "YEAR             62\n",
              "STATE             0\n",
              "AGENCY            0\n",
              "UNIT_ID           3\n",
              "FIRE_NAME      4187\n",
              "INC_NUM         476\n",
              "ALARM_DATE     3985\n",
              "CONT_DATE      8821\n",
              "CAUSE            11\n",
              "COMMENTS      10066\n",
              "REPORT_AC      8289\n",
              "GIS_ACRES         0\n",
              "C_METHOD       8443\n",
              "OBJECTIVE        56\n",
              "dtype: int64"
            ]
          },
          "metadata": {},
          "execution_count": 230
        }
      ]
    },
    {
      "cell_type": "code",
      "source": [
        "df_wf['INC_NUM'] = df_wf['INC_NUM'].replace(0, np.nan)"
      ],
      "metadata": {
        "id": "A4XxcRfHn62x"
      },
      "execution_count": 231,
      "outputs": []
    },
    {
      "cell_type": "markdown",
      "source": [
        "#### Checking the values in CAUSE column"
      ],
      "metadata": {
        "id": "3ilLcH4vOCI6"
      }
    },
    {
      "cell_type": "code",
      "source": [
        "df_wf['CAUSE'].value_counts()"
      ],
      "metadata": {
        "colab": {
          "base_uri": "https://localhost:8080/"
        },
        "id": "DbGtYdTepb27",
        "outputId": "1b05d7f9-34bc-46e7-87e0-56dbb51049f1"
      },
      "execution_count": 232,
      "outputs": [
        {
          "output_type": "execute_result",
          "data": {
            "text/plain": [
              "14 - Unknown / Unidentified      6327\n",
              "9 - Miscellaneous                1975\n",
              "1 - Lightning                    1485\n",
              "2 - Equipment Use                 519\n",
              "7 - Arson                         466\n",
              "5 - Debris                        226\n",
              "4 - Campfire                      182\n",
              "10 - Vehicle                      148\n",
              "3 - Smoking                       145\n",
              "11 - Powerline                    129\n",
              "8 - Playing with fire              78\n",
              "18 - Escaped Prescribed Burn       40\n",
              "6 - Railroad                       33\n",
              "15 - Structure                      9\n",
              "16 - Aircraft                       7\n",
              "13 - Non-Firefighter Training       7\n",
              "12 - Firefighter Training           4\n",
              "19 - Illegal Alien Campfire         4\n",
              "Name: CAUSE, dtype: int64"
            ]
          },
          "metadata": {},
          "execution_count": 232
        }
      ]
    },
    {
      "cell_type": "markdown",
      "source": [
        "Around 6000 values in CAUSE column have value \"14 - Unknown / Unidentified\". So, to have consistency replace this value by NaN "
      ],
      "metadata": {
        "id": "hZIr1qBkOR-J"
      }
    },
    {
      "cell_type": "code",
      "source": [
        "df_wf['CAUSE'] = df_wf['CAUSE'].replace('14 - Unknown / Unidentified', np.nan)"
      ],
      "metadata": {
        "id": "AKbml6rwpr_K"
      },
      "execution_count": 233,
      "outputs": []
    },
    {
      "cell_type": "markdown",
      "source": [
        "#### Checking the values in C_METHOD column"
      ],
      "metadata": {
        "id": "1IPzJ9DqPZZL"
      }
    },
    {
      "cell_type": "code",
      "source": [
        "df_wf['C_METHOD'].value_counts()"
      ],
      "metadata": {
        "colab": {
          "base_uri": "https://localhost:8080/"
        },
        "id": "YVMX25sSqQzo",
        "outputId": "4b962d81-0d00-40da-ac26-bc9d13ead541"
      },
      "execution_count": 234,
      "outputs": [
        {
          "output_type": "execute_result",
          "data": {
            "text/plain": [
              "8 - Unknown                     1496\n",
              "1 - GPS Ground                   622\n",
              "2 - GPS Air                      356\n",
              "7 - Mixed Collection Methods     351\n",
              "6 - Hand Drawn                   334\n",
              "3 - Infrared                      91\n",
              "4 - Other Imagery                 81\n",
              "5 - Photo Interpretation          21\n",
              "Name: C_METHOD, dtype: int64"
            ]
          },
          "metadata": {},
          "execution_count": 234
        }
      ]
    },
    {
      "cell_type": "markdown",
      "source": [
        "Around 1400 values in C_METHOD column have value \"8 - Unknown\". So, to have consistency replace this value by NaN "
      ],
      "metadata": {
        "id": "h5bgdgLePgKf"
      }
    },
    {
      "cell_type": "code",
      "source": [
        "df_wf['C_METHOD'] = df_wf['C_METHOD'].replace('8 - Unknown', np.nan)"
      ],
      "metadata": {
        "id": "PUeg-oiaqa_5"
      },
      "execution_count": 235,
      "outputs": []
    },
    {
      "cell_type": "code",
      "source": [
        "df_wf['C_METHOD'].value_counts()"
      ],
      "metadata": {
        "colab": {
          "base_uri": "https://localhost:8080/"
        },
        "id": "9bK9-d8FqzTe",
        "outputId": "f1f5f48b-2de2-42f8-9783-aaa1099ed396"
      },
      "execution_count": 236,
      "outputs": [
        {
          "output_type": "execute_result",
          "data": {
            "text/plain": [
              "1 - GPS Ground                  622\n",
              "2 - GPS Air                     356\n",
              "7 - Mixed Collection Methods    351\n",
              "6 - Hand Drawn                  334\n",
              "3 - Infrared                     91\n",
              "4 - Other Imagery                81\n",
              "5 - Photo Interpretation         21\n",
              "Name: C_METHOD, dtype: int64"
            ]
          },
          "metadata": {},
          "execution_count": 236
        }
      ]
    },
    {
      "cell_type": "markdown",
      "source": [
        "#### No. of NaN values after correction"
      ],
      "metadata": {
        "id": "NxJ4ZRU5sD6r"
      }
    },
    {
      "cell_type": "code",
      "source": [
        "df_wf.isna().sum()"
      ],
      "metadata": {
        "colab": {
          "base_uri": "https://localhost:8080/"
        },
        "id": "AkvswfQbq815",
        "outputId": "2250615a-c39c-4531-a559-e4ac23bdd4c9"
      },
      "execution_count": 237,
      "outputs": [
        {
          "output_type": "execute_result",
          "data": {
            "text/plain": [
              "YEAR             62\n",
              "STATE             0\n",
              "AGENCY            0\n",
              "UNIT_ID           3\n",
              "FIRE_NAME      4187\n",
              "INC_NUM        8410\n",
              "ALARM_DATE     3985\n",
              "CONT_DATE      8821\n",
              "CAUSE          6338\n",
              "COMMENTS      10066\n",
              "REPORT_AC      8289\n",
              "GIS_ACRES         0\n",
              "C_METHOD       9939\n",
              "OBJECTIVE        56\n",
              "dtype: int64"
            ]
          },
          "metadata": {},
          "execution_count": 237
        }
      ]
    },
    {
      "cell_type": "markdown",
      "source": [
        "#### Changing the datatype of Alarm_date column to DateTime"
      ],
      "metadata": {
        "id": "nFkaVPfBkgpr"
      }
    },
    {
      "cell_type": "code",
      "source": [
        "df_wf['ALARM_DATE']= pd.to_datetime(df_wf['ALARM_DATE'])"
      ],
      "metadata": {
        "id": "swxpZhMvo5SL"
      },
      "execution_count": 238,
      "outputs": []
    },
    {
      "cell_type": "markdown",
      "source": [
        "### Step 2: Handling Missing Values"
      ],
      "metadata": {
        "id": "baWVeY26tKjF"
      }
    },
    {
      "cell_type": "markdown",
      "source": [
        "Printing percentage of missing values per column"
      ],
      "metadata": {
        "id": "4yorvK2mtYDe"
      }
    },
    {
      "cell_type": "code",
      "source": [
        "length = len(df_wf)\n",
        "for col in df_wf.columns:\n",
        "    print(f'{col}: {((df_wf[col].isna().sum()/length)*100).round(2)} %')"
      ],
      "metadata": {
        "colab": {
          "base_uri": "https://localhost:8080/"
        },
        "id": "Nor5Gvq7uuhO",
        "outputId": "05685d28-860e-4ade-b890-8e8ce898fbc1"
      },
      "execution_count": 239,
      "outputs": [
        {
          "output_type": "stream",
          "name": "stdout",
          "text": [
            "YEAR: 0.53 %\n",
            "STATE: 0.0 %\n",
            "AGENCY: 0.0 %\n",
            "UNIT_ID: 0.03 %\n",
            "FIRE_NAME: 35.5 %\n",
            "INC_NUM: 71.3 %\n",
            "ALARM_DATE: 33.79 %\n",
            "CONT_DATE: 74.79 %\n",
            "CAUSE: 53.73 %\n",
            "COMMENTS: 85.34 %\n",
            "REPORT_AC: 70.28 %\n",
            "GIS_ACRES: 0.0 %\n",
            "C_METHOD: 84.26 %\n",
            "OBJECTIVE: 0.47 %\n"
          ]
        }
      ]
    },
    {
      "cell_type": "markdown",
      "source": [
        "We can see that columns COMMENTS, C_METHOD have maximum NaN values (> 60%). So we will drop these columns. We will also drop FIRE_NAME and INC_NUM column, REPORT_AC since they are not significant"
      ],
      "metadata": {
        "id": "gJhZOs6VwEHP"
      }
    },
    {
      "cell_type": "code",
      "source": [
        "df_wf.drop(['COMMENTS', 'C_METHOD', 'FIRE_NAME','INC_NUM', 'REPORT_AC'], axis=1, inplace=True)"
      ],
      "metadata": {
        "id": "dD2V6JHytXTT"
      },
      "execution_count": 240,
      "outputs": []
    },
    {
      "cell_type": "markdown",
      "source": [
        "Percentange of missing values per column"
      ],
      "metadata": {
        "id": "eexfMG7ePzcl"
      }
    },
    {
      "cell_type": "code",
      "source": [
        "length = len(df_wf)\n",
        "for col in df_wf.columns:\n",
        "    print(f'{col}: {((df_wf[col].isna().sum()/length)*100).round(2)} %')"
      ],
      "metadata": {
        "colab": {
          "base_uri": "https://localhost:8080/"
        },
        "id": "DE6dJiiLzUeS",
        "outputId": "8ecc2b46-626d-4cd8-c68e-f95be7aded67"
      },
      "execution_count": 241,
      "outputs": [
        {
          "output_type": "stream",
          "name": "stdout",
          "text": [
            "YEAR: 0.53 %\n",
            "STATE: 0.0 %\n",
            "AGENCY: 0.0 %\n",
            "UNIT_ID: 0.03 %\n",
            "ALARM_DATE: 33.79 %\n",
            "CONT_DATE: 74.79 %\n",
            "CAUSE: 53.73 %\n",
            "GIS_ACRES: 0.0 %\n",
            "OBJECTIVE: 0.47 %\n"
          ]
        }
      ]
    },
    {
      "cell_type": "markdown",
      "source": [
        "#### Filling Missing Values of Categorical column"
      ],
      "metadata": {
        "id": "Ng4ixTQGxOc_"
      }
    },
    {
      "cell_type": "markdown",
      "source": [
        "#### Filling the missing values of 'OBJECTIVE' column by Mode "
      ],
      "metadata": {
        "id": "dJaOBMqyP-aw"
      }
    },
    {
      "cell_type": "code",
      "source": [
        "df_wf['OBJECTIVE'].value_counts()"
      ],
      "metadata": {
        "colab": {
          "base_uri": "https://localhost:8080/"
        },
        "id": "-bRQU40Pv9Pn",
        "outputId": "f5fe02d0-39fd-4396-fbfb-37d8990e04db"
      },
      "execution_count": 243,
      "outputs": [
        {
          "output_type": "execute_result",
          "data": {
            "text/plain": [
              "Suppression (Wildfire)    11575\n",
              "Resource Benefit (WFU)      164\n",
              "Name: OBJECTIVE, dtype: int64"
            ]
          },
          "metadata": {},
          "execution_count": 243
        }
      ]
    },
    {
      "cell_type": "code",
      "source": [
        "df_wf['OBJECTIVE'].mode()"
      ],
      "metadata": {
        "colab": {
          "base_uri": "https://localhost:8080/"
        },
        "id": "U3OiBhEYvWPB",
        "outputId": "64315e4d-b149-4ae1-a0ea-416d49686c1b"
      },
      "execution_count": 244,
      "outputs": [
        {
          "output_type": "execute_result",
          "data": {
            "text/plain": [
              "0    Suppression (Wildfire)\n",
              "dtype: object"
            ]
          },
          "metadata": {},
          "execution_count": 244
        }
      ]
    },
    {
      "cell_type": "code",
      "source": [
        "df_wf['OBJECTIVE'].fillna(df_wf['OBJECTIVE'].mode()[0], inplace = True)"
      ],
      "metadata": {
        "id": "oxdad-mCvles"
      },
      "execution_count": 245,
      "outputs": []
    },
    {
      "cell_type": "markdown",
      "source": [
        "Now the missing values of OBJECTIVE column have been handled "
      ],
      "metadata": {
        "id": "TKRQjTmQQRB2"
      }
    },
    {
      "cell_type": "code",
      "source": [
        "df_wf.isna().sum()"
      ],
      "metadata": {
        "colab": {
          "base_uri": "https://localhost:8080/"
        },
        "id": "7MVeBf2DvuoJ",
        "outputId": "54c7a512-c400-42ee-eaac-9c7dadf9420d"
      },
      "execution_count": 246,
      "outputs": [
        {
          "output_type": "execute_result",
          "data": {
            "text/plain": [
              "YEAR            62\n",
              "STATE            0\n",
              "AGENCY           0\n",
              "UNIT_ID          3\n",
              "ALARM_DATE    3985\n",
              "CONT_DATE     8821\n",
              "CAUSE         6338\n",
              "GIS_ACRES        0\n",
              "OBJECTIVE        0\n",
              "dtype: int64"
            ]
          },
          "metadata": {},
          "execution_count": 246
        }
      ]
    },
    {
      "cell_type": "markdown",
      "source": [
        "#### Filling the missing values of 'CAUSE' column by Mode "
      ],
      "metadata": {
        "id": "pQnE1OHUQZoq"
      }
    },
    {
      "cell_type": "code",
      "source": [
        "df_wf['CAUSE'].value_counts()"
      ],
      "metadata": {
        "colab": {
          "base_uri": "https://localhost:8080/"
        },
        "id": "6rFW9HnVwTSm",
        "outputId": "64240285-e981-45a4-a3ab-8fc2802cdac3"
      },
      "execution_count": 247,
      "outputs": [
        {
          "output_type": "execute_result",
          "data": {
            "text/plain": [
              "9 - Miscellaneous                1975\n",
              "1 - Lightning                    1485\n",
              "2 - Equipment Use                 519\n",
              "7 - Arson                         466\n",
              "5 - Debris                        226\n",
              "4 - Campfire                      182\n",
              "10 - Vehicle                      148\n",
              "3 - Smoking                       145\n",
              "11 - Powerline                    129\n",
              "8 - Playing with fire              78\n",
              "18 - Escaped Prescribed Burn       40\n",
              "6 - Railroad                       33\n",
              "15 - Structure                      9\n",
              "16 - Aircraft                       7\n",
              "13 - Non-Firefighter Training       7\n",
              "12 - Firefighter Training           4\n",
              "19 - Illegal Alien Campfire         4\n",
              "Name: CAUSE, dtype: int64"
            ]
          },
          "metadata": {},
          "execution_count": 247
        }
      ]
    },
    {
      "cell_type": "code",
      "source": [
        "df_wf['CAUSE'].fillna(df_wf['CAUSE'].mode()[0], inplace = True)"
      ],
      "metadata": {
        "id": "c1gK1QaCwnru"
      },
      "execution_count": 248,
      "outputs": []
    },
    {
      "cell_type": "markdown",
      "source": [
        "Now the missing values of CAUSE column have been handled "
      ],
      "metadata": {
        "id": "Z2fo-gNzQf2k"
      }
    },
    {
      "cell_type": "code",
      "source": [
        "df_wf.isna().sum()"
      ],
      "metadata": {
        "colab": {
          "base_uri": "https://localhost:8080/"
        },
        "id": "DYkV8-qtwql6",
        "outputId": "64b8fed3-52b4-4cc5-f0c0-e6df0a662ee6"
      },
      "execution_count": 249,
      "outputs": [
        {
          "output_type": "execute_result",
          "data": {
            "text/plain": [
              "YEAR            62\n",
              "STATE            0\n",
              "AGENCY           0\n",
              "UNIT_ID          3\n",
              "ALARM_DATE    3985\n",
              "CONT_DATE     8821\n",
              "CAUSE            0\n",
              "GIS_ACRES        0\n",
              "OBJECTIVE        0\n",
              "dtype: int64"
            ]
          },
          "metadata": {},
          "execution_count": 249
        }
      ]
    },
    {
      "cell_type": "markdown",
      "source": [
        "#### Filling  Missing Values of Unit Id column"
      ],
      "metadata": {
        "id": "4cFQn81rxuvQ"
      }
    },
    {
      "cell_type": "code",
      "source": [
        "df_wf['UNIT_ID'].value_counts()"
      ],
      "metadata": {
        "colab": {
          "base_uri": "https://localhost:8080/"
        },
        "id": "oEqO3vxww1d2",
        "outputId": "567604de-2e74-4e7e-beb6-93f95135bd14"
      },
      "execution_count": 250,
      "outputs": [
        {
          "output_type": "execute_result",
          "data": {
            "text/plain": [
              "Los Angeles County                       874\n",
              "Riverside CAL FIRE                       677\n",
              "Cleveland National Forest                661\n",
              "Los Padres National Forest               533\n",
              "San Bernardino National Forest           477\n",
              "                                        ... \n",
              "CRA                                        1\n",
              "City of Weed Vol. Fire Dept.               1\n",
              "Kern National Wildlife Refuge              1\n",
              "Sacramento National Wildlife Refuge        1\n",
              "Bitter Creek National Wildlife Refuge      1\n",
              "Name: UNIT_ID, Length: 77, dtype: int64"
            ]
          },
          "metadata": {},
          "execution_count": 250
        }
      ]
    },
    {
      "cell_type": "markdown",
      "source": [
        "Now, to fill missing values of UNIT_ID we cannot directly use Mode of the entire column to fill the missing values. This is because, this UNIT_ID is the location where the fire took place which is present in a particular State. Therefore, UNIT_ID column is dependent on the STATE column as well. "
      ],
      "metadata": {
        "id": "Mb_Oe8bvRIyL"
      }
    },
    {
      "cell_type": "code",
      "source": [
        "df_wf['STATE'].value_counts()"
      ],
      "metadata": {
        "colab": {
          "base_uri": "https://localhost:8080/"
        },
        "id": "tNCwuJpExTMx",
        "outputId": "34c3fa83-b166-4578-bc23-8e66ffb5d16e"
      },
      "execution_count": 251,
      "outputs": [
        {
          "output_type": "execute_result",
          "data": {
            "text/plain": [
              "California    11747\n",
              "Nevada           41\n",
              "Oregon            6\n",
              "Arizona           1\n",
              "Name: STATE, dtype: int64"
            ]
          },
          "metadata": {},
          "execution_count": 251
        }
      ]
    },
    {
      "cell_type": "markdown",
      "source": [
        "Since, there are 4 States in the dataset, we need to filter the data by each State and we need to use to Mode value of Unit_ID for each State to fill the respective missing values.\n",
        "\n"
      ],
      "metadata": {
        "id": "e6L3kBpjRoFq"
      }
    },
    {
      "cell_type": "markdown",
      "source": [
        "Printing the Unit_ids present in California"
      ],
      "metadata": {
        "id": "UZ1UKHifR8dc"
      }
    },
    {
      "cell_type": "code",
      "source": [
        "df_wf[df_wf['STATE']=='California']['UNIT_ID'].value_counts()"
      ],
      "metadata": {
        "colab": {
          "base_uri": "https://localhost:8080/"
        },
        "id": "2CAryyjlxFX7",
        "outputId": "7c457a92-1bcc-4ce4-8ed2-38a45fbe6b4d"
      },
      "execution_count": 252,
      "outputs": [
        {
          "output_type": "execute_result",
          "data": {
            "text/plain": [
              "Los Angeles County                     874\n",
              "Riverside CAL FIRE                     677\n",
              "Cleveland National Forest              661\n",
              "Los Padres National Forest             533\n",
              "San Bernardino National Forest         477\n",
              "                                      ... \n",
              "Clear Lake National Wildlife Refuge      1\n",
              "Lava Beds National Monument              1\n",
              "Redwood National and State Parks         1\n",
              "APV                                      1\n",
              "Humbolt-Toiyabe National Forest          1\n",
              "Name: UNIT_ID, Length: 76, dtype: int64"
            ]
          },
          "metadata": {},
          "execution_count": 252
        }
      ]
    },
    {
      "cell_type": "markdown",
      "source": [
        "Printing the Unit_ids present in Nevada"
      ],
      "metadata": {
        "id": "8PJRUkLjSDQ0"
      }
    },
    {
      "cell_type": "code",
      "source": [
        "df_wf[df_wf['STATE']=='Nevada']['UNIT_ID'].value_counts()"
      ],
      "metadata": {
        "colab": {
          "base_uri": "https://localhost:8080/"
        },
        "id": "7OWlnUv0xYho",
        "outputId": "73e90764-571e-4fbc-f504-14e5171f3447"
      },
      "execution_count": 253,
      "outputs": [
        {
          "output_type": "execute_result",
          "data": {
            "text/plain": [
              "Toiyabe National Forest            33\n",
              "Northern CA District - BLM          3\n",
              "Humbolt-Toiyabe National Forest     2\n",
              "Carson City District or - BLM       2\n",
              "Lake Taho Basin Management Unit     1\n",
              "Name: UNIT_ID, dtype: int64"
            ]
          },
          "metadata": {},
          "execution_count": 253
        }
      ]
    },
    {
      "cell_type": "markdown",
      "source": [
        "Printing the Unit_ids present in Oregon"
      ],
      "metadata": {
        "id": "h41cQ4T7SFbs"
      }
    },
    {
      "cell_type": "code",
      "source": [
        "df_wf[df_wf['STATE']=='Oregon']['UNIT_ID'].value_counts()"
      ],
      "metadata": {
        "colab": {
          "base_uri": "https://localhost:8080/"
        },
        "id": "MmgfsHRAxbWe",
        "outputId": "050d9b9f-717c-42a9-a5f1-8ccb0a4d4e76"
      },
      "execution_count": 254,
      "outputs": [
        {
          "output_type": "execute_result",
          "data": {
            "text/plain": [
              "Klamath National Forest    4\n",
              "Name: UNIT_ID, dtype: int64"
            ]
          },
          "metadata": {},
          "execution_count": 254
        }
      ]
    },
    {
      "cell_type": "markdown",
      "source": [
        "Printing the Unit_ids present in Arizona"
      ],
      "metadata": {
        "id": "s-Cwc4uOSG4q"
      }
    },
    {
      "cell_type": "code",
      "source": [
        "df_wf[df_wf['STATE']=='Arizona']['UNIT_ID'].value_counts()"
      ],
      "metadata": {
        "colab": {
          "base_uri": "https://localhost:8080/"
        },
        "id": "oWIFPbBrxigg",
        "outputId": "b2949028-1bb7-491a-8a59-6e62596d73e6"
      },
      "execution_count": 255,
      "outputs": [
        {
          "output_type": "execute_result",
          "data": {
            "text/plain": [
              "CRA    1\n",
              "Name: UNIT_ID, dtype: int64"
            ]
          },
          "metadata": {},
          "execution_count": 255
        }
      ]
    },
    {
      "cell_type": "markdown",
      "source": [
        "Filling the missing values of Unit_ID for those rows having STATE = California"
      ],
      "metadata": {
        "id": "Xyw2BA8hSJEc"
      }
    },
    {
      "cell_type": "code",
      "source": [
        "cond1 = (df_wf['STATE'] == 'California')\n",
        "df_wf.loc[cond1,'UNIT_ID'] = df_wf.loc[cond1,'UNIT_ID'].fillna(df_wf.loc[cond1,'UNIT_ID'].mode()[0])"
      ],
      "metadata": {
        "id": "OK9fwntMx0H-"
      },
      "execution_count": 256,
      "outputs": []
    },
    {
      "cell_type": "markdown",
      "source": [
        "Filling the missing values of Unit_ID for those rows having STATE = Nevada"
      ],
      "metadata": {
        "id": "EEqp3IZhSRau"
      }
    },
    {
      "cell_type": "code",
      "source": [
        "cond2 = (df_wf['STATE'] == 'Nevada')\n",
        "df_wf.loc[cond2,'UNIT_ID'] = df_wf.loc[cond2,'UNIT_ID'].fillna(df_wf.loc[cond2,'UNIT_ID'].mode()[0])"
      ],
      "metadata": {
        "id": "WP_yj6D_ytP2"
      },
      "execution_count": 257,
      "outputs": []
    },
    {
      "cell_type": "markdown",
      "source": [
        "Filling the missing values of Unit_ID for those rows having STATE = Oregon"
      ],
      "metadata": {
        "id": "OXHpvZiPSTaO"
      }
    },
    {
      "cell_type": "code",
      "source": [
        "cond3 = (df_wf['STATE'] == 'Oregon')\n",
        "df_wf.loc[cond3,'UNIT_ID'] = df_wf.loc[cond3,'UNIT_ID'].fillna(df_wf.loc[cond3,'UNIT_ID'].mode()[0])"
      ],
      "metadata": {
        "id": "G5WJ3AomzD8-"
      },
      "execution_count": 258,
      "outputs": []
    },
    {
      "cell_type": "markdown",
      "source": [
        "Filling the missing values of Unit_ID for those rows having STATE = Arizona"
      ],
      "metadata": {
        "id": "MmAyTwvJSU_Q"
      }
    },
    {
      "cell_type": "code",
      "source": [
        "cond4 = (df_wf['STATE'] == 'Arizona')\n",
        "df_wf.loc[cond4,'UNIT_ID'] = df_wf.loc[cond4,'UNIT_ID'].fillna(df_wf.loc[cond4,'UNIT_ID'].mode()[0])"
      ],
      "metadata": {
        "id": "Z9HKuzHVzKvn"
      },
      "execution_count": 259,
      "outputs": []
    },
    {
      "cell_type": "markdown",
      "source": [
        "Now the missing values of UNIT_ID column have been handled "
      ],
      "metadata": {
        "id": "dkJ9DAbcSffN"
      }
    },
    {
      "cell_type": "code",
      "source": [
        "df_wf.isna().sum()"
      ],
      "metadata": {
        "colab": {
          "base_uri": "https://localhost:8080/"
        },
        "id": "0mTDxpeNzdjl",
        "outputId": "40035b49-9fca-4dbe-b792-f439d74e9a14"
      },
      "execution_count": 260,
      "outputs": [
        {
          "output_type": "execute_result",
          "data": {
            "text/plain": [
              "YEAR            62\n",
              "STATE            0\n",
              "AGENCY           0\n",
              "UNIT_ID          0\n",
              "ALARM_DATE    3985\n",
              "CONT_DATE     8821\n",
              "CAUSE            0\n",
              "GIS_ACRES        0\n",
              "OBJECTIVE        0\n",
              "dtype: int64"
            ]
          },
          "metadata": {},
          "execution_count": 260
        }
      ]
    },
    {
      "cell_type": "code",
      "source": [
        "df_wf.shape"
      ],
      "metadata": {
        "colab": {
          "base_uri": "https://localhost:8080/"
        },
        "id": "Dsd_RrXlzzTi",
        "outputId": "47f61b46-27c3-4ca5-a317-6ba7104c040f"
      },
      "execution_count": 261,
      "outputs": [
        {
          "output_type": "execute_result",
          "data": {
            "text/plain": [
              "(11795, 9)"
            ]
          },
          "metadata": {},
          "execution_count": 261
        }
      ]
    },
    {
      "cell_type": "markdown",
      "source": [
        "### Augmenting the dataset"
      ],
      "metadata": {
        "id": "sC391_i_s0K6"
      }
    },
    {
      "cell_type": "markdown",
      "source": [
        "adding a new column Duration which is the difference between the date when fire started and the date when it was contained"
      ],
      "metadata": {
        "id": "mOao-Nf_tTMg"
      }
    },
    {
      "cell_type": "code",
      "source": [
        "df_wf['DURATION'] = (df_wf['CONT_DATE'] - df_wf['ALARM_DATE']).dt.days"
      ],
      "metadata": {
        "id": "hLy2a0Orrvw2"
      },
      "execution_count": 262,
      "outputs": []
    },
    {
      "cell_type": "code",
      "source": [
        "df_wf.isna().sum()"
      ],
      "metadata": {
        "id": "eOX1UjsQtSbt",
        "colab": {
          "base_uri": "https://localhost:8080/"
        },
        "outputId": "3933b3d9-e5fa-4d0b-c3f2-991c5a161e48"
      },
      "execution_count": 263,
      "outputs": [
        {
          "output_type": "execute_result",
          "data": {
            "text/plain": [
              "YEAR            62\n",
              "STATE            0\n",
              "AGENCY           0\n",
              "UNIT_ID          0\n",
              "ALARM_DATE    3985\n",
              "CONT_DATE     8821\n",
              "CAUSE            0\n",
              "GIS_ACRES        0\n",
              "OBJECTIVE        0\n",
              "DURATION      8827\n",
              "dtype: int64"
            ]
          },
          "metadata": {},
          "execution_count": 263
        }
      ]
    },
    {
      "cell_type": "markdown",
      "source": [
        "### Removing Outliers"
      ],
      "metadata": {
        "id": "9t9QIeTR4S7a"
      }
    },
    {
      "cell_type": "markdown",
      "source": [
        "Plotting a Box and a Violin plot to check outlier of Duration column"
      ],
      "metadata": {
        "id": "4f58lYSLSmDD"
      }
    },
    {
      "cell_type": "code",
      "source": [
        "f, axes = plt.subplots(1, 2, figsize=(15,7))\n",
        "_ = sns.violinplot( y ='DURATION', data=df_wf, ax=axes[0] )\n",
        "_ = sns.boxplot( y ='DURATION', data=df_wf, ax=axes[1] )"
      ],
      "metadata": {
        "colab": {
          "base_uri": "https://localhost:8080/",
          "height": 418
        },
        "id": "-DpvPzHM4U0g",
        "outputId": "ee8473cf-0281-4fe0-d373-3ec165090b86"
      },
      "execution_count": 273,
      "outputs": [
        {
          "output_type": "display_data",
          "data": {
            "image/png": "[encoded data removed]",
            "text/plain": [
              "<Figure size 1080x504 with 2 Axes>"
            ]
          },
          "metadata": {
            "needs_background": "light"
          }
        }
      ]
    },
    {
      "cell_type": "code",
      "source": [
        "df_wf['DURATION'].min()"
      ],
      "metadata": {
        "id": "lqqZDXGXtkQB",
        "colab": {
          "base_uri": "https://localhost:8080/"
        },
        "outputId": "0b255736-4269-4d73-9472-97516dd70f6d"
      },
      "execution_count": 274,
      "outputs": [
        {
          "output_type": "execute_result",
          "data": {
            "text/plain": [
              "-32862.0"
            ]
          },
          "metadata": {},
          "execution_count": 274
        }
      ]
    },
    {
      "cell_type": "code",
      "source": [
        "df_wf['DURATION'].max()"
      ],
      "metadata": {
        "id": "3uXlkpE6uKOj",
        "colab": {
          "base_uri": "https://localhost:8080/"
        },
        "outputId": "dcaafe55-2777-4f81-9eab-d65af5bd7c94"
      },
      "execution_count": 275,
      "outputs": [
        {
          "output_type": "execute_result",
          "data": {
            "text/plain": [
              "3319.0"
            ]
          },
          "metadata": {},
          "execution_count": 275
        }
      ]
    },
    {
      "cell_type": "markdown",
      "source": [
        "Here the min duration is coming as negative and max value is more than 3000 days which cannot be the case. This means there is some error in the data. Hence simply remove those rows"
      ],
      "metadata": {
        "id": "2qjvlILLt19o"
      }
    },
    {
      "cell_type": "code",
      "source": [
        "df_wf = df_wf[(df_wf['DURATION'] >= 0) & (df_wf['DURATION'] < 3000)]"
      ],
      "metadata": {
        "id": "qghq33_6ts9j"
      },
      "execution_count": 276,
      "outputs": []
    },
    {
      "cell_type": "code",
      "source": [
        "df_wf.reset_index(inplace=True, drop=True)"
      ],
      "metadata": {
        "id": "5dIhzBp1ucmd"
      },
      "execution_count": 277,
      "outputs": []
    },
    {
      "cell_type": "code",
      "source": [
        "df_wf.head()"
      ],
      "metadata": {
        "id": "boxG1iRxuiaY",
        "colab": {
          "base_uri": "https://localhost:8080/",
          "height": 206
        },
        "outputId": "015517e7-417f-4e30-8614-d1edcde1c2d6"
      },
      "execution_count": 278,
      "outputs": [
        {
          "output_type": "execute_result",
          "data": {
            "text/html": [
              "\n",
              "  <div id=\"df-518bde47-f9c7-4373-abaf-4647034c2e0f\">\n",
              "    <div class=\"colab-df-container\">\n",
              "      <div>\n",
              "<style scoped>\n",
              "    .dataframe tbody tr th:only-of-type {\n",
              "        vertical-align: middle;\n",
              "    }\n",
              "\n",
              "    .dataframe tbody tr th {\n",
              "        vertical-align: top;\n",
              "    }\n",
              "\n",
              "    .dataframe thead th {\n",
              "        text-align: right;\n",
              "    }\n",
              "</style>\n",
              "<table border=\"1\" class=\"dataframe\">\n",
              "  <thead>\n",
              "    <tr style=\"text-align: right;\">\n",
              "      <th></th>\n",
              "      <th>YEAR</th>\n",
              "      <th>STATE</th>\n",
              "      <th>AGENCY</th>\n",
              "      <th>UNIT_ID</th>\n",
              "      <th>ALARM_DATE</th>\n",
              "      <th>CONT_DATE</th>\n",
              "      <th>CAUSE</th>\n",
              "      <th>GIS_ACRES</th>\n",
              "      <th>OBJECTIVE</th>\n",
              "      <th>DURATION</th>\n",
              "    </tr>\n",
              "  </thead>\n",
              "  <tbody>\n",
              "    <tr>\n",
              "      <th>0</th>\n",
              "      <td>1921.0</td>\n",
              "      <td>California</td>\n",
              "      <td>USDA Forest Service</td>\n",
              "      <td>Eldorado National Forest</td>\n",
              "      <td>1921-10-04</td>\n",
              "      <td>1921-10-04</td>\n",
              "      <td>9 - Miscellaneous</td>\n",
              "      <td>273.4315</td>\n",
              "      <td>Suppression (Wildfire)</td>\n",
              "      <td>0.0</td>\n",
              "    </tr>\n",
              "    <tr>\n",
              "      <th>1</th>\n",
              "      <td>1921.0</td>\n",
              "      <td>California</td>\n",
              "      <td>National Park Service</td>\n",
              "      <td>Sequoia - Kings Canyon NP</td>\n",
              "      <td>1921-07-05</td>\n",
              "      <td>1921-07-17</td>\n",
              "      <td>4 - Campfire</td>\n",
              "      <td>1551.4670</td>\n",
              "      <td>Suppression (Wildfire)</td>\n",
              "      <td>12.0</td>\n",
              "    </tr>\n",
              "    <tr>\n",
              "      <th>2</th>\n",
              "      <td>1922.0</td>\n",
              "      <td>California</td>\n",
              "      <td>National Park Service</td>\n",
              "      <td>Sequoia - Kings Canyon NP</td>\n",
              "      <td>1922-09-19</td>\n",
              "      <td>1922-09-23</td>\n",
              "      <td>1 - Lightning</td>\n",
              "      <td>535.8748</td>\n",
              "      <td>Suppression (Wildfire)</td>\n",
              "      <td>4.0</td>\n",
              "    </tr>\n",
              "    <tr>\n",
              "      <th>3</th>\n",
              "      <td>1922.0</td>\n",
              "      <td>California</td>\n",
              "      <td>National Park Service</td>\n",
              "      <td>Sequoia - Kings Canyon NP</td>\n",
              "      <td>1922-08-13</td>\n",
              "      <td>1922-08-17</td>\n",
              "      <td>4 - Campfire</td>\n",
              "      <td>667.1011</td>\n",
              "      <td>Suppression (Wildfire)</td>\n",
              "      <td>4.0</td>\n",
              "    </tr>\n",
              "    <tr>\n",
              "      <th>4</th>\n",
              "      <td>1922.0</td>\n",
              "      <td>California</td>\n",
              "      <td>National Park Service</td>\n",
              "      <td>Sequoia - Kings Canyon NP</td>\n",
              "      <td>1922-07-04</td>\n",
              "      <td>1922-07-06</td>\n",
              "      <td>4 - Campfire</td>\n",
              "      <td>449.5453</td>\n",
              "      <td>Suppression (Wildfire)</td>\n",
              "      <td>2.0</td>\n",
              "    </tr>\n",
              "  </tbody>\n",
              "</table>\n",
              "</div>\n",
              "      <button class=\"colab-df-convert\" onclick=\"convertToInteractive('df-518bde47-f9c7-4373-abaf-4647034c2e0f')\"\n",
              "              title=\"Convert this dataframe to an interactive table.\"\n",
              "              style=\"display:none;\">\n",
              "        \n",
              "  <svg xmlns=\"http://www.w3.org/2000/svg\" height=\"24px\"viewBox=\"0 0 24 24\"\n",
              "       width=\"24px\">\n",
              "    <path d=\"M0 0h24v24H0V0z\" fill=\"none\"/>\n",
              "    <path d=\"M18.56 5.44l.94 2.06.94-2.06 2.06-.94-2.06-.94-.94-2.06-.94 2.06-2.06.94zm-11 1L8.5 8.5l.94-2.06 2.06-.94-2.06-.94L8.5 2.5l-.94 2.06-2.06.94zm10 10l.94 2.06.94-2.06 2.06-.94-2.06-.94-.94-2.06-.94 2.06-2.06.94z\"/><path d=\"M17.41 7.96l-1.37-1.37c-.4-.4-.92-.59-1.43-.59-.52 0-1.04.2-1.43.59L10.3 9.45l-7.72 7.72c-.78.78-.78 2.05 0 2.83L4 21.41c.39.39.9.59 1.41.59.51 0 1.02-.2 1.41-.59l7.78-7.78 2.81-2.81c.8-.78.8-2.07 0-2.86zM5.41 20L4 18.59l7.72-7.72 1.47 1.35L5.41 20z\"/>\n",
              "  </svg>\n",
              "      </button>\n",
              "      \n",
              "  <style>\n",
              "    .colab-df-container {\n",
              "      display:flex;\n",
              "      flex-wrap:wrap;\n",
              "      gap: 12px;\n",
              "    }\n",
              "\n",
              "    .colab-df-convert {\n",
              "      background-color: #E8F0FE;\n",
              "      border: none;\n",
              "      border-radius: 50%;\n",
              "      cursor: pointer;\n",
              "      display: none;\n",
              "      fill: #1967D2;\n",
              "      height: 32px;\n",
              "      padding: 0 0 0 0;\n",
              "      width: 32px;\n",
              "    }\n",
              "\n",
              "    .colab-df-convert:hover {\n",
              "      background-color: #E2EBFA;\n",
              "      box-shadow: 0px 1px 2px rgba(60, 64, 67, 0.3), 0px 1px 3px 1px rgba(60, 64, 67, 0.15);\n",
              "      fill: #174EA6;\n",
              "    }\n",
              "\n",
              "    [theme=dark] .colab-df-convert {\n",
              "      background-color: #3B4455;\n",
              "      fill: #D2E3FC;\n",
              "    }\n",
              "\n",
              "    [theme=dark] .colab-df-convert:hover {\n",
              "      background-color: #434B5C;\n",
              "      box-shadow: 0px 1px 3px 1px rgba(0, 0, 0, 0.15);\n",
              "      filter: drop-shadow(0px 1px 2px rgba(0, 0, 0, 0.3));\n",
              "      fill: #FFFFFF;\n",
              "    }\n",
              "  </style>\n",
              "\n",
              "      <script>\n",
              "        const buttonEl =\n",
              "          document.querySelector('#df-518bde47-f9c7-4373-abaf-4647034c2e0f button.colab-df-convert');\n",
              "        buttonEl.style.display =\n",
              "          google.colab.kernel.accessAllowed ? 'block' : 'none';\n",
              "\n",
              "        async function convertToInteractive(key) {\n",
              "          const element = document.querySelector('#df-518bde47-f9c7-4373-abaf-4647034c2e0f');\n",
              "          const dataTable =\n",
              "            await google.colab.kernel.invokeFunction('convertToInteractive',\n",
              "                                                     [key], {});\n",
              "          if (!dataTable) return;\n",
              "\n",
              "          const docLinkHtml = 'Like what you see? Visit the ' +\n",
              "            '<a target=\"_blank\" href=https://colab.research.google.com/notebooks/data_table.ipynb>data table notebook</a>'\n",
              "            + ' to learn more about interactive tables.';\n",
              "          element.innerHTML = '';\n",
              "          dataTable['output_type'] = 'display_data';\n",
              "          await google.colab.output.renderOutput(dataTable, element);\n",
              "          const docLink = document.createElement('div');\n",
              "          docLink.innerHTML = docLinkHtml;\n",
              "          element.appendChild(docLink);\n",
              "        }\n",
              "      </script>\n",
              "    </div>\n",
              "  </div>\n",
              "  "
            ],
            "text/plain": [
              "     YEAR       STATE  ...               OBJECTIVE DURATION\n",
              "0  1921.0  California  ...  Suppression (Wildfire)      0.0\n",
              "1  1921.0  California  ...  Suppression (Wildfire)     12.0\n",
              "2  1922.0  California  ...  Suppression (Wildfire)      4.0\n",
              "3  1922.0  California  ...  Suppression (Wildfire)      4.0\n",
              "4  1922.0  California  ...  Suppression (Wildfire)      2.0\n",
              "\n",
              "[5 rows x 10 columns]"
            ]
          },
          "metadata": {},
          "execution_count": 278
        }
      ]
    },
    {
      "cell_type": "markdown",
      "source": [
        "We also drop ALARM_DATE and CONT_DATE column since we have formed a new column DURATION which is more significant."
      ],
      "metadata": {
        "id": "8F0PXl5HSxjQ"
      }
    },
    {
      "cell_type": "code",
      "source": [
        "df_wf.drop(['ALARM_DATE', 'CONT_DATE'], axis=1, inplace=True)"
      ],
      "metadata": {
        "id": "lJajb-z50y-V"
      },
      "execution_count": 279,
      "outputs": []
    },
    {
      "cell_type": "code",
      "source": [
        "df_wf.head()"
      ],
      "metadata": {
        "colab": {
          "base_uri": "https://localhost:8080/",
          "height": 206
        },
        "id": "MfKIL8mK08OU",
        "outputId": "77ee93e3-a7bc-40d0-a851-4be5b0753670"
      },
      "execution_count": 280,
      "outputs": [
        {
          "output_type": "execute_result",
          "data": {
            "text/html": [
              "\n",
              "  <div id=\"df-ead1bf5d-4665-4b0a-99fa-8ca0ff10701d\">\n",
              "    <div class=\"colab-df-container\">\n",
              "      <div>\n",
              "<style scoped>\n",
              "    .dataframe tbody tr th:only-of-type {\n",
              "        vertical-align: middle;\n",
              "    }\n",
              "\n",
              "    .dataframe tbody tr th {\n",
              "        vertical-align: top;\n",
              "    }\n",
              "\n",
              "    .dataframe thead th {\n",
              "        text-align: right;\n",
              "    }\n",
              "</style>\n",
              "<table border=\"1\" class=\"dataframe\">\n",
              "  <thead>\n",
              "    <tr style=\"text-align: right;\">\n",
              "      <th></th>\n",
              "      <th>YEAR</th>\n",
              "      <th>STATE</th>\n",
              "      <th>AGENCY</th>\n",
              "      <th>UNIT_ID</th>\n",
              "      <th>CAUSE</th>\n",
              "      <th>GIS_ACRES</th>\n",
              "      <th>OBJECTIVE</th>\n",
              "      <th>DURATION</th>\n",
              "    </tr>\n",
              "  </thead>\n",
              "  <tbody>\n",
              "    <tr>\n",
              "      <th>0</th>\n",
              "      <td>1921.0</td>\n",
              "      <td>California</td>\n",
              "      <td>USDA Forest Service</td>\n",
              "      <td>Eldorado National Forest</td>\n",
              "      <td>9 - Miscellaneous</td>\n",
              "      <td>273.4315</td>\n",
              "      <td>Suppression (Wildfire)</td>\n",
              "      <td>0.0</td>\n",
              "    </tr>\n",
              "    <tr>\n",
              "      <th>1</th>\n",
              "      <td>1921.0</td>\n",
              "      <td>California</td>\n",
              "      <td>National Park Service</td>\n",
              "      <td>Sequoia - Kings Canyon NP</td>\n",
              "      <td>4 - Campfire</td>\n",
              "      <td>1551.4670</td>\n",
              "      <td>Suppression (Wildfire)</td>\n",
              "      <td>12.0</td>\n",
              "    </tr>\n",
              "    <tr>\n",
              "      <th>2</th>\n",
              "      <td>1922.0</td>\n",
              "      <td>California</td>\n",
              "      <td>National Park Service</td>\n",
              "      <td>Sequoia - Kings Canyon NP</td>\n",
              "      <td>1 - Lightning</td>\n",
              "      <td>535.8748</td>\n",
              "      <td>Suppression (Wildfire)</td>\n",
              "      <td>4.0</td>\n",
              "    </tr>\n",
              "    <tr>\n",
              "      <th>3</th>\n",
              "      <td>1922.0</td>\n",
              "      <td>California</td>\n",
              "      <td>National Park Service</td>\n",
              "      <td>Sequoia - Kings Canyon NP</td>\n",
              "      <td>4 - Campfire</td>\n",
              "      <td>667.1011</td>\n",
              "      <td>Suppression (Wildfire)</td>\n",
              "      <td>4.0</td>\n",
              "    </tr>\n",
              "    <tr>\n",
              "      <th>4</th>\n",
              "      <td>1922.0</td>\n",
              "      <td>California</td>\n",
              "      <td>National Park Service</td>\n",
              "      <td>Sequoia - Kings Canyon NP</td>\n",
              "      <td>4 - Campfire</td>\n",
              "      <td>449.5453</td>\n",
              "      <td>Suppression (Wildfire)</td>\n",
              "      <td>2.0</td>\n",
              "    </tr>\n",
              "  </tbody>\n",
              "</table>\n",
              "</div>\n",
              "      <button class=\"colab-df-convert\" onclick=\"convertToInteractive('df-ead1bf5d-4665-4b0a-99fa-8ca0ff10701d')\"\n",
              "              title=\"Convert this dataframe to an interactive table.\"\n",
              "              style=\"display:none;\">\n",
              "        \n",
              "  <svg xmlns=\"http://www.w3.org/2000/svg\" height=\"24px\"viewBox=\"0 0 24 24\"\n",
              "       width=\"24px\">\n",
              "    <path d=\"M0 0h24v24H0V0z\" fill=\"none\"/>\n",
              "    <path d=\"M18.56 5.44l.94 2.06.94-2.06 2.06-.94-2.06-.94-.94-2.06-.94 2.06-2.06.94zm-11 1L8.5 8.5l.94-2.06 2.06-.94-2.06-.94L8.5 2.5l-.94 2.06-2.06.94zm10 10l.94 2.06.94-2.06 2.06-.94-2.06-.94-.94-2.06-.94 2.06-2.06.94z\"/><path d=\"M17.41 7.96l-1.37-1.37c-.4-.4-.92-.59-1.43-.59-.52 0-1.04.2-1.43.59L10.3 9.45l-7.72 7.72c-.78.78-.78 2.05 0 2.83L4 21.41c.39.39.9.59 1.41.59.51 0 1.02-.2 1.41-.59l7.78-7.78 2.81-2.81c.8-.78.8-2.07 0-2.86zM5.41 20L4 18.59l7.72-7.72 1.47 1.35L5.41 20z\"/>\n",
              "  </svg>\n",
              "      </button>\n",
              "      \n",
              "  <style>\n",
              "    .colab-df-container {\n",
              "      display:flex;\n",
              "      flex-wrap:wrap;\n",
              "      gap: 12px;\n",
              "    }\n",
              "\n",
              "    .colab-df-convert {\n",
              "      background-color: #E8F0FE;\n",
              "      border: none;\n",
              "      border-radius: 50%;\n",
              "      cursor: pointer;\n",
              "      display: none;\n",
              "      fill: #1967D2;\n",
              "      height: 32px;\n",
              "      padding: 0 0 0 0;\n",
              "      width: 32px;\n",
              "    }\n",
              "\n",
              "    .colab-df-convert:hover {\n",
              "      background-color: #E2EBFA;\n",
              "      box-shadow: 0px 1px 2px rgba(60, 64, 67, 0.3), 0px 1px 3px 1px rgba(60, 64, 67, 0.15);\n",
              "      fill: #174EA6;\n",
              "    }\n",
              "\n",
              "    [theme=dark] .colab-df-convert {\n",
              "      background-color: #3B4455;\n",
              "      fill: #D2E3FC;\n",
              "    }\n",
              "\n",
              "    [theme=dark] .colab-df-convert:hover {\n",
              "      background-color: #434B5C;\n",
              "      box-shadow: 0px 1px 3px 1px rgba(0, 0, 0, 0.15);\n",
              "      filter: drop-shadow(0px 1px 2px rgba(0, 0, 0, 0.3));\n",
              "      fill: #FFFFFF;\n",
              "    }\n",
              "  </style>\n",
              "\n",
              "      <script>\n",
              "        const buttonEl =\n",
              "          document.querySelector('#df-ead1bf5d-4665-4b0a-99fa-8ca0ff10701d button.colab-df-convert');\n",
              "        buttonEl.style.display =\n",
              "          google.colab.kernel.accessAllowed ? 'block' : 'none';\n",
              "\n",
              "        async function convertToInteractive(key) {\n",
              "          const element = document.querySelector('#df-ead1bf5d-4665-4b0a-99fa-8ca0ff10701d');\n",
              "          const dataTable =\n",
              "            await google.colab.kernel.invokeFunction('convertToInteractive',\n",
              "                                                     [key], {});\n",
              "          if (!dataTable) return;\n",
              "\n",
              "          const docLinkHtml = 'Like what you see? Visit the ' +\n",
              "            '<a target=\"_blank\" href=https://colab.research.google.com/notebooks/data_table.ipynb>data table notebook</a>'\n",
              "            + ' to learn more about interactive tables.';\n",
              "          element.innerHTML = '';\n",
              "          dataTable['output_type'] = 'display_data';\n",
              "          await google.colab.output.renderOutput(dataTable, element);\n",
              "          const docLink = document.createElement('div');\n",
              "          docLink.innerHTML = docLinkHtml;\n",
              "          element.appendChild(docLink);\n",
              "        }\n",
              "      </script>\n",
              "    </div>\n",
              "  </div>\n",
              "  "
            ],
            "text/plain": [
              "     YEAR       STATE  ...               OBJECTIVE DURATION\n",
              "0  1921.0  California  ...  Suppression (Wildfire)      0.0\n",
              "1  1921.0  California  ...  Suppression (Wildfire)     12.0\n",
              "2  1922.0  California  ...  Suppression (Wildfire)      4.0\n",
              "3  1922.0  California  ...  Suppression (Wildfire)      4.0\n",
              "4  1922.0  California  ...  Suppression (Wildfire)      2.0\n",
              "\n",
              "[5 rows x 8 columns]"
            ]
          },
          "metadata": {},
          "execution_count": 280
        }
      ]
    },
    {
      "cell_type": "markdown",
      "source": [
        "#### Dataframe after data cleaning step"
      ],
      "metadata": {
        "id": "OSXZwUtusTZ1"
      }
    },
    {
      "cell_type": "code",
      "source": [
        "df_wf.head()"
      ],
      "metadata": {
        "id": "cuEdWmxDraPf",
        "colab": {
          "base_uri": "https://localhost:8080/",
          "height": 206
        },
        "outputId": "2e5475c3-2123-4c97-d56c-43d244a9d4fb"
      },
      "execution_count": 200,
      "outputs": [
        {
          "output_type": "execute_result",
          "data": {
            "text/html": [
              "\n",
              "  <div id=\"df-5e2d184f-ed90-49eb-b036-b97067935b3e\">\n",
              "    <div class=\"colab-df-container\">\n",
              "      <div>\n",
              "<style scoped>\n",
              "    .dataframe tbody tr th:only-of-type {\n",
              "        vertical-align: middle;\n",
              "    }\n",
              "\n",
              "    .dataframe tbody tr th {\n",
              "        vertical-align: top;\n",
              "    }\n",
              "\n",
              "    .dataframe thead th {\n",
              "        text-align: right;\n",
              "    }\n",
              "</style>\n",
              "<table border=\"1\" class=\"dataframe\">\n",
              "  <thead>\n",
              "    <tr style=\"text-align: right;\">\n",
              "      <th></th>\n",
              "      <th>YEAR</th>\n",
              "      <th>STATE</th>\n",
              "      <th>AGENCY</th>\n",
              "      <th>UNIT_ID</th>\n",
              "      <th>CAUSE</th>\n",
              "      <th>GIS_ACRES</th>\n",
              "      <th>OBJECTIVE</th>\n",
              "      <th>DURATION</th>\n",
              "    </tr>\n",
              "  </thead>\n",
              "  <tbody>\n",
              "    <tr>\n",
              "      <th>0</th>\n",
              "      <td>1921.0</td>\n",
              "      <td>California</td>\n",
              "      <td>USDA Forest Service</td>\n",
              "      <td>Eldorado National Forest</td>\n",
              "      <td>9 - Miscellaneous</td>\n",
              "      <td>273.4315</td>\n",
              "      <td>Suppression (Wildfire)</td>\n",
              "      <td>0.0</td>\n",
              "    </tr>\n",
              "    <tr>\n",
              "      <th>1</th>\n",
              "      <td>1921.0</td>\n",
              "      <td>California</td>\n",
              "      <td>National Park Service</td>\n",
              "      <td>Sequoia - Kings Canyon NP</td>\n",
              "      <td>4 - Campfire</td>\n",
              "      <td>1551.4670</td>\n",
              "      <td>Suppression (Wildfire)</td>\n",
              "      <td>12.0</td>\n",
              "    </tr>\n",
              "    <tr>\n",
              "      <th>2</th>\n",
              "      <td>1922.0</td>\n",
              "      <td>California</td>\n",
              "      <td>National Park Service</td>\n",
              "      <td>Sequoia - Kings Canyon NP</td>\n",
              "      <td>1 - Lightning</td>\n",
              "      <td>535.8748</td>\n",
              "      <td>Suppression (Wildfire)</td>\n",
              "      <td>4.0</td>\n",
              "    </tr>\n",
              "    <tr>\n",
              "      <th>3</th>\n",
              "      <td>1922.0</td>\n",
              "      <td>California</td>\n",
              "      <td>National Park Service</td>\n",
              "      <td>Sequoia - Kings Canyon NP</td>\n",
              "      <td>4 - Campfire</td>\n",
              "      <td>667.1011</td>\n",
              "      <td>Suppression (Wildfire)</td>\n",
              "      <td>4.0</td>\n",
              "    </tr>\n",
              "    <tr>\n",
              "      <th>4</th>\n",
              "      <td>1922.0</td>\n",
              "      <td>California</td>\n",
              "      <td>National Park Service</td>\n",
              "      <td>Sequoia - Kings Canyon NP</td>\n",
              "      <td>4 - Campfire</td>\n",
              "      <td>449.5453</td>\n",
              "      <td>Suppression (Wildfire)</td>\n",
              "      <td>2.0</td>\n",
              "    </tr>\n",
              "  </tbody>\n",
              "</table>\n",
              "</div>\n",
              "      <button class=\"colab-df-convert\" onclick=\"convertToInteractive('df-5e2d184f-ed90-49eb-b036-b97067935b3e')\"\n",
              "              title=\"Convert this dataframe to an interactive table.\"\n",
              "              style=\"display:none;\">\n",
              "        \n",
              "  <svg xmlns=\"http://www.w3.org/2000/svg\" height=\"24px\"viewBox=\"0 0 24 24\"\n",
              "       width=\"24px\">\n",
              "    <path d=\"M0 0h24v24H0V0z\" fill=\"none\"/>\n",
              "    <path d=\"M18.56 5.44l.94 2.06.94-2.06 2.06-.94-2.06-.94-.94-2.06-.94 2.06-2.06.94zm-11 1L8.5 8.5l.94-2.06 2.06-.94-2.06-.94L8.5 2.5l-.94 2.06-2.06.94zm10 10l.94 2.06.94-2.06 2.06-.94-2.06-.94-.94-2.06-.94 2.06-2.06.94z\"/><path d=\"M17.41 7.96l-1.37-1.37c-.4-.4-.92-.59-1.43-.59-.52 0-1.04.2-1.43.59L10.3 9.45l-7.72 7.72c-.78.78-.78 2.05 0 2.83L4 21.41c.39.39.9.59 1.41.59.51 0 1.02-.2 1.41-.59l7.78-7.78 2.81-2.81c.8-.78.8-2.07 0-2.86zM5.41 20L4 18.59l7.72-7.72 1.47 1.35L5.41 20z\"/>\n",
              "  </svg>\n",
              "      </button>\n",
              "      \n",
              "  <style>\n",
              "    .colab-df-container {\n",
              "      display:flex;\n",
              "      flex-wrap:wrap;\n",
              "      gap: 12px;\n",
              "    }\n",
              "\n",
              "    .colab-df-convert {\n",
              "      background-color: #E8F0FE;\n",
              "      border: none;\n",
              "      border-radius: 50%;\n",
              "      cursor: pointer;\n",
              "      display: none;\n",
              "      fill: #1967D2;\n",
              "      height: 32px;\n",
              "      padding: 0 0 0 0;\n",
              "      width: 32px;\n",
              "    }\n",
              "\n",
              "    .colab-df-convert:hover {\n",
              "      background-color: #E2EBFA;\n",
              "      box-shadow: 0px 1px 2px rgba(60, 64, 67, 0.3), 0px 1px 3px 1px rgba(60, 64, 67, 0.15);\n",
              "      fill: #174EA6;\n",
              "    }\n",
              "\n",
              "    [theme=dark] .colab-df-convert {\n",
              "      background-color: #3B4455;\n",
              "      fill: #D2E3FC;\n",
              "    }\n",
              "\n",
              "    [theme=dark] .colab-df-convert:hover {\n",
              "      background-color: #434B5C;\n",
              "      box-shadow: 0px 1px 3px 1px rgba(0, 0, 0, 0.15);\n",
              "      filter: drop-shadow(0px 1px 2px rgba(0, 0, 0, 0.3));\n",
              "      fill: #FFFFFF;\n",
              "    }\n",
              "  </style>\n",
              "\n",
              "      <script>\n",
              "        const buttonEl =\n",
              "          document.querySelector('#df-5e2d184f-ed90-49eb-b036-b97067935b3e button.colab-df-convert');\n",
              "        buttonEl.style.display =\n",
              "          google.colab.kernel.accessAllowed ? 'block' : 'none';\n",
              "\n",
              "        async function convertToInteractive(key) {\n",
              "          const element = document.querySelector('#df-5e2d184f-ed90-49eb-b036-b97067935b3e');\n",
              "          const dataTable =\n",
              "            await google.colab.kernel.invokeFunction('convertToInteractive',\n",
              "                                                     [key], {});\n",
              "          if (!dataTable) return;\n",
              "\n",
              "          const docLinkHtml = 'Like what you see? Visit the ' +\n",
              "            '<a target=\"_blank\" href=https://colab.research.google.com/notebooks/data_table.ipynb>data table notebook</a>'\n",
              "            + ' to learn more about interactive tables.';\n",
              "          element.innerHTML = '';\n",
              "          dataTable['output_type'] = 'display_data';\n",
              "          await google.colab.output.renderOutput(dataTable, element);\n",
              "          const docLink = document.createElement('div');\n",
              "          docLink.innerHTML = docLinkHtml;\n",
              "          element.appendChild(docLink);\n",
              "        }\n",
              "      </script>\n",
              "    </div>\n",
              "  </div>\n",
              "  "
            ],
            "text/plain": [
              "     YEAR       STATE  ...               OBJECTIVE DURATION\n",
              "0  1921.0  California  ...  Suppression (Wildfire)      0.0\n",
              "1  1921.0  California  ...  Suppression (Wildfire)     12.0\n",
              "2  1922.0  California  ...  Suppression (Wildfire)      4.0\n",
              "3  1922.0  California  ...  Suppression (Wildfire)      4.0\n",
              "4  1922.0  California  ...  Suppression (Wildfire)      2.0\n",
              "\n",
              "[5 rows x 8 columns]"
            ]
          },
          "metadata": {},
          "execution_count": 200
        }
      ]
    },
    {
      "cell_type": "markdown",
      "source": [
        "### Data Visualization"
      ],
      "metadata": {
        "id": "EwA5iGrj2MS4"
      }
    },
    {
      "cell_type": "markdown",
      "source": [
        "#### Bar Plot to find no. of acres burned in the last 20 years"
      ],
      "metadata": {
        "id": "SyF1f26mWb50"
      }
    },
    {
      "cell_type": "code",
      "source": [
        "t = df_wf.groupby(by='YEAR').sum().iloc[-20:]\n",
        "f =  plt.figure(figsize=(20,10))\n",
        "plt.title('No of Acres burned in the last 20 years')\n",
        "_ = sns.barplot(x=t.index, y = t['GIS_ACRES'])"
      ],
      "metadata": {
        "colab": {
          "base_uri": "https://localhost:8080/",
          "height": 621
        },
        "id": "D-8oXjtE9x1Z",
        "outputId": "477e424e-50c8-462d-eeae-bc9b8d45e063"
      },
      "execution_count": 397,
      "outputs": [
        {
          "output_type": "display_data",
          "data": {
            "image/png": "[encoded data removed]",
            "text/plain": [
              "<Figure size 1440x720 with 1 Axes>"
            ]
          },
          "metadata": {
            "needs_background": "light"
          }
        }
      ]
    },
    {
      "cell_type": "markdown",
      "source": [
        "As we can see from the above Bar Plot, year 2008 had maximum acers burned followed by 2007, 2002 and 2003. 1998 had lowest no. of acres burned followed by 2010 "
      ],
      "metadata": {
        "id": "qLfH_SqqWnDm"
      }
    },
    {
      "cell_type": "markdown",
      "source": [
        "#### Plotting a Histogram of GIS_ACRES and DURATION column "
      ],
      "metadata": {
        "id": "w_UTdJrOTFmQ"
      }
    },
    {
      "cell_type": "code",
      "source": [
        "plt.figure(figsize=[15,6])\n",
        "plt.subplot(1,2,1)\n",
        "plt.title('Distribution of GIS_ACRES')\n",
        "_ = plt.hist(data = df_wf, x = 'DURATION', bins=100)\n",
        "_ = plt.loglog()\n",
        "_ = plt.xlabel('GIS_ACRES'); plt.ylabel('Count');\n",
        "\n",
        "_ = plt.subplot(1,2,2)\n",
        "plt.title('Distribution of DURATION')\n",
        "_ = plt.hist(df_wf.DURATION, bins=100)\n",
        "_ = plt.loglog()\n",
        "_ = plt.xlabel('DURATION'); plt.ylabel('Count');"
      ],
      "metadata": {
        "colab": {
          "base_uri": "https://localhost:8080/",
          "height": 409
        },
        "id": "EIK1kEeGFaHG",
        "outputId": "f0331e87-f9d9-4657-9f21-21d60cf7d5bb"
      },
      "execution_count": 392,
      "outputs": [
        {
          "output_type": "display_data",
          "data": {
            "image/png": "[encoded data removed]",
            "text/plain": [
              "<Figure size 1080x432 with 2 Axes>"
            ]
          },
          "metadata": {
            "needs_background": "light"
          }
        }
      ]
    },
    {
      "cell_type": "markdown",
      "source": [
        "Histograms are useful to understand the distribution of variables. Here we have used log axis because both GIS_ACRES and DURATION have broad ranges. Here we can see that on log scale both the graphs have a roughly linear distibution"
      ],
      "metadata": {
        "id": "yLfeyu51ThMe"
      }
    },
    {
      "cell_type": "markdown",
      "source": [
        "#### Plotting a Scatterplot of GIS_ACRES vs DURATION to check if they have any correlation or not"
      ],
      "metadata": {
        "id": "4oPz96KuUHQE"
      }
    },
    {
      "cell_type": "code",
      "source": [
        "f =  plt.figure(figsize=(10,11))\n",
        "plt.title('Relationship between GIS_ACRES vs DURATION')\n",
        "g = sns.scatterplot(data=df_wf, y=\"GIS_ACRES\", x = \"DURATION\", hue = 'AGENCY');"
      ],
      "metadata": {
        "colab": {
          "base_uri": "https://localhost:8080/",
          "height": 676
        },
        "id": "61v8T5Af3Bsz",
        "outputId": "38373801-2084-4280-b2cf-336a9d27f632"
      },
      "execution_count": 394,
      "outputs": [
        {
          "output_type": "display_data",
          "data": {
            "image/png": "[encoded data removed]",
            "text/plain": [
              "<Figure size 720x792 with 1 Axes>"
            ]
          },
          "metadata": {
            "needs_background": "light"
          }
        }
      ]
    },
    {
      "cell_type": "markdown",
      "source": [
        "We can see that there is not much correlation between DURATION and GIS_ACRES. It is expected that bigger fires should last longer but that doesn't appear to happen always. One reason might be that each fire is taken care of by different agencies and hence the difference."
      ],
      "metadata": {
        "id": "NsAaFuvMUiCc"
      }
    },
    {
      "cell_type": "markdown",
      "source": [
        "#### Count Plot for finding which forests have had Maximum Fires "
      ],
      "metadata": {
        "id": "o5K2hB0WVXmq"
      }
    },
    {
      "cell_type": "code",
      "source": [
        "f =  plt.figure(figsize=(20,10))\n",
        "plt.title('Top 20 forests having Maximum Fires')\n",
        "_ = sns.countplot(x=\"UNIT_ID\", data=df_wf, \n",
        "              order=df_wf['UNIT_ID'].value_counts().iloc[:20].index)\n",
        "_  = plt.xticks(rotation=50)"
      ],
      "metadata": {
        "colab": {
          "base_uri": "https://localhost:8080/",
          "height": 739
        },
        "id": "TY-spnVR59Ug",
        "outputId": "bf6c26f1-c39f-44a0-d0d1-ad08d0d7e6b4"
      },
      "execution_count": 396,
      "outputs": [
        {
          "output_type": "display_data",
          "data": {
            "image/png": "[encoded data removed]",
            "text/plain": [
              "<Figure size 1440x720 with 1 Axes>"
            ]
          },
          "metadata": {
            "needs_background": "light"
          }
        }
      ]
    },
    {
      "cell_type": "markdown",
      "source": [
        "As we can see from the above Count Plot, Sequonia National Forest had maximum fires (180) followed by Shasta-Trinity National Forest (125) "
      ],
      "metadata": {
        "id": "q5p1NpA-VloV"
      }
    },
    {
      "cell_type": "markdown",
      "source": [
        "#### Bar Plot to find Top 20 forests having Maximum Acres burned "
      ],
      "metadata": {
        "id": "1jEUwRI9XXzw"
      }
    },
    {
      "cell_type": "code",
      "source": [
        "t = df_wf.groupby(by='UNIT_ID').sum().sort_values(by='GIS_ACRES').iloc[-20:]\n",
        "f =  plt.figure(figsize=(20,10))\n",
        "plt.title('Top 20 forests having Maximum Acres burned')\n",
        "_ = sns.barplot(x=t.index, y = t['GIS_ACRES'])\n",
        "_  = plt.xticks(rotation=50)"
      ],
      "metadata": {
        "colab": {
          "base_uri": "https://localhost:8080/",
          "height": 739
        },
        "id": "1BSMw5XRDwyt",
        "outputId": "711da852-462f-4d2a-db89-0918c7d4dee9"
      },
      "execution_count": 398,
      "outputs": [
        {
          "output_type": "display_data",
          "data": {
            "image/png": "[encoded data removed]",
            "text/plain": [
              "<Figure size 1440x720 with 1 Axes>"
            ]
          },
          "metadata": {
            "needs_background": "light"
          }
        }
      ]
    },
    {
      "cell_type": "markdown",
      "source": [
        "As seen from Bar Plot above, Los Padres National Forest had Maximum Acres burned followed by Klamath National Forest. One interesting thing to note here is that Sequoia National Forest had Maximum fires (as shown by the graph before this) but is not the highest in terms of No. of acres burned. "
      ],
      "metadata": {
        "id": "P3ssKke0XpBR"
      }
    },
    {
      "cell_type": "markdown",
      "source": [
        "#### Count Plot to find the most common cause of fire"
      ],
      "metadata": {
        "id": "VrtC1TaGYlKC"
      }
    },
    {
      "cell_type": "code",
      "source": [
        "f =  plt.figure(figsize=(20,10))\n",
        "plt.title('Count Plot of Cause of Fire')\n",
        "_ = sns.countplot(x=\"CAUSE\", data=df_wf)\n",
        "_  = plt.xticks(rotation=50)"
      ],
      "metadata": {
        "colab": {
          "base_uri": "https://localhost:8080/",
          "height": 730
        },
        "id": "lSvOAKJEEmYy",
        "outputId": "4e25ccf5-61d6-47db-e271-207af933a6d8"
      },
      "execution_count": 399,
      "outputs": [
        {
          "output_type": "display_data",
          "data": {
            "image/png": "[encoded data removed]",
            "text/plain": [
              "<Figure size 1440x720 with 1 Axes>"
            ]
          },
          "metadata": {
            "needs_background": "light"
          }
        }
      ]
    },
    {
      "cell_type": "markdown",
      "source": [
        "As seen from above count plot, the most Lightning is the most common cause of fire. "
      ],
      "metadata": {
        "id": "vZ9_FZWTZR1_"
      }
    },
    {
      "cell_type": "markdown",
      "source": [
        "#### Understanding \"object\" columns\n",
        "\n",
        "Here we can see that The top objective is Suppression. Alos, most fires were caused by Lightning. Moreover, most of the fires were caused in California. "
      ],
      "metadata": {
        "id": "qblohYKmgP2H"
      }
    },
    {
      "cell_type": "code",
      "source": [
        "df_wf.describe(include = 'object')"
      ],
      "metadata": {
        "id": "eXzfQU7SH7--",
        "colab": {
          "base_uri": "https://localhost:8080/",
          "height": 175
        },
        "outputId": "db3d9e86-2db2-46c7-d1e9-00fe7e87bdc7"
      },
      "execution_count": 201,
      "outputs": [
        {
          "output_type": "execute_result",
          "data": {
            "text/html": [
              "\n",
              "  <div id=\"df-7be61a79-b981-400e-b003-f058838c116e\">\n",
              "    <div class=\"colab-df-container\">\n",
              "      <div>\n",
              "<style scoped>\n",
              "    .dataframe tbody tr th:only-of-type {\n",
              "        vertical-align: middle;\n",
              "    }\n",
              "\n",
              "    .dataframe tbody tr th {\n",
              "        vertical-align: top;\n",
              "    }\n",
              "\n",
              "    .dataframe thead th {\n",
              "        text-align: right;\n",
              "    }\n",
              "</style>\n",
              "<table border=\"1\" class=\"dataframe\">\n",
              "  <thead>\n",
              "    <tr style=\"text-align: right;\">\n",
              "      <th></th>\n",
              "      <th>STATE</th>\n",
              "      <th>AGENCY</th>\n",
              "      <th>UNIT_ID</th>\n",
              "      <th>CAUSE</th>\n",
              "      <th>OBJECTIVE</th>\n",
              "    </tr>\n",
              "  </thead>\n",
              "  <tbody>\n",
              "    <tr>\n",
              "      <th>count</th>\n",
              "      <td>2959</td>\n",
              "      <td>2959</td>\n",
              "      <td>2959</td>\n",
              "      <td>2959</td>\n",
              "      <td>2959</td>\n",
              "    </tr>\n",
              "    <tr>\n",
              "      <th>unique</th>\n",
              "      <td>4</td>\n",
              "      <td>10</td>\n",
              "      <td>75</td>\n",
              "      <td>17</td>\n",
              "      <td>2</td>\n",
              "    </tr>\n",
              "    <tr>\n",
              "      <th>top</th>\n",
              "      <td>California</td>\n",
              "      <td>USDA Forest Service</td>\n",
              "      <td>Sequoia National Forest</td>\n",
              "      <td>1 - Lightning</td>\n",
              "      <td>Suppression (Wildfire)</td>\n",
              "    </tr>\n",
              "    <tr>\n",
              "      <th>freq</th>\n",
              "      <td>2950</td>\n",
              "      <td>1384</td>\n",
              "      <td>185</td>\n",
              "      <td>953</td>\n",
              "      <td>2827</td>\n",
              "    </tr>\n",
              "  </tbody>\n",
              "</table>\n",
              "</div>\n",
              "      <button class=\"colab-df-convert\" onclick=\"convertToInteractive('df-7be61a79-b981-400e-b003-f058838c116e')\"\n",
              "              title=\"Convert this dataframe to an interactive table.\"\n",
              "              style=\"display:none;\">\n",
              "        \n",
              "  <svg xmlns=\"http://www.w3.org/2000/svg\" height=\"24px\"viewBox=\"0 0 24 24\"\n",
              "       width=\"24px\">\n",
              "    <path d=\"M0 0h24v24H0V0z\" fill=\"none\"/>\n",
              "    <path d=\"M18.56 5.44l.94 2.06.94-2.06 2.06-.94-2.06-.94-.94-2.06-.94 2.06-2.06.94zm-11 1L8.5 8.5l.94-2.06 2.06-.94-2.06-.94L8.5 2.5l-.94 2.06-2.06.94zm10 10l.94 2.06.94-2.06 2.06-.94-2.06-.94-.94-2.06-.94 2.06-2.06.94z\"/><path d=\"M17.41 7.96l-1.37-1.37c-.4-.4-.92-.59-1.43-.59-.52 0-1.04.2-1.43.59L10.3 9.45l-7.72 7.72c-.78.78-.78 2.05 0 2.83L4 21.41c.39.39.9.59 1.41.59.51 0 1.02-.2 1.41-.59l7.78-7.78 2.81-2.81c.8-.78.8-2.07 0-2.86zM5.41 20L4 18.59l7.72-7.72 1.47 1.35L5.41 20z\"/>\n",
              "  </svg>\n",
              "      </button>\n",
              "      \n",
              "  <style>\n",
              "    .colab-df-container {\n",
              "      display:flex;\n",
              "      flex-wrap:wrap;\n",
              "      gap: 12px;\n",
              "    }\n",
              "\n",
              "    .colab-df-convert {\n",
              "      background-color: #E8F0FE;\n",
              "      border: none;\n",
              "      border-radius: 50%;\n",
              "      cursor: pointer;\n",
              "      display: none;\n",
              "      fill: #1967D2;\n",
              "      height: 32px;\n",
              "      padding: 0 0 0 0;\n",
              "      width: 32px;\n",
              "    }\n",
              "\n",
              "    .colab-df-convert:hover {\n",
              "      background-color: #E2EBFA;\n",
              "      box-shadow: 0px 1px 2px rgba(60, 64, 67, 0.3), 0px 1px 3px 1px rgba(60, 64, 67, 0.15);\n",
              "      fill: #174EA6;\n",
              "    }\n",
              "\n",
              "    [theme=dark] .colab-df-convert {\n",
              "      background-color: #3B4455;\n",
              "      fill: #D2E3FC;\n",
              "    }\n",
              "\n",
              "    [theme=dark] .colab-df-convert:hover {\n",
              "      background-color: #434B5C;\n",
              "      box-shadow: 0px 1px 3px 1px rgba(0, 0, 0, 0.15);\n",
              "      filter: drop-shadow(0px 1px 2px rgba(0, 0, 0, 0.3));\n",
              "      fill: #FFFFFF;\n",
              "    }\n",
              "  </style>\n",
              "\n",
              "      <script>\n",
              "        const buttonEl =\n",
              "          document.querySelector('#df-7be61a79-b981-400e-b003-f058838c116e button.colab-df-convert');\n",
              "        buttonEl.style.display =\n",
              "          google.colab.kernel.accessAllowed ? 'block' : 'none';\n",
              "\n",
              "        async function convertToInteractive(key) {\n",
              "          const element = document.querySelector('#df-7be61a79-b981-400e-b003-f058838c116e');\n",
              "          const dataTable =\n",
              "            await google.colab.kernel.invokeFunction('convertToInteractive',\n",
              "                                                     [key], {});\n",
              "          if (!dataTable) return;\n",
              "\n",
              "          const docLinkHtml = 'Like what you see? Visit the ' +\n",
              "            '<a target=\"_blank\" href=https://colab.research.google.com/notebooks/data_table.ipynb>data table notebook</a>'\n",
              "            + ' to learn more about interactive tables.';\n",
              "          element.innerHTML = '';\n",
              "          dataTable['output_type'] = 'display_data';\n",
              "          await google.colab.output.renderOutput(dataTable, element);\n",
              "          const docLink = document.createElement('div');\n",
              "          docLink.innerHTML = docLinkHtml;\n",
              "          element.appendChild(docLink);\n",
              "        }\n",
              "      </script>\n",
              "    </div>\n",
              "  </div>\n",
              "  "
            ],
            "text/plain": [
              "             STATE               AGENCY  ...          CAUSE               OBJECTIVE\n",
              "count         2959                 2959  ...           2959                    2959\n",
              "unique           4                   10  ...             17                       2\n",
              "top     California  USDA Forest Service  ...  1 - Lightning  Suppression (Wildfire)\n",
              "freq          2950                 1384  ...            953                    2827\n",
              "\n",
              "[4 rows x 5 columns]"
            ]
          },
          "metadata": {},
          "execution_count": 201
        }
      ]
    }
  ]
}