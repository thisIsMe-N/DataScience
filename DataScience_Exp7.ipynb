{
  "nbformat": 4,
  "nbformat_minor": 0,
  "metadata": {
    "colab": {
      "name": "DataScience_Exp7.ipynb",
      "provenance": [],
      "collapsed_sections": []
    },
    "kernelspec": {
      "name": "python3",
      "display_name": "Python 3"
    },
    "language_info": {
      "name": "python"
    }
  },
  "cells": [
    {
      "cell_type": "markdown",
      "source": [
        "## Experiment 7: Text Analysis\n",
        "## Nikita Chitre\n",
        "## Roll No 4\n",
        "## Batch A"
      ],
      "metadata": {
        "id": "X6EZPnthTv7z"
      }
    },
    {
      "cell_type": "code",
      "source": [
        "import pandas as pd\n",
        "import string\n",
        "import seaborn as sns\n",
        "import matplotlib.pyplot as plt\n",
        "import re\n",
        "import nltk\n",
        "from sklearn import metrics\n",
        "from sklearn import tree\n",
        "from sklearn.metrics import mean_squared_error, confusion_matrix, classification_report, auc, accuracy_score, roc_curve\n",
        "from sklearn.naive_bayes import MultinomialNB, GaussianNB\n",
        "from sklearn.model_selection import train_test_split\n",
        "from sklearn.ensemble import RandomForestClassifier\n",
        "from sklearn.tree import DecisionTreeClassifier\n",
        "nltk.download('punkt')\n",
        "nltk.download('stopwords')\n",
        "from nltk.corpus.reader.plaintext import PlaintextCorpusReader\n",
        "from sklearn.feature_extraction.text import CountVectorizer\n",
        "from nltk.stem import PorterStemmer"
      ],
      "metadata": {
        "colab": {
          "base_uri": "https://localhost:8080/"
        },
        "id": "EJi3yMDYa7Zy",
        "outputId": "d7f5c1c3-7ef1-4d50-dbb6-002190dc00c5"
      },
      "execution_count": null,
      "outputs": [
        {
          "output_type": "stream",
          "name": "stdout",
          "text": [
            "[nltk_data] Downloading package punkt to /root/nltk_data...\n",
            "[nltk_data]   Package punkt is already up-to-date!\n",
            "[nltk_data] Downloading package stopwords to /root/nltk_data...\n",
            "[nltk_data]   Package stopwords is already up-to-date!\n"
          ]
        }
      ]
    },
    {
      "cell_type": "markdown",
      "source": [
        "## Problem 1.1 – Loading the Dataset"
      ],
      "metadata": {
        "id": "rtxoKmK4jlOH"
      }
    },
    {
      "cell_type": "code",
      "source": [
        "df = pd.read_csv('/content/drive/MyDrive/emails.csv')"
      ],
      "metadata": {
        "id": "rJxl71X_bLTe"
      },
      "execution_count": null,
      "outputs": []
    },
    {
      "cell_type": "code",
      "source": [
        "df.head()"
      ],
      "metadata": {
        "colab": {
          "base_uri": "https://localhost:8080/",
          "height": 206
        },
        "id": "hxcBnrAjbV62",
        "outputId": "efed26c4-f6b7-4014-b3f4-47048fe61445"
      },
      "execution_count": null,
      "outputs": [
        {
          "output_type": "execute_result",
          "data": {
            "text/plain": [
              "                                                text  spam\n",
              "0  Subject: naturally irresistible your corporate...     1\n",
              "1  Subject: the stock trading gunslinger  fanny i...     1\n",
              "2  Subject: unbelievable new homes made easy  im ...     1\n",
              "3  Subject: 4 color printing special  request add...     1\n",
              "4  Subject: do not have money , get software cds ...     1"
            ],
            "text/html": [
              "\n",
              "  <div id=\"df-1eecdc7f-4c35-498f-b1b2-43419828f446\">\n",
              "    <div class=\"colab-df-container\">\n",
              "      <div>\n",
              "<style scoped>\n",
              "    .dataframe tbody tr th:only-of-type {\n",
              "        vertical-align: middle;\n",
              "    }\n",
              "\n",
              "    .dataframe tbody tr th {\n",
              "        vertical-align: top;\n",
              "    }\n",
              "\n",
              "    .dataframe thead th {\n",
              "        text-align: right;\n",
              "    }\n",
              "</style>\n",
              "<table border=\"1\" class=\"dataframe\">\n",
              "  <thead>\n",
              "    <tr style=\"text-align: right;\">\n",
              "      <th></th>\n",
              "      <th>text</th>\n",
              "      <th>spam</th>\n",
              "    </tr>\n",
              "  </thead>\n",
              "  <tbody>\n",
              "    <tr>\n",
              "      <th>0</th>\n",
              "      <td>Subject: naturally irresistible your corporate...</td>\n",
              "      <td>1</td>\n",
              "    </tr>\n",
              "    <tr>\n",
              "      <th>1</th>\n",
              "      <td>Subject: the stock trading gunslinger  fanny i...</td>\n",
              "      <td>1</td>\n",
              "    </tr>\n",
              "    <tr>\n",
              "      <th>2</th>\n",
              "      <td>Subject: unbelievable new homes made easy  im ...</td>\n",
              "      <td>1</td>\n",
              "    </tr>\n",
              "    <tr>\n",
              "      <th>3</th>\n",
              "      <td>Subject: 4 color printing special  request add...</td>\n",
              "      <td>1</td>\n",
              "    </tr>\n",
              "    <tr>\n",
              "      <th>4</th>\n",
              "      <td>Subject: do not have money , get software cds ...</td>\n",
              "      <td>1</td>\n",
              "    </tr>\n",
              "  </tbody>\n",
              "</table>\n",
              "</div>\n",
              "      <button class=\"colab-df-convert\" onclick=\"convertToInteractive('df-1eecdc7f-4c35-498f-b1b2-43419828f446')\"\n",
              "              title=\"Convert this dataframe to an interactive table.\"\n",
              "              style=\"display:none;\">\n",
              "        \n",
              "  <svg xmlns=\"http://www.w3.org/2000/svg\" height=\"24px\"viewBox=\"0 0 24 24\"\n",
              "       width=\"24px\">\n",
              "    <path d=\"M0 0h24v24H0V0z\" fill=\"none\"/>\n",
              "    <path d=\"M18.56 5.44l.94 2.06.94-2.06 2.06-.94-2.06-.94-.94-2.06-.94 2.06-2.06.94zm-11 1L8.5 8.5l.94-2.06 2.06-.94-2.06-.94L8.5 2.5l-.94 2.06-2.06.94zm10 10l.94 2.06.94-2.06 2.06-.94-2.06-.94-.94-2.06-.94 2.06-2.06.94z\"/><path d=\"M17.41 7.96l-1.37-1.37c-.4-.4-.92-.59-1.43-.59-.52 0-1.04.2-1.43.59L10.3 9.45l-7.72 7.72c-.78.78-.78 2.05 0 2.83L4 21.41c.39.39.9.59 1.41.59.51 0 1.02-.2 1.41-.59l7.78-7.78 2.81-2.81c.8-.78.8-2.07 0-2.86zM5.41 20L4 18.59l7.72-7.72 1.47 1.35L5.41 20z\"/>\n",
              "  </svg>\n",
              "      </button>\n",
              "      \n",
              "  <style>\n",
              "    .colab-df-container {\n",
              "      display:flex;\n",
              "      flex-wrap:wrap;\n",
              "      gap: 12px;\n",
              "    }\n",
              "\n",
              "    .colab-df-convert {\n",
              "      background-color: #E8F0FE;\n",
              "      border: none;\n",
              "      border-radius: 50%;\n",
              "      cursor: pointer;\n",
              "      display: none;\n",
              "      fill: #1967D2;\n",
              "      height: 32px;\n",
              "      padding: 0 0 0 0;\n",
              "      width: 32px;\n",
              "    }\n",
              "\n",
              "    .colab-df-convert:hover {\n",
              "      background-color: #E2EBFA;\n",
              "      box-shadow: 0px 1px 2px rgba(60, 64, 67, 0.3), 0px 1px 3px 1px rgba(60, 64, 67, 0.15);\n",
              "      fill: #174EA6;\n",
              "    }\n",
              "\n",
              "    [theme=dark] .colab-df-convert {\n",
              "      background-color: #3B4455;\n",
              "      fill: #D2E3FC;\n",
              "    }\n",
              "\n",
              "    [theme=dark] .colab-df-convert:hover {\n",
              "      background-color: #434B5C;\n",
              "      box-shadow: 0px 1px 3px 1px rgba(0, 0, 0, 0.15);\n",
              "      filter: drop-shadow(0px 1px 2px rgba(0, 0, 0, 0.3));\n",
              "      fill: #FFFFFF;\n",
              "    }\n",
              "  </style>\n",
              "\n",
              "      <script>\n",
              "        const buttonEl =\n",
              "          document.querySelector('#df-1eecdc7f-4c35-498f-b1b2-43419828f446 button.colab-df-convert');\n",
              "        buttonEl.style.display =\n",
              "          google.colab.kernel.accessAllowed ? 'block' : 'none';\n",
              "\n",
              "        async function convertToInteractive(key) {\n",
              "          const element = document.querySelector('#df-1eecdc7f-4c35-498f-b1b2-43419828f446');\n",
              "          const dataTable =\n",
              "            await google.colab.kernel.invokeFunction('convertToInteractive',\n",
              "                                                     [key], {});\n",
              "          if (!dataTable) return;\n",
              "\n",
              "          const docLinkHtml = 'Like what you see? Visit the ' +\n",
              "            '<a target=\"_blank\" href=https://colab.research.google.com/notebooks/data_table.ipynb>data table notebook</a>'\n",
              "            + ' to learn more about interactive tables.';\n",
              "          element.innerHTML = '';\n",
              "          dataTable['output_type'] = 'display_data';\n",
              "          await google.colab.output.renderOutput(dataTable, element);\n",
              "          const docLink = document.createElement('div');\n",
              "          docLink.innerHTML = docLinkHtml;\n",
              "          element.appendChild(docLink);\n",
              "        }\n",
              "      </script>\n",
              "    </div>\n",
              "  </div>\n",
              "  "
            ]
          },
          "metadata": {},
          "execution_count": 61
        }
      ]
    },
    {
      "cell_type": "markdown",
      "source": [
        "### How many emails are in the dataset?"
      ],
      "metadata": {
        "id": "gpo9LyT_eHIB"
      }
    },
    {
      "cell_type": "code",
      "source": [
        "len(df)"
      ],
      "metadata": {
        "colab": {
          "base_uri": "https://localhost:8080/"
        },
        "id": "jREl8XuZboO7",
        "outputId": "ebb3cbf0-8c4f-4c4c-a51d-34da31ffe9b1"
      },
      "execution_count": null,
      "outputs": [
        {
          "output_type": "execute_result",
          "data": {
            "text/plain": [
              "5728"
            ]
          },
          "metadata": {},
          "execution_count": 62
        }
      ]
    },
    {
      "cell_type": "markdown",
      "source": [
        "Answer: We can see that length of the dataset is 5728 i.e it has 5728 rows. Since each row represents an email, there are 5728 emails in the dataset. "
      ],
      "metadata": {
        "id": "3zxo0SkrbAbN"
      }
    },
    {
      "cell_type": "markdown",
      "source": [
        "### How many of the emails are spam?"
      ],
      "metadata": {
        "id": "6lJIsg-IeJwb"
      }
    },
    {
      "cell_type": "code",
      "source": [
        "len(df[df['spam'] == 1])"
      ],
      "metadata": {
        "colab": {
          "base_uri": "https://localhost:8080/"
        },
        "id": "BZCK5OxRbrO5",
        "outputId": "10cedaae-65db-44a6-e895-17a1808a84a1"
      },
      "execution_count": null,
      "outputs": [
        {
          "output_type": "execute_result",
          "data": {
            "text/plain": [
              "1368"
            ]
          },
          "metadata": {},
          "execution_count": 63
        }
      ]
    },
    {
      "cell_type": "markdown",
      "source": [
        "Answer: A one in 'spam' column represents that an email is spam. Hence there are 1368 spam emails in the dataset. "
      ],
      "metadata": {
        "id": "1zTz7OSabN5I"
      }
    },
    {
      "cell_type": "markdown",
      "source": [
        "### Which word appears at the beginning of every email in the dataset? Respond as a lower-case word with punctuation removed."
      ],
      "metadata": {
        "id": "wnIVg7wXeNq4"
      }
    },
    {
      "cell_type": "code",
      "source": [
        "df.head()"
      ],
      "metadata": {
        "colab": {
          "base_uri": "https://localhost:8080/",
          "height": 206
        },
        "id": "UlAf1MDjbuml",
        "outputId": "6aa69332-6351-4195-96c6-a540f6244e8d"
      },
      "execution_count": null,
      "outputs": [
        {
          "output_type": "execute_result",
          "data": {
            "text/plain": [
              "                                                text  spam\n",
              "0  Subject: naturally irresistible your corporate...     1\n",
              "1  Subject: the stock trading gunslinger  fanny i...     1\n",
              "2  Subject: unbelievable new homes made easy  im ...     1\n",
              "3  Subject: 4 color printing special  request add...     1\n",
              "4  Subject: do not have money , get software cds ...     1"
            ],
            "text/html": [
              "\n",
              "  <div id=\"df-68b9bd97-0cf7-4304-ad8f-f551c0398747\">\n",
              "    <div class=\"colab-df-container\">\n",
              "      <div>\n",
              "<style scoped>\n",
              "    .dataframe tbody tr th:only-of-type {\n",
              "        vertical-align: middle;\n",
              "    }\n",
              "\n",
              "    .dataframe tbody tr th {\n",
              "        vertical-align: top;\n",
              "    }\n",
              "\n",
              "    .dataframe thead th {\n",
              "        text-align: right;\n",
              "    }\n",
              "</style>\n",
              "<table border=\"1\" class=\"dataframe\">\n",
              "  <thead>\n",
              "    <tr style=\"text-align: right;\">\n",
              "      <th></th>\n",
              "      <th>text</th>\n",
              "      <th>spam</th>\n",
              "    </tr>\n",
              "  </thead>\n",
              "  <tbody>\n",
              "    <tr>\n",
              "      <th>0</th>\n",
              "      <td>Subject: naturally irresistible your corporate...</td>\n",
              "      <td>1</td>\n",
              "    </tr>\n",
              "    <tr>\n",
              "      <th>1</th>\n",
              "      <td>Subject: the stock trading gunslinger  fanny i...</td>\n",
              "      <td>1</td>\n",
              "    </tr>\n",
              "    <tr>\n",
              "      <th>2</th>\n",
              "      <td>Subject: unbelievable new homes made easy  im ...</td>\n",
              "      <td>1</td>\n",
              "    </tr>\n",
              "    <tr>\n",
              "      <th>3</th>\n",
              "      <td>Subject: 4 color printing special  request add...</td>\n",
              "      <td>1</td>\n",
              "    </tr>\n",
              "    <tr>\n",
              "      <th>4</th>\n",
              "      <td>Subject: do not have money , get software cds ...</td>\n",
              "      <td>1</td>\n",
              "    </tr>\n",
              "  </tbody>\n",
              "</table>\n",
              "</div>\n",
              "      <button class=\"colab-df-convert\" onclick=\"convertToInteractive('df-68b9bd97-0cf7-4304-ad8f-f551c0398747')\"\n",
              "              title=\"Convert this dataframe to an interactive table.\"\n",
              "              style=\"display:none;\">\n",
              "        \n",
              "  <svg xmlns=\"http://www.w3.org/2000/svg\" height=\"24px\"viewBox=\"0 0 24 24\"\n",
              "       width=\"24px\">\n",
              "    <path d=\"M0 0h24v24H0V0z\" fill=\"none\"/>\n",
              "    <path d=\"M18.56 5.44l.94 2.06.94-2.06 2.06-.94-2.06-.94-.94-2.06-.94 2.06-2.06.94zm-11 1L8.5 8.5l.94-2.06 2.06-.94-2.06-.94L8.5 2.5l-.94 2.06-2.06.94zm10 10l.94 2.06.94-2.06 2.06-.94-2.06-.94-.94-2.06-.94 2.06-2.06.94z\"/><path d=\"M17.41 7.96l-1.37-1.37c-.4-.4-.92-.59-1.43-.59-.52 0-1.04.2-1.43.59L10.3 9.45l-7.72 7.72c-.78.78-.78 2.05 0 2.83L4 21.41c.39.39.9.59 1.41.59.51 0 1.02-.2 1.41-.59l7.78-7.78 2.81-2.81c.8-.78.8-2.07 0-2.86zM5.41 20L4 18.59l7.72-7.72 1.47 1.35L5.41 20z\"/>\n",
              "  </svg>\n",
              "      </button>\n",
              "      \n",
              "  <style>\n",
              "    .colab-df-container {\n",
              "      display:flex;\n",
              "      flex-wrap:wrap;\n",
              "      gap: 12px;\n",
              "    }\n",
              "\n",
              "    .colab-df-convert {\n",
              "      background-color: #E8F0FE;\n",
              "      border: none;\n",
              "      border-radius: 50%;\n",
              "      cursor: pointer;\n",
              "      display: none;\n",
              "      fill: #1967D2;\n",
              "      height: 32px;\n",
              "      padding: 0 0 0 0;\n",
              "      width: 32px;\n",
              "    }\n",
              "\n",
              "    .colab-df-convert:hover {\n",
              "      background-color: #E2EBFA;\n",
              "      box-shadow: 0px 1px 2px rgba(60, 64, 67, 0.3), 0px 1px 3px 1px rgba(60, 64, 67, 0.15);\n",
              "      fill: #174EA6;\n",
              "    }\n",
              "\n",
              "    [theme=dark] .colab-df-convert {\n",
              "      background-color: #3B4455;\n",
              "      fill: #D2E3FC;\n",
              "    }\n",
              "\n",
              "    [theme=dark] .colab-df-convert:hover {\n",
              "      background-color: #434B5C;\n",
              "      box-shadow: 0px 1px 3px 1px rgba(0, 0, 0, 0.15);\n",
              "      filter: drop-shadow(0px 1px 2px rgba(0, 0, 0, 0.3));\n",
              "      fill: #FFFFFF;\n",
              "    }\n",
              "  </style>\n",
              "\n",
              "      <script>\n",
              "        const buttonEl =\n",
              "          document.querySelector('#df-68b9bd97-0cf7-4304-ad8f-f551c0398747 button.colab-df-convert');\n",
              "        buttonEl.style.display =\n",
              "          google.colab.kernel.accessAllowed ? 'block' : 'none';\n",
              "\n",
              "        async function convertToInteractive(key) {\n",
              "          const element = document.querySelector('#df-68b9bd97-0cf7-4304-ad8f-f551c0398747');\n",
              "          const dataTable =\n",
              "            await google.colab.kernel.invokeFunction('convertToInteractive',\n",
              "                                                     [key], {});\n",
              "          if (!dataTable) return;\n",
              "\n",
              "          const docLinkHtml = 'Like what you see? Visit the ' +\n",
              "            '<a target=\"_blank\" href=https://colab.research.google.com/notebooks/data_table.ipynb>data table notebook</a>'\n",
              "            + ' to learn more about interactive tables.';\n",
              "          element.innerHTML = '';\n",
              "          dataTable['output_type'] = 'display_data';\n",
              "          await google.colab.output.renderOutput(dataTable, element);\n",
              "          const docLink = document.createElement('div');\n",
              "          docLink.innerHTML = docLinkHtml;\n",
              "          element.appendChild(docLink);\n",
              "        }\n",
              "      </script>\n",
              "    </div>\n",
              "  </div>\n",
              "  "
            ]
          },
          "metadata": {},
          "execution_count": 64
        }
      ]
    },
    {
      "cell_type": "markdown",
      "source": [
        "By just printing the first five rows of the dataset we can see that the first word is \"Subject\". However we need to make sure that all the emails have this word as first word. "
      ],
      "metadata": {
        "id": "w_YIjrPvbd8V"
      }
    },
    {
      "cell_type": "code",
      "source": [
        "df_clean = df.copy()"
      ],
      "metadata": {
        "id": "BUduwbeheWu7"
      },
      "execution_count": null,
      "outputs": []
    },
    {
      "cell_type": "code",
      "source": [
        "# Converting the words into lower case\n",
        "df_clean['text'] = df_clean['text'].apply(lambda x: x.lower())"
      ],
      "metadata": {
        "id": "sLuF0uXNdoSH"
      },
      "execution_count": null,
      "outputs": []
    },
    {
      "cell_type": "code",
      "source": [
        "# removing the punctuations\n",
        "df_clean['text'] = df_clean['text'].str.replace('[{}]'.format(string.punctuation), '')"
      ],
      "metadata": {
        "colab": {
          "base_uri": "https://localhost:8080/"
        },
        "id": "j5QCWJ2ZesGI",
        "outputId": "196321be-03ad-4fb4-ede5-60e14cc21223"
      },
      "execution_count": null,
      "outputs": [
        {
          "output_type": "stream",
          "name": "stderr",
          "text": [
            "/usr/local/lib/python3.7/dist-packages/ipykernel_launcher.py:2: FutureWarning: The default value of regex will change from True to False in a future version.\n",
            "  \n"
          ]
        }
      ]
    },
    {
      "cell_type": "code",
      "source": [
        "# splitting the sentence into words and get the first word in all emails\n",
        "first_word = df_clean['text'].apply(lambda x: x.split(' ')[0])"
      ],
      "metadata": {
        "id": "3VDZVAtqdCks"
      },
      "execution_count": null,
      "outputs": []
    },
    {
      "cell_type": "code",
      "source": [
        "first_word"
      ],
      "metadata": {
        "colab": {
          "base_uri": "https://localhost:8080/"
        },
        "id": "0sw6I9KdfEiB",
        "outputId": "32377553-44af-4448-b135-84d8ec80d243"
      },
      "execution_count": null,
      "outputs": [
        {
          "output_type": "execute_result",
          "data": {
            "text/plain": [
              "0       subject\n",
              "1       subject\n",
              "2       subject\n",
              "3       subject\n",
              "4       subject\n",
              "         ...   \n",
              "5723    subject\n",
              "5724    subject\n",
              "5725    subject\n",
              "5726    subject\n",
              "5727    subject\n",
              "Name: text, Length: 5728, dtype: object"
            ]
          },
          "metadata": {},
          "execution_count": 69
        }
      ]
    },
    {
      "cell_type": "code",
      "source": [
        "first_word.value_counts()"
      ],
      "metadata": {
        "colab": {
          "base_uri": "https://localhost:8080/"
        },
        "id": "-XB3rXMMfGBK",
        "outputId": "3fb35b35-46da-485b-aebb-142200bbff80"
      },
      "execution_count": null,
      "outputs": [
        {
          "output_type": "execute_result",
          "data": {
            "text/plain": [
              "subject    5728\n",
              "Name: text, dtype: int64"
            ]
          },
          "metadata": {},
          "execution_count": 70
        }
      ]
    },
    {
      "cell_type": "markdown",
      "source": [
        "Answer: Since the count of word 'subject' is 5728 which is same as the length of the dataset, the word 'subject' appears at the beginning of each email"
      ],
      "metadata": {
        "id": "qS_cTn2MfPCl"
      }
    },
    {
      "cell_type": "markdown",
      "source": [
        "### Could a spam classifier potentially benefit from including the frequency of the word that appears in every email?\n",
        "\n",
        "Yes -- the number of times the word appears might help us differentiate spam from ham.\n",
        "\n",
        "No -- the word appears in every email so this variable would not help us differentiate spam from ham."
      ],
      "metadata": {
        "id": "ql5kQjdifeQk"
      }
    },
    {
      "cell_type": "code",
      "source": [
        "# getting the longest email\n",
        "max(df_clean['text'], key=len)"
      ],
      "metadata": {
        "colab": {
          "base_uri": "https://localhost:8080/",
          "height": 139
        },
        "id": "t6cNVRiHfmU6",
        "outputId": "b51b5474-b91a-4a75-e58d-838906b07094"
      },
      "execution_count": null,
      "outputs": [
        {
          "output_type": "execute_result",
          "data": {
            "text/plain": [
              "'subject from the enron india newsdesk  april 27 th newsclips  fyi news articles from indian press                         forwarded by sandeep kohli  enron  development on  04  27  2001 08  24 am                             nikita varma  04  27  2001 07  51 am  to  nikita varma  enron  development  enron  development  cc   bcc  sandeep kohli  enron  development   subject  from the enron india newsdesk  april 27 th newsclips  friday apr 27 2001  http    www  economictimes  com  today  cmo 3  htm  dpc board empowers md to cancel mseb contract  friday apr 27 2001  http    www  economictimes  com  today  27 compl 1  htm  mseb pays rs 134 cr under  protest  to dpc  friday  april 27  001   enron india md authorised to terminate ppa  friday  april 27  2001  http    www  financialexpress  com  fe 20010427  topl  html  foreign lenders slam brakes on disbursements to dpc  sanjay jog  raghu mohan  global banks comfortable with enron pull  out  friday  april 27  2001  http    www  indian  express  com  ie 20010427  nat 23  html  enron  dabhol chief gets powers to end deal with the mseb  friday  april 27  2001  http    www  the  hindu  com  stories  0227000 d  htm  offer of renegotiation  too late   enron  by mahesh vijapurkar  friday  27 april 2001  http    www  timesofindia  com  today  27 home 2  htm  enron ready to pull out  but lenders say wait  friday  april 27  2001  http    www  hindubusinessline  com  stories  142756 dh  htm  dpc board authorises md to issue ppa termination notice  friday  april 27  2001   enron testing maharashtra  s nerves  t n raghunatha  friday  april 27  2001  http    www  telegraphindia  com   enron signal to switch off dabhol power  friday  april 27  2001   enron threatens to pull out  friday  april 27  2001    dpc may not wind up   friday  april 27  2001   enron offers  no comment  on renegotiation  h s rao  http    www  afternoondc  com    enron  s on    state govt  to renegotiate dabhol power project  by hubert vaz  the economic times  friday apr 27 2001  dpc board empowers md to cancel mseb contract  the enron power project crisis on thursday deepened with the board of dabhol  power company authorising the management to issue a termination notice to the  maharashtra state electricity board even while international lenders to the  project asked enron to renegotiate power purchase agreement signed with the  mseb   the decision to authorise managing director neil mcgregor to issue  notice of  termination on the contract to sell 740 mw of power  was taken after the  board prevented mseb from voting on the ground that it was an interested  party  the decision was taken with six votes in favour and the single  opposition vote was cast by idbi  sources said   according to reports  financial institutions such as anz investment bank   credit suisse first boston  citibank  abn  amro and the state bank of india  have on wednesday advised enron against terminating its ppa with mseb  mseb  chairman vinay bansal  who with two other directors attended the meeting on  wednesday representing maharashtra \\x01  s 15 per cent stake in the near  3  billion  project  said   the indian side told them that it would be unfortunate if  enron broke the contract   while bansal declined comment on the board  decision  the sources said the indian side had expressed its interest to  holds talks on the issue rather than terminating the project and there were  possibilities of a fresh power purchase agreement between the company and the  state   pti   the economic times  friday apr 27 2001  mseb pays rs 134 cr under  protest  to dpc  despite the threat of a possible termination notice hanging on its head   maharashtra state electricity board on thursday made a  protest payment  of  rs 134 crore disputed amount  towards march bill of rs 146  64 crore to  dabhol   we were ready with the payment on wednesday itself  but dpc  officials could not collect the cheque due to the statewide bandh   a senior  mseb official said   we have disputed payment of rs 12  64 crore and it would  be now taken up at the disputes resolution forum  of which enron india  managing director k wade cline and krishna rao are members   mseb sources  said   last week  dpc had dashed off a communication to the government and mseb that  it would not accept  protest payments  anymore  cline had said the energy  major shall treat such payments as an election to pay the sums  which mseb in  fact owed dpc in full and that the company would also not recognise the   purported protest or reservation   mseb had paid a rs 113  5 crore february  bill in protest last month  on april 23 last  both domestic and international  lenders of dpc had met in london and held exhaustive discussions the  multinational  s move to issue a termination notice to mseb and state  government   pti   business standard  friday  april 27  001  enron india md authorised to terminate ppa  the board of the enron  promoted dabhol power company  dpc   at its meeting in  london on wednesday  authorised the managing director of enron india to issue  a notice for terminating the power purchase agreement to the maharashtra  state electricity board and the state government  \\x01  the board has authorised  wade cline to serve the termination notice  however  this does not mean that  the termination notice will be served immediately  it is only an enabling  provision and will be used only if the situation arises  \\x01 8 a state government  source told business standard from london  he said dpc was under pressure  from its lenders   the dpc spokesperson here refused to comment on the issue  the hardening of  the board \\x01  s stand is in sharp contrast to the advice of dpc  s lenders  who  had warned enron not to precipitate matters by issuing a termination notice   the lenders had arrived at a consensus that the termination notice need not  be served at this stage  serving of the notice requires a nod from the  lenders  who have an exposure of about  2 billion in the project  sources  said given the lenders  strong opposition to termination of the contract  the  enron board  s  enabling resolution  did not have much significance beyond  conveying a hardening of its stand with regard to the current imbroglio  the  maharashtra chief minister had warned enron not to scuttle the process of  crisis resolution by issuing a termination notice  the state government is to  nominate an expert group to renegotiate the terms of the dabhol contract   enron holds 65 per cent in dpc  while us  based ge and bechtel hold 10 per  cent each  the balance 15 per cent is held by mseb through a special purpose  vehicle  maharashtra power development corporation  the mseb representatives  were not allowed to vote at the meeting since they were an interested party   the idbi representative protested against the board  s decision  the meeting  was attended by state energy secretary vm lal  the meeting was held against  the backdrop of a dispute between mseb and dpc over payment of bills   after mseb failed to pay rs 102 crore towards the december 2000 bill  dpc  invoked the state government  s guarantee and then the union government  s  counter guarantee  when payment of the rs 127  crore january bill became  overdue  dpc again invoked the state government  s guarantee  mseb retaliated  on january 28  2001 by slapping a rs 401  crore penalty for non  supply of  electricity at adequate levels  it demanded that dpc adjust the bills against  this penalty   this stand of mseb was explained to dpc at the board meeting    a state government official said  the centre also supported mseb  s stand and  refused to honour the counter guarantee  the power company then invoked the  political force majeure clause  a process of conciliation and arbitration  between the centre and dpc is currently on   the financial express  friday  april 27  2001  foreign lenders slam brakes on disbursements to dpc  sanjay jog  raghu mohan  global banks comfortable with enron pull  out  lenders to the dabhol power company  dpc  are a sharply divided lot   international lenders  in direct contrast to the stand taken by local ones  led by the the industrial develoment bank of india  idbi   are categorical  that additional assistance to dpc \\x01  s phase  ii will be held in abeyance despite  the completion of 92 per cent of the project work  the stage is also set for a  preliminary termination notice to be served by dpc to the maharashtra state  electricity board  mseb  within the next four weeks  this follows the  authorisation given to enron india \\x01  s managing director k wade cline and dpc  president  ceo neil mcgregor to serve the termination notice  and transfer  notices to mseb  following wednesday \\x01  s dpc board meeting in london   the essence of the message from the international lenders following the  london meeting with dpc board is  emotions do not work  contractual  obligations and payments have to be met  we are convinced that the mseb has  failed to meet its obligations  there is no point in enron continuing with  the project and the company should get out of it  the structuring of dpc \\x01  s  debt has created two classes of lenders  in phase  i  international lenders  are covered by a sovereign guarantee while in phase  ii  no lender is   however  all lenders have a parri passu charge  making attachment of assets a  messy affair   sources in international banks were quick to point out that local lenders to  phase  ii of the project are worried that an awry dpc project will affect  their interests more given that they have no security \\x01  other than assets \\x01   like a sovereign cover  \\x01  it was this desperation that made local lenders like  idbi slash the interest rates a few months back to 16  5 per cent from 21  5  per cent  \\x01 8 a leading foreign banker pointed out  three points that were made  clear and stressed in no uncertain terms by international lenders were  a   there are contractual obligations b  mseb was not punctual in its payments to  dpc and c  mseb adopted a confrontational position by slapping a rs 401 crore  rebate charge on dpc for misdeclaration and default on the availability of  power   while local lenders led by idbi \\x01  with mseb parroting the same \\x01  were of the  view that the current situation is a temporary one  international lenders  were steadfast that pulling out of the project is the only way out  this is  despite the stance taken by idbi and mseb that authorisation for termination  given to mr cline and mr mcgregor was not called for  international bankers  pointed out that they will now have to look at the issue of charges and  protection for their loans in the event of the power project being scrapped  in its present form  the points of contention are  a  that phase  i of dpc is  backed by a sovereign guarantee b  phase  ii is not and c  to the extent that  phase  ii is covered by assets  cancellation of phase  ii may see all assets \\x01   even those under phase  i \\x01  getting attached  therefore  an examination on the  segregation of assets under phase  i and phase  ii is now warranted   pti adds  in a significant move  dpc board has empowered its management to  sever power supply agreement with mseb  a move that could inflict a financial  liability of about rs 2840 crore on the centre  a decision to authorise dpc  president neil mcgregor to issue a termination notice to mseb for sale of  power was taken by the board at its meeting on wednesday   the indian express  friday  april 27  2001  enron  dabhol chief gets powers to end deal with the mseb  the board of dabhol power company  a subsidiary of houston  based enron corp   has decided to warn the maharashtra state electricity board  mseb  that it  intends to pull the plug on its guhagar  based project  in a board meeting held  in london on wednesday  the board decided to authorise dpc president and ceo  neil mcgregor and enron india \\x01  s managing director k wade cline to serve a  \\x01  \\x01  preliminary \\x01  \\x01  termination notice for sale of power to the mseb within the  next four weeks  the dabhol project has been mired in disputes since mseb  began missing payments last year  mseb owes dabhol power  48 million for  power delivered in december and january  the payment ran into a dispute after  mseb slapped penalty notices of rs 401 crore on dpc for its failure to supply  power within three hours of the demand being placed  but mseb has paid  24  million for february  and a payment of  31 million was made for march on  thursday   the  3 billion dabhol project is the largest foreign investment made in india  to date  issuing the preliminary termination notice could enable dabhol to  suspend deliveries as it negotiates payment disputes  while a preliminary  termination notice is the first of three steps that could potentially lead to  the abandonment of the project by enron  analysts have described the decision  as a \\x01  \\x01  procedural \\x01  \\x01  move consistent with dpc \\x01  s negotiating strategy to  recover overdue payments from the mseb   after the company issues the preliminary termination notice  step two would  be an official termination notice  and step three would be a notice that the  company is surrendering control of the project  if the project is terminated   the government of india will have to take a hit of  300 million besides  paying bills of rs 1  500 crore for the next one year to enron as penalty   \\x01  \\x01  our  centre \\x01  s  liability  if dabhol power project is terminated  would be  one year \\x01  s electricity bill and a termination fee of  300 million  \\x01  \\x01  power  secretary a k basu said  \\x01  \\x01  contractually  the centre will have to pay one year \\x01   s electricity bill  totalling at present prices about rs 1  400  1  500 crore   and take over dpc \\x01  s debt  which stands at around  300 million  if the project  was terminated  \\x01  \\x01  basu said in delhi  dabhol power is in the process of  completing the second phase of the 2  184  megawatt power  plant project  which  is 95 per cent through   while the international lenders to the project are pressurising the company  to get out of the project  indian lenders  led by idbi  are asking the  company to reconsider its decision on its termination notice  during the  meeting in london  mseb which holds a 15 per cent stake in the project  had  strongly opposed dpc \\x01  s move to authorise cline and mcgregor to issue notices  for termination   mseb chairman vinay bansal and technical director prem paunikar \\x01  both  directors on the dpc board \\x01  and the state principal secretary  energy  vm  lal  an invitee to the board  raised the issue at the board meeting in  london  mseb claimed that dpc was needlessly \\x01  \\x01  threatening \\x01  \\x01  to issue various  arbitration notices and thereby interpreting the clauses of ppa in  isolation  in recent weeks  dabhol has raised the stakes in its spat with the  mseb  delivering a notice of political force majeure to maharashtra \\x01  a step  typically invoked to dissolve a contract in case of an emergency like a war   coup  or a similar radical political event  in this case  dpc \\x01  s move was  viewed as a threat to stop providing electricity  dpc has come under fire  because of the relatively high cost of its power  critics object to the  company charging rs 7  1 a kilowatt  hour for its power  compared with around  rs 1  5 a kilowatt  hour charged by other suppliers   the hindu  friday  april 27  2001  offer of renegotiation  too late   enron  by mahesh vijapurkar  mumbai  april 26  the enron  sponsored dabhol power company  which last night  authorised its local management to issue a notice of termination of its power  purchase agreement  ppa  with the maharashtra state electricity board  has  decided to keep a stiff upper lip  this  in turn  has stoked speculation that  the switching off of power from its phase i plant was imminent  while in  reality  a lengthy procedure has to be followed as prescribed within the ppa   as one source familiar with the ppa told the hindu    it is not sudden death  of the project   and in all probability  the dpc  vexed with the  developments  including sharp and pointed observations by the godbole  committee  has chosen to only arm itself with a serious option    this would  only eventually come into effect  it is not an overnight operation and a lot  of legal work is involved    apparently  the dpc intends to do some  arm  twisting   at the board of directors meeting in london  which maharashtra was initially  disinclined to attend but later used the forum to put across its contentions  on the project  the dpc squarely told the mseb nominees on the board that the  offer of renegotiation had come rather   too late    it also said it did not  see any room for optimism about the outcome  it did not  however  rule out  the option of talks  thus underscoring the possibility that the decision to  authorise termination was a new weapon   the maharashtra chief minister  mr  vilasrao deshmukh  had hoped that dpc  would not take any   harsh step   which would cause lot of damage to the  interests of both the independent power producer and the government and today  he expressed his dismay  in fact  the mandate of the team that went  on the  strength of its stake in the dpc  was to put across the idea that negotiation  was the requirement and not confrontation   echo in ls  the enron issue also echoed in the lok sabha today where the power minister   mr  suresh prabhu  said that scrapping of the agreement would cost the centre  rs  2  840 crores  whose liability in the project agreement was limited  the  centre  s liability in case of termination is one year  s electricity bill and  a termination fee of  300 million   blow to fis  the termination could prove to be a serious blow to the indian financial  institutions  fis  which  under the leadership of the idbi  were trying to  convince the other lenders of the project against the notice  the exposure of  indian fis in the project is understood to be not covered by any guarantee  either of the centre or the state   the times of india  friday  27 april 2001  enron ready to pull out  but lenders say wait  the dabhol power company board  which met on wednesday in london  authorised  the company management to issue a termination notice to the maharashtra state  electricity board  the company  however  may not pull out of the project yet   considering its lenders  who met on monday  opposed such a move and favoured  renegotiations  sources present during both the meetings said that though  foreign lenders supported enron on the termination issue  domestic financial  institutions  led by the industrial development bank of india  prevailed over  the deliberations to oppose any such drastic move  enron needs the lenders   consent to file a pre  termination notice for pulling out from the project   the decision to empower dpc chief wade cline to issue a termination notice  was taken with six votes in favour against a single idbi vote against such a  move   another significant development during the entire proceedings was that the  financial institutions made it clear that further funding of phase ii of the  project will depend on the government of india assuring payment mechanisms   institutions are yet to disburse about 30 per cent of the sanctioned package   which is crucial for completing the phase ii expansion project    the board  has given powers to wade cline to issue a pre  termination notice  but the  meeting quite unanimously felt the need of the hour is not to terminate the  project but to initiate serious re  negotiation proceedings    said mseb  chairman vinay bansal  who attended the board meeting    mseb presented their  views to the board members and it was understood by enron which also included  the rs 401 crore penalty issue which is heading for arbitration proceedings     we have also made it clear that the tariff structure of enron is quite high  and a downward revision of tariffs is unavoidable   bansal added     they cannot issue a termination notice without our consent since our  exposure in the project is quite large and the lenders should approve any  plans in that direction    said a top banker who was present during the  lenders  meet    there is a general consensus that the project must be  completed and the proposal to terminate the ppa should be kept in abeyance     he added  the global arrangers for the dpc include anz investment bank   credit suisse first boston  abn  amro  citibank and the state bank of india   where all these parties conducted separate meetings with the company  officials  however  some bankers said the company can file a termination  notice even if one lender with a minimum 5 per cent exposure on the project  favours such proceedings   meanwhile  in a clear reversal of roles  maharashtra chief minister vilasrao  deshmukh said that the state government was not keen on terminating the ppa     we will ask them to refrain from taking any such harsh steps since that  would be bad news for all of us  including dpc    deshmukh said  deshmukh was  echoing union power minister suresh prabhu  s sentiments  who said that the  government wanted an amicable settlement of the payment row  he  however   added that termination of the project would not hurt foreign investments  and  dismissed warnings by analysts that winding up the  2  9 billion project would  be a blow to india  s efforts to woo foreign investors   the dpc has already slapped one conciliation notice on the centre and three  arbitration notices on the state government over non  payment of dues  amounting to rs 213 crore and interest towards the bills due for december  2000 and january 2001  meanwhile  mseb officials said in mumbai that the  march bills amounting to rs 134 crore was paid on thursday as protest  payment  despite the dispute over the amount   when asked on the future course of action  bansal said it was up to the dpc   the hindu businessline  friday  april 27  2001  dpc board authorises md to issue ppa termination notice  the board of directors of dabhol power company  dpc  has authorised the  managing director  mr neil mcgregor  to issue the notice of intent to  terminate its power purchase agreement  ppa  with the maharashtra state  electricity board  mseb    at an appropriate time    the decision was taken  at a board meeting held in london yesterday    while mseb  which is an   interested party   was not allowed to vote  it made a presentation  clarifying its stand on the matter    a senior state government official  said   the resolution to authorise the management to issue the termination notice  was carried by six votes to one  idbi voted against the decision  the  official said  the serving of the preliminary termination notice will lead to  a six  month   suspension period    according to clause 17  8 of the  termination procedure  of the ppa    following the giving of a preliminary  termination notice  the parties shall consult for a period of six months  or  such longer period as they may agree  as to what step shall be taken with a  view to mitigating the consequences of the relevant event having regard to  all the circumstances       idbi and state bank of india  the principal indian lenders  had earlier  persuaded the overseas lenders to hold their consent to the termination  notice for some more time  at least one lender has to consent for the company  to serve termination notice  it is understood that overseas lenders are in  favour of termination of the project and are prepared to consent  however   domestic lenders are worried about the security of their advances if the ppa  is abandoned mid  way   according to institutional sources  indian lenders are trying to get all the  parties concerned to thrash out outstanding issues  the maharashtra and  central governments too are in favour of a conciliation  mr vilasrao  deshmukh  chief minister of maharashtra  yesterday went on record that the  state did not want the project terminated  mr yashwant sinha  union finance  minister  is also understood to be of the same opinion    the dpc will now  have to decide what is the  appropriate time  to serve the notice    the  official said  mseb pays rs 134 crore  meanwhile  mseb has paid dpc rs 134  crore towards its march 2001 bill  mseb officials confirmed that the bill was  paid  in protest   today morning    they  dpc  had billed us for an amount of  rs 146 crore  we do not agree with some of the items included    a senior  mseb official said   the pioneer  friday  april 27  2001  enron testing maharashtra  s nerves  t n raghunatha  dabhol power company  dpc  has begun to put fresh pressure on the maharashtra  state electricity board  mseb   the maharashtra state government and the  centre for an early resolution to the prolonged dispute between them  if the  dpc board of directors  decision to authorise its managing director to serve  a contract termination notice to the mseb is any indication   the dpc board  in its meeting in london on wednesday  empowered the company  management to sever its power supply agreement with mseb  a move that could  inflict a financial liability of rs 2  840 crore on the centre  the decision  to authorise the dpc management to issue a termination notice to mseb was  taken by a vote of six to one after the maharasthra government  representatives were prevented from voting on the ground of  interested  party    when contacted  the company  s mumbai  based spokesperson  mr jimmy mogal   declined to comment on the reports about the decision taken by the dpc board    we have nothing to say on the reports emanating from london  we will express  our views after a few days   he said  however  maharashtra chief minister  vilasrao deshmukh on thursday termed the dpc board  s decision as   unfortunate    we have already requested the company not to take any harsh  decision   mr deshmukh said in mumbai   official sources in the state energy ministry interpreted the dpc board  s  decision as a pressure tactic employed by the enron subsidiary to force the  mseb to clear the pending power bills without any further delay  through its  tough posture  the dpc wants to make its position stronger before it can  formally agree for re  negotiations with the mseb  the centre and the state  government for cutting the price of power supplied by it to the state  electricity board  the sources said that the dpc  s reported decision to  authorise its managing director to stop electricity supply to the mseb did  not mean that the enron subsidiary would actually go ahead with the scrapping  of the power contract with the mseb    if anything  the dpc  s reported decision is to mount additional pressure on  the mseb for clearance of pending power bills and put itself in a stronger  position in settling its dispute with the mseb  as part of its plan to arm  itself with powers to break a contract in case situation goes beyond its  control  the dpc had recently served a political force majeure to the mseb   the centre and the state government   the sources said  not surprisingly  the  dpc  s london decision comes on the heels of the maharashtra government  s  decision to set up a high  level committee  comprising representatives of the  mseb  the centre and the state government to re  negotiate with the enron  s  subsidiary company for reducing the cost of power supplied to the state  electricity board  meanwhile  amidst the threat of a possible termination  notice hanging on its head  the mseb on thursday made a  protest payment  of  the rs 134 crore disputed amount towards march bill of rs 146  64 crore to dpc   riday  april 27  the telegraph  friday  april 27  2001  enron signal to switch off dabhol power  enron today took the first decisive step out of the controversy  ridden dabhol  power company when it won an authorisation from the company \\x01  s board to stop  sale of power to maharashtra state electricity board  mseb    the meeting of the company  of which the houston  based energy giant holds 65  per cent and the mseb 15 per cent  was attended by state energy secretary v m  lal and mseb technical director p paunikar and it came days after its lenders  discussed payment problems and a possible termination  the centre \\x01  s liability   if enron decides to snap the agreement  will be a year \\x01  s power bill and a  termination fee of  300 million  however  the company will have to wait for  six months from the day it serves the notice before it pulls the plug  the  centre shrugged off the move  saying there would not be any adverse effect on  foreign investment in power if enron walks out  \\x01  we do not see fdi inflows  into the power sector being hit  \\x01 8 power minister suresh prabhu said  mseb  officials said the ball is now in the court of dpc  which said its corporate  policy did not allow it to comment on proceedings at board meetings  the  decision coincided with a rs 134  crore \\x01  protest payment \\x01  by the cash  strapped  power board as part of the march bill worth rs 146  64 crore   there was speculation that mseb coughed up the amount to cool frayed tempers  at enron \\x01  s hub in houston  and because it was rattled by the sudden turn of  events in the past few days during which the dispute had come to a head  mseb  officials brushed away the allusions  saying the cheque was ready on  wednesday but could not be handed over to dpc because of the state  wide  bandh  \\x01  we have a disputed payment of rs 12  64 crore  which will be taken up  at the dispute  resolution forum  \\x01 8 a board official said  last week  dpc told  the state government and mseb it would no longer accept protest payments in a  move to fortify its legal position   mseb officials say bechtel and general electric  the other partners who hold  around 20 per cent in dpc  are willing to go along with enron corp in  terminating the deal but financial institutions such as idbi are not game  because it puts their loans at risk  investments made by indian institutions  are not covered under the centre \\x01  s and state \\x01  s counter  guarantees  unlike  those made by international lenders  maharashtra chief minister vilasrao  deshmukh called enron \\x01  s decision unfortunate  \\x01  we had told state government  officials attending the enron board meeting to stop the company from winding  up its operations in the state as it will harm both parties  \\x01 8  the statesman  friday  april 27  2001  enron threatens to pull out  the enron crisis deepened with the board of directors of the dabhol power  company deciding to authorise the managing director  mr k wade cline  to  serve a notice of termination on the contract for the first phase of the  2  9  billion power project  the decision  which could lead to the cessation of  dabhol \\x01  s power supply to the state  was taken at the meeting held yesterday  in london according to reports quoting the chairman of the maharashtra state  electricity board  mr vinay bansal   while dpc officials refuse to comment on anything  it is learnt that mseb was  itself prepared to serve a legal notice of termination just two days before  the meeting  mseb was said to have been dissuaded by the nationalist congress  party president  mr sharad pawar  and union power minister mr suresh prabhu   who had talks in new delhi with the maharashtra chief minister  mr vilasrao  deshmukh  and an mseb delegation last monday   the state government has been served two arbitration notices while the centre  is ready to go for conciliation with the dpc for failing to honour its  counter  guarantee  further  the dpc has already slapped a notice of political  force majeure which protects itself against undeserved claims in the event of  exigencies that force it to take an extreme step  the union power minister  mr  suresh prabhu  contended in delhi that since dpc contributed only 0  7 per  cent of the total energy output of the country  its termination would not  have such a phenomenal impact on the power situation   however  if terminations proceedings go through  enron corp  a 65 per cent  share  holder in the dabhol power company  would stand to net a hefty amount  in damages  the union power secretary has been quoted as saying that  termination of the dpc would cost the centre rs 1  800 crore  which is the  total of one years \\x01  electricity bill and a termination fee of  300 million   according to an energy analyst  mr pradyumna kaul  the total liability would  not cross rs 350 crore  however mr prabhu said in the lok sabha today that  the that scrapping of the agreement would cost the centre rs 2  840 crore  it  is learnt that on 20 april  mr deshmukh had given the go  ahead to the mseb to  prepare a legal notice to be issued to enron during the meeting of the dpc \\x01  s  board of directors on wednesday  at the meeting  the energy minister   padamsinh patil  energy secretary  mr vinay mohan lal and mseb chairman mr  vinay bansal  were also present  the notice was prepared over the past weekend  and taken by the delegation when they called on mr prabhu on 24 april   however  the politicians convinced them that enron would not get tough  given  its huge stake in the project  and that such a notice would not be necessary   the meeting thus ended with the decision to renegotiate the power tariff   with enron \\x01  s consent   among those present at the london meeting were mr lal  mr bansal and mseb  technical director  mr p paunikar  in their capacity as directors  however   they abstained from voting since they were deemed an interested party  the  only vote to go against the decision was that of the idbi which is also  represented on the board  it is learnt  the chief minister  mr vilasrao  deshmukh  said the state was not in favour of terminating the project  this  could mean that the latest manoeuvre to arm  twist the indian authorities  could achieve its immediate target of getting the arrears accumulated over  the past three months cleared  the mseb owes enron rs 146  64 crore for march  2001 and rs 229 crore for december 2000 and january 2001  the centre today put  up a brave face on enron \\x01  s decision saying there would not be any adverse  effect on foreign investment in power sector in the country  pti reported  from new delhi   \\x01  there will be no adverse impact as a result of any action by any domestic or  foreign company  as far as we are concerned there will be no adverse impact  on fdi in power sector  \\x01 8 power minister suresh prabhu told reporters when  asked about dpc \\x01  s decision to authorise management to issue a termination  notice to mseb  emphasising that there would be no fallout of such decision   prabhu said after the meeting of the cabinet committee on economic affairs  \\x01  we are expecting cooperation from many scandinavian countries as well as  european nations in the power sector  \\x01  in fact not only the power minister but  also the prime minister of norway was here to inaugurate a seminar on power  and he promised lot of cooperation in the sector  \\x01 8  mid day   dpc may not wind up   maharashtra chief secretary v ranganathan has said that though neil mcgregor   managing director of the dabhol power corporation  dpc   has been given  complete powers with regard to dpc  s operations in the state  including the  authority to wind up operations  it does not necessarily mean that mcgregor  will issue such a termination notice  mcgregor was given the powers at a  meeting of the dpc board in london on wednesday  ranganathan said that state  officials  including maharashtra state electricity board  mseb  chairman  vinay bansal and power secretary v m lal  have reported back to him about the  meeting in london   with regard to the state  s failure to pay enron  ranganathan said   bills  are prepared as per the power purchase agreement  ppa  and dpc owes some  money to us  our people informed enron officials about this   in fact  there  was no reason to give powers to the md to slap a termination notice   in the  london meeting  mseb and industrial development bank of india  idbi   representatives insisted that the dpc must pay rs 411 crore since it could  not supply power whenever needed   chief minister vilasrao deshmukh has already termed as unfortunate the  decision of the board of the enron  promoted dpc to give mcgregor powers to  wind up operations  deshmukh added   we have already requested enron not to  take any harsh decision   deshmukh had earlier said   we have directed state  government officials attending the dpc board meeting to desist the energy  company from winding up operations in the state  as it would be harmful to  both of us    enron officials are keeping mum on the issue  mcgregor said   i am not going  to give any comment    mid day  april 27  2001  enron offers  no comment  on renegotiation  h s rao  a crucial meeting of the board of directors of the dabhol power company   dpc   promoted by the us energy major enron  was held here yesterday  apparently to discuss fate of its  900  million power project in maharashtra   but there was no official word on the indian and state governments  decision  to renegotiate the contract   an enron spokesman declined to divulge what transpired at the meeting  saying  the issues discussed at the meeting were  confidential    we have not  received any direct communication  unless we get it and evaluate the details   we have no comments to make   the spokesman said when asked about the  proposed decision on re  negotiation of the project in which the maharashtra  state electricity board  mseb  has 15 per cent stake   asked whether the board had taken a decision on empowering dpc managing  director neil mcgregor to wind up its operations in india  the spokesman said  he had nothing to say on them  enron has reportedly authorised mcgregor to  look at various options including selling the company  s stake in dpc   maharashtra chief minister vilasrao deshmukh said in mumbai that the state  government would pay up the undisputed dues to the company  he said the  maharashtra government  is not in favour of terminating the 2184  mw project   but wanted an amicable solution to the imbroglio    mid day  friday  april 27  2001   committee to renegotiate enron deal  a committee to renegotiate the power purchase agreement with the dabhol power  company will be appointed by this evening  chief minister vilasrao deshmukh  said today  addressing media persons after his meeting with the noted social  reformer anna hazare at his official residence varsha  deshmukh said the  committee would be formed by this evening or by tomorrow  at the most  he  termed as unfortunate the enron board decision empowering dpc chief neil  mcgregor to serve a preliminary termination notice on the maharashtra state  electricity board and said the state was willing to negotiate the issue with  power company    renegotiations will be held as per the suggestions made by the godbole  committee and the center will also depute its representative on the  renegotiating committee  we don  t want to take any hasty decision   deshmukh  saidhe pointed that the only bone of contention with the dpc had been its  expensive tariff and hoped that the issue would be resolved amicably  when  pointed that the enron board had taken a decision to serve the notice despite  state \\x0f 9 s willingness to appoint a renegotiating committee  chief minister  said it was unfortunate   earlier  in his meeting with hazare  deshmukh promised to make necessary  amendments to the right to information law recently passed by the state so  that the information was easily accessed by the common people  he also gave a  patient hearing to hazare on his complaints of corruption in various state  departments and promised action against guilty after a thorough inquiry  within three months   afternoon  april 27  2001   enron  s on    state govt  to renegotiate dabhol power project  by hubert vaz  the us power giant  enron power corporation  s willingness to wrap up the  dabhol power project and leave the shores may not actually materialise   though the dabhol power company chief  mr  wade cline  has been authorised to  do so  since the lenders for the project would have a decisive say in the  matter   disclosing this  chief minister vilasrao deshmukh confirmed this morning that  the state government would churn out a compromise formula by which the power  project at dabhol could be continued  and at the same time enron did not feel  slighted   enron has not yet conveyed to us about this decision  we are  waiting for their letter   he said  when asked what sort of compromise the  state government plans to forge  mr  deshmukh said   let our officers come  back  after that we will decide a future course of action  but we are  definitely going in for renegotiation of the project  it is very difficult to  predict the outcome of enron  s decision but as of now the project is still  on   when asked whether the project could be moved to another state  if wound  up from maharashtra  mr  deshmukh said  that was not possible as per the  terms of the agreement between the us company and the state government   however  it was difficult for the project to move out of the state itself  he  indicated  he also confirmed that both parties would face considerable losses  if the project was terminated   the board of directors of the dabhol power company  which met in london on  wednesday  decided to put an end to all controversies surrounding the project  once and for all by empowering the dpc chief to terminate the project  if he  deemed it fit  however  this decision  as of now  does not necessarily  indicate the death knell for the project  the enron project  which had been  riddled with controversies right from its inception  had been a pretext for  the political parties in the state to drag each other on the mat from time to  time  the previous sena  bjp government  which had been out to terminate the  project  however  chose to continue with it following renegotiations with  enron  s top visiting officials like ms  rebecca mark  and  the democratic  front government inherited the controversial project when the governments  changed hands a year and a half ago   meanwhile  state energy minister dr  padamsinh patil  when contacted at the  osmanabad circuit house  said the state government and the central government  have decided to appoint a joint committee to renegotiate the project with  enron   it is not easy for them to walk out of the project just like that   they will have to go in for litigation and this would prove costly for both  sides   he said  in case the project is terminated  the government can still  manage the power needs of the state  though it would be a bit tough job  he  added '"
            ],
            "application/vnd.google.colaboratory.intrinsic+json": {
              "type": "string"
            }
          },
          "metadata": {},
          "execution_count": 71
        }
      ]
    },
    {
      "cell_type": "code",
      "source": [
        "# finding the length of the longest email \n",
        "len(max(df_clean['text'], key=len))"
      ],
      "metadata": {
        "colab": {
          "base_uri": "https://localhost:8080/"
        },
        "id": "Ggb9_ssQlo4V",
        "outputId": "afabadfd-a48b-435a-e4b4-d1a17aecf490"
      },
      "execution_count": null,
      "outputs": [
        {
          "output_type": "execute_result",
          "data": {
            "text/plain": [
              "42746"
            ]
          },
          "metadata": {},
          "execution_count": 72
        }
      ]
    },
    {
      "cell_type": "code",
      "source": [
        "temp = df_clean.copy()"
      ],
      "metadata": {
        "id": "3hX3WUttiLOk"
      },
      "execution_count": null,
      "outputs": []
    },
    {
      "cell_type": "markdown",
      "source": [
        "Printing the count of the word \"subject\" "
      ],
      "metadata": {
        "id": "B8wXXkFDdZvu"
      }
    },
    {
      "cell_type": "code",
      "source": [
        "temp['count_of_subject'] = df_clean['text'].str.count(\"subject\")"
      ],
      "metadata": {
        "id": "aBSVpvszhZsy"
      },
      "execution_count": null,
      "outputs": []
    },
    {
      "cell_type": "code",
      "source": [
        "plt.figure(figsize=(10,8))\n",
        "_ = sns.countplot(data = temp, x='count_of_subject', hue='spam')"
      ],
      "metadata": {
        "colab": {
          "base_uri": "https://localhost:8080/",
          "height": 498
        },
        "id": "oYGQPzVTiHmR",
        "outputId": "8ef45619-076f-4d5e-f28f-0e86b770e4e7"
      },
      "execution_count": null,
      "outputs": [
        {
          "output_type": "display_data",
          "data": {
            "text/plain": [
              "<Figure size 720x576 with 1 Axes>"
            ],
            "image/png": "[encoded data removed]"
          },
          "metadata": {
            "needs_background": "light"
          }
        }
      ]
    },
    {
      "cell_type": "markdown",
      "source": [
        "We can see that spam emails have frequency of word \"subject\" upto 5. Emails which are not spam have high frequency of word \"subject\".\n"
      ],
      "metadata": {
        "id": "FZpxK_sqjJss"
      }
    },
    {
      "cell_type": "markdown",
      "source": [
        "Answer: Hence spam classifier can potentially benefit from including the frequency of the word that appears in every email"
      ],
      "metadata": {
        "id": "4GQ7rsr5jW3s"
      }
    },
    {
      "cell_type": "markdown",
      "source": [
        "## Problem 2.1 - Preparing the Corpus"
      ],
      "metadata": {
        "id": "fxpv_nt_jhSW"
      }
    },
    {
      "cell_type": "code",
      "source": [
        "import nltk"
      ],
      "metadata": {
        "id": "dvFvcL3Jr9Uq"
      },
      "execution_count": null,
      "outputs": []
    },
    {
      "cell_type": "code",
      "source": [
        "corpus = df.copy()"
      ],
      "metadata": {
        "id": "a8xcwUyOroLd"
      },
      "execution_count": null,
      "outputs": []
    },
    {
      "cell_type": "markdown",
      "source": [
        "#### Converting to lower case"
      ],
      "metadata": {
        "id": "6cVKNaCmaP3u"
      }
    },
    {
      "cell_type": "code",
      "source": [
        "corpus['text'] = corpus['text'].apply(lambda x:x.lower())"
      ],
      "metadata": {
        "id": "hk0c1Hr_rhuM"
      },
      "execution_count": null,
      "outputs": []
    },
    {
      "cell_type": "code",
      "source": [
        "corpus.head()"
      ],
      "metadata": {
        "colab": {
          "base_uri": "https://localhost:8080/",
          "height": 206
        },
        "id": "NQWyUl0xgjMJ",
        "outputId": "a205e46b-2d04-4fc9-f226-93f5edbd4ab0"
      },
      "execution_count": null,
      "outputs": [
        {
          "output_type": "execute_result",
          "data": {
            "text/plain": [
              "                                                text  spam\n",
              "0  subject: naturally irresistible your corporate...     1\n",
              "1  subject: the stock trading gunslinger  fanny i...     1\n",
              "2  subject: unbelievable new homes made easy  im ...     1\n",
              "3  subject: 4 color printing special  request add...     1\n",
              "4  subject: do not have money , get software cds ...     1"
            ],
            "text/html": [
              "\n",
              "  <div id=\"df-1013998f-c485-4340-830c-d60f8cb1194f\">\n",
              "    <div class=\"colab-df-container\">\n",
              "      <div>\n",
              "<style scoped>\n",
              "    .dataframe tbody tr th:only-of-type {\n",
              "        vertical-align: middle;\n",
              "    }\n",
              "\n",
              "    .dataframe tbody tr th {\n",
              "        vertical-align: top;\n",
              "    }\n",
              "\n",
              "    .dataframe thead th {\n",
              "        text-align: right;\n",
              "    }\n",
              "</style>\n",
              "<table border=\"1\" class=\"dataframe\">\n",
              "  <thead>\n",
              "    <tr style=\"text-align: right;\">\n",
              "      <th></th>\n",
              "      <th>text</th>\n",
              "      <th>spam</th>\n",
              "    </tr>\n",
              "  </thead>\n",
              "  <tbody>\n",
              "    <tr>\n",
              "      <th>0</th>\n",
              "      <td>subject: naturally irresistible your corporate...</td>\n",
              "      <td>1</td>\n",
              "    </tr>\n",
              "    <tr>\n",
              "      <th>1</th>\n",
              "      <td>subject: the stock trading gunslinger  fanny i...</td>\n",
              "      <td>1</td>\n",
              "    </tr>\n",
              "    <tr>\n",
              "      <th>2</th>\n",
              "      <td>subject: unbelievable new homes made easy  im ...</td>\n",
              "      <td>1</td>\n",
              "    </tr>\n",
              "    <tr>\n",
              "      <th>3</th>\n",
              "      <td>subject: 4 color printing special  request add...</td>\n",
              "      <td>1</td>\n",
              "    </tr>\n",
              "    <tr>\n",
              "      <th>4</th>\n",
              "      <td>subject: do not have money , get software cds ...</td>\n",
              "      <td>1</td>\n",
              "    </tr>\n",
              "  </tbody>\n",
              "</table>\n",
              "</div>\n",
              "      <button class=\"colab-df-convert\" onclick=\"convertToInteractive('df-1013998f-c485-4340-830c-d60f8cb1194f')\"\n",
              "              title=\"Convert this dataframe to an interactive table.\"\n",
              "              style=\"display:none;\">\n",
              "        \n",
              "  <svg xmlns=\"http://www.w3.org/2000/svg\" height=\"24px\"viewBox=\"0 0 24 24\"\n",
              "       width=\"24px\">\n",
              "    <path d=\"M0 0h24v24H0V0z\" fill=\"none\"/>\n",
              "    <path d=\"M18.56 5.44l.94 2.06.94-2.06 2.06-.94-2.06-.94-.94-2.06-.94 2.06-2.06.94zm-11 1L8.5 8.5l.94-2.06 2.06-.94-2.06-.94L8.5 2.5l-.94 2.06-2.06.94zm10 10l.94 2.06.94-2.06 2.06-.94-2.06-.94-.94-2.06-.94 2.06-2.06.94z\"/><path d=\"M17.41 7.96l-1.37-1.37c-.4-.4-.92-.59-1.43-.59-.52 0-1.04.2-1.43.59L10.3 9.45l-7.72 7.72c-.78.78-.78 2.05 0 2.83L4 21.41c.39.39.9.59 1.41.59.51 0 1.02-.2 1.41-.59l7.78-7.78 2.81-2.81c.8-.78.8-2.07 0-2.86zM5.41 20L4 18.59l7.72-7.72 1.47 1.35L5.41 20z\"/>\n",
              "  </svg>\n",
              "      </button>\n",
              "      \n",
              "  <style>\n",
              "    .colab-df-container {\n",
              "      display:flex;\n",
              "      flex-wrap:wrap;\n",
              "      gap: 12px;\n",
              "    }\n",
              "\n",
              "    .colab-df-convert {\n",
              "      background-color: #E8F0FE;\n",
              "      border: none;\n",
              "      border-radius: 50%;\n",
              "      cursor: pointer;\n",
              "      display: none;\n",
              "      fill: #1967D2;\n",
              "      height: 32px;\n",
              "      padding: 0 0 0 0;\n",
              "      width: 32px;\n",
              "    }\n",
              "\n",
              "    .colab-df-convert:hover {\n",
              "      background-color: #E2EBFA;\n",
              "      box-shadow: 0px 1px 2px rgba(60, 64, 67, 0.3), 0px 1px 3px 1px rgba(60, 64, 67, 0.15);\n",
              "      fill: #174EA6;\n",
              "    }\n",
              "\n",
              "    [theme=dark] .colab-df-convert {\n",
              "      background-color: #3B4455;\n",
              "      fill: #D2E3FC;\n",
              "    }\n",
              "\n",
              "    [theme=dark] .colab-df-convert:hover {\n",
              "      background-color: #434B5C;\n",
              "      box-shadow: 0px 1px 3px 1px rgba(0, 0, 0, 0.15);\n",
              "      filter: drop-shadow(0px 1px 2px rgba(0, 0, 0, 0.3));\n",
              "      fill: #FFFFFF;\n",
              "    }\n",
              "  </style>\n",
              "\n",
              "      <script>\n",
              "        const buttonEl =\n",
              "          document.querySelector('#df-1013998f-c485-4340-830c-d60f8cb1194f button.colab-df-convert');\n",
              "        buttonEl.style.display =\n",
              "          google.colab.kernel.accessAllowed ? 'block' : 'none';\n",
              "\n",
              "        async function convertToInteractive(key) {\n",
              "          const element = document.querySelector('#df-1013998f-c485-4340-830c-d60f8cb1194f');\n",
              "          const dataTable =\n",
              "            await google.colab.kernel.invokeFunction('convertToInteractive',\n",
              "                                                     [key], {});\n",
              "          if (!dataTable) return;\n",
              "\n",
              "          const docLinkHtml = 'Like what you see? Visit the ' +\n",
              "            '<a target=\"_blank\" href=https://colab.research.google.com/notebooks/data_table.ipynb>data table notebook</a>'\n",
              "            + ' to learn more about interactive tables.';\n",
              "          element.innerHTML = '';\n",
              "          dataTable['output_type'] = 'display_data';\n",
              "          await google.colab.output.renderOutput(dataTable, element);\n",
              "          const docLink = document.createElement('div');\n",
              "          docLink.innerHTML = docLinkHtml;\n",
              "          element.appendChild(docLink);\n",
              "        }\n",
              "      </script>\n",
              "    </div>\n",
              "  </div>\n",
              "  "
            ]
          },
          "metadata": {},
          "execution_count": 79
        }
      ]
    },
    {
      "cell_type": "markdown",
      "source": [
        "#### Removing Punctuations"
      ],
      "metadata": {
        "id": "tzvaLSRBaxkZ"
      }
    },
    {
      "cell_type": "code",
      "source": [
        "corpus['text'] = corpus['text'].apply(lambda x: re.sub(r'[^\\w\\s]','', x))"
      ],
      "metadata": {
        "id": "ZwsDfW4wavQf"
      },
      "execution_count": null,
      "outputs": []
    },
    {
      "cell_type": "markdown",
      "source": [
        "#### Tokenize words"
      ],
      "metadata": {
        "id": "USE1uEIQaYMa"
      }
    },
    {
      "cell_type": "code",
      "source": [
        "corpus['text'] = corpus['text'].apply(nltk.word_tokenize)"
      ],
      "metadata": {
        "id": "KsLEIrPkr3rs"
      },
      "execution_count": null,
      "outputs": []
    },
    {
      "cell_type": "code",
      "source": [
        "corpus.head()"
      ],
      "metadata": {
        "colab": {
          "base_uri": "https://localhost:8080/",
          "height": 206
        },
        "id": "CeBTBMUqbHnn",
        "outputId": "e9bc3217-d47a-466e-dddf-fb3274440bff"
      },
      "execution_count": null,
      "outputs": [
        {
          "output_type": "execute_result",
          "data": {
            "text/plain": [
              "                                                text  spam\n",
              "0  [subject, naturally, irresistible, your, corpo...     1\n",
              "1  [subject, the, stock, trading, gunslinger, fan...     1\n",
              "2  [subject, unbelievable, new, homes, made, easy...     1\n",
              "3  [subject, 4, color, printing, special, request...     1\n",
              "4  [subject, do, not, have, money, get, software,...     1"
            ],
            "text/html": [
              "\n",
              "  <div id=\"df-bc52a15f-328f-4d6f-8972-32326ff3bbc8\">\n",
              "    <div class=\"colab-df-container\">\n",
              "      <div>\n",
              "<style scoped>\n",
              "    .dataframe tbody tr th:only-of-type {\n",
              "        vertical-align: middle;\n",
              "    }\n",
              "\n",
              "    .dataframe tbody tr th {\n",
              "        vertical-align: top;\n",
              "    }\n",
              "\n",
              "    .dataframe thead th {\n",
              "        text-align: right;\n",
              "    }\n",
              "</style>\n",
              "<table border=\"1\" class=\"dataframe\">\n",
              "  <thead>\n",
              "    <tr style=\"text-align: right;\">\n",
              "      <th></th>\n",
              "      <th>text</th>\n",
              "      <th>spam</th>\n",
              "    </tr>\n",
              "  </thead>\n",
              "  <tbody>\n",
              "    <tr>\n",
              "      <th>0</th>\n",
              "      <td>[subject, naturally, irresistible, your, corpo...</td>\n",
              "      <td>1</td>\n",
              "    </tr>\n",
              "    <tr>\n",
              "      <th>1</th>\n",
              "      <td>[subject, the, stock, trading, gunslinger, fan...</td>\n",
              "      <td>1</td>\n",
              "    </tr>\n",
              "    <tr>\n",
              "      <th>2</th>\n",
              "      <td>[subject, unbelievable, new, homes, made, easy...</td>\n",
              "      <td>1</td>\n",
              "    </tr>\n",
              "    <tr>\n",
              "      <th>3</th>\n",
              "      <td>[subject, 4, color, printing, special, request...</td>\n",
              "      <td>1</td>\n",
              "    </tr>\n",
              "    <tr>\n",
              "      <th>4</th>\n",
              "      <td>[subject, do, not, have, money, get, software,...</td>\n",
              "      <td>1</td>\n",
              "    </tr>\n",
              "  </tbody>\n",
              "</table>\n",
              "</div>\n",
              "      <button class=\"colab-df-convert\" onclick=\"convertToInteractive('df-bc52a15f-328f-4d6f-8972-32326ff3bbc8')\"\n",
              "              title=\"Convert this dataframe to an interactive table.\"\n",
              "              style=\"display:none;\">\n",
              "        \n",
              "  <svg xmlns=\"http://www.w3.org/2000/svg\" height=\"24px\"viewBox=\"0 0 24 24\"\n",
              "       width=\"24px\">\n",
              "    <path d=\"M0 0h24v24H0V0z\" fill=\"none\"/>\n",
              "    <path d=\"M18.56 5.44l.94 2.06.94-2.06 2.06-.94-2.06-.94-.94-2.06-.94 2.06-2.06.94zm-11 1L8.5 8.5l.94-2.06 2.06-.94-2.06-.94L8.5 2.5l-.94 2.06-2.06.94zm10 10l.94 2.06.94-2.06 2.06-.94-2.06-.94-.94-2.06-.94 2.06-2.06.94z\"/><path d=\"M17.41 7.96l-1.37-1.37c-.4-.4-.92-.59-1.43-.59-.52 0-1.04.2-1.43.59L10.3 9.45l-7.72 7.72c-.78.78-.78 2.05 0 2.83L4 21.41c.39.39.9.59 1.41.59.51 0 1.02-.2 1.41-.59l7.78-7.78 2.81-2.81c.8-.78.8-2.07 0-2.86zM5.41 20L4 18.59l7.72-7.72 1.47 1.35L5.41 20z\"/>\n",
              "  </svg>\n",
              "      </button>\n",
              "      \n",
              "  <style>\n",
              "    .colab-df-container {\n",
              "      display:flex;\n",
              "      flex-wrap:wrap;\n",
              "      gap: 12px;\n",
              "    }\n",
              "\n",
              "    .colab-df-convert {\n",
              "      background-color: #E8F0FE;\n",
              "      border: none;\n",
              "      border-radius: 50%;\n",
              "      cursor: pointer;\n",
              "      display: none;\n",
              "      fill: #1967D2;\n",
              "      height: 32px;\n",
              "      padding: 0 0 0 0;\n",
              "      width: 32px;\n",
              "    }\n",
              "\n",
              "    .colab-df-convert:hover {\n",
              "      background-color: #E2EBFA;\n",
              "      box-shadow: 0px 1px 2px rgba(60, 64, 67, 0.3), 0px 1px 3px 1px rgba(60, 64, 67, 0.15);\n",
              "      fill: #174EA6;\n",
              "    }\n",
              "\n",
              "    [theme=dark] .colab-df-convert {\n",
              "      background-color: #3B4455;\n",
              "      fill: #D2E3FC;\n",
              "    }\n",
              "\n",
              "    [theme=dark] .colab-df-convert:hover {\n",
              "      background-color: #434B5C;\n",
              "      box-shadow: 0px 1px 3px 1px rgba(0, 0, 0, 0.15);\n",
              "      filter: drop-shadow(0px 1px 2px rgba(0, 0, 0, 0.3));\n",
              "      fill: #FFFFFF;\n",
              "    }\n",
              "  </style>\n",
              "\n",
              "      <script>\n",
              "        const buttonEl =\n",
              "          document.querySelector('#df-bc52a15f-328f-4d6f-8972-32326ff3bbc8 button.colab-df-convert');\n",
              "        buttonEl.style.display =\n",
              "          google.colab.kernel.accessAllowed ? 'block' : 'none';\n",
              "\n",
              "        async function convertToInteractive(key) {\n",
              "          const element = document.querySelector('#df-bc52a15f-328f-4d6f-8972-32326ff3bbc8');\n",
              "          const dataTable =\n",
              "            await google.colab.kernel.invokeFunction('convertToInteractive',\n",
              "                                                     [key], {});\n",
              "          if (!dataTable) return;\n",
              "\n",
              "          const docLinkHtml = 'Like what you see? Visit the ' +\n",
              "            '<a target=\"_blank\" href=https://colab.research.google.com/notebooks/data_table.ipynb>data table notebook</a>'\n",
              "            + ' to learn more about interactive tables.';\n",
              "          element.innerHTML = '';\n",
              "          dataTable['output_type'] = 'display_data';\n",
              "          await google.colab.output.renderOutput(dataTable, element);\n",
              "          const docLink = document.createElement('div');\n",
              "          docLink.innerHTML = docLinkHtml;\n",
              "          element.appendChild(docLink);\n",
              "        }\n",
              "      </script>\n",
              "    </div>\n",
              "  </div>\n",
              "  "
            ]
          },
          "metadata": {},
          "execution_count": 82
        }
      ]
    },
    {
      "cell_type": "markdown",
      "source": [
        "We can see that the sentences have been converted into individual words"
      ],
      "metadata": {
        "id": "aw_oHYmeh1PR"
      }
    },
    {
      "cell_type": "markdown",
      "source": [
        "#### Remove Stop Words\n",
        "Using the list of stopwords provided in this assignment"
      ],
      "metadata": {
        "id": "IU3fWGaxaf8T"
      }
    },
    {
      "cell_type": "code",
      "source": [
        "stopwords = set([\"i\", \"me\", \"my\", \"myself\", \"we\", \"our\", \"ours\", \"ourselves\", \"you\", \"your\", \"yours\", \"yourself\", \"yourselves\", \"he\", \"him\", \"his\", \"himself\", \"she\", \"her\", \"hers\", \"herself\", \"it\", \"its\", \"itself\", \"they\", \"them\", \"their\", \"theirs\", \"themselves\", \"what\", \"which\", \"who\", \"whom\", \"this\", \"that\", \"these\", \"those\", \"am\", \"is\", \"are\", \"was\", \"were\", \"be\", \"been\", \"being\", \"have\", \"has\", \"had\", \"having\", \"do\", \"does\", \"did\", \"doing\", \"would\", \"should\", \"could\", \"ought\", \"i'm\", \"you're\", \"he's\", \"she's\", \"it's\", \"we're\", \"they're\", \"i've\", \"you've\", \"we've\", \"they've\", \"i'd\", \"you'd\", \"he'd\", \"she'd\", \"we'd\", \"they'd\", \"i'll\", \"you'll\", \"he'll\", \"she'll\", \"we'll\", \"they'll\", \"isn't\", \"aren't\", \"wasn't\", \"weren't\", \"hasn't\", \"haven't\", \"hadn't\", \"doesn't\", \"don't\", \"didn't\", \"won't\", \"wouldn't\", \"shan't\", \"shouldn't\", \"can't\", \"cannot\", \"couldn't\", \"mustn't\", \"let's\", \"that's\", \"who's\", \"what's\", \"here's\", \"there's\", \"when's\", \"where's\", \"why's\", \"how's\", \"a\", \"an\", \"the\", \"and\", \"but\", \"if\", \"or\", \"because\", \"as\", \"until\", \"while\", \"of\", \"at\", \"by\", \"for\", \"with\", \"about\", \"against\", \"between\", \"into\", \"through\", \"during\", \"before\", \"after\", \"above\", \"below\", \"to\", \"from\", \"up\", \"down\", \"in\", \"out\", \"on\", \"off\", \"over\", \"under\", \"again\", \"further\", \"then\", \"once\", \"here\", \"there\", \"when\", \"where\", \"why\", \"how\", \"all\", \"any\", \"both\", \"each\", \"few\", \"more\", \"most\", \"other\", \"some\", \"such\", \"no\", \"nor\", \"not\", \"only\", \"own\", \"same\", \"so\", \"than\", \"too\", \"very\"])"
      ],
      "metadata": {
        "id": "5kqt3_cZsLDQ"
      },
      "execution_count": null,
      "outputs": []
    },
    {
      "cell_type": "code",
      "source": [
        "corpus['text'] = corpus['text'].apply(lambda x: [item for item in x if item not in stopwords])"
      ],
      "metadata": {
        "id": "kNgh0spassWU"
      },
      "execution_count": null,
      "outputs": []
    },
    {
      "cell_type": "code",
      "source": [
        "corpus.head()"
      ],
      "metadata": {
        "colab": {
          "base_uri": "https://localhost:8080/",
          "height": 206
        },
        "id": "TQ3k7_tss-Ug",
        "outputId": "335d0592-cc57-4970-87ac-11ab51713b96"
      },
      "execution_count": null,
      "outputs": [
        {
          "output_type": "execute_result",
          "data": {
            "text/plain": [
              "                                                text  spam\n",
              "0  [subject, naturally, irresistible, corporate, ...     1\n",
              "1  [subject, stock, trading, gunslinger, fanny, m...     1\n",
              "2  [subject, unbelievable, new, homes, made, easy...     1\n",
              "3  [subject, 4, color, printing, special, request...     1\n",
              "4  [subject, money, get, software, cds, software,...     1"
            ],
            "text/html": [
              "\n",
              "  <div id=\"df-80f0a160-ab8e-453e-a52a-8d2e464209ce\">\n",
              "    <div class=\"colab-df-container\">\n",
              "      <div>\n",
              "<style scoped>\n",
              "    .dataframe tbody tr th:only-of-type {\n",
              "        vertical-align: middle;\n",
              "    }\n",
              "\n",
              "    .dataframe tbody tr th {\n",
              "        vertical-align: top;\n",
              "    }\n",
              "\n",
              "    .dataframe thead th {\n",
              "        text-align: right;\n",
              "    }\n",
              "</style>\n",
              "<table border=\"1\" class=\"dataframe\">\n",
              "  <thead>\n",
              "    <tr style=\"text-align: right;\">\n",
              "      <th></th>\n",
              "      <th>text</th>\n",
              "      <th>spam</th>\n",
              "    </tr>\n",
              "  </thead>\n",
              "  <tbody>\n",
              "    <tr>\n",
              "      <th>0</th>\n",
              "      <td>[subject, naturally, irresistible, corporate, ...</td>\n",
              "      <td>1</td>\n",
              "    </tr>\n",
              "    <tr>\n",
              "      <th>1</th>\n",
              "      <td>[subject, stock, trading, gunslinger, fanny, m...</td>\n",
              "      <td>1</td>\n",
              "    </tr>\n",
              "    <tr>\n",
              "      <th>2</th>\n",
              "      <td>[subject, unbelievable, new, homes, made, easy...</td>\n",
              "      <td>1</td>\n",
              "    </tr>\n",
              "    <tr>\n",
              "      <th>3</th>\n",
              "      <td>[subject, 4, color, printing, special, request...</td>\n",
              "      <td>1</td>\n",
              "    </tr>\n",
              "    <tr>\n",
              "      <th>4</th>\n",
              "      <td>[subject, money, get, software, cds, software,...</td>\n",
              "      <td>1</td>\n",
              "    </tr>\n",
              "  </tbody>\n",
              "</table>\n",
              "</div>\n",
              "      <button class=\"colab-df-convert\" onclick=\"convertToInteractive('df-80f0a160-ab8e-453e-a52a-8d2e464209ce')\"\n",
              "              title=\"Convert this dataframe to an interactive table.\"\n",
              "              style=\"display:none;\">\n",
              "        \n",
              "  <svg xmlns=\"http://www.w3.org/2000/svg\" height=\"24px\"viewBox=\"0 0 24 24\"\n",
              "       width=\"24px\">\n",
              "    <path d=\"M0 0h24v24H0V0z\" fill=\"none\"/>\n",
              "    <path d=\"M18.56 5.44l.94 2.06.94-2.06 2.06-.94-2.06-.94-.94-2.06-.94 2.06-2.06.94zm-11 1L8.5 8.5l.94-2.06 2.06-.94-2.06-.94L8.5 2.5l-.94 2.06-2.06.94zm10 10l.94 2.06.94-2.06 2.06-.94-2.06-.94-.94-2.06-.94 2.06-2.06.94z\"/><path d=\"M17.41 7.96l-1.37-1.37c-.4-.4-.92-.59-1.43-.59-.52 0-1.04.2-1.43.59L10.3 9.45l-7.72 7.72c-.78.78-.78 2.05 0 2.83L4 21.41c.39.39.9.59 1.41.59.51 0 1.02-.2 1.41-.59l7.78-7.78 2.81-2.81c.8-.78.8-2.07 0-2.86zM5.41 20L4 18.59l7.72-7.72 1.47 1.35L5.41 20z\"/>\n",
              "  </svg>\n",
              "      </button>\n",
              "      \n",
              "  <style>\n",
              "    .colab-df-container {\n",
              "      display:flex;\n",
              "      flex-wrap:wrap;\n",
              "      gap: 12px;\n",
              "    }\n",
              "\n",
              "    .colab-df-convert {\n",
              "      background-color: #E8F0FE;\n",
              "      border: none;\n",
              "      border-radius: 50%;\n",
              "      cursor: pointer;\n",
              "      display: none;\n",
              "      fill: #1967D2;\n",
              "      height: 32px;\n",
              "      padding: 0 0 0 0;\n",
              "      width: 32px;\n",
              "    }\n",
              "\n",
              "    .colab-df-convert:hover {\n",
              "      background-color: #E2EBFA;\n",
              "      box-shadow: 0px 1px 2px rgba(60, 64, 67, 0.3), 0px 1px 3px 1px rgba(60, 64, 67, 0.15);\n",
              "      fill: #174EA6;\n",
              "    }\n",
              "\n",
              "    [theme=dark] .colab-df-convert {\n",
              "      background-color: #3B4455;\n",
              "      fill: #D2E3FC;\n",
              "    }\n",
              "\n",
              "    [theme=dark] .colab-df-convert:hover {\n",
              "      background-color: #434B5C;\n",
              "      box-shadow: 0px 1px 3px 1px rgba(0, 0, 0, 0.15);\n",
              "      filter: drop-shadow(0px 1px 2px rgba(0, 0, 0, 0.3));\n",
              "      fill: #FFFFFF;\n",
              "    }\n",
              "  </style>\n",
              "\n",
              "      <script>\n",
              "        const buttonEl =\n",
              "          document.querySelector('#df-80f0a160-ab8e-453e-a52a-8d2e464209ce button.colab-df-convert');\n",
              "        buttonEl.style.display =\n",
              "          google.colab.kernel.accessAllowed ? 'block' : 'none';\n",
              "\n",
              "        async function convertToInteractive(key) {\n",
              "          const element = document.querySelector('#df-80f0a160-ab8e-453e-a52a-8d2e464209ce');\n",
              "          const dataTable =\n",
              "            await google.colab.kernel.invokeFunction('convertToInteractive',\n",
              "                                                     [key], {});\n",
              "          if (!dataTable) return;\n",
              "\n",
              "          const docLinkHtml = 'Like what you see? Visit the ' +\n",
              "            '<a target=\"_blank\" href=https://colab.research.google.com/notebooks/data_table.ipynb>data table notebook</a>'\n",
              "            + ' to learn more about interactive tables.';\n",
              "          element.innerHTML = '';\n",
              "          dataTable['output_type'] = 'display_data';\n",
              "          await google.colab.output.renderOutput(dataTable, element);\n",
              "          const docLink = document.createElement('div');\n",
              "          docLink.innerHTML = docLinkHtml;\n",
              "          element.appendChild(docLink);\n",
              "        }\n",
              "      </script>\n",
              "    </div>\n",
              "  </div>\n",
              "  "
            ]
          },
          "metadata": {},
          "execution_count": 85
        }
      ]
    },
    {
      "cell_type": "markdown",
      "source": [
        "#### Stemming "
      ],
      "metadata": {
        "id": "89YUqJybcJH-"
      }
    },
    {
      "cell_type": "code",
      "source": [
        "ps = PorterStemmer()"
      ],
      "metadata": {
        "id": "mSihOx3pqFuS"
      },
      "execution_count": null,
      "outputs": []
    },
    {
      "cell_type": "code",
      "source": [
        "corpus['text'] = corpus['text'].apply(lambda x: [ps.stem(item) for item in x])"
      ],
      "metadata": {
        "id": "pMwWHP-5cO3T"
      },
      "execution_count": null,
      "outputs": []
    },
    {
      "cell_type": "code",
      "source": [
        "corpus.head()"
      ],
      "metadata": {
        "colab": {
          "base_uri": "https://localhost:8080/",
          "height": 206
        },
        "id": "xt6VIsKhcatw",
        "outputId": "89c53b8d-b1a1-4a6c-e405-12591fdbdbe4"
      },
      "execution_count": null,
      "outputs": [
        {
          "output_type": "execute_result",
          "data": {
            "text/plain": [
              "                                                text  spam\n",
              "0  [subject, natur, irresist, corpor, ident, lt, ...     1\n",
              "1  [subject, stock, trade, gunsling, fanni, merri...     1\n",
              "2  [subject, unbeliev, new, home, made, easi, im,...     1\n",
              "3  [subject, 4, color, print, special, request, a...     1\n",
              "4  [subject, money, get, softwar, cd, softwar, co...     1"
            ],
            "text/html": [
              "\n",
              "  <div id=\"df-609878ff-4067-4ba1-8d25-b849c68cf6b3\">\n",
              "    <div class=\"colab-df-container\">\n",
              "      <div>\n",
              "<style scoped>\n",
              "    .dataframe tbody tr th:only-of-type {\n",
              "        vertical-align: middle;\n",
              "    }\n",
              "\n",
              "    .dataframe tbody tr th {\n",
              "        vertical-align: top;\n",
              "    }\n",
              "\n",
              "    .dataframe thead th {\n",
              "        text-align: right;\n",
              "    }\n",
              "</style>\n",
              "<table border=\"1\" class=\"dataframe\">\n",
              "  <thead>\n",
              "    <tr style=\"text-align: right;\">\n",
              "      <th></th>\n",
              "      <th>text</th>\n",
              "      <th>spam</th>\n",
              "    </tr>\n",
              "  </thead>\n",
              "  <tbody>\n",
              "    <tr>\n",
              "      <th>0</th>\n",
              "      <td>[subject, natur, irresist, corpor, ident, lt, ...</td>\n",
              "      <td>1</td>\n",
              "    </tr>\n",
              "    <tr>\n",
              "      <th>1</th>\n",
              "      <td>[subject, stock, trade, gunsling, fanni, merri...</td>\n",
              "      <td>1</td>\n",
              "    </tr>\n",
              "    <tr>\n",
              "      <th>2</th>\n",
              "      <td>[subject, unbeliev, new, home, made, easi, im,...</td>\n",
              "      <td>1</td>\n",
              "    </tr>\n",
              "    <tr>\n",
              "      <th>3</th>\n",
              "      <td>[subject, 4, color, print, special, request, a...</td>\n",
              "      <td>1</td>\n",
              "    </tr>\n",
              "    <tr>\n",
              "      <th>4</th>\n",
              "      <td>[subject, money, get, softwar, cd, softwar, co...</td>\n",
              "      <td>1</td>\n",
              "    </tr>\n",
              "  </tbody>\n",
              "</table>\n",
              "</div>\n",
              "      <button class=\"colab-df-convert\" onclick=\"convertToInteractive('df-609878ff-4067-4ba1-8d25-b849c68cf6b3')\"\n",
              "              title=\"Convert this dataframe to an interactive table.\"\n",
              "              style=\"display:none;\">\n",
              "        \n",
              "  <svg xmlns=\"http://www.w3.org/2000/svg\" height=\"24px\"viewBox=\"0 0 24 24\"\n",
              "       width=\"24px\">\n",
              "    <path d=\"M0 0h24v24H0V0z\" fill=\"none\"/>\n",
              "    <path d=\"M18.56 5.44l.94 2.06.94-2.06 2.06-.94-2.06-.94-.94-2.06-.94 2.06-2.06.94zm-11 1L8.5 8.5l.94-2.06 2.06-.94-2.06-.94L8.5 2.5l-.94 2.06-2.06.94zm10 10l.94 2.06.94-2.06 2.06-.94-2.06-.94-.94-2.06-.94 2.06-2.06.94z\"/><path d=\"M17.41 7.96l-1.37-1.37c-.4-.4-.92-.59-1.43-.59-.52 0-1.04.2-1.43.59L10.3 9.45l-7.72 7.72c-.78.78-.78 2.05 0 2.83L4 21.41c.39.39.9.59 1.41.59.51 0 1.02-.2 1.41-.59l7.78-7.78 2.81-2.81c.8-.78.8-2.07 0-2.86zM5.41 20L4 18.59l7.72-7.72 1.47 1.35L5.41 20z\"/>\n",
              "  </svg>\n",
              "      </button>\n",
              "      \n",
              "  <style>\n",
              "    .colab-df-container {\n",
              "      display:flex;\n",
              "      flex-wrap:wrap;\n",
              "      gap: 12px;\n",
              "    }\n",
              "\n",
              "    .colab-df-convert {\n",
              "      background-color: #E8F0FE;\n",
              "      border: none;\n",
              "      border-radius: 50%;\n",
              "      cursor: pointer;\n",
              "      display: none;\n",
              "      fill: #1967D2;\n",
              "      height: 32px;\n",
              "      padding: 0 0 0 0;\n",
              "      width: 32px;\n",
              "    }\n",
              "\n",
              "    .colab-df-convert:hover {\n",
              "      background-color: #E2EBFA;\n",
              "      box-shadow: 0px 1px 2px rgba(60, 64, 67, 0.3), 0px 1px 3px 1px rgba(60, 64, 67, 0.15);\n",
              "      fill: #174EA6;\n",
              "    }\n",
              "\n",
              "    [theme=dark] .colab-df-convert {\n",
              "      background-color: #3B4455;\n",
              "      fill: #D2E3FC;\n",
              "    }\n",
              "\n",
              "    [theme=dark] .colab-df-convert:hover {\n",
              "      background-color: #434B5C;\n",
              "      box-shadow: 0px 1px 3px 1px rgba(0, 0, 0, 0.15);\n",
              "      filter: drop-shadow(0px 1px 2px rgba(0, 0, 0, 0.3));\n",
              "      fill: #FFFFFF;\n",
              "    }\n",
              "  </style>\n",
              "\n",
              "      <script>\n",
              "        const buttonEl =\n",
              "          document.querySelector('#df-609878ff-4067-4ba1-8d25-b849c68cf6b3 button.colab-df-convert');\n",
              "        buttonEl.style.display =\n",
              "          google.colab.kernel.accessAllowed ? 'block' : 'none';\n",
              "\n",
              "        async function convertToInteractive(key) {\n",
              "          const element = document.querySelector('#df-609878ff-4067-4ba1-8d25-b849c68cf6b3');\n",
              "          const dataTable =\n",
              "            await google.colab.kernel.invokeFunction('convertToInteractive',\n",
              "                                                     [key], {});\n",
              "          if (!dataTable) return;\n",
              "\n",
              "          const docLinkHtml = 'Like what you see? Visit the ' +\n",
              "            '<a target=\"_blank\" href=https://colab.research.google.com/notebooks/data_table.ipynb>data table notebook</a>'\n",
              "            + ' to learn more about interactive tables.';\n",
              "          element.innerHTML = '';\n",
              "          dataTable['output_type'] = 'display_data';\n",
              "          await google.colab.output.renderOutput(dataTable, element);\n",
              "          const docLink = document.createElement('div');\n",
              "          docLink.innerHTML = docLinkHtml;\n",
              "          element.appendChild(docLink);\n",
              "        }\n",
              "      </script>\n",
              "    </div>\n",
              "  </div>\n",
              "  "
            ]
          },
          "metadata": {},
          "execution_count": 88
        }
      ]
    },
    {
      "cell_type": "markdown",
      "source": [
        "Here the words have been converted into their root stem"
      ],
      "metadata": {
        "id": "RepT7phBh-Fs"
      }
    },
    {
      "cell_type": "markdown",
      "source": [
        "#### Count Vectorizer\n",
        "Count vectorizer converts the words into document term matrix"
      ],
      "metadata": {
        "id": "Avga6niedqjJ"
      }
    },
    {
      "cell_type": "code",
      "source": [
        "cv = CountVectorizer()"
      ],
      "metadata": {
        "id": "i51dYjJfdCeI"
      },
      "execution_count": null,
      "outputs": []
    },
    {
      "cell_type": "code",
      "source": [
        "cor = corpus.copy()"
      ],
      "metadata": {
        "id": "HZTvWlX1eM-I"
      },
      "execution_count": null,
      "outputs": []
    },
    {
      "cell_type": "code",
      "source": [
        "corpus['text'] = corpus['text'].apply(lambda x: ' '.join(x))"
      ],
      "metadata": {
        "id": "1ne9J6iTeKJS"
      },
      "execution_count": null,
      "outputs": []
    },
    {
      "cell_type": "code",
      "source": [
        "X = cv.fit_transform(corpus['text'])"
      ],
      "metadata": {
        "id": "pAobsmP_dvNK"
      },
      "execution_count": null,
      "outputs": []
    },
    {
      "cell_type": "markdown",
      "source": [
        "### How many terms are in document term matrix?"
      ],
      "metadata": {
        "id": "oGxx177fiQZ6"
      }
    },
    {
      "cell_type": "code",
      "source": [
        "X.shape"
      ],
      "metadata": {
        "colab": {
          "base_uri": "https://localhost:8080/"
        },
        "id": "xDq_EcR-d98Y",
        "outputId": "1533c35f-bf83-4b87-dc5e-3eeb8a56dc2d"
      },
      "execution_count": null,
      "outputs": [
        {
          "output_type": "execute_result",
          "data": {
            "text/plain": [
              "(5728, 29267)"
            ]
          },
          "metadata": {},
          "execution_count": 93
        }
      ]
    },
    {
      "cell_type": "markdown",
      "source": [
        "Answer: By printing the shape of X, we can see that their are 29267 terms in the document term matrix."
      ],
      "metadata": {
        "id": "vz7X9xkQiX4E"
      }
    },
    {
      "cell_type": "markdown",
      "source": [
        "### Limiting dtm to contain terms appearing in at least 5% of documents "
      ],
      "metadata": {
        "id": "RH5NYp92jnrL"
      }
    },
    {
      "cell_type": "code",
      "source": [
        "cv_sdtm = CountVectorizer(max_df = 0.05)"
      ],
      "metadata": {
        "id": "5qAQ63u2jKRF"
      },
      "execution_count": null,
      "outputs": []
    },
    {
      "cell_type": "code",
      "source": [
        "X_sdtm = cv_sdtm.fit_transform(corpus['text'])"
      ],
      "metadata": {
        "id": "zkTHZqxnjRj-"
      },
      "execution_count": null,
      "outputs": []
    },
    {
      "cell_type": "code",
      "source": [
        "X_sdtm.shape"
      ],
      "metadata": {
        "colab": {
          "base_uri": "https://localhost:8080/"
        },
        "id": "XdkeAvOejXCC",
        "outputId": "80f446e0-e6eb-4d29-ca82-8d0e3547cdc3"
      },
      "execution_count": null,
      "outputs": [
        {
          "output_type": "execute_result",
          "data": {
            "text/plain": [
              "(5728, 28895)"
            ]
          },
          "metadata": {},
          "execution_count": 120
        }
      ]
    },
    {
      "cell_type": "markdown",
      "source": [
        "Answer: We can see that the new sdtm matrix has 28895 terms."
      ],
      "metadata": {
        "id": "6-3vbj7hjueA"
      }
    },
    {
      "cell_type": "markdown",
      "source": [
        "## Problem 3.1 – Building machine learning models"
      ],
      "metadata": {
        "id": "WxvZqVILiUpt"
      }
    },
    {
      "cell_type": "markdown",
      "source": [
        "#### Splitting the data into train and test with proportion 70-30"
      ],
      "metadata": {
        "id": "CeyaXvLekluo"
      }
    },
    {
      "cell_type": "code",
      "source": [
        "X_train_cv, X_test_cv, y_train, y_test = train_test_split(X_sdtm, corpus['spam'], test_size=0.3, random_state=44)"
      ],
      "metadata": {
        "id": "gjJr_kr4fACr"
      },
      "execution_count": null,
      "outputs": []
    },
    {
      "cell_type": "code",
      "source": [
        "X_train_cv.shape"
      ],
      "metadata": {
        "colab": {
          "base_uri": "https://localhost:8080/"
        },
        "id": "bRDw19V7itQX",
        "outputId": "f45f419c-a8d9-4d03-bf19-11d709a59b09"
      },
      "execution_count": null,
      "outputs": [
        {
          "output_type": "execute_result",
          "data": {
            "text/plain": [
              "(4009, 28895)"
            ]
          },
          "metadata": {},
          "execution_count": 186
        }
      ]
    },
    {
      "cell_type": "code",
      "source": [
        "X_test_cv.shape"
      ],
      "metadata": {
        "colab": {
          "base_uri": "https://localhost:8080/"
        },
        "id": "W7Ce58BHi0DQ",
        "outputId": "c741e4b3-7e94-4f90-8450-0035d2c4d4f7"
      },
      "execution_count": null,
      "outputs": [
        {
          "output_type": "execute_result",
          "data": {
            "text/plain": [
              "(1719, 28895)"
            ]
          },
          "metadata": {},
          "execution_count": 187
        }
      ]
    },
    {
      "cell_type": "markdown",
      "source": [
        "We can see that the dataset is split into 70-30 proportion"
      ],
      "metadata": {
        "id": "GHgx7W75k8fp"
      }
    },
    {
      "cell_type": "markdown",
      "source": [
        "### Cart Model"
      ],
      "metadata": {
        "id": "o24UEKGJk71q"
      }
    },
    {
      "cell_type": "markdown",
      "source": [
        "#### Training CART Model"
      ],
      "metadata": {
        "id": "3uiAOSZnlQTV"
      }
    },
    {
      "cell_type": "code",
      "source": [
        "cart = DecisionTreeClassifier(criterion='gini')"
      ],
      "metadata": {
        "id": "hYe64Z26kI3O"
      },
      "execution_count": null,
      "outputs": []
    },
    {
      "cell_type": "code",
      "source": [
        "cart.fit(X_train_cv, y_train)"
      ],
      "metadata": {
        "colab": {
          "base_uri": "https://localhost:8080/"
        },
        "id": "IiqVp05inDKW",
        "outputId": "b0a89432-9d2c-45ca-f4ba-f1bb9565eded"
      },
      "execution_count": null,
      "outputs": [
        {
          "output_type": "execute_result",
          "data": {
            "text/plain": [
              "DecisionTreeClassifier()"
            ]
          },
          "metadata": {},
          "execution_count": 190
        }
      ]
    },
    {
      "cell_type": "markdown",
      "source": [
        "### Random Forest Classifier"
      ],
      "metadata": {
        "id": "bGThex_XkXti"
      }
    },
    {
      "cell_type": "markdown",
      "source": [
        "#### Training Random Forest Model"
      ],
      "metadata": {
        "id": "z0LJPpEtmjWe"
      }
    },
    {
      "cell_type": "code",
      "source": [
        "rf = RandomForestClassifier()"
      ],
      "metadata": {
        "id": "PVWqIp11jmfG"
      },
      "execution_count": null,
      "outputs": []
    },
    {
      "cell_type": "code",
      "source": [
        "rf.fit(X_train_cv, y_train)"
      ],
      "metadata": {
        "colab": {
          "base_uri": "https://localhost:8080/"
        },
        "id": "bNZM_8quj6lp",
        "outputId": "88df840c-dee0-48c5-bf02-a60bf901cb48"
      },
      "execution_count": null,
      "outputs": [
        {
          "output_type": "execute_result",
          "data": {
            "text/plain": [
              "RandomForestClassifier()"
            ]
          },
          "metadata": {},
          "execution_count": 192
        }
      ]
    },
    {
      "cell_type": "markdown",
      "source": [
        "### What is the training set accuracy of spamCART?"
      ],
      "metadata": {
        "id": "qOB1QS73lsNa"
      }
    },
    {
      "cell_type": "code",
      "source": [
        "y_train_pred_cart = cart.predict(X_train_cv.toarray())"
      ],
      "metadata": {
        "id": "ryXpM5Dul1EC"
      },
      "execution_count": null,
      "outputs": []
    },
    {
      "cell_type": "code",
      "source": [
        "print(f'Accuracy on training dataset: {accuracy_score(y_train, y_train_pred_cart)}')"
      ],
      "metadata": {
        "colab": {
          "base_uri": "https://localhost:8080/"
        },
        "id": "dM0wLNEJmDDp",
        "outputId": "5fe51983-e631-4c8a-cd9b-0fd16fae8fc7"
      },
      "execution_count": null,
      "outputs": [
        {
          "output_type": "stream",
          "name": "stdout",
          "text": [
            "Accuracy on training dataset: 1.0\n"
          ]
        }
      ]
    },
    {
      "cell_type": "markdown",
      "source": [
        "Answer: The accuracy on training dataset is 100%"
      ],
      "metadata": {
        "id": "-Rea8GXGmTJx"
      }
    },
    {
      "cell_type": "markdown",
      "source": [
        "### What is the training set accuracy of spamRF?"
      ],
      "metadata": {
        "id": "1SB73NPxnHwl"
      }
    },
    {
      "cell_type": "code",
      "source": [
        "y_train_pred_rf = rf.predict(X_train_cv.toarray())"
      ],
      "metadata": {
        "id": "JYtfiS7xnHwm"
      },
      "execution_count": null,
      "outputs": []
    },
    {
      "cell_type": "code",
      "source": [
        "print(f'Accuracy on training dataset: {accuracy_score(y_train, y_train_pred_rf)}')"
      ],
      "metadata": {
        "colab": {
          "base_uri": "https://localhost:8080/"
        },
        "outputId": "d12740d4-e668-4e13-a8e1-a88864827df7",
        "id": "1cCWEC6AnHwm"
      },
      "execution_count": null,
      "outputs": [
        {
          "output_type": "stream",
          "name": "stdout",
          "text": [
            "Accuracy on training dataset: 1.0\n"
          ]
        }
      ]
    },
    {
      "cell_type": "markdown",
      "source": [
        "Answer: The accuracy on training dataset is 100%"
      ],
      "metadata": {
        "id": "epev0ATrnHwn"
      }
    },
    {
      "cell_type": "markdown",
      "source": [
        "### What is the training set AUC of spamCART?"
      ],
      "metadata": {
        "id": "THiKyknenVpE"
      }
    },
    {
      "cell_type": "code",
      "source": [
        "fpr, tpr, thresholds = roc_curve(y_train, y_train_pred_cart)\n",
        "print(f'AUC on training dataset: {auc(fpr, tpr)}')"
      ],
      "metadata": {
        "colab": {
          "base_uri": "https://localhost:8080/"
        },
        "id": "xEcGaa3nnfhU",
        "outputId": "8791dcab-4c4d-4a23-a294-ca3440335f6b"
      },
      "execution_count": null,
      "outputs": [
        {
          "output_type": "stream",
          "name": "stdout",
          "text": [
            "AUC on training dataset: 1.0\n"
          ]
        }
      ]
    },
    {
      "cell_type": "markdown",
      "source": [
        "Answer: The AUC on training dataset is 1.0."
      ],
      "metadata": {
        "id": "2YPvCEdloHBQ"
      }
    },
    {
      "cell_type": "markdown",
      "source": [
        "### What is the training set AUC of spamRF?"
      ],
      "metadata": {
        "id": "CGX-_8NHoK5j"
      }
    },
    {
      "cell_type": "code",
      "source": [
        "fpr, tpr, thresholds = roc_curve(y_train, y_train_pred_rf)\n",
        "print(f'AUC on training dataset: {auc(fpr, tpr)}')"
      ],
      "metadata": {
        "colab": {
          "base_uri": "https://localhost:8080/"
        },
        "outputId": "f88e17c5-63bf-4ca9-c251-69660855617d",
        "id": "NKLQqFsToK5l"
      },
      "execution_count": null,
      "outputs": [
        {
          "output_type": "stream",
          "name": "stdout",
          "text": [
            "AUC on training dataset: 1.0\n"
          ]
        }
      ]
    },
    {
      "cell_type": "markdown",
      "source": [
        "Answer: The AUC on training dataset is 1.0."
      ],
      "metadata": {
        "id": "xGXQxImBoK5m"
      }
    },
    {
      "cell_type": "markdown",
      "source": [
        "## Problem 4.1 – Evaluating on the Test Set "
      ],
      "metadata": {
        "id": "DQisfgKyoTUN"
      }
    },
    {
      "cell_type": "markdown",
      "source": [
        "### What is the testing set accuracy of spamCART?"
      ],
      "metadata": {
        "id": "Mk9BR1Q8oZ2G"
      }
    },
    {
      "cell_type": "code",
      "source": [
        "y_test_pred_cart = cart.predict(X_test_cv.toarray())"
      ],
      "metadata": {
        "id": "XNsJGkUMojpy"
      },
      "execution_count": null,
      "outputs": []
    },
    {
      "cell_type": "code",
      "source": [
        "print(f'Accuracy on test dataset: {(accuracy_score(y_test, y_test_pred_cart) * 100):.1f} %')"
      ],
      "metadata": {
        "colab": {
          "base_uri": "https://localhost:8080/"
        },
        "outputId": "4fcf69b2-a282-4c3b-94f8-c27b683dc336",
        "id": "rdX99c5Rojpz"
      },
      "execution_count": null,
      "outputs": [
        {
          "output_type": "stream",
          "name": "stdout",
          "text": [
            "Accuracy on test dataset: 92.6 %\n"
          ]
        }
      ]
    },
    {
      "cell_type": "markdown",
      "source": [
        "Answer: The accuracy on testing dataset is 92.6%"
      ],
      "metadata": {
        "id": "PlJokJa5ojp0"
      }
    },
    {
      "cell_type": "markdown",
      "source": [
        "### What is the testing set accuracy of spamRF?"
      ],
      "metadata": {
        "id": "v0__L-zUo1vh"
      }
    },
    {
      "cell_type": "code",
      "source": [
        "y_test_pred_rf = rf.predict(X_test_cv.toarray())"
      ],
      "metadata": {
        "id": "EjO6AD0Wo1vi"
      },
      "execution_count": null,
      "outputs": []
    },
    {
      "cell_type": "code",
      "source": [
        "print(f'Accuracy on test dataset: {(accuracy_score(y_test, y_test_pred_rf) * 100):.1f} %')"
      ],
      "metadata": {
        "colab": {
          "base_uri": "https://localhost:8080/"
        },
        "outputId": "60d20c53-c2b4-428e-9ca7-91ddfc4e5646",
        "id": "JfmIHntEo1vj"
      },
      "execution_count": null,
      "outputs": [
        {
          "output_type": "stream",
          "name": "stdout",
          "text": [
            "Accuracy on test dataset: 95.8 %\n"
          ]
        }
      ]
    },
    {
      "cell_type": "markdown",
      "source": [
        "Answer: The accuracy on testing dataset is 95.8%"
      ],
      "metadata": {
        "id": "QDapmdCdo1vk"
      }
    },
    {
      "cell_type": "markdown",
      "source": [
        "### What is the testing set AUC of spamCART?"
      ],
      "metadata": {
        "id": "hYwyZ3XEqWuG"
      }
    },
    {
      "cell_type": "code",
      "source": [
        "fpr, tpr, thresholds = roc_curve(y_test, y_test_pred_cart)\n",
        "print(f'AUC on testing dataset: {auc(fpr, tpr):.2f}')"
      ],
      "metadata": {
        "colab": {
          "base_uri": "https://localhost:8080/"
        },
        "outputId": "dfc8a01a-7cec-4af3-e6b3-0027ad822533",
        "id": "4OiJOgMrqWuW"
      },
      "execution_count": null,
      "outputs": [
        {
          "output_type": "stream",
          "name": "stdout",
          "text": [
            "AUC on testing dataset: 0.89\n"
          ]
        }
      ]
    },
    {
      "cell_type": "markdown",
      "source": [
        "Answer: The AUC on testing dataset is 0.89."
      ],
      "metadata": {
        "id": "xfto_PrcqWuX"
      }
    },
    {
      "cell_type": "markdown",
      "source": [
        "### What is the testing set AUC of spamRF?"
      ],
      "metadata": {
        "id": "Re4AOQ6yqWuX"
      }
    },
    {
      "cell_type": "code",
      "source": [
        "fpr, tpr, thresholds = roc_curve(y_test, y_test_pred_rf)\n",
        "print(f'AUC on testing dataset: {auc(fpr, tpr):.2f}')"
      ],
      "metadata": {
        "colab": {
          "base_uri": "https://localhost:8080/"
        },
        "outputId": "9e81628a-d41d-4789-b8d6-e3f833518798",
        "id": "N1OhdhJAqWuX"
      },
      "execution_count": null,
      "outputs": [
        {
          "output_type": "stream",
          "name": "stdout",
          "text": [
            "AUC on testing dataset: 0.92\n"
          ]
        }
      ]
    },
    {
      "cell_type": "markdown",
      "source": [
        "Answer: The AUC on testing dataset is 0.92."
      ],
      "metadata": {
        "id": "EVgFBG7qqWuX"
      }
    },
    {
      "cell_type": "markdown",
      "source": [
        "### Which model had the best testing set performance, in terms of accuracy and AUC?"
      ],
      "metadata": {
        "id": "9ENTN4FzrWuE"
      }
    },
    {
      "cell_type": "markdown",
      "source": [
        "#### Plotting ROC Curve for both the models"
      ],
      "metadata": {
        "id": "uEXpOOQcrhDo"
      }
    },
    {
      "cell_type": "code",
      "source": [
        "y_pred_proba_rf = rf.predict_proba(X_test_cv)[::,1]\n",
        "fpr, tpr, _ = metrics.roc_curve(y_test,  y_pred_proba_rf)\n",
        "roc_auc = auc(fpr, tpr)\n",
        "\n",
        "#create ROC curve\n",
        "plt.plot(fpr,tpr, label='Random Forest (area = %0.2f)' % roc_auc)\n",
        "plt.ylabel('True Positive Rate')\n",
        "plt.xlabel('False Positive Rate')\n",
        "\n",
        "y_pred_proba_cart = cart.predict_proba(X_test_cv)[::,1]\n",
        "fpr, tpr, _ = metrics.roc_curve(y_test,  y_pred_proba_cart)\n",
        "roc_auc = auc(fpr, tpr)\n",
        "plt.plot(fpr,tpr, label='Cart (area = %0.2f)' % roc_auc)\n",
        "plt.plot([0,1],[0,1],color=\"navy\",lw=2,linestyle=\"--\")\n",
        "\n",
        "\n",
        "plt.legend()\n",
        "plt.show()"
      ],
      "metadata": {
        "colab": {
          "base_uri": "https://localhost:8080/",
          "height": 279
        },
        "id": "gqH2cIkmnMt9",
        "outputId": "caf2b3a5-c46e-4bc1-d94a-e7e9e559c41a"
      },
      "execution_count": null,
      "outputs": [
        {
          "output_type": "display_data",
          "data": {
            "text/plain": [
              "<Figure size 432x288 with 1 Axes>"
            ],
            "image/png": "[encoded data removed]"
          },
          "metadata": {
            "needs_background": "light"
          }
        }
      ]
    },
    {
      "cell_type": "markdown",
      "source": [
        "Since Random Forest has a larger ROC Area that CART model, Random forest is better than CART in terms of AUC"
      ],
      "metadata": {
        "id": "JZzAnzImrlV9"
      }
    },
    {
      "cell_type": "markdown",
      "source": [
        "#### Comparing Accuracy of the two Models"
      ],
      "metadata": {
        "id": "IcIYRYDPs8qm"
      }
    },
    {
      "cell_type": "code",
      "source": [
        "pd.DataFrame([['CART', round((accuracy_score(y_test, y_test_pred_cart) * 100),1)],\n",
        "              ['Random Forest', round((accuracy_score(y_test, y_test_pred_rf) * 100),1)]],\n",
        "             columns=['Model','Testing Accuracy'])"
      ],
      "metadata": {
        "id": "lFonqa9epsad",
        "colab": {
          "base_uri": "https://localhost:8080/",
          "height": 112
        },
        "outputId": "80b2664b-442d-4bcc-c9bb-ebd1723c035f"
      },
      "execution_count": null,
      "outputs": [
        {
          "output_type": "execute_result",
          "data": {
            "text/plain": [
              "           Model  Testing Accuracy\n",
              "0           CART              92.6\n",
              "1  Random Forest              95.8"
            ],
            "text/html": [
              "\n",
              "  <div id=\"df-6bf779d8-4156-4ac4-a538-93f701aac470\">\n",
              "    <div class=\"colab-df-container\">\n",
              "      <div>\n",
              "<style scoped>\n",
              "    .dataframe tbody tr th:only-of-type {\n",
              "        vertical-align: middle;\n",
              "    }\n",
              "\n",
              "    .dataframe tbody tr th {\n",
              "        vertical-align: top;\n",
              "    }\n",
              "\n",
              "    .dataframe thead th {\n",
              "        text-align: right;\n",
              "    }\n",
              "</style>\n",
              "<table border=\"1\" class=\"dataframe\">\n",
              "  <thead>\n",
              "    <tr style=\"text-align: right;\">\n",
              "      <th></th>\n",
              "      <th>Model</th>\n",
              "      <th>Testing Accuracy</th>\n",
              "    </tr>\n",
              "  </thead>\n",
              "  <tbody>\n",
              "    <tr>\n",
              "      <th>0</th>\n",
              "      <td>CART</td>\n",
              "      <td>92.6</td>\n",
              "    </tr>\n",
              "    <tr>\n",
              "      <th>1</th>\n",
              "      <td>Random Forest</td>\n",
              "      <td>95.8</td>\n",
              "    </tr>\n",
              "  </tbody>\n",
              "</table>\n",
              "</div>\n",
              "      <button class=\"colab-df-convert\" onclick=\"convertToInteractive('df-6bf779d8-4156-4ac4-a538-93f701aac470')\"\n",
              "              title=\"Convert this dataframe to an interactive table.\"\n",
              "              style=\"display:none;\">\n",
              "        \n",
              "  <svg xmlns=\"http://www.w3.org/2000/svg\" height=\"24px\"viewBox=\"0 0 24 24\"\n",
              "       width=\"24px\">\n",
              "    <path d=\"M0 0h24v24H0V0z\" fill=\"none\"/>\n",
              "    <path d=\"M18.56 5.44l.94 2.06.94-2.06 2.06-.94-2.06-.94-.94-2.06-.94 2.06-2.06.94zm-11 1L8.5 8.5l.94-2.06 2.06-.94-2.06-.94L8.5 2.5l-.94 2.06-2.06.94zm10 10l.94 2.06.94-2.06 2.06-.94-2.06-.94-.94-2.06-.94 2.06-2.06.94z\"/><path d=\"M17.41 7.96l-1.37-1.37c-.4-.4-.92-.59-1.43-.59-.52 0-1.04.2-1.43.59L10.3 9.45l-7.72 7.72c-.78.78-.78 2.05 0 2.83L4 21.41c.39.39.9.59 1.41.59.51 0 1.02-.2 1.41-.59l7.78-7.78 2.81-2.81c.8-.78.8-2.07 0-2.86zM5.41 20L4 18.59l7.72-7.72 1.47 1.35L5.41 20z\"/>\n",
              "  </svg>\n",
              "      </button>\n",
              "      \n",
              "  <style>\n",
              "    .colab-df-container {\n",
              "      display:flex;\n",
              "      flex-wrap:wrap;\n",
              "      gap: 12px;\n",
              "    }\n",
              "\n",
              "    .colab-df-convert {\n",
              "      background-color: #E8F0FE;\n",
              "      border: none;\n",
              "      border-radius: 50%;\n",
              "      cursor: pointer;\n",
              "      display: none;\n",
              "      fill: #1967D2;\n",
              "      height: 32px;\n",
              "      padding: 0 0 0 0;\n",
              "      width: 32px;\n",
              "    }\n",
              "\n",
              "    .colab-df-convert:hover {\n",
              "      background-color: #E2EBFA;\n",
              "      box-shadow: 0px 1px 2px rgba(60, 64, 67, 0.3), 0px 1px 3px 1px rgba(60, 64, 67, 0.15);\n",
              "      fill: #174EA6;\n",
              "    }\n",
              "\n",
              "    [theme=dark] .colab-df-convert {\n",
              "      background-color: #3B4455;\n",
              "      fill: #D2E3FC;\n",
              "    }\n",
              "\n",
              "    [theme=dark] .colab-df-convert:hover {\n",
              "      background-color: #434B5C;\n",
              "      box-shadow: 0px 1px 3px 1px rgba(0, 0, 0, 0.15);\n",
              "      filter: drop-shadow(0px 1px 2px rgba(0, 0, 0, 0.3));\n",
              "      fill: #FFFFFF;\n",
              "    }\n",
              "  </style>\n",
              "\n",
              "      <script>\n",
              "        const buttonEl =\n",
              "          document.querySelector('#df-6bf779d8-4156-4ac4-a538-93f701aac470 button.colab-df-convert');\n",
              "        buttonEl.style.display =\n",
              "          google.colab.kernel.accessAllowed ? 'block' : 'none';\n",
              "\n",
              "        async function convertToInteractive(key) {\n",
              "          const element = document.querySelector('#df-6bf779d8-4156-4ac4-a538-93f701aac470');\n",
              "          const dataTable =\n",
              "            await google.colab.kernel.invokeFunction('convertToInteractive',\n",
              "                                                     [key], {});\n",
              "          if (!dataTable) return;\n",
              "\n",
              "          const docLinkHtml = 'Like what you see? Visit the ' +\n",
              "            '<a target=\"_blank\" href=https://colab.research.google.com/notebooks/data_table.ipynb>data table notebook</a>'\n",
              "            + ' to learn more about interactive tables.';\n",
              "          element.innerHTML = '';\n",
              "          dataTable['output_type'] = 'display_data';\n",
              "          await google.colab.output.renderOutput(dataTable, element);\n",
              "          const docLink = document.createElement('div');\n",
              "          docLink.innerHTML = docLinkHtml;\n",
              "          element.appendChild(docLink);\n",
              "        }\n",
              "      </script>\n",
              "    </div>\n",
              "  </div>\n",
              "  "
            ]
          },
          "metadata": {},
          "execution_count": 221
        }
      ]
    },
    {
      "cell_type": "markdown",
      "source": [
        "We can see that Random Fores has higher accuracy than CART model."
      ],
      "metadata": {
        "id": "Jdsyi_5XtBoh"
      }
    },
    {
      "cell_type": "markdown",
      "source": [
        "Answer: Therefore, Random Forest model has better testing performance than CART model in terms of AUC and Accuracy."
      ],
      "metadata": {
        "id": "PcYyVJVatHdi"
      }
    },
    {
      "cell_type": "markdown",
      "source": [
        "### Why is random forest performing better?"
      ],
      "metadata": {
        "id": "4cDj9fbKteF1"
      }
    },
    {
      "cell_type": "markdown",
      "source": [
        "*   Random Forest creates multiple CART trees based on \"bootstrapped\" samples of data and then combines the predictions.\n",
        "*   Usually, the combination is an average of all the predictions from all CART models. \n",
        "*   Random Forest has better predictive power and accuracy than a single CART model (because of random forest exhibit lower variance).\n",
        "\n",
        "\n"
      ],
      "metadata": {
        "id": "sSDOWaBwwHhr"
      }
    },
    {
      "cell_type": "markdown",
      "source": [
        "## Conclusion"
      ],
      "metadata": {
        "id": "0vliQEcOueSD"
      }
    },
    {
      "cell_type": "markdown",
      "source": [
        "*   It is important to remove the stopwords from the textual data since they can negatively affect the model performance. \n",
        "*   Stemming helps us obtain the root form of a derived word.\n",
        "*   Since the document term matrix might be very sparse, we can limit the dtm to contain words appearing in at least a certain number of documents. This can reduce the number of terms in our matrix and decrease the training time.\n",
        "\n",
        "\n",
        "\n"
      ],
      "metadata": {
        "id": "hHZm69lIukRf"
      }
    }
  ]
}