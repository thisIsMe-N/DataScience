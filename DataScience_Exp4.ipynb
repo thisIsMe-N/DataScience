{
  "nbformat": 4,
  "nbformat_minor": 0,
  "metadata": {
    "colab": {
      "name": "DataScience_Exp4.ipynb",
      "provenance": [],
      "collapsed_sections": [],
      "toc_visible": true
    },
    "kernelspec": {
      "name": "python3",
      "display_name": "Python 3"
    },
    "language_info": {
      "name": "python"
    }
  },
  "cells": [
    {
      "cell_type": "markdown",
      "source": [
        "## Experiment 4: Analysing Statistical Data using Python\n",
        "## Nikita Chitre\n",
        "## Roll No 4\n",
        "## Batch A"
      ],
      "metadata": {
        "id": "X6EZPnthTv7z"
      }
    },
    {
      "cell_type": "markdown",
      "source": [
        "Objectives: Perform statistical data analysis such as: Estimators of the main statistical measures (mean, variance, standard deviation, covariance correlation, standard error), Main distributions ( Normal distribution, chi-square distribution), Hypothesis testing, pair-wise association (Pearson correlation test, t-test, ANOVA), Non-parametric test (Spearman rank0 etc)\n",
        "\n",
        "\n",
        "\n",
        "\n",
        "\n"
      ],
      "metadata": {
        "id": "rwfT6xNbSr8G"
      }
    },
    {
      "cell_type": "markdown",
      "source": [
        "Attribute Information:\n",
        "\n",
        "    1. ZN: Proportion of residential land zoned for lots over 25,000 sq. ft\n",
        "    2. INDUS: Proportion of non-retail business acres per town\n",
        "    3. CHAS: Charles River dummy variable (= 1 if tract bounds river; 0 otherwise)\n",
        "    4. NOX: Nitric oxide concentration (parts per 10 million)\n",
        "    5. RM: Average number of rooms per dwelling\n",
        "    6. AGE: Proportion of owner-occupied units built prior to 1940\n",
        "    7. DIS: Weighted distances to five Boston employment centers\n",
        "    8. RAD: Index of accessibility to radial highways\n",
        "    9. TAX: Full-value property tax rate per \\$10,000\n",
        "    10. PTRATIO: Pupil-teacher ratio by town\n",
        "    11. B: 1000(Bk — 0.63)², where Bk is the proportion of people of African American descent  by town\n",
        "    12. LSTAT: Percentage of lower status of the population\n",
        "    13. CRIM: Per capita crime rate by town\n",
        "    14. Price: Median value of owner-occupied homes in $1000s"
      ],
      "metadata": {
        "id": "iLwqBqlUT5tV"
      }
    },
    {
      "cell_type": "code",
      "execution_count": 1,
      "metadata": {
        "id": "HllCOXkyZXpX"
      },
      "outputs": [],
      "source": [
        "# importing necessary libraries\n",
        "import pandas as pd\n",
        "import numpy as np\n",
        "import matplotlib.pyplot as plt\n",
        "import seaborn as sns\n",
        "import warnings\n",
        "from sklearn.datasets import make_classification, make_regression\n",
        "from sklearn.datasets import load_boston\n",
        "from sklearn.model_selection import train_test_split\n",
        "from sklearn.linear_model import LinearRegression\n",
        "import scipy\n",
        "warnings.filterwarnings('ignore')"
      ]
    },
    {
      "cell_type": "markdown",
      "source": [
        "### Reading the data"
      ],
      "metadata": {
        "id": "QzxEoj7jH1do"
      }
    },
    {
      "cell_type": "code",
      "source": [
        "boston_dataset = load_boston()"
      ],
      "metadata": {
        "id": "9Unsr24CqsmW"
      },
      "execution_count": 2,
      "outputs": []
    },
    {
      "cell_type": "code",
      "source": [
        "df = pd.DataFrame(boston_dataset.data, columns=boston_dataset.feature_names)"
      ],
      "metadata": {
        "id": "VfBprW-Xquj6"
      },
      "execution_count": 3,
      "outputs": []
    },
    {
      "cell_type": "code",
      "source": [
        "df['Price'] = boston_dataset.target"
      ],
      "metadata": {
        "id": "dTTsAbt_q1bw"
      },
      "execution_count": 4,
      "outputs": []
    },
    {
      "cell_type": "code",
      "source": [
        "df.head()"
      ],
      "metadata": {
        "colab": {
          "base_uri": "https://localhost:8080/",
          "height": 206
        },
        "id": "QEDqWN1ul9H_",
        "outputId": "522275be-ef54-40cc-dfdf-d8e63297029c"
      },
      "execution_count": 5,
      "outputs": [
        {
          "output_type": "execute_result",
          "data": {
            "text/plain": [
              "      CRIM    ZN  INDUS  CHAS    NOX     RM   AGE     DIS  RAD    TAX  \\\n",
              "0  0.00632  18.0   2.31   0.0  0.538  6.575  65.2  4.0900  1.0  296.0   \n",
              "1  0.02731   0.0   7.07   0.0  0.469  6.421  78.9  4.9671  2.0  242.0   \n",
              "2  0.02729   0.0   7.07   0.0  0.469  7.185  61.1  4.9671  2.0  242.0   \n",
              "3  0.03237   0.0   2.18   0.0  0.458  6.998  45.8  6.0622  3.0  222.0   \n",
              "4  0.06905   0.0   2.18   0.0  0.458  7.147  54.2  6.0622  3.0  222.0   \n",
              "\n",
              "   PTRATIO       B  LSTAT  Price  \n",
              "0     15.3  396.90   4.98   24.0  \n",
              "1     17.8  396.90   9.14   21.6  \n",
              "2     17.8  392.83   4.03   34.7  \n",
              "3     18.7  394.63   2.94   33.4  \n",
              "4     18.7  396.90   5.33   36.2  "
            ],
            "text/html": [
              "\n",
              "  <div id=\"df-abb395f2-9c5b-4332-98f3-a5abf94c347f\">\n",
              "    <div class=\"colab-df-container\">\n",
              "      <div>\n",
              "<style scoped>\n",
              "    .dataframe tbody tr th:only-of-type {\n",
              "        vertical-align: middle;\n",
              "    }\n",
              "\n",
              "    .dataframe tbody tr th {\n",
              "        vertical-align: top;\n",
              "    }\n",
              "\n",
              "    .dataframe thead th {\n",
              "        text-align: right;\n",
              "    }\n",
              "</style>\n",
              "<table border=\"1\" class=\"dataframe\">\n",
              "  <thead>\n",
              "    <tr style=\"text-align: right;\">\n",
              "      <th></th>\n",
              "      <th>CRIM</th>\n",
              "      <th>ZN</th>\n",
              "      <th>INDUS</th>\n",
              "      <th>CHAS</th>\n",
              "      <th>NOX</th>\n",
              "      <th>RM</th>\n",
              "      <th>AGE</th>\n",
              "      <th>DIS</th>\n",
              "      <th>RAD</th>\n",
              "      <th>TAX</th>\n",
              "      <th>PTRATIO</th>\n",
              "      <th>B</th>\n",
              "      <th>LSTAT</th>\n",
              "      <th>Price</th>\n",
              "    </tr>\n",
              "  </thead>\n",
              "  <tbody>\n",
              "    <tr>\n",
              "      <th>0</th>\n",
              "      <td>0.00632</td>\n",
              "      <td>18.0</td>\n",
              "      <td>2.31</td>\n",
              "      <td>0.0</td>\n",
              "      <td>0.538</td>\n",
              "      <td>6.575</td>\n",
              "      <td>65.2</td>\n",
              "      <td>4.0900</td>\n",
              "      <td>1.0</td>\n",
              "      <td>296.0</td>\n",
              "      <td>15.3</td>\n",
              "      <td>396.90</td>\n",
              "      <td>4.98</td>\n",
              "      <td>24.0</td>\n",
              "    </tr>\n",
              "    <tr>\n",
              "      <th>1</th>\n",
              "      <td>0.02731</td>\n",
              "      <td>0.0</td>\n",
              "      <td>7.07</td>\n",
              "      <td>0.0</td>\n",
              "      <td>0.469</td>\n",
              "      <td>6.421</td>\n",
              "      <td>78.9</td>\n",
              "      <td>4.9671</td>\n",
              "      <td>2.0</td>\n",
              "      <td>242.0</td>\n",
              "      <td>17.8</td>\n",
              "      <td>396.90</td>\n",
              "      <td>9.14</td>\n",
              "      <td>21.6</td>\n",
              "    </tr>\n",
              "    <tr>\n",
              "      <th>2</th>\n",
              "      <td>0.02729</td>\n",
              "      <td>0.0</td>\n",
              "      <td>7.07</td>\n",
              "      <td>0.0</td>\n",
              "      <td>0.469</td>\n",
              "      <td>7.185</td>\n",
              "      <td>61.1</td>\n",
              "      <td>4.9671</td>\n",
              "      <td>2.0</td>\n",
              "      <td>242.0</td>\n",
              "      <td>17.8</td>\n",
              "      <td>392.83</td>\n",
              "      <td>4.03</td>\n",
              "      <td>34.7</td>\n",
              "    </tr>\n",
              "    <tr>\n",
              "      <th>3</th>\n",
              "      <td>0.03237</td>\n",
              "      <td>0.0</td>\n",
              "      <td>2.18</td>\n",
              "      <td>0.0</td>\n",
              "      <td>0.458</td>\n",
              "      <td>6.998</td>\n",
              "      <td>45.8</td>\n",
              "      <td>6.0622</td>\n",
              "      <td>3.0</td>\n",
              "      <td>222.0</td>\n",
              "      <td>18.7</td>\n",
              "      <td>394.63</td>\n",
              "      <td>2.94</td>\n",
              "      <td>33.4</td>\n",
              "    </tr>\n",
              "    <tr>\n",
              "      <th>4</th>\n",
              "      <td>0.06905</td>\n",
              "      <td>0.0</td>\n",
              "      <td>2.18</td>\n",
              "      <td>0.0</td>\n",
              "      <td>0.458</td>\n",
              "      <td>7.147</td>\n",
              "      <td>54.2</td>\n",
              "      <td>6.0622</td>\n",
              "      <td>3.0</td>\n",
              "      <td>222.0</td>\n",
              "      <td>18.7</td>\n",
              "      <td>396.90</td>\n",
              "      <td>5.33</td>\n",
              "      <td>36.2</td>\n",
              "    </tr>\n",
              "  </tbody>\n",
              "</table>\n",
              "</div>\n",
              "      <button class=\"colab-df-convert\" onclick=\"convertToInteractive('df-abb395f2-9c5b-4332-98f3-a5abf94c347f')\"\n",
              "              title=\"Convert this dataframe to an interactive table.\"\n",
              "              style=\"display:none;\">\n",
              "        \n",
              "  <svg xmlns=\"http://www.w3.org/2000/svg\" height=\"24px\"viewBox=\"0 0 24 24\"\n",
              "       width=\"24px\">\n",
              "    <path d=\"M0 0h24v24H0V0z\" fill=\"none\"/>\n",
              "    <path d=\"M18.56 5.44l.94 2.06.94-2.06 2.06-.94-2.06-.94-.94-2.06-.94 2.06-2.06.94zm-11 1L8.5 8.5l.94-2.06 2.06-.94-2.06-.94L8.5 2.5l-.94 2.06-2.06.94zm10 10l.94 2.06.94-2.06 2.06-.94-2.06-.94-.94-2.06-.94 2.06-2.06.94z\"/><path d=\"M17.41 7.96l-1.37-1.37c-.4-.4-.92-.59-1.43-.59-.52 0-1.04.2-1.43.59L10.3 9.45l-7.72 7.72c-.78.78-.78 2.05 0 2.83L4 21.41c.39.39.9.59 1.41.59.51 0 1.02-.2 1.41-.59l7.78-7.78 2.81-2.81c.8-.78.8-2.07 0-2.86zM5.41 20L4 18.59l7.72-7.72 1.47 1.35L5.41 20z\"/>\n",
              "  </svg>\n",
              "      </button>\n",
              "      \n",
              "  <style>\n",
              "    .colab-df-container {\n",
              "      display:flex;\n",
              "      flex-wrap:wrap;\n",
              "      gap: 12px;\n",
              "    }\n",
              "\n",
              "    .colab-df-convert {\n",
              "      background-color: #E8F0FE;\n",
              "      border: none;\n",
              "      border-radius: 50%;\n",
              "      cursor: pointer;\n",
              "      display: none;\n",
              "      fill: #1967D2;\n",
              "      height: 32px;\n",
              "      padding: 0 0 0 0;\n",
              "      width: 32px;\n",
              "    }\n",
              "\n",
              "    .colab-df-convert:hover {\n",
              "      background-color: #E2EBFA;\n",
              "      box-shadow: 0px 1px 2px rgba(60, 64, 67, 0.3), 0px 1px 3px 1px rgba(60, 64, 67, 0.15);\n",
              "      fill: #174EA6;\n",
              "    }\n",
              "\n",
              "    [theme=dark] .colab-df-convert {\n",
              "      background-color: #3B4455;\n",
              "      fill: #D2E3FC;\n",
              "    }\n",
              "\n",
              "    [theme=dark] .colab-df-convert:hover {\n",
              "      background-color: #434B5C;\n",
              "      box-shadow: 0px 1px 3px 1px rgba(0, 0, 0, 0.15);\n",
              "      filter: drop-shadow(0px 1px 2px rgba(0, 0, 0, 0.3));\n",
              "      fill: #FFFFFF;\n",
              "    }\n",
              "  </style>\n",
              "\n",
              "      <script>\n",
              "        const buttonEl =\n",
              "          document.querySelector('#df-abb395f2-9c5b-4332-98f3-a5abf94c347f button.colab-df-convert');\n",
              "        buttonEl.style.display =\n",
              "          google.colab.kernel.accessAllowed ? 'block' : 'none';\n",
              "\n",
              "        async function convertToInteractive(key) {\n",
              "          const element = document.querySelector('#df-abb395f2-9c5b-4332-98f3-a5abf94c347f');\n",
              "          const dataTable =\n",
              "            await google.colab.kernel.invokeFunction('convertToInteractive',\n",
              "                                                     [key], {});\n",
              "          if (!dataTable) return;\n",
              "\n",
              "          const docLinkHtml = 'Like what you see? Visit the ' +\n",
              "            '<a target=\"_blank\" href=https://colab.research.google.com/notebooks/data_table.ipynb>data table notebook</a>'\n",
              "            + ' to learn more about interactive tables.';\n",
              "          element.innerHTML = '';\n",
              "          dataTable['output_type'] = 'display_data';\n",
              "          await google.colab.output.renderOutput(dataTable, element);\n",
              "          const docLink = document.createElement('div');\n",
              "          docLink.innerHTML = docLinkHtml;\n",
              "          element.appendChild(docLink);\n",
              "        }\n",
              "      </script>\n",
              "    </div>\n",
              "  </div>\n",
              "  "
            ]
          },
          "metadata": {},
          "execution_count": 5
        }
      ]
    },
    {
      "cell_type": "markdown",
      "source": [
        "## Statistical Analysis"
      ],
      "metadata": {
        "id": "ClfWrEthXKSe"
      }
    },
    {
      "cell_type": "markdown",
      "source": [
        "### Correlation"
      ],
      "metadata": {
        "id": "Rv10NnKmUPF3"
      }
    },
    {
      "cell_type": "code",
      "source": [
        "_ = plt.figure(figsize=(10,8))\n",
        "sns.heatmap(df.corr(), annot=True)"
      ],
      "metadata": {
        "colab": {
          "base_uri": "https://localhost:8080/",
          "height": 505
        },
        "id": "Z1VjMANXaFbm",
        "outputId": "ceaffa34-6327-40a8-f513-d39859f9a451"
      },
      "execution_count": 7,
      "outputs": [
        {
          "output_type": "execute_result",
          "data": {
            "text/plain": [
              "<matplotlib.axes._subplots.AxesSubplot at 0x7f3a369f2e50>"
            ]
          },
          "metadata": {},
          "execution_count": 7
        },
        {
          "output_type": "display_data",
          "data": {
            "text/plain": [
              "<Figure size 720x576 with 2 Axes>"
            ],
            "image/png": "[encoded data removed]"
          },
          "metadata": {
            "needs_background": "light"
          }
        }
      ]
    },
    {
      "cell_type": "markdown",
      "source": [
        "From the heatmap, we can see that columns like LSTAT, RM, PTRATIO have highest correlation with Price column. "
      ],
      "metadata": {
        "id": "zDMNhdRXUc2R"
      }
    },
    {
      "cell_type": "code",
      "source": [
        "df.shape"
      ],
      "metadata": {
        "colab": {
          "base_uri": "https://localhost:8080/"
        },
        "id": "pXllz7EShNiR",
        "outputId": "3d28b6ce-f848-4217-94a4-40d78e8406b3"
      },
      "execution_count": 8,
      "outputs": [
        {
          "output_type": "execute_result",
          "data": {
            "text/plain": [
              "(506, 14)"
            ]
          },
          "metadata": {},
          "execution_count": 8
        }
      ]
    },
    {
      "cell_type": "markdown",
      "source": [
        "Our dataset has 14 columns and 506 rows"
      ],
      "metadata": {
        "id": "_FLzUEltU6IA"
      }
    },
    {
      "cell_type": "markdown",
      "source": [
        "Let's check if dataset has Missing values"
      ],
      "metadata": {
        "id": "jr0RZEKFVD7Q"
      }
    },
    {
      "cell_type": "code",
      "source": [
        "df.info()"
      ],
      "metadata": {
        "colab": {
          "base_uri": "https://localhost:8080/"
        },
        "id": "EZuqdaswdmgb",
        "outputId": "9eff23c8-f9d5-468c-fa19-acdd0adc87a1"
      },
      "execution_count": 9,
      "outputs": [
        {
          "output_type": "stream",
          "name": "stdout",
          "text": [
            "<class 'pandas.core.frame.DataFrame'>\n",
            "RangeIndex: 506 entries, 0 to 505\n",
            "Data columns (total 14 columns):\n",
            " #   Column   Non-Null Count  Dtype  \n",
            "---  ------   --------------  -----  \n",
            " 0   CRIM     506 non-null    float64\n",
            " 1   ZN       506 non-null    float64\n",
            " 2   INDUS    506 non-null    float64\n",
            " 3   CHAS     506 non-null    float64\n",
            " 4   NOX      506 non-null    float64\n",
            " 5   RM       506 non-null    float64\n",
            " 6   AGE      506 non-null    float64\n",
            " 7   DIS      506 non-null    float64\n",
            " 8   RAD      506 non-null    float64\n",
            " 9   TAX      506 non-null    float64\n",
            " 10  PTRATIO  506 non-null    float64\n",
            " 11  B        506 non-null    float64\n",
            " 12  LSTAT    506 non-null    float64\n",
            " 13  Price    506 non-null    float64\n",
            "dtypes: float64(14)\n",
            "memory usage: 55.5 KB\n"
          ]
        }
      ]
    },
    {
      "cell_type": "markdown",
      "source": [
        "Here we can see that the  dataset has no NULL vaues"
      ],
      "metadata": {
        "id": "rI_cJesuILaB"
      }
    },
    {
      "cell_type": "markdown",
      "source": [
        "### Getting the Count, Mean, STD, min and max"
      ],
      "metadata": {
        "id": "dQXU9pJjIyMh"
      }
    },
    {
      "cell_type": "code",
      "source": [
        "df.describe()"
      ],
      "metadata": {
        "colab": {
          "base_uri": "https://localhost:8080/",
          "height": 364
        },
        "id": "lKZs4jhNdlqE",
        "outputId": "3047e356-de62-44c1-8677-53dccea0ec87"
      },
      "execution_count": null,
      "outputs": [
        {
          "output_type": "execute_result",
          "data": {
            "text/plain": [
              "             CRIM          ZN       INDUS        CHAS         NOX          RM  \\\n",
              "count  506.000000  506.000000  506.000000  506.000000  506.000000  506.000000   \n",
              "mean     3.613524   11.363636   11.136779    0.069170    0.554695    6.284634   \n",
              "std      8.601545   23.322453    6.860353    0.253994    0.115878    0.702617   \n",
              "min      0.006320    0.000000    0.460000    0.000000    0.385000    3.561000   \n",
              "25%      0.082045    0.000000    5.190000    0.000000    0.449000    5.885500   \n",
              "50%      0.256510    0.000000    9.690000    0.000000    0.538000    6.208500   \n",
              "75%      3.677083   12.500000   18.100000    0.000000    0.624000    6.623500   \n",
              "max     88.976200  100.000000   27.740000    1.000000    0.871000    8.780000   \n",
              "\n",
              "              AGE         DIS         RAD         TAX     PTRATIO           B  \\\n",
              "count  506.000000  506.000000  506.000000  506.000000  506.000000  506.000000   \n",
              "mean    68.574901    3.795043    9.549407  408.237154   18.455534  356.674032   \n",
              "std     28.148861    2.105710    8.707259  168.537116    2.164946   91.294864   \n",
              "min      2.900000    1.129600    1.000000  187.000000   12.600000    0.320000   \n",
              "25%     45.025000    2.100175    4.000000  279.000000   17.400000  375.377500   \n",
              "50%     77.500000    3.207450    5.000000  330.000000   19.050000  391.440000   \n",
              "75%     94.075000    5.188425   24.000000  666.000000   20.200000  396.225000   \n",
              "max    100.000000   12.126500   24.000000  711.000000   22.000000  396.900000   \n",
              "\n",
              "            LSTAT       Price  \n",
              "count  506.000000  506.000000  \n",
              "mean    12.653063   22.532806  \n",
              "std      7.141062    9.197104  \n",
              "min      1.730000    5.000000  \n",
              "25%      6.950000   17.025000  \n",
              "50%     11.360000   21.200000  \n",
              "75%     16.955000   25.000000  \n",
              "max     37.970000   50.000000  "
            ],
            "text/html": [
              "\n",
              "  <div id=\"df-a7cb877e-7f78-448f-8d85-1db595f95881\">\n",
              "    <div class=\"colab-df-container\">\n",
              "      <div>\n",
              "<style scoped>\n",
              "    .dataframe tbody tr th:only-of-type {\n",
              "        vertical-align: middle;\n",
              "    }\n",
              "\n",
              "    .dataframe tbody tr th {\n",
              "        vertical-align: top;\n",
              "    }\n",
              "\n",
              "    .dataframe thead th {\n",
              "        text-align: right;\n",
              "    }\n",
              "</style>\n",
              "<table border=\"1\" class=\"dataframe\">\n",
              "  <thead>\n",
              "    <tr style=\"text-align: right;\">\n",
              "      <th></th>\n",
              "      <th>CRIM</th>\n",
              "      <th>ZN</th>\n",
              "      <th>INDUS</th>\n",
              "      <th>CHAS</th>\n",
              "      <th>NOX</th>\n",
              "      <th>RM</th>\n",
              "      <th>AGE</th>\n",
              "      <th>DIS</th>\n",
              "      <th>RAD</th>\n",
              "      <th>TAX</th>\n",
              "      <th>PTRATIO</th>\n",
              "      <th>B</th>\n",
              "      <th>LSTAT</th>\n",
              "      <th>Price</th>\n",
              "    </tr>\n",
              "  </thead>\n",
              "  <tbody>\n",
              "    <tr>\n",
              "      <th>count</th>\n",
              "      <td>506.000000</td>\n",
              "      <td>506.000000</td>\n",
              "      <td>506.000000</td>\n",
              "      <td>506.000000</td>\n",
              "      <td>506.000000</td>\n",
              "      <td>506.000000</td>\n",
              "      <td>506.000000</td>\n",
              "      <td>506.000000</td>\n",
              "      <td>506.000000</td>\n",
              "      <td>506.000000</td>\n",
              "      <td>506.000000</td>\n",
              "      <td>506.000000</td>\n",
              "      <td>506.000000</td>\n",
              "      <td>506.000000</td>\n",
              "    </tr>\n",
              "    <tr>\n",
              "      <th>mean</th>\n",
              "      <td>3.613524</td>\n",
              "      <td>11.363636</td>\n",
              "      <td>11.136779</td>\n",
              "      <td>0.069170</td>\n",
              "      <td>0.554695</td>\n",
              "      <td>6.284634</td>\n",
              "      <td>68.574901</td>\n",
              "      <td>3.795043</td>\n",
              "      <td>9.549407</td>\n",
              "      <td>408.237154</td>\n",
              "      <td>18.455534</td>\n",
              "      <td>356.674032</td>\n",
              "      <td>12.653063</td>\n",
              "      <td>22.532806</td>\n",
              "    </tr>\n",
              "    <tr>\n",
              "      <th>std</th>\n",
              "      <td>8.601545</td>\n",
              "      <td>23.322453</td>\n",
              "      <td>6.860353</td>\n",
              "      <td>0.253994</td>\n",
              "      <td>0.115878</td>\n",
              "      <td>0.702617</td>\n",
              "      <td>28.148861</td>\n",
              "      <td>2.105710</td>\n",
              "      <td>8.707259</td>\n",
              "      <td>168.537116</td>\n",
              "      <td>2.164946</td>\n",
              "      <td>91.294864</td>\n",
              "      <td>7.141062</td>\n",
              "      <td>9.197104</td>\n",
              "    </tr>\n",
              "    <tr>\n",
              "      <th>min</th>\n",
              "      <td>0.006320</td>\n",
              "      <td>0.000000</td>\n",
              "      <td>0.460000</td>\n",
              "      <td>0.000000</td>\n",
              "      <td>0.385000</td>\n",
              "      <td>3.561000</td>\n",
              "      <td>2.900000</td>\n",
              "      <td>1.129600</td>\n",
              "      <td>1.000000</td>\n",
              "      <td>187.000000</td>\n",
              "      <td>12.600000</td>\n",
              "      <td>0.320000</td>\n",
              "      <td>1.730000</td>\n",
              "      <td>5.000000</td>\n",
              "    </tr>\n",
              "    <tr>\n",
              "      <th>25%</th>\n",
              "      <td>0.082045</td>\n",
              "      <td>0.000000</td>\n",
              "      <td>5.190000</td>\n",
              "      <td>0.000000</td>\n",
              "      <td>0.449000</td>\n",
              "      <td>5.885500</td>\n",
              "      <td>45.025000</td>\n",
              "      <td>2.100175</td>\n",
              "      <td>4.000000</td>\n",
              "      <td>279.000000</td>\n",
              "      <td>17.400000</td>\n",
              "      <td>375.377500</td>\n",
              "      <td>6.950000</td>\n",
              "      <td>17.025000</td>\n",
              "    </tr>\n",
              "    <tr>\n",
              "      <th>50%</th>\n",
              "      <td>0.256510</td>\n",
              "      <td>0.000000</td>\n",
              "      <td>9.690000</td>\n",
              "      <td>0.000000</td>\n",
              "      <td>0.538000</td>\n",
              "      <td>6.208500</td>\n",
              "      <td>77.500000</td>\n",
              "      <td>3.207450</td>\n",
              "      <td>5.000000</td>\n",
              "      <td>330.000000</td>\n",
              "      <td>19.050000</td>\n",
              "      <td>391.440000</td>\n",
              "      <td>11.360000</td>\n",
              "      <td>21.200000</td>\n",
              "    </tr>\n",
              "    <tr>\n",
              "      <th>75%</th>\n",
              "      <td>3.677083</td>\n",
              "      <td>12.500000</td>\n",
              "      <td>18.100000</td>\n",
              "      <td>0.000000</td>\n",
              "      <td>0.624000</td>\n",
              "      <td>6.623500</td>\n",
              "      <td>94.075000</td>\n",
              "      <td>5.188425</td>\n",
              "      <td>24.000000</td>\n",
              "      <td>666.000000</td>\n",
              "      <td>20.200000</td>\n",
              "      <td>396.225000</td>\n",
              "      <td>16.955000</td>\n",
              "      <td>25.000000</td>\n",
              "    </tr>\n",
              "    <tr>\n",
              "      <th>max</th>\n",
              "      <td>88.976200</td>\n",
              "      <td>100.000000</td>\n",
              "      <td>27.740000</td>\n",
              "      <td>1.000000</td>\n",
              "      <td>0.871000</td>\n",
              "      <td>8.780000</td>\n",
              "      <td>100.000000</td>\n",
              "      <td>12.126500</td>\n",
              "      <td>24.000000</td>\n",
              "      <td>711.000000</td>\n",
              "      <td>22.000000</td>\n",
              "      <td>396.900000</td>\n",
              "      <td>37.970000</td>\n",
              "      <td>50.000000</td>\n",
              "    </tr>\n",
              "  </tbody>\n",
              "</table>\n",
              "</div>\n",
              "      <button class=\"colab-df-convert\" onclick=\"convertToInteractive('df-a7cb877e-7f78-448f-8d85-1db595f95881')\"\n",
              "              title=\"Convert this dataframe to an interactive table.\"\n",
              "              style=\"display:none;\">\n",
              "        \n",
              "  <svg xmlns=\"http://www.w3.org/2000/svg\" height=\"24px\"viewBox=\"0 0 24 24\"\n",
              "       width=\"24px\">\n",
              "    <path d=\"M0 0h24v24H0V0z\" fill=\"none\"/>\n",
              "    <path d=\"M18.56 5.44l.94 2.06.94-2.06 2.06-.94-2.06-.94-.94-2.06-.94 2.06-2.06.94zm-11 1L8.5 8.5l.94-2.06 2.06-.94-2.06-.94L8.5 2.5l-.94 2.06-2.06.94zm10 10l.94 2.06.94-2.06 2.06-.94-2.06-.94-.94-2.06-.94 2.06-2.06.94z\"/><path d=\"M17.41 7.96l-1.37-1.37c-.4-.4-.92-.59-1.43-.59-.52 0-1.04.2-1.43.59L10.3 9.45l-7.72 7.72c-.78.78-.78 2.05 0 2.83L4 21.41c.39.39.9.59 1.41.59.51 0 1.02-.2 1.41-.59l7.78-7.78 2.81-2.81c.8-.78.8-2.07 0-2.86zM5.41 20L4 18.59l7.72-7.72 1.47 1.35L5.41 20z\"/>\n",
              "  </svg>\n",
              "      </button>\n",
              "      \n",
              "  <style>\n",
              "    .colab-df-container {\n",
              "      display:flex;\n",
              "      flex-wrap:wrap;\n",
              "      gap: 12px;\n",
              "    }\n",
              "\n",
              "    .colab-df-convert {\n",
              "      background-color: #E8F0FE;\n",
              "      border: none;\n",
              "      border-radius: 50%;\n",
              "      cursor: pointer;\n",
              "      display: none;\n",
              "      fill: #1967D2;\n",
              "      height: 32px;\n",
              "      padding: 0 0 0 0;\n",
              "      width: 32px;\n",
              "    }\n",
              "\n",
              "    .colab-df-convert:hover {\n",
              "      background-color: #E2EBFA;\n",
              "      box-shadow: 0px 1px 2px rgba(60, 64, 67, 0.3), 0px 1px 3px 1px rgba(60, 64, 67, 0.15);\n",
              "      fill: #174EA6;\n",
              "    }\n",
              "\n",
              "    [theme=dark] .colab-df-convert {\n",
              "      background-color: #3B4455;\n",
              "      fill: #D2E3FC;\n",
              "    }\n",
              "\n",
              "    [theme=dark] .colab-df-convert:hover {\n",
              "      background-color: #434B5C;\n",
              "      box-shadow: 0px 1px 3px 1px rgba(0, 0, 0, 0.15);\n",
              "      filter: drop-shadow(0px 1px 2px rgba(0, 0, 0, 0.3));\n",
              "      fill: #FFFFFF;\n",
              "    }\n",
              "  </style>\n",
              "\n",
              "      <script>\n",
              "        const buttonEl =\n",
              "          document.querySelector('#df-a7cb877e-7f78-448f-8d85-1db595f95881 button.colab-df-convert');\n",
              "        buttonEl.style.display =\n",
              "          google.colab.kernel.accessAllowed ? 'block' : 'none';\n",
              "\n",
              "        async function convertToInteractive(key) {\n",
              "          const element = document.querySelector('#df-a7cb877e-7f78-448f-8d85-1db595f95881');\n",
              "          const dataTable =\n",
              "            await google.colab.kernel.invokeFunction('convertToInteractive',\n",
              "                                                     [key], {});\n",
              "          if (!dataTable) return;\n",
              "\n",
              "          const docLinkHtml = 'Like what you see? Visit the ' +\n",
              "            '<a target=\"_blank\" href=https://colab.research.google.com/notebooks/data_table.ipynb>data table notebook</a>'\n",
              "            + ' to learn more about interactive tables.';\n",
              "          element.innerHTML = '';\n",
              "          dataTable['output_type'] = 'display_data';\n",
              "          await google.colab.output.renderOutput(dataTable, element);\n",
              "          const docLink = document.createElement('div');\n",
              "          docLink.innerHTML = docLinkHtml;\n",
              "          element.appendChild(docLink);\n",
              "        }\n",
              "      </script>\n",
              "    </div>\n",
              "  </div>\n",
              "  "
            ]
          },
          "metadata": {},
          "execution_count": 8
        }
      ]
    },
    {
      "cell_type": "markdown",
      "source": [
        "\n",
        "\n",
        "\n",
        "\n",
        "*   We can see that each feature has 560 rows.  \n",
        "*   Feature  CHAS has mean close to zero.\n",
        "*   Also, features NOX and CHAS has Standard Deviation close to zero which means the data points are close to the mean. \n",
        "*   Feature CHAS has values in the range of 0 and 1. \n",
        "\n"
      ],
      "metadata": {
        "id": "YPFf-ZbiI_xH"
      }
    },
    {
      "cell_type": "markdown",
      "source": [
        "#### Median"
      ],
      "metadata": {
        "id": "InicBBg5fVUM"
      }
    },
    {
      "cell_type": "code",
      "source": [
        "df.median()"
      ],
      "metadata": {
        "colab": {
          "base_uri": "https://localhost:8080/"
        },
        "id": "TQz3OQFpfLIA",
        "outputId": "970a305e-490f-48ba-9129-e219204e07ef"
      },
      "execution_count": null,
      "outputs": [
        {
          "output_type": "execute_result",
          "data": {
            "text/plain": [
              "CRIM         0.25651\n",
              "ZN           0.00000\n",
              "INDUS        9.69000\n",
              "CHAS         0.00000\n",
              "NOX          0.53800\n",
              "RM           6.20850\n",
              "AGE         77.50000\n",
              "DIS          3.20745\n",
              "RAD          5.00000\n",
              "TAX        330.00000\n",
              "PTRATIO     19.05000\n",
              "B          391.44000\n",
              "LSTAT       11.36000\n",
              "Price       21.20000\n",
              "dtype: float64"
            ]
          },
          "metadata": {},
          "execution_count": 9
        }
      ]
    },
    {
      "cell_type": "markdown",
      "source": [
        "Here the features ZN, CHAS have median Zero, which means when data is sorted, zero is the number that occurs at the center. "
      ],
      "metadata": {
        "id": "TTZVS2I4LVr4"
      }
    },
    {
      "cell_type": "markdown",
      "source": [
        "### Variance"
      ],
      "metadata": {
        "id": "fu24jcwPelo1"
      }
    },
    {
      "cell_type": "code",
      "source": [
        "df.var()"
      ],
      "metadata": {
        "colab": {
          "base_uri": "https://localhost:8080/"
        },
        "id": "bC9Fy5jkeJTF",
        "outputId": "056a0f27-1e11-4e96-9811-6c4b2a06394a"
      },
      "execution_count": null,
      "outputs": [
        {
          "output_type": "execute_result",
          "data": {
            "text/plain": [
              "CRIM          73.986578\n",
              "ZN           543.936814\n",
              "INDUS         47.064442\n",
              "CHAS           0.064513\n",
              "NOX            0.013428\n",
              "RM             0.493671\n",
              "AGE          792.358399\n",
              "DIS            4.434015\n",
              "RAD           75.816366\n",
              "TAX        28404.759488\n",
              "PTRATIO        4.686989\n",
              "B           8334.752263\n",
              "LSTAT         50.994760\n",
              "Price         84.586724\n",
              "dtype: float64"
            ]
          },
          "metadata": {},
          "execution_count": 10
        }
      ]
    },
    {
      "cell_type": "markdown",
      "source": [
        "\n",
        "*   Feature NOX has lowest variance which means data is less spreaded\n",
        "*   Feature TAX has the highest variance indicated that data is very spreaded.\n",
        "\n"
      ],
      "metadata": {
        "id": "elhJb9wVMXYE"
      }
    },
    {
      "cell_type": "markdown",
      "source": [
        "### Skewness"
      ],
      "metadata": {
        "id": "Gg1j5a9XfZ_x"
      }
    },
    {
      "cell_type": "code",
      "source": [
        "df.skew()"
      ],
      "metadata": {
        "colab": {
          "base_uri": "https://localhost:8080/"
        },
        "id": "fF2NOy7GfYPB",
        "outputId": "b32e3341-8dea-4269-d1be-efcb29d7d669"
      },
      "execution_count": null,
      "outputs": [
        {
          "output_type": "execute_result",
          "data": {
            "text/plain": [
              "CRIM       5.223149\n",
              "ZN         2.225666\n",
              "INDUS      0.295022\n",
              "CHAS       3.405904\n",
              "NOX        0.729308\n",
              "RM         0.403612\n",
              "AGE       -0.598963\n",
              "DIS        1.011781\n",
              "RAD        1.004815\n",
              "TAX        0.669956\n",
              "PTRATIO   -0.802325\n",
              "B         -2.890374\n",
              "LSTAT      0.906460\n",
              "Price      1.108098\n",
              "dtype: float64"
            ]
          },
          "metadata": {},
          "execution_count": 11
        }
      ]
    },
    {
      "cell_type": "markdown",
      "source": [
        " \n",
        "\n",
        "\n",
        "*   Skewness means the level of asymmetry of the probability distribution of a random variable about its mean.\n",
        "*   It tells the amount and direction of skew (departure from horizontal symmetry). \n",
        "*   Here CRIM feature has maximum skew and it is positive which refers to a longer or fatter tail on the right as seen in the below histogram.\n",
        "\n",
        "\n",
        "\n"
      ],
      "metadata": {
        "id": "Mxkzkq7_NDlq"
      }
    },
    {
      "cell_type": "markdown",
      "source": [
        "#### Distribution of CRIM Feature"
      ],
      "metadata": {
        "id": "1qWNfYa5POuT"
      }
    },
    {
      "cell_type": "code",
      "source": [
        "_ = plt.figure(figsize=(10,7))\n",
        "_ = sns.histplot(data = df, x='CRIM', kde =True)"
      ],
      "metadata": {
        "colab": {
          "base_uri": "https://localhost:8080/",
          "height": 442
        },
        "id": "clpSdImTOEh_",
        "outputId": "de3b1ced-98de-42ee-9f63-82edb912e479"
      },
      "execution_count": null,
      "outputs": [
        {
          "output_type": "display_data",
          "data": {
            "text/plain": [
              "<Figure size 720x504 with 1 Axes>"
            ],
            "image/png": "[encoded data removed]"
          },
          "metadata": {
            "needs_background": "light"
          }
        }
      ]
    },
    {
      "cell_type": "markdown",
      "source": [
        "*  From above, we can see that feature CRIM (per capita crime rate by town) has positive skew.\n",
        "*  This might mean there are certain towns having considerably high crime rate leading to fatter tail on the right."
      ],
      "metadata": {
        "id": "BT64p6VMWBMR"
      }
    },
    {
      "cell_type": "markdown",
      "source": [
        "#### Distribution of LSTAT feature"
      ],
      "metadata": {
        "id": "lKVkclMBPjVu"
      }
    },
    {
      "cell_type": "code",
      "source": [
        "_ = plt.figure(figsize=(10,7))\n",
        "_ = sns.histplot(data = df, x='LSTAT', kde =True)"
      ],
      "metadata": {
        "colab": {
          "base_uri": "https://localhost:8080/",
          "height": 442
        },
        "id": "ZGFzywHZPXrK",
        "outputId": "2b81920c-83e0-46af-d4bc-0c8d4166ffc5"
      },
      "execution_count": null,
      "outputs": [
        {
          "output_type": "display_data",
          "data": {
            "text/plain": [
              "<Figure size 720x504 with 1 Axes>"
            ],
            "image/png": "[encoded data removed]"
          },
          "metadata": {
            "needs_background": "light"
          }
        }
      ]
    },
    {
      "cell_type": "markdown",
      "source": [
        "We can see that feature LSTAT is Moderately Skewed "
      ],
      "metadata": {
        "id": "-f5JFTQ-WI1t"
      }
    },
    {
      "cell_type": "markdown",
      "source": [
        "#### Distribution of INDUS feature."
      ],
      "metadata": {
        "id": "_-Q-BMTEPzCv"
      }
    },
    {
      "cell_type": "code",
      "source": [
        "_ = plt.figure(figsize=(10,7))\n",
        "_ = sns.histplot(data = df, x='INDUS', kde =True)"
      ],
      "metadata": {
        "colab": {
          "base_uri": "https://localhost:8080/",
          "height": 442
        },
        "id": "-c9Tv9sYPt8a",
        "outputId": "5943b3eb-13d5-4574-bc5b-3d7edc2160a3"
      },
      "execution_count": null,
      "outputs": [
        {
          "output_type": "display_data",
          "data": {
            "text/plain": [
              "<Figure size 720x504 with 1 Axes>"
            ],
            "image/png": "[encoded data removed]"
          },
          "metadata": {
            "needs_background": "light"
          }
        }
      ]
    },
    {
      "cell_type": "markdown",
      "source": [
        "\n",
        "\n",
        "\n",
        "\n",
        "\n",
        "*   From above histogram we can see that data is not lopsided towards one end, rather is in fairy distributed. \n",
        "*   Feature INDUS (proportion of non retail business acres per town) has Less Skew but considerable Variance.\n",
        "*   This might mean that towns have distributed proportion of non retail businesses.\n",
        "\n"
      ],
      "metadata": {
        "id": "o0pV_WXwQCkt"
      }
    },
    {
      "cell_type": "markdown",
      "source": [
        "### Correlation with Price Column"
      ],
      "metadata": {
        "id": "-9zlwCyrierU"
      }
    },
    {
      "cell_type": "code",
      "source": [
        "df.corr()['Price'].sort_values(ascending = False)"
      ],
      "metadata": {
        "colab": {
          "base_uri": "https://localhost:8080/"
        },
        "id": "-_2eeXAliJWz",
        "outputId": "d2f44b0a-d68a-4efc-ff2d-67b3305af4ab"
      },
      "execution_count": null,
      "outputs": [
        {
          "output_type": "execute_result",
          "data": {
            "text/plain": [
              "Price      1.000000\n",
              "RM         0.695360\n",
              "ZN         0.360445\n",
              "B          0.333461\n",
              "DIS        0.249929\n",
              "CHAS       0.175260\n",
              "AGE       -0.376955\n",
              "RAD       -0.381626\n",
              "CRIM      -0.388305\n",
              "NOX       -0.427321\n",
              "TAX       -0.468536\n",
              "INDUS     -0.483725\n",
              "PTRATIO   -0.507787\n",
              "LSTAT     -0.737663\n",
              "Name: Price, dtype: float64"
            ]
          },
          "metadata": {},
          "execution_count": 15
        }
      ]
    },
    {
      "cell_type": "markdown",
      "source": [
        "Feature RM has highest positive correlation with Price variable whereas LSTAT has highest negative correlation with Price variable"
      ],
      "metadata": {
        "id": "chJZ5eALQl-l"
      }
    },
    {
      "cell_type": "code",
      "source": [
        "_ = plt.figure(figsize=(10,7))\n",
        "_ = sns.scatterplot(data = df, x='RM', y='Price')\n",
        "_ = plt.title('Price vs RM')"
      ],
      "metadata": {
        "colab": {
          "base_uri": "https://localhost:8080/",
          "height": 458
        },
        "id": "L6mi6W3tSEoc",
        "outputId": "bf0649dc-c555-4a07-f4f5-93c9b395b9a4"
      },
      "execution_count": null,
      "outputs": [
        {
          "output_type": "display_data",
          "data": {
            "text/plain": [
              "<Figure size 720x504 with 1 Axes>"
            ],
            "image/png": "[encoded data removed]"
          },
          "metadata": {
            "needs_background": "light"
          }
        }
      ]
    },
    {
      "cell_type": "markdown",
      "source": [
        "* From the scatterplot we can see that RM (Average number of rooms per dwelling) has good postive correlation with Price.\n",
        "* This can be explained by the fact that houses having more number of rooms will have higher price."
      ],
      "metadata": {
        "id": "P0AkVz4rWcNO"
      }
    },
    {
      "cell_type": "code",
      "source": [
        "_ = plt.figure(figsize=(10,7))\n",
        "_ = sns.scatterplot(data = df, x='LSTAT', y='Price')\n",
        "_ = plt.title('Price vs LSTAT')"
      ],
      "metadata": {
        "colab": {
          "base_uri": "https://localhost:8080/",
          "height": 458
        },
        "id": "qZyGtkb7SQqL",
        "outputId": "00f325a9-47a9-4fe7-c9fb-181fcc31be17"
      },
      "execution_count": null,
      "outputs": [
        {
          "output_type": "display_data",
          "data": {
            "text/plain": [
              "<Figure size 720x504 with 1 Axes>"
            ],
            "image/png": "[encoded data removed]"
          },
          "metadata": {
            "needs_background": "light"
          }
        }
      ]
    },
    {
      "cell_type": "markdown",
      "source": [
        "From the scatterplot we can see that LSTAT ( Percentage of lower status of the population) has negative correlation with Price."
      ],
      "metadata": {
        "id": "SLbbQxeHWq3E"
      }
    },
    {
      "cell_type": "markdown",
      "source": [
        "### Covariance"
      ],
      "metadata": {
        "id": "WKK1_UjJtp9H"
      }
    },
    {
      "cell_type": "code",
      "source": [
        "df.cov()['Price'].sort_values(ascending = False)"
      ],
      "metadata": {
        "colab": {
          "base_uri": "https://localhost:8080/"
        },
        "id": "WMEGR_0WtVPb",
        "outputId": "18bbefab-fb3a-4ff3-efb9-a55058546123"
      },
      "execution_count": null,
      "outputs": [
        {
          "output_type": "execute_result",
          "data": {
            "text/plain": [
              "B          279.989834\n",
              "Price       84.586724\n",
              "ZN          77.315176\n",
              "DIS          4.840229\n",
              "RM           4.493446\n",
              "CHAS         0.409409\n",
              "NOX         -0.455412\n",
              "PTRATIO    -10.110657\n",
              "INDUS      -30.520823\n",
              "RAD        -30.561228\n",
              "CRIM       -30.718508\n",
              "LSTAT      -48.447538\n",
              "AGE        -97.589017\n",
              "TAX       -726.255716\n",
              "Name: Price, dtype: float64"
            ]
          },
          "metadata": {},
          "execution_count": 18
        }
      ]
    },
    {
      "cell_type": "markdown",
      "source": [
        "Features Price and B have high covarriance meaning they vary together. "
      ],
      "metadata": {
        "id": "ERkd2QxHSpMt"
      }
    },
    {
      "cell_type": "markdown",
      "source": [
        "### Quantiles"
      ],
      "metadata": {
        "id": "pSxd7AUHSwzq"
      }
    },
    {
      "cell_type": "code",
      "source": [
        "df.quantile([.1, .25, .5, .75], axis = 0)"
      ],
      "metadata": {
        "id": "ph0S9N09yQxm",
        "outputId": "cdf3f8e2-f589-43e1-fb33-60fee0518a27",
        "colab": {
          "base_uri": "https://localhost:8080/",
          "height": 175
        }
      },
      "execution_count": null,
      "outputs": [
        {
          "output_type": "execute_result",
          "data": {
            "text/plain": [
              "          CRIM    ZN  INDUS  CHAS    NOX      RM     AGE       DIS   RAD  \\\n",
              "0.10  0.038195   0.0   2.91   0.0  0.427  5.5935  26.950  1.628300   3.0   \n",
              "0.25  0.082045   0.0   5.19   0.0  0.449  5.8855  45.025  2.100175   4.0   \n",
              "0.50  0.256510   0.0   9.69   0.0  0.538  6.2085  77.500  3.207450   5.0   \n",
              "0.75  3.677083  12.5  18.10   0.0  0.624  6.6235  94.075  5.188425  24.0   \n",
              "\n",
              "        TAX  PTRATIO         B   LSTAT   Price  \n",
              "0.10  233.0    14.75  290.2700   4.680  12.750  \n",
              "0.25  279.0    17.40  375.3775   6.950  17.025  \n",
              "0.50  330.0    19.05  391.4400  11.360  21.200  \n",
              "0.75  666.0    20.20  396.2250  16.955  25.000  "
            ],
            "text/html": [
              "\n",
              "  <div id=\"df-9b0f19dd-4789-49f3-ac55-57dd7fbde6e4\">\n",
              "    <div class=\"colab-df-container\">\n",
              "      <div>\n",
              "<style scoped>\n",
              "    .dataframe tbody tr th:only-of-type {\n",
              "        vertical-align: middle;\n",
              "    }\n",
              "\n",
              "    .dataframe tbody tr th {\n",
              "        vertical-align: top;\n",
              "    }\n",
              "\n",
              "    .dataframe thead th {\n",
              "        text-align: right;\n",
              "    }\n",
              "</style>\n",
              "<table border=\"1\" class=\"dataframe\">\n",
              "  <thead>\n",
              "    <tr style=\"text-align: right;\">\n",
              "      <th></th>\n",
              "      <th>CRIM</th>\n",
              "      <th>ZN</th>\n",
              "      <th>INDUS</th>\n",
              "      <th>CHAS</th>\n",
              "      <th>NOX</th>\n",
              "      <th>RM</th>\n",
              "      <th>AGE</th>\n",
              "      <th>DIS</th>\n",
              "      <th>RAD</th>\n",
              "      <th>TAX</th>\n",
              "      <th>PTRATIO</th>\n",
              "      <th>B</th>\n",
              "      <th>LSTAT</th>\n",
              "      <th>Price</th>\n",
              "    </tr>\n",
              "  </thead>\n",
              "  <tbody>\n",
              "    <tr>\n",
              "      <th>0.10</th>\n",
              "      <td>0.038195</td>\n",
              "      <td>0.0</td>\n",
              "      <td>2.91</td>\n",
              "      <td>0.0</td>\n",
              "      <td>0.427</td>\n",
              "      <td>5.5935</td>\n",
              "      <td>26.950</td>\n",
              "      <td>1.628300</td>\n",
              "      <td>3.0</td>\n",
              "      <td>233.0</td>\n",
              "      <td>14.75</td>\n",
              "      <td>290.2700</td>\n",
              "      <td>4.680</td>\n",
              "      <td>12.750</td>\n",
              "    </tr>\n",
              "    <tr>\n",
              "      <th>0.25</th>\n",
              "      <td>0.082045</td>\n",
              "      <td>0.0</td>\n",
              "      <td>5.19</td>\n",
              "      <td>0.0</td>\n",
              "      <td>0.449</td>\n",
              "      <td>5.8855</td>\n",
              "      <td>45.025</td>\n",
              "      <td>2.100175</td>\n",
              "      <td>4.0</td>\n",
              "      <td>279.0</td>\n",
              "      <td>17.40</td>\n",
              "      <td>375.3775</td>\n",
              "      <td>6.950</td>\n",
              "      <td>17.025</td>\n",
              "    </tr>\n",
              "    <tr>\n",
              "      <th>0.50</th>\n",
              "      <td>0.256510</td>\n",
              "      <td>0.0</td>\n",
              "      <td>9.69</td>\n",
              "      <td>0.0</td>\n",
              "      <td>0.538</td>\n",
              "      <td>6.2085</td>\n",
              "      <td>77.500</td>\n",
              "      <td>3.207450</td>\n",
              "      <td>5.0</td>\n",
              "      <td>330.0</td>\n",
              "      <td>19.05</td>\n",
              "      <td>391.4400</td>\n",
              "      <td>11.360</td>\n",
              "      <td>21.200</td>\n",
              "    </tr>\n",
              "    <tr>\n",
              "      <th>0.75</th>\n",
              "      <td>3.677083</td>\n",
              "      <td>12.5</td>\n",
              "      <td>18.10</td>\n",
              "      <td>0.0</td>\n",
              "      <td>0.624</td>\n",
              "      <td>6.6235</td>\n",
              "      <td>94.075</td>\n",
              "      <td>5.188425</td>\n",
              "      <td>24.0</td>\n",
              "      <td>666.0</td>\n",
              "      <td>20.20</td>\n",
              "      <td>396.2250</td>\n",
              "      <td>16.955</td>\n",
              "      <td>25.000</td>\n",
              "    </tr>\n",
              "  </tbody>\n",
              "</table>\n",
              "</div>\n",
              "      <button class=\"colab-df-convert\" onclick=\"convertToInteractive('df-9b0f19dd-4789-49f3-ac55-57dd7fbde6e4')\"\n",
              "              title=\"Convert this dataframe to an interactive table.\"\n",
              "              style=\"display:none;\">\n",
              "        \n",
              "  <svg xmlns=\"http://www.w3.org/2000/svg\" height=\"24px\"viewBox=\"0 0 24 24\"\n",
              "       width=\"24px\">\n",
              "    <path d=\"M0 0h24v24H0V0z\" fill=\"none\"/>\n",
              "    <path d=\"M18.56 5.44l.94 2.06.94-2.06 2.06-.94-2.06-.94-.94-2.06-.94 2.06-2.06.94zm-11 1L8.5 8.5l.94-2.06 2.06-.94-2.06-.94L8.5 2.5l-.94 2.06-2.06.94zm10 10l.94 2.06.94-2.06 2.06-.94-2.06-.94-.94-2.06-.94 2.06-2.06.94z\"/><path d=\"M17.41 7.96l-1.37-1.37c-.4-.4-.92-.59-1.43-.59-.52 0-1.04.2-1.43.59L10.3 9.45l-7.72 7.72c-.78.78-.78 2.05 0 2.83L4 21.41c.39.39.9.59 1.41.59.51 0 1.02-.2 1.41-.59l7.78-7.78 2.81-2.81c.8-.78.8-2.07 0-2.86zM5.41 20L4 18.59l7.72-7.72 1.47 1.35L5.41 20z\"/>\n",
              "  </svg>\n",
              "      </button>\n",
              "      \n",
              "  <style>\n",
              "    .colab-df-container {\n",
              "      display:flex;\n",
              "      flex-wrap:wrap;\n",
              "      gap: 12px;\n",
              "    }\n",
              "\n",
              "    .colab-df-convert {\n",
              "      background-color: #E8F0FE;\n",
              "      border: none;\n",
              "      border-radius: 50%;\n",
              "      cursor: pointer;\n",
              "      display: none;\n",
              "      fill: #1967D2;\n",
              "      height: 32px;\n",
              "      padding: 0 0 0 0;\n",
              "      width: 32px;\n",
              "    }\n",
              "\n",
              "    .colab-df-convert:hover {\n",
              "      background-color: #E2EBFA;\n",
              "      box-shadow: 0px 1px 2px rgba(60, 64, 67, 0.3), 0px 1px 3px 1px rgba(60, 64, 67, 0.15);\n",
              "      fill: #174EA6;\n",
              "    }\n",
              "\n",
              "    [theme=dark] .colab-df-convert {\n",
              "      background-color: #3B4455;\n",
              "      fill: #D2E3FC;\n",
              "    }\n",
              "\n",
              "    [theme=dark] .colab-df-convert:hover {\n",
              "      background-color: #434B5C;\n",
              "      box-shadow: 0px 1px 3px 1px rgba(0, 0, 0, 0.15);\n",
              "      filter: drop-shadow(0px 1px 2px rgba(0, 0, 0, 0.3));\n",
              "      fill: #FFFFFF;\n",
              "    }\n",
              "  </style>\n",
              "\n",
              "      <script>\n",
              "        const buttonEl =\n",
              "          document.querySelector('#df-9b0f19dd-4789-49f3-ac55-57dd7fbde6e4 button.colab-df-convert');\n",
              "        buttonEl.style.display =\n",
              "          google.colab.kernel.accessAllowed ? 'block' : 'none';\n",
              "\n",
              "        async function convertToInteractive(key) {\n",
              "          const element = document.querySelector('#df-9b0f19dd-4789-49f3-ac55-57dd7fbde6e4');\n",
              "          const dataTable =\n",
              "            await google.colab.kernel.invokeFunction('convertToInteractive',\n",
              "                                                     [key], {});\n",
              "          if (!dataTable) return;\n",
              "\n",
              "          const docLinkHtml = 'Like what you see? Visit the ' +\n",
              "            '<a target=\"_blank\" href=https://colab.research.google.com/notebooks/data_table.ipynb>data table notebook</a>'\n",
              "            + ' to learn more about interactive tables.';\n",
              "          element.innerHTML = '';\n",
              "          dataTable['output_type'] = 'display_data';\n",
              "          await google.colab.output.renderOutput(dataTable, element);\n",
              "          const docLink = document.createElement('div');\n",
              "          docLink.innerHTML = docLinkHtml;\n",
              "          element.appendChild(docLink);\n",
              "        }\n",
              "      </script>\n",
              "    </div>\n",
              "  </div>\n",
              "  "
            ]
          },
          "metadata": {},
          "execution_count": 19
        }
      ]
    },
    {
      "cell_type": "markdown",
      "source": [
        "Feature CHAS has all quantile value of Zero. \n",
        "\n",
        "Let's check the value count of this feature."
      ],
      "metadata": {
        "id": "EmY1taetT93-"
      }
    },
    {
      "cell_type": "code",
      "source": [
        "df['CHAS'].value_counts()"
      ],
      "metadata": {
        "colab": {
          "base_uri": "https://localhost:8080/"
        },
        "id": "3R3gLusqS074",
        "outputId": "ff34edf4-d9cd-475e-e311-e449a262ef6e"
      },
      "execution_count": null,
      "outputs": [
        {
          "output_type": "execute_result",
          "data": {
            "text/plain": [
              "0.0    471\n",
              "1.0     35\n",
              "Name: CHAS, dtype: int64"
            ]
          },
          "metadata": {},
          "execution_count": 20
        }
      ]
    },
    {
      "cell_type": "markdown",
      "source": [
        "Here we can see that feature CHAS is actually a discrete feature with only two values 0 and 1. "
      ],
      "metadata": {
        "id": "uRAPr_trUKoz"
      }
    },
    {
      "cell_type": "markdown",
      "source": [
        "### Regression Line"
      ],
      "metadata": {
        "id": "s7hb76FdxgvJ"
      }
    },
    {
      "cell_type": "markdown",
      "source": [
        "Let's plot a regression line on our data. \n",
        "\n",
        "For this, we need to fit Linear Regression model and then plot the regression line."
      ],
      "metadata": {
        "id": "gROu0wRTW2mE"
      }
    },
    {
      "cell_type": "markdown",
      "source": [
        "#### Train Test split"
      ],
      "metadata": {
        "id": "kYlcttbbUiP-"
      }
    },
    {
      "cell_type": "code",
      "source": [
        "y = df[\"Price\"] \n",
        "X = np.array(df['RM']).reshape(-1, 1)\n",
        "X_train, X_test, y_train, y_test = train_test_split(X, y, test_size=0.20, random_state = 53)"
      ],
      "metadata": {
        "id": "myz4U0Dlv5yd"
      },
      "execution_count": null,
      "outputs": []
    },
    {
      "cell_type": "markdown",
      "source": [
        "#### Model training"
      ],
      "metadata": {
        "id": "WkjXyGCbUkRg"
      }
    },
    {
      "cell_type": "code",
      "source": [
        "linearRegr = LinearRegression()   "
      ],
      "metadata": {
        "id": "d_LAH974k0Nz"
      },
      "execution_count": null,
      "outputs": []
    },
    {
      "cell_type": "code",
      "source": [
        "linearRegr.fit(X_train, y_train)     "
      ],
      "metadata": {
        "colab": {
          "base_uri": "https://localhost:8080/"
        },
        "id": "I24yXbvswLks",
        "outputId": "060738b2-477f-4d3a-b393-b5fdca567114"
      },
      "execution_count": null,
      "outputs": [
        {
          "output_type": "execute_result",
          "data": {
            "text/plain": [
              "LinearRegression()"
            ]
          },
          "metadata": {},
          "execution_count": 23
        }
      ]
    },
    {
      "cell_type": "markdown",
      "source": [
        "#### Plotting Regression line"
      ],
      "metadata": {
        "id": "4YZUN1o_UnFQ"
      }
    },
    {
      "cell_type": "code",
      "source": [
        "y_pred = linearRegr.predict(X_test)"
      ],
      "metadata": {
        "id": "koFQT1Etv2VA"
      },
      "execution_count": null,
      "outputs": []
    },
    {
      "cell_type": "code",
      "source": [
        "_ = sns.scatterplot(x= X_test.flatten(), y = y_test)\n",
        "_ = sns.lineplot(x=X_test.flatten(),y = y_pred)\n",
        "_ = plt.title('Price vs RM')"
      ],
      "metadata": {
        "colab": {
          "base_uri": "https://localhost:8080/",
          "height": 281
        },
        "id": "pCiRDcS7wL2O",
        "outputId": "87318995-78e1-4171-ca6d-dd4ee7266c37"
      },
      "execution_count": null,
      "outputs": [
        {
          "output_type": "display_data",
          "data": {
            "text/plain": [
              "<Figure size 432x288 with 1 Axes>"
            ],
            "image/png": "[encoded data removed]"
          },
          "metadata": {
            "needs_background": "light"
          }
        }
      ]
    },
    {
      "cell_type": "markdown",
      "source": [
        "Here we can see that Linear Regression does not fit this data extremely well "
      ],
      "metadata": {
        "id": "kG6yvpcRUzm1"
      }
    },
    {
      "cell_type": "markdown",
      "source": [
        "## Hypothesis Testing"
      ],
      "metadata": {
        "id": "DyaDrVgYX7p3"
      }
    },
    {
      "cell_type": "markdown",
      "source": [
        "Assume that our level of significance is 0.05"
      ],
      "metadata": {
        "id": "h9L_hXp-JeYw"
      }
    },
    {
      "cell_type": "code",
      "source": [
        "alpha = 0.05"
      ],
      "metadata": {
        "id": "ZsmyjiQ0ZbKi"
      },
      "execution_count": null,
      "outputs": []
    },
    {
      "cell_type": "markdown",
      "source": [
        "### Test 1: Is there any difference in mean value of house prices bounded by Charles river or not?  \n",
        "#### Two Sample T-Test\n"
      ],
      "metadata": {
        "id": "VePriy7fFmZA"
      }
    },
    {
      "cell_type": "markdown",
      "source": [
        "#### Model the data"
      ],
      "metadata": {
        "id": "u9HXc0kEJs8K"
      }
    },
    {
      "cell_type": "markdown",
      "source": [
        "Plotting a Histogram of House Prices bounded and Charles river and otherwise"
      ],
      "metadata": {
        "id": "lLKVI6mAJwCr"
      }
    },
    {
      "cell_type": "code",
      "source": [
        "# plotting a histogram\n",
        "plt.title('Histogram of House Prices')\n",
        "_ = sns.histplot(data = df, x='Price', kde=True, hue = 'CHAS')"
      ],
      "metadata": {
        "colab": {
          "base_uri": "https://localhost:8080/",
          "height": 295
        },
        "id": "9h125h9mJ4Je",
        "outputId": "a754b553-fd4e-459c-d316-6ac92ccb9ef9"
      },
      "execution_count": null,
      "outputs": [
        {
          "output_type": "display_data",
          "data": {
            "text/plain": [
              "<Figure size 432x288 with 1 Axes>"
            ],
            "image/png": "[encoded data removed]"
          },
          "metadata": {
            "needs_background": "light"
          }
        }
      ]
    },
    {
      "cell_type": "markdown",
      "source": [
        "*   Here is can see the data is not normally distributed, it has positive skew.\n",
        "*   Since Hypothesis testing requires a normally distributed data, we must transform it into normal distribution\n",
        "\n",
        "\n",
        " "
      ],
      "metadata": {
        "id": "OZ3FZf8fKKMX"
      }
    },
    {
      "cell_type": "markdown",
      "source": [
        "Square Root Transformation to remove positive skew"
      ],
      "metadata": {
        "id": "o9Vsx4zxKYut"
      }
    },
    {
      "cell_type": "code",
      "source": [
        "df['Price'] = np.sqrt(df['Price'])"
      ],
      "metadata": {
        "id": "LwG45LVMHrqR"
      },
      "execution_count": null,
      "outputs": []
    },
    {
      "cell_type": "code",
      "source": [
        "# plotting a histogram\n",
        "plt.title('House Prices after Square Root Transformation')\n",
        "_ = sns.histplot(data = df, x='Price', kde=True, hue = 'CHAS')"
      ],
      "metadata": {
        "colab": {
          "base_uri": "https://localhost:8080/",
          "height": 295
        },
        "id": "chtWGB7xakqc",
        "outputId": "e63e3593-307e-43aa-dc59-640e7610d2f0"
      },
      "execution_count": null,
      "outputs": [
        {
          "output_type": "display_data",
          "data": {
            "text/plain": [
              "<Figure size 432x288 with 1 Axes>"
            ],
            "image/png": "[encoded data removed]"
          },
          "metadata": {
            "needs_background": "light"
          }
        }
      ]
    },
    {
      "cell_type": "markdown",
      "source": [
        "Now, the data is fairly normally distributed"
      ],
      "metadata": {
        "id": "xqrlHXkiKsyp"
      }
    },
    {
      "cell_type": "markdown",
      "source": [
        "#### Formulate NULL hypothesis "
      ],
      "metadata": {
        "id": "m1XHmmWJK_hN"
      }
    },
    {
      "cell_type": "markdown",
      "source": [
        "H0:µ1=µ2  (\"there is no difference in mean value of house prices bounded by the Charles river\")\n",
        "\n",
        "H1:µ1≠µ2 (\"there is a difference in mean value of house prices bounded by the Charles river\")"
      ],
      "metadata": {
        "id": "ywS1aHU8LGD3"
      }
    },
    {
      "cell_type": "markdown",
      "source": [
        "#### Compute the Probability by using Two Sample T Test"
      ],
      "metadata": {
        "id": "SJjc835hLSCQ"
      }
    },
    {
      "cell_type": "code",
      "source": [
        "scipy.stats.ttest_ind(df['Price'][df['CHAS'] == 0], df['Price'][df['CHAS'] == 1], equal_var=False)"
      ],
      "metadata": {
        "colab": {
          "base_uri": "https://localhost:8080/"
        },
        "id": "ENCwHOXyGiIN",
        "outputId": "a96ee81a-67c2-47f9-aabd-63663c235eb8"
      },
      "execution_count": null,
      "outputs": [
        {
          "output_type": "execute_result",
          "data": {
            "text/plain": [
              "Ttest_indResult(statistic=-3.3882481711662886, pvalue=0.0016529833848501904)"
            ]
          },
          "metadata": {},
          "execution_count": 68
        }
      ]
    },
    {
      "cell_type": "markdown",
      "source": [
        "The test yields a p-value of 0.00165, which means there is a 0.16% chance that there is no difference in mean value of house prices"
      ],
      "metadata": {
        "id": "nFgd0jhNLrBG"
      }
    },
    {
      "cell_type": "markdown",
      "source": [
        "Conclusion: Since the p-value is less than alpha value 0.05, we reject the null hypothesis"
      ],
      "metadata": {
        "id": "SmKzBoRXN8d6"
      }
    },
    {
      "cell_type": "markdown",
      "source": [
        "### Test 2: Is there a difference in house prices as per AGE?\n",
        "#### ANOVA Test"
      ],
      "metadata": {
        "id": "jwQbCIv_RJP1"
      }
    },
    {
      "cell_type": "markdown",
      "source": [
        "Analysis of variance (ANOVA) provides a statistical test of whether or not the means of several (k) groups are equal, and therefore generalizes the -test to more than two groups."
      ],
      "metadata": {
        "id": "nY2ezIxlRn2a"
      }
    },
    {
      "cell_type": "markdown",
      "source": [
        "#### Model the data"
      ],
      "metadata": {
        "id": "a9xudZp7RVyW"
      }
    },
    {
      "cell_type": "markdown",
      "source": [
        "First, we group the data into categories as the one-way ANOVA can't work with continuous variable.\n",
        "\n",
        "*   35 years and younger\n",
        "*   Between 35 and 70 years\n",
        "*   70 years and older\n",
        "\n",
        "\n",
        "\n",
        "\n",
        "\n",
        "\n",
        "\n"
      ],
      "metadata": {
        "id": "UlPRexmMRv76"
      }
    },
    {
      "cell_type": "code",
      "source": [
        "df.loc[df['AGE'] <= 30, 'Age_Group'] = \"35 and younger\"\n",
        "df.loc[(df['AGE'] > 30) & (df['AGE'] < 70), 'Age_Group'] = \"Between 35 and 70\"\n",
        "df.loc[(df['AGE'] >= 70), 'Age_Group'] = \"70 and older\""
      ],
      "metadata": {
        "id": "gn0A_hevRuDn"
      },
      "execution_count": null,
      "outputs": []
    },
    {
      "cell_type": "code",
      "source": [
        "df.head()"
      ],
      "metadata": {
        "colab": {
          "base_uri": "https://localhost:8080/",
          "height": 206
        },
        "id": "gG1wCpB0NzJj",
        "outputId": "995299be-14f8-4f9c-abfd-4d5935c66bed"
      },
      "execution_count": null,
      "outputs": [
        {
          "output_type": "execute_result",
          "data": {
            "text/plain": [
              "      CRIM    ZN  INDUS  CHAS    NOX     RM   AGE     DIS  RAD    TAX  \\\n",
              "0  0.00632  18.0   2.31   0.0  0.538  6.575  65.2  4.0900  1.0  296.0   \n",
              "1  0.02731   0.0   7.07   0.0  0.469  6.421  78.9  4.9671  2.0  242.0   \n",
              "2  0.02729   0.0   7.07   0.0  0.469  7.185  61.1  4.9671  2.0  242.0   \n",
              "3  0.03237   0.0   2.18   0.0  0.458  6.998  45.8  6.0622  3.0  222.0   \n",
              "4  0.06905   0.0   2.18   0.0  0.458  7.147  54.2  6.0622  3.0  222.0   \n",
              "\n",
              "   PTRATIO       B  LSTAT     Price          Age_Group  \n",
              "0     15.3  396.90   4.98  4.898979  Between 35 and 70  \n",
              "1     17.8  396.90   9.14  4.647580       70 and older  \n",
              "2     17.8  392.83   4.03  5.890671  Between 35 and 70  \n",
              "3     18.7  394.63   2.94  5.779273  Between 35 and 70  \n",
              "4     18.7  396.90   5.33  6.016644  Between 35 and 70  "
            ],
            "text/html": [
              "\n",
              "  <div id=\"df-563db100-9d13-4e03-97df-d11ecdee1f7b\">\n",
              "    <div class=\"colab-df-container\">\n",
              "      <div>\n",
              "<style scoped>\n",
              "    .dataframe tbody tr th:only-of-type {\n",
              "        vertical-align: middle;\n",
              "    }\n",
              "\n",
              "    .dataframe tbody tr th {\n",
              "        vertical-align: top;\n",
              "    }\n",
              "\n",
              "    .dataframe thead th {\n",
              "        text-align: right;\n",
              "    }\n",
              "</style>\n",
              "<table border=\"1\" class=\"dataframe\">\n",
              "  <thead>\n",
              "    <tr style=\"text-align: right;\">\n",
              "      <th></th>\n",
              "      <th>CRIM</th>\n",
              "      <th>ZN</th>\n",
              "      <th>INDUS</th>\n",
              "      <th>CHAS</th>\n",
              "      <th>NOX</th>\n",
              "      <th>RM</th>\n",
              "      <th>AGE</th>\n",
              "      <th>DIS</th>\n",
              "      <th>RAD</th>\n",
              "      <th>TAX</th>\n",
              "      <th>PTRATIO</th>\n",
              "      <th>B</th>\n",
              "      <th>LSTAT</th>\n",
              "      <th>Price</th>\n",
              "      <th>Age_Group</th>\n",
              "    </tr>\n",
              "  </thead>\n",
              "  <tbody>\n",
              "    <tr>\n",
              "      <th>0</th>\n",
              "      <td>0.00632</td>\n",
              "      <td>18.0</td>\n",
              "      <td>2.31</td>\n",
              "      <td>0.0</td>\n",
              "      <td>0.538</td>\n",
              "      <td>6.575</td>\n",
              "      <td>65.2</td>\n",
              "      <td>4.0900</td>\n",
              "      <td>1.0</td>\n",
              "      <td>296.0</td>\n",
              "      <td>15.3</td>\n",
              "      <td>396.90</td>\n",
              "      <td>4.98</td>\n",
              "      <td>4.898979</td>\n",
              "      <td>Between 35 and 70</td>\n",
              "    </tr>\n",
              "    <tr>\n",
              "      <th>1</th>\n",
              "      <td>0.02731</td>\n",
              "      <td>0.0</td>\n",
              "      <td>7.07</td>\n",
              "      <td>0.0</td>\n",
              "      <td>0.469</td>\n",
              "      <td>6.421</td>\n",
              "      <td>78.9</td>\n",
              "      <td>4.9671</td>\n",
              "      <td>2.0</td>\n",
              "      <td>242.0</td>\n",
              "      <td>17.8</td>\n",
              "      <td>396.90</td>\n",
              "      <td>9.14</td>\n",
              "      <td>4.647580</td>\n",
              "      <td>70 and older</td>\n",
              "    </tr>\n",
              "    <tr>\n",
              "      <th>2</th>\n",
              "      <td>0.02729</td>\n",
              "      <td>0.0</td>\n",
              "      <td>7.07</td>\n",
              "      <td>0.0</td>\n",
              "      <td>0.469</td>\n",
              "      <td>7.185</td>\n",
              "      <td>61.1</td>\n",
              "      <td>4.9671</td>\n",
              "      <td>2.0</td>\n",
              "      <td>242.0</td>\n",
              "      <td>17.8</td>\n",
              "      <td>392.83</td>\n",
              "      <td>4.03</td>\n",
              "      <td>5.890671</td>\n",
              "      <td>Between 35 and 70</td>\n",
              "    </tr>\n",
              "    <tr>\n",
              "      <th>3</th>\n",
              "      <td>0.03237</td>\n",
              "      <td>0.0</td>\n",
              "      <td>2.18</td>\n",
              "      <td>0.0</td>\n",
              "      <td>0.458</td>\n",
              "      <td>6.998</td>\n",
              "      <td>45.8</td>\n",
              "      <td>6.0622</td>\n",
              "      <td>3.0</td>\n",
              "      <td>222.0</td>\n",
              "      <td>18.7</td>\n",
              "      <td>394.63</td>\n",
              "      <td>2.94</td>\n",
              "      <td>5.779273</td>\n",
              "      <td>Between 35 and 70</td>\n",
              "    </tr>\n",
              "    <tr>\n",
              "      <th>4</th>\n",
              "      <td>0.06905</td>\n",
              "      <td>0.0</td>\n",
              "      <td>2.18</td>\n",
              "      <td>0.0</td>\n",
              "      <td>0.458</td>\n",
              "      <td>7.147</td>\n",
              "      <td>54.2</td>\n",
              "      <td>6.0622</td>\n",
              "      <td>3.0</td>\n",
              "      <td>222.0</td>\n",
              "      <td>18.7</td>\n",
              "      <td>396.90</td>\n",
              "      <td>5.33</td>\n",
              "      <td>6.016644</td>\n",
              "      <td>Between 35 and 70</td>\n",
              "    </tr>\n",
              "  </tbody>\n",
              "</table>\n",
              "</div>\n",
              "      <button class=\"colab-df-convert\" onclick=\"convertToInteractive('df-563db100-9d13-4e03-97df-d11ecdee1f7b')\"\n",
              "              title=\"Convert this dataframe to an interactive table.\"\n",
              "              style=\"display:none;\">\n",
              "        \n",
              "  <svg xmlns=\"http://www.w3.org/2000/svg\" height=\"24px\"viewBox=\"0 0 24 24\"\n",
              "       width=\"24px\">\n",
              "    <path d=\"M0 0h24v24H0V0z\" fill=\"none\"/>\n",
              "    <path d=\"M18.56 5.44l.94 2.06.94-2.06 2.06-.94-2.06-.94-.94-2.06-.94 2.06-2.06.94zm-11 1L8.5 8.5l.94-2.06 2.06-.94-2.06-.94L8.5 2.5l-.94 2.06-2.06.94zm10 10l.94 2.06.94-2.06 2.06-.94-2.06-.94-.94-2.06-.94 2.06-2.06.94z\"/><path d=\"M17.41 7.96l-1.37-1.37c-.4-.4-.92-.59-1.43-.59-.52 0-1.04.2-1.43.59L10.3 9.45l-7.72 7.72c-.78.78-.78 2.05 0 2.83L4 21.41c.39.39.9.59 1.41.59.51 0 1.02-.2 1.41-.59l7.78-7.78 2.81-2.81c.8-.78.8-2.07 0-2.86zM5.41 20L4 18.59l7.72-7.72 1.47 1.35L5.41 20z\"/>\n",
              "  </svg>\n",
              "      </button>\n",
              "      \n",
              "  <style>\n",
              "    .colab-df-container {\n",
              "      display:flex;\n",
              "      flex-wrap:wrap;\n",
              "      gap: 12px;\n",
              "    }\n",
              "\n",
              "    .colab-df-convert {\n",
              "      background-color: #E8F0FE;\n",
              "      border: none;\n",
              "      border-radius: 50%;\n",
              "      cursor: pointer;\n",
              "      display: none;\n",
              "      fill: #1967D2;\n",
              "      height: 32px;\n",
              "      padding: 0 0 0 0;\n",
              "      width: 32px;\n",
              "    }\n",
              "\n",
              "    .colab-df-convert:hover {\n",
              "      background-color: #E2EBFA;\n",
              "      box-shadow: 0px 1px 2px rgba(60, 64, 67, 0.3), 0px 1px 3px 1px rgba(60, 64, 67, 0.15);\n",
              "      fill: #174EA6;\n",
              "    }\n",
              "\n",
              "    [theme=dark] .colab-df-convert {\n",
              "      background-color: #3B4455;\n",
              "      fill: #D2E3FC;\n",
              "    }\n",
              "\n",
              "    [theme=dark] .colab-df-convert:hover {\n",
              "      background-color: #434B5C;\n",
              "      box-shadow: 0px 1px 3px 1px rgba(0, 0, 0, 0.15);\n",
              "      filter: drop-shadow(0px 1px 2px rgba(0, 0, 0, 0.3));\n",
              "      fill: #FFFFFF;\n",
              "    }\n",
              "  </style>\n",
              "\n",
              "      <script>\n",
              "        const buttonEl =\n",
              "          document.querySelector('#df-563db100-9d13-4e03-97df-d11ecdee1f7b button.colab-df-convert');\n",
              "        buttonEl.style.display =\n",
              "          google.colab.kernel.accessAllowed ? 'block' : 'none';\n",
              "\n",
              "        async function convertToInteractive(key) {\n",
              "          const element = document.querySelector('#df-563db100-9d13-4e03-97df-d11ecdee1f7b');\n",
              "          const dataTable =\n",
              "            await google.colab.kernel.invokeFunction('convertToInteractive',\n",
              "                                                     [key], {});\n",
              "          if (!dataTable) return;\n",
              "\n",
              "          const docLinkHtml = 'Like what you see? Visit the ' +\n",
              "            '<a target=\"_blank\" href=https://colab.research.google.com/notebooks/data_table.ipynb>data table notebook</a>'\n",
              "            + ' to learn more about interactive tables.';\n",
              "          element.innerHTML = '';\n",
              "          dataTable['output_type'] = 'display_data';\n",
              "          await google.colab.output.renderOutput(dataTable, element);\n",
              "          const docLink = document.createElement('div');\n",
              "          docLink.innerHTML = docLinkHtml;\n",
              "          element.appendChild(docLink);\n",
              "        }\n",
              "      </script>\n",
              "    </div>\n",
              "  </div>\n",
              "  "
            ]
          },
          "metadata": {},
          "execution_count": 77
        }
      ]
    },
    {
      "cell_type": "markdown",
      "source": [
        "First, separate the three samples (one for each category) into a variable each."
      ],
      "metadata": {
        "id": "u2tjYeeDTHvO"
      }
    },
    {
      "cell_type": "code",
      "source": [
        "thirtyfive_lower = df[df['Age_Group'] == \"35 and younger\"]['Price']\n",
        "thirtyfive_seventy = df[df['Age_Group'] == \"Between 35 and 70\"]['Price']\n",
        "seventy_older = df[df['Age_Group'] == \"70 and older\"]['Price']"
      ],
      "metadata": {
        "id": "vSh_MwXqSR_J"
      },
      "execution_count": null,
      "outputs": []
    },
    {
      "cell_type": "markdown",
      "source": [
        "Plotting a Histogram of House Prices based on Age Group"
      ],
      "metadata": {
        "id": "hRxsEl-LTmCU"
      }
    },
    {
      "cell_type": "code",
      "source": [
        "# plotting a histogram\n",
        "plt.title('House Prices based on Age Group')\n",
        "_ = sns.histplot(data = df, x='Price', kde=True, hue = 'Age_Group')"
      ],
      "metadata": {
        "colab": {
          "base_uri": "https://localhost:8080/",
          "height": 295
        },
        "id": "9bwtRXtKTToq",
        "outputId": "53ea35f5-b5ab-49b1-9b25-103187bf3170"
      },
      "execution_count": null,
      "outputs": [
        {
          "output_type": "display_data",
          "data": {
            "text/plain": [
              "<Figure size 432x288 with 1 Axes>"
            ],
            "image/png": "[encoded data removed]"
          },
          "metadata": {
            "needs_background": "light"
          }
        }
      ]
    },
    {
      "cell_type": "markdown",
      "source": [
        "Thus, we have separated the data into samples based on Age of the house"
      ],
      "metadata": {
        "id": "FL_IkejRUbD9"
      }
    },
    {
      "cell_type": "markdown",
      "source": [
        "#### Formulate NULL hypothesis "
      ],
      "metadata": {
        "id": "_l2Ez1v9Ujc1"
      }
    },
    {
      "cell_type": "markdown",
      "source": [
        "H0:µ1=µ2=µ3  (the three population means are equal)\n",
        "\n",
        "H1: At least one of the means differ"
      ],
      "metadata": {
        "id": "LzxoqLAPUmO9"
      }
    },
    {
      "cell_type": "markdown",
      "source": [
        "#### Compute the Probability by using One way ANOVA"
      ],
      "metadata": {
        "id": "fsOWTDMCUsmk"
      }
    },
    {
      "cell_type": "code",
      "source": [
        "scipy.stats.f_oneway(thirtyfive_lower, thirtyfive_seventy, seventy_older)"
      ],
      "metadata": {
        "colab": {
          "base_uri": "https://localhost:8080/"
        },
        "id": "WHS4oXjtTd8t",
        "outputId": "1d1aa394-2e9d-46a3-b57d-fa8a48c142ce"
      },
      "execution_count": null,
      "outputs": [
        {
          "output_type": "execute_result",
          "data": {
            "text/plain": [
              "F_onewayResult(statistic=45.04943588175842, pvalue=1.006660720549224e-18)"
            ]
          },
          "metadata": {},
          "execution_count": 81
        }
      ]
    },
    {
      "cell_type": "markdown",
      "source": [
        "Conclusion: Since the p-value is less than alpha value 0.05, we reject the null hypothesis"
      ],
      "metadata": {
        "id": "nB-G30KOU0vy"
      }
    },
    {
      "cell_type": "markdown",
      "source": [
        "### Test 3: Can we conclude that there is no relationship between Nitric oxide concentrations and proportion of non-retail business acres per town?"
      ],
      "metadata": {
        "id": "Likl_pqPU61z"
      }
    },
    {
      "cell_type": "markdown",
      "source": [
        "#### Formulate NULL hypothesis "
      ],
      "metadata": {
        "id": "mAtKxYEmVFyS"
      }
    },
    {
      "cell_type": "markdown",
      "source": [
        "H0:  There is no relationship between Nitric oxide concentrations and proportion of non-retail business acres per town.\n",
        "\n",
        "H1:  There is a relationship between Nitric oxide concentrations and proportion of non-retail business acres per town."
      ],
      "metadata": {
        "id": "nLMZXHG_VFyU"
      }
    },
    {
      "cell_type": "markdown",
      "source": [
        "#### Compute the Probability by using Pearson Correlation"
      ],
      "metadata": {
        "id": "PIhX4DL0VFyU"
      }
    },
    {
      "cell_type": "code",
      "source": [
        "scipy.stats.pearsonr(df['INDUS'], df['NOX'])"
      ],
      "metadata": {
        "colab": {
          "base_uri": "https://localhost:8080/"
        },
        "id": "bslWy6vIUwY0",
        "outputId": "c3759059-43cd-4bc1-fdee-8d301e458294"
      },
      "execution_count": null,
      "outputs": [
        {
          "output_type": "execute_result",
          "data": {
            "text/plain": [
              "(0.7636514469209151, 7.913361061238693e-98)"
            ]
          },
          "metadata": {},
          "execution_count": 82
        }
      ]
    },
    {
      "cell_type": "markdown",
      "source": [
        "Conclusion: Since the p-value is less than 0.05, we reject the Null hypothesis and conclude that there exists a relationship between Nitric oxide concentrations and proportion of non-retail business acres per town."
      ],
      "metadata": {
        "id": "XQ5RMjQiVZVd"
      }
    },
    {
      "cell_type": "markdown",
      "source": [
        "### Test 4: Is there any relationship between Charles River dummy variable (CHAS) and Index of accessibility to radial highways (RAD)\n",
        "#### Chi-Square distribution"
      ],
      "metadata": {
        "id": "5lrMgVVvX9XR"
      }
    },
    {
      "cell_type": "markdown",
      "source": [
        "#### Model the data"
      ],
      "metadata": {
        "id": "7Jzvdnj5YfY_"
      }
    },
    {
      "cell_type": "markdown",
      "source": [
        "Generate the actual distribution between CHAS and RAD"
      ],
      "metadata": {
        "id": "1UfzHb94YjU-"
      }
    },
    {
      "cell_type": "code",
      "source": [
        "t = pd.crosstab(df.CHAS, df.RAD, margins = True)\n",
        "t"
      ],
      "metadata": {
        "colab": {
          "base_uri": "https://localhost:8080/",
          "height": 175
        },
        "id": "C1aJnZTFVlkH",
        "outputId": "fe6a77e6-09da-45c4-ba20-a26754f504eb"
      },
      "execution_count": null,
      "outputs": [
        {
          "output_type": "execute_result",
          "data": {
            "text/plain": [
              "RAD   1.0  2.0  3.0  4.0  5.0  6.0  7.0  8.0  24.0  All\n",
              "CHAS                                                   \n",
              "0.0    19   24   36  102  104   26   17   19   124  471\n",
              "1.0     1    0    2    8   11    0    0    5     8   35\n",
              "All    20   24   38  110  115   26   17   24   132  506"
            ],
            "text/html": [
              "\n",
              "  <div id=\"df-969901dd-4f5a-4d3a-80e9-7fd859692110\">\n",
              "    <div class=\"colab-df-container\">\n",
              "      <div>\n",
              "<style scoped>\n",
              "    .dataframe tbody tr th:only-of-type {\n",
              "        vertical-align: middle;\n",
              "    }\n",
              "\n",
              "    .dataframe tbody tr th {\n",
              "        vertical-align: top;\n",
              "    }\n",
              "\n",
              "    .dataframe thead th {\n",
              "        text-align: right;\n",
              "    }\n",
              "</style>\n",
              "<table border=\"1\" class=\"dataframe\">\n",
              "  <thead>\n",
              "    <tr style=\"text-align: right;\">\n",
              "      <th>RAD</th>\n",
              "      <th>1.0</th>\n",
              "      <th>2.0</th>\n",
              "      <th>3.0</th>\n",
              "      <th>4.0</th>\n",
              "      <th>5.0</th>\n",
              "      <th>6.0</th>\n",
              "      <th>7.0</th>\n",
              "      <th>8.0</th>\n",
              "      <th>24.0</th>\n",
              "      <th>All</th>\n",
              "    </tr>\n",
              "    <tr>\n",
              "      <th>CHAS</th>\n",
              "      <th></th>\n",
              "      <th></th>\n",
              "      <th></th>\n",
              "      <th></th>\n",
              "      <th></th>\n",
              "      <th></th>\n",
              "      <th></th>\n",
              "      <th></th>\n",
              "      <th></th>\n",
              "      <th></th>\n",
              "    </tr>\n",
              "  </thead>\n",
              "  <tbody>\n",
              "    <tr>\n",
              "      <th>0.0</th>\n",
              "      <td>19</td>\n",
              "      <td>24</td>\n",
              "      <td>36</td>\n",
              "      <td>102</td>\n",
              "      <td>104</td>\n",
              "      <td>26</td>\n",
              "      <td>17</td>\n",
              "      <td>19</td>\n",
              "      <td>124</td>\n",
              "      <td>471</td>\n",
              "    </tr>\n",
              "    <tr>\n",
              "      <th>1.0</th>\n",
              "      <td>1</td>\n",
              "      <td>0</td>\n",
              "      <td>2</td>\n",
              "      <td>8</td>\n",
              "      <td>11</td>\n",
              "      <td>0</td>\n",
              "      <td>0</td>\n",
              "      <td>5</td>\n",
              "      <td>8</td>\n",
              "      <td>35</td>\n",
              "    </tr>\n",
              "    <tr>\n",
              "      <th>All</th>\n",
              "      <td>20</td>\n",
              "      <td>24</td>\n",
              "      <td>38</td>\n",
              "      <td>110</td>\n",
              "      <td>115</td>\n",
              "      <td>26</td>\n",
              "      <td>17</td>\n",
              "      <td>24</td>\n",
              "      <td>132</td>\n",
              "      <td>506</td>\n",
              "    </tr>\n",
              "  </tbody>\n",
              "</table>\n",
              "</div>\n",
              "      <button class=\"colab-df-convert\" onclick=\"convertToInteractive('df-969901dd-4f5a-4d3a-80e9-7fd859692110')\"\n",
              "              title=\"Convert this dataframe to an interactive table.\"\n",
              "              style=\"display:none;\">\n",
              "        \n",
              "  <svg xmlns=\"http://www.w3.org/2000/svg\" height=\"24px\"viewBox=\"0 0 24 24\"\n",
              "       width=\"24px\">\n",
              "    <path d=\"M0 0h24v24H0V0z\" fill=\"none\"/>\n",
              "    <path d=\"M18.56 5.44l.94 2.06.94-2.06 2.06-.94-2.06-.94-.94-2.06-.94 2.06-2.06.94zm-11 1L8.5 8.5l.94-2.06 2.06-.94-2.06-.94L8.5 2.5l-.94 2.06-2.06.94zm10 10l.94 2.06.94-2.06 2.06-.94-2.06-.94-.94-2.06-.94 2.06-2.06.94z\"/><path d=\"M17.41 7.96l-1.37-1.37c-.4-.4-.92-.59-1.43-.59-.52 0-1.04.2-1.43.59L10.3 9.45l-7.72 7.72c-.78.78-.78 2.05 0 2.83L4 21.41c.39.39.9.59 1.41.59.51 0 1.02-.2 1.41-.59l7.78-7.78 2.81-2.81c.8-.78.8-2.07 0-2.86zM5.41 20L4 18.59l7.72-7.72 1.47 1.35L5.41 20z\"/>\n",
              "  </svg>\n",
              "      </button>\n",
              "      \n",
              "  <style>\n",
              "    .colab-df-container {\n",
              "      display:flex;\n",
              "      flex-wrap:wrap;\n",
              "      gap: 12px;\n",
              "    }\n",
              "\n",
              "    .colab-df-convert {\n",
              "      background-color: #E8F0FE;\n",
              "      border: none;\n",
              "      border-radius: 50%;\n",
              "      cursor: pointer;\n",
              "      display: none;\n",
              "      fill: #1967D2;\n",
              "      height: 32px;\n",
              "      padding: 0 0 0 0;\n",
              "      width: 32px;\n",
              "    }\n",
              "\n",
              "    .colab-df-convert:hover {\n",
              "      background-color: #E2EBFA;\n",
              "      box-shadow: 0px 1px 2px rgba(60, 64, 67, 0.3), 0px 1px 3px 1px rgba(60, 64, 67, 0.15);\n",
              "      fill: #174EA6;\n",
              "    }\n",
              "\n",
              "    [theme=dark] .colab-df-convert {\n",
              "      background-color: #3B4455;\n",
              "      fill: #D2E3FC;\n",
              "    }\n",
              "\n",
              "    [theme=dark] .colab-df-convert:hover {\n",
              "      background-color: #434B5C;\n",
              "      box-shadow: 0px 1px 3px 1px rgba(0, 0, 0, 0.15);\n",
              "      filter: drop-shadow(0px 1px 2px rgba(0, 0, 0, 0.3));\n",
              "      fill: #FFFFFF;\n",
              "    }\n",
              "  </style>\n",
              "\n",
              "      <script>\n",
              "        const buttonEl =\n",
              "          document.querySelector('#df-969901dd-4f5a-4d3a-80e9-7fd859692110 button.colab-df-convert');\n",
              "        buttonEl.style.display =\n",
              "          google.colab.kernel.accessAllowed ? 'block' : 'none';\n",
              "\n",
              "        async function convertToInteractive(key) {\n",
              "          const element = document.querySelector('#df-969901dd-4f5a-4d3a-80e9-7fd859692110');\n",
              "          const dataTable =\n",
              "            await google.colab.kernel.invokeFunction('convertToInteractive',\n",
              "                                                     [key], {});\n",
              "          if (!dataTable) return;\n",
              "\n",
              "          const docLinkHtml = 'Like what you see? Visit the ' +\n",
              "            '<a target=\"_blank\" href=https://colab.research.google.com/notebooks/data_table.ipynb>data table notebook</a>'\n",
              "            + ' to learn more about interactive tables.';\n",
              "          element.innerHTML = '';\n",
              "          dataTable['output_type'] = 'display_data';\n",
              "          await google.colab.output.renderOutput(dataTable, element);\n",
              "          const docLink = document.createElement('div');\n",
              "          docLink.innerHTML = docLinkHtml;\n",
              "          element.appendChild(docLink);\n",
              "        }\n",
              "      </script>\n",
              "    </div>\n",
              "  </div>\n",
              "  "
            ]
          },
          "metadata": {},
          "execution_count": 84
        }
      ]
    },
    {
      "cell_type": "markdown",
      "source": [
        "#### Formulate NULL hypothesis\n",
        "H0:  There is no relationship between CHAS and RAD.\n",
        "\n",
        "H1:  There is a relationship between CHAS and RAD."
      ],
      "metadata": {
        "id": "eZegy7BgYpTm"
      }
    },
    {
      "cell_type": "markdown",
      "source": [
        "#### Compute the Probability by using Chi-square test"
      ],
      "metadata": {
        "id": "jKhm9MxoY5cO"
      }
    },
    {
      "cell_type": "code",
      "source": [
        "scipy.stats.chi2_contingency(observed = t)"
      ],
      "metadata": {
        "colab": {
          "base_uri": "https://localhost:8080/"
        },
        "id": "Xai37CY8X6yN",
        "outputId": "d2f7bfdb-84c8-43da-fa78-ff9699bd38ba"
      },
      "execution_count": null,
      "outputs": [
        {
          "output_type": "execute_result",
          "data": {
            "text/plain": [
              "(13.897882391754333,\n",
              " 0.7357234929317262,\n",
              " 18,\n",
              " array([[ 18.61660079,  22.33992095,  35.3715415 , 102.39130435,\n",
              "         107.04545455,  24.20158103,  15.82411067,  22.33992095,\n",
              "         122.86956522, 471.        ],\n",
              "        [  1.38339921,   1.66007905,   2.6284585 ,   7.60869565,\n",
              "           7.95454545,   1.79841897,   1.17588933,   1.66007905,\n",
              "           9.13043478,  35.        ],\n",
              "        [ 20.        ,  24.        ,  38.        , 110.        ,\n",
              "         115.        ,  26.        ,  17.        ,  24.        ,\n",
              "         132.        , 506.        ]]))"
            ]
          },
          "metadata": {},
          "execution_count": 86
        }
      ]
    },
    {
      "cell_type": "markdown",
      "source": [
        "Conclusion: Based on the p value we can say there is a relationship between CHAS and RAD."
      ],
      "metadata": {
        "id": "hCkDodEuZJzr"
      }
    },
    {
      "cell_type": "markdown",
      "source": [
        "### Test 5: Is there relationship between Weighted distances to five Boston employment centers (DIS) and Nitric oxide concentrations (NOX)\n",
        "#### Non Parametric Test of pairwise associations\n",
        "#### Spearman rank-order correlation (quantitative ~ quantitative)"
      ],
      "metadata": {
        "id": "z8aPo7lwakws"
      }
    },
    {
      "cell_type": "code",
      "source": [
        " scipy.stats.spearmanr(df['DIS'], df['NOX'])"
      ],
      "metadata": {
        "colab": {
          "base_uri": "https://localhost:8080/"
        },
        "id": "tuyfXAGpY-4C",
        "outputId": "b6a18941-ea1f-44de-c005-53ec23703aac"
      },
      "execution_count": null,
      "outputs": [
        {
          "output_type": "execute_result",
          "data": {
            "text/plain": [
              "SpearmanrResult(correlation=-0.8800148627197036, pvalue=4.3105336236988487e-165)"
            ]
          },
          "metadata": {},
          "execution_count": 88
        }
      ]
    },
    {
      "cell_type": "markdown",
      "source": [
        "Conclusion: Based on the p value we can say there is a relationship between DIS and NOX."
      ],
      "metadata": {
        "id": "uq4uTQcJbp_v"
      }
    },
    {
      "cell_type": "markdown",
      "source": [
        "## Conclusion"
      ],
      "metadata": {
        "id": "jP2TzhFsYisS"
      }
    },
    {
      "cell_type": "markdown",
      "source": [
        "\n",
        "\n",
        "*   CRIM feature has the highest positive skew meaning it has a longer or fatter tail on the right.\n",
        "*   CRIM feature stands for per capita crime rate by town, thus we can say that most of the towns have optimum crime rate, however there are certain towns having considerably high crime rate leading to fatter tail on the right.\n",
        "* Feature INDUS ( proportion of non retail business acres per town) has considerable Variance. \n",
        "* This would mean that towns have distributed proportion of non retail businesses. \n",
        "* Hypothesis suggests than there exists relationship between Nitric oxide concentration and proportion of non retail business. \n",
        "* This might mean that the towns may have non retail business related to chemical industry.  \n",
        "\n",
        "\n"
      ],
      "metadata": {
        "id": "7k9GTY7wYn5H"
      }
    }
  ]
}