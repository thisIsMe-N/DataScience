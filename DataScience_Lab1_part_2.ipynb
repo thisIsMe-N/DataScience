{
  "nbformat": 4,
  "nbformat_minor": 0,
  "metadata": {
    "colab": {
      "name": "Final DataScience_Lab1_part_2.ipynb",
      "provenance": [],
      "collapsed_sections": []
    },
    "kernelspec": {
      "name": "python3",
      "display_name": "Python 3"
    },
    "language_info": {
      "name": "python"
    }
  },
  "cells": [
    {
      "cell_type": "markdown",
      "source": [
        "## Experiement 1 Part 2: Logistic Regression\n",
        "## Nikita Chitre\n",
        "## Roll No 4\n",
        "## Batch A"
      ],
      "metadata": {
        "id": "os-Stm8aM55F"
      }
    },
    {
      "cell_type": "markdown",
      "source": [
        "Objectives: To estimate horse fatalities from colic using logistic regression to try to predict if a horse with colic will live or die. "
      ],
      "metadata": {
        "id": "uFPK8oWCOL8P"
      }
    },
    {
      "cell_type": "markdown",
      "source": [
        "*   In this notebook we are going to predict if a horse with colic will live or die using \"Horse Colic\" data from UCI.\n",
        "*   We will first clean the data by handling missing values and also handling outliers.\n",
        "*   We will then visualize the data to find some pattern in the data.\n",
        "*   Then we will perform Data Reduction and Data Encoding so that it can be used by Logistic regression model.\n",
        "*   We will then train our Logistic Regression Model and evaluate its performance.\n",
        "*   Finally, we will tune our model to get a better performance.\n",
        "\n",
        "\n",
        "Attribute Information:\n",
        "\n",
        "    1. surgery:          \n",
        "      1 = Yes, it had surgery \n",
        "      2 = It was treated without surgery\n",
        "\n",
        "    2. Age:\n",
        "      1 = Adult horse\n",
        "      2 = Young (< 6 months)  \n",
        "\n",
        "    3. Hospital Number: numeric id\n",
        "\n",
        "    4. rectal temperature: linear, in degrees celsius.\n",
        "\n",
        "    5. pulse: linear, the heart rate in beats per minute\n",
        "\n",
        "    6. respiratory rate: linear, normal rate is 8 to 10\n",
        "\n",
        "    7. temperature of extremities: categorical, a subjective indication of peripheral circulation\n",
        "\n",
        "    8. peripheral pulse: subjective\n",
        "\n",
        "    9. mucous membranes: a subjective measurement of colour\n",
        "\n",
        "    10. capillary refill time: a clinical judgement. The longer the refill, the poorer the circulation\n",
        "\n",
        "    11. pain - a subjective judgement of the horse's pain level\n",
        "\n",
        "    12. peristalsis: an indication of the activity in the horse's gut. \n",
        "\n",
        "    13. abdominal distension: an animal with abdominal distension is likely to be painful and have reduced gut motility.\n",
        "\n",
        "    14. nasogastric tube: this refers to any gas coming out of the tube\n",
        "\n",
        "    15. nasogastric reflux: the greater amount of reflux, the more likelihood that there is some serious obstruction to the fluid passage from the rest of the intestine\n",
        "\n",
        "    16. nasogastric reflux PH: linear, scale is from 0 to 14 with 7 being neutral\n",
        "\n",
        "    17. rectal examination - feces: absent feces probably indicates an obstruction\n",
        "\n",
        "    18. abdomen: categorical\n",
        "\n",
        "    19. packed cell volume: linear, The level rises as the circulation becomes compromised or as the animal becomes dehydrated.\n",
        "\n",
        "    20. total protein: linear, the higher the value the greater the dehydration\n",
        "\n",
        "    21. abdominocentesis appearance: normal fluid is clear while cloudy or serosanguinous indicates a compromised gut\n",
        "\n",
        "    22. abdomcentesis total protein: linear, values are in gms/dL\n",
        "\n",
        "    23. outcome: what eventually happened to the horse?\n",
        "      - possible values:\n",
        "        1 = lived\n",
        "        2 = died\n",
        "        3 = was euthanized\n",
        "\n",
        "    24. surgical lesion?: retrospectively, was the problem (lesion) surgical?\n",
        "\n",
        "    25, 26, 27. type of lesion:\n",
        "      - first number is site of lesion\n",
        "      - second number is type\n",
        "      - third number is subtype\n",
        "      - fourth number is specific code\n",
        "\n",
        "    28. cp_data: is pathology data present for this case?"
      ],
      "metadata": {
        "id": "pSmzDOjrOjiV"
      }
    },
    {
      "cell_type": "code",
      "execution_count": null,
      "metadata": {
        "id": "7E-rhM4hDCib"
      },
      "outputs": [],
      "source": [
        "import pandas as pd\n",
        "import numpy as np\n",
        "import matplotlib.pyplot as plt\n",
        "import seaborn as sns\n",
        "from sklearn import preprocessing                                               \n",
        "from sklearn.model_selection import train_test_split\n",
        "from sklearn.model_selection import RepeatedStratifiedKFold                     \n",
        "from sklearn.model_selection import GridSearchCV\n",
        "from sklearn.linear_model import LogisticRegression\n",
        "from sklearn.metrics import roc_curve\n",
        "from sklearn.metrics import auc"
      ]
    },
    {
      "cell_type": "markdown",
      "source": [
        "### Reading Data from CSV file"
      ],
      "metadata": {
        "id": "868IGsbkdW_l"
      }
    },
    {
      "cell_type": "code",
      "source": [
        "df = pd.read_csv('/content/drive/MyDrive/horse-colic.csv', header=None)"
      ],
      "metadata": {
        "id": "yjKk4gQoKLoa"
      },
      "execution_count": null,
      "outputs": []
    },
    {
      "cell_type": "code",
      "source": [
        "df.head()"
      ],
      "metadata": {
        "colab": {
          "base_uri": "https://localhost:8080/",
          "height": 235
        },
        "id": "HOft6nc7Kabh",
        "outputId": "78c1f51d-f805-46e4-deaa-97ad8b67b882"
      },
      "execution_count": null,
      "outputs": [
        {
          "output_type": "execute_result",
          "data": {
            "text/plain": [
              "  0   1        2      3    4   5  6  7  8  9   ...     18    19 20    21 22  \\\n",
              "0  2   1   530101  38.50   66  28  3  3  ?  2  ...  45.00  8.40  ?     ?  2   \n",
              "1  1   1   534817   39.2   88  20  ?  ?  4  1  ...     50    85  2     2  3   \n",
              "2  2   1   530334  38.30   40  24  1  1  3  1  ...  33.00  6.70  ?     ?  1   \n",
              "3  1   9  5290409  39.10  164  84  4  1  6  2  ...  48.00  7.20  3  5.30  2   \n",
              "4  2   1   530255  37.30  104  35  ?  ?  6  2  ...  74.00  7.40  ?     ?  2   \n",
              "\n",
              "  23     24 25 26 27  \n",
              "0  2  11300  0  0  2  \n",
              "1  2   2208  0  0  2  \n",
              "2  2      0  0  0  1  \n",
              "3  1   2208  0  0  1  \n",
              "4  2   4300  0  0  2  \n",
              "\n",
              "[5 rows x 28 columns]"
            ],
            "text/html": [
              "\n",
              "  <div id=\"df-0d7a5d6b-7890-4084-ba19-e2a703944945\">\n",
              "    <div class=\"colab-df-container\">\n",
              "      <div>\n",
              "<style scoped>\n",
              "    .dataframe tbody tr th:only-of-type {\n",
              "        vertical-align: middle;\n",
              "    }\n",
              "\n",
              "    .dataframe tbody tr th {\n",
              "        vertical-align: top;\n",
              "    }\n",
              "\n",
              "    .dataframe thead th {\n",
              "        text-align: right;\n",
              "    }\n",
              "</style>\n",
              "<table border=\"1\" class=\"dataframe\">\n",
              "  <thead>\n",
              "    <tr style=\"text-align: right;\">\n",
              "      <th></th>\n",
              "      <th>0</th>\n",
              "      <th>1</th>\n",
              "      <th>2</th>\n",
              "      <th>3</th>\n",
              "      <th>4</th>\n",
              "      <th>5</th>\n",
              "      <th>6</th>\n",
              "      <th>7</th>\n",
              "      <th>8</th>\n",
              "      <th>9</th>\n",
              "      <th>...</th>\n",
              "      <th>18</th>\n",
              "      <th>19</th>\n",
              "      <th>20</th>\n",
              "      <th>21</th>\n",
              "      <th>22</th>\n",
              "      <th>23</th>\n",
              "      <th>24</th>\n",
              "      <th>25</th>\n",
              "      <th>26</th>\n",
              "      <th>27</th>\n",
              "    </tr>\n",
              "  </thead>\n",
              "  <tbody>\n",
              "    <tr>\n",
              "      <th>0</th>\n",
              "      <td>2</td>\n",
              "      <td>1</td>\n",
              "      <td>530101</td>\n",
              "      <td>38.50</td>\n",
              "      <td>66</td>\n",
              "      <td>28</td>\n",
              "      <td>3</td>\n",
              "      <td>3</td>\n",
              "      <td>?</td>\n",
              "      <td>2</td>\n",
              "      <td>...</td>\n",
              "      <td>45.00</td>\n",
              "      <td>8.40</td>\n",
              "      <td>?</td>\n",
              "      <td>?</td>\n",
              "      <td>2</td>\n",
              "      <td>2</td>\n",
              "      <td>11300</td>\n",
              "      <td>0</td>\n",
              "      <td>0</td>\n",
              "      <td>2</td>\n",
              "    </tr>\n",
              "    <tr>\n",
              "      <th>1</th>\n",
              "      <td>1</td>\n",
              "      <td>1</td>\n",
              "      <td>534817</td>\n",
              "      <td>39.2</td>\n",
              "      <td>88</td>\n",
              "      <td>20</td>\n",
              "      <td>?</td>\n",
              "      <td>?</td>\n",
              "      <td>4</td>\n",
              "      <td>1</td>\n",
              "      <td>...</td>\n",
              "      <td>50</td>\n",
              "      <td>85</td>\n",
              "      <td>2</td>\n",
              "      <td>2</td>\n",
              "      <td>3</td>\n",
              "      <td>2</td>\n",
              "      <td>2208</td>\n",
              "      <td>0</td>\n",
              "      <td>0</td>\n",
              "      <td>2</td>\n",
              "    </tr>\n",
              "    <tr>\n",
              "      <th>2</th>\n",
              "      <td>2</td>\n",
              "      <td>1</td>\n",
              "      <td>530334</td>\n",
              "      <td>38.30</td>\n",
              "      <td>40</td>\n",
              "      <td>24</td>\n",
              "      <td>1</td>\n",
              "      <td>1</td>\n",
              "      <td>3</td>\n",
              "      <td>1</td>\n",
              "      <td>...</td>\n",
              "      <td>33.00</td>\n",
              "      <td>6.70</td>\n",
              "      <td>?</td>\n",
              "      <td>?</td>\n",
              "      <td>1</td>\n",
              "      <td>2</td>\n",
              "      <td>0</td>\n",
              "      <td>0</td>\n",
              "      <td>0</td>\n",
              "      <td>1</td>\n",
              "    </tr>\n",
              "    <tr>\n",
              "      <th>3</th>\n",
              "      <td>1</td>\n",
              "      <td>9</td>\n",
              "      <td>5290409</td>\n",
              "      <td>39.10</td>\n",
              "      <td>164</td>\n",
              "      <td>84</td>\n",
              "      <td>4</td>\n",
              "      <td>1</td>\n",
              "      <td>6</td>\n",
              "      <td>2</td>\n",
              "      <td>...</td>\n",
              "      <td>48.00</td>\n",
              "      <td>7.20</td>\n",
              "      <td>3</td>\n",
              "      <td>5.30</td>\n",
              "      <td>2</td>\n",
              "      <td>1</td>\n",
              "      <td>2208</td>\n",
              "      <td>0</td>\n",
              "      <td>0</td>\n",
              "      <td>1</td>\n",
              "    </tr>\n",
              "    <tr>\n",
              "      <th>4</th>\n",
              "      <td>2</td>\n",
              "      <td>1</td>\n",
              "      <td>530255</td>\n",
              "      <td>37.30</td>\n",
              "      <td>104</td>\n",
              "      <td>35</td>\n",
              "      <td>?</td>\n",
              "      <td>?</td>\n",
              "      <td>6</td>\n",
              "      <td>2</td>\n",
              "      <td>...</td>\n",
              "      <td>74.00</td>\n",
              "      <td>7.40</td>\n",
              "      <td>?</td>\n",
              "      <td>?</td>\n",
              "      <td>2</td>\n",
              "      <td>2</td>\n",
              "      <td>4300</td>\n",
              "      <td>0</td>\n",
              "      <td>0</td>\n",
              "      <td>2</td>\n",
              "    </tr>\n",
              "  </tbody>\n",
              "</table>\n",
              "<p>5 rows × 28 columns</p>\n",
              "</div>\n",
              "      <button class=\"colab-df-convert\" onclick=\"convertToInteractive('df-0d7a5d6b-7890-4084-ba19-e2a703944945')\"\n",
              "              title=\"Convert this dataframe to an interactive table.\"\n",
              "              style=\"display:none;\">\n",
              "        \n",
              "  <svg xmlns=\"http://www.w3.org/2000/svg\" height=\"24px\"viewBox=\"0 0 24 24\"\n",
              "       width=\"24px\">\n",
              "    <path d=\"M0 0h24v24H0V0z\" fill=\"none\"/>\n",
              "    <path d=\"M18.56 5.44l.94 2.06.94-2.06 2.06-.94-2.06-.94-.94-2.06-.94 2.06-2.06.94zm-11 1L8.5 8.5l.94-2.06 2.06-.94-2.06-.94L8.5 2.5l-.94 2.06-2.06.94zm10 10l.94 2.06.94-2.06 2.06-.94-2.06-.94-.94-2.06-.94 2.06-2.06.94z\"/><path d=\"M17.41 7.96l-1.37-1.37c-.4-.4-.92-.59-1.43-.59-.52 0-1.04.2-1.43.59L10.3 9.45l-7.72 7.72c-.78.78-.78 2.05 0 2.83L4 21.41c.39.39.9.59 1.41.59.51 0 1.02-.2 1.41-.59l7.78-7.78 2.81-2.81c.8-.78.8-2.07 0-2.86zM5.41 20L4 18.59l7.72-7.72 1.47 1.35L5.41 20z\"/>\n",
              "  </svg>\n",
              "      </button>\n",
              "      \n",
              "  <style>\n",
              "    .colab-df-container {\n",
              "      display:flex;\n",
              "      flex-wrap:wrap;\n",
              "      gap: 12px;\n",
              "    }\n",
              "\n",
              "    .colab-df-convert {\n",
              "      background-color: #E8F0FE;\n",
              "      border: none;\n",
              "      border-radius: 50%;\n",
              "      cursor: pointer;\n",
              "      display: none;\n",
              "      fill: #1967D2;\n",
              "      height: 32px;\n",
              "      padding: 0 0 0 0;\n",
              "      width: 32px;\n",
              "    }\n",
              "\n",
              "    .colab-df-convert:hover {\n",
              "      background-color: #E2EBFA;\n",
              "      box-shadow: 0px 1px 2px rgba(60, 64, 67, 0.3), 0px 1px 3px 1px rgba(60, 64, 67, 0.15);\n",
              "      fill: #174EA6;\n",
              "    }\n",
              "\n",
              "    [theme=dark] .colab-df-convert {\n",
              "      background-color: #3B4455;\n",
              "      fill: #D2E3FC;\n",
              "    }\n",
              "\n",
              "    [theme=dark] .colab-df-convert:hover {\n",
              "      background-color: #434B5C;\n",
              "      box-shadow: 0px 1px 3px 1px rgba(0, 0, 0, 0.15);\n",
              "      filter: drop-shadow(0px 1px 2px rgba(0, 0, 0, 0.3));\n",
              "      fill: #FFFFFF;\n",
              "    }\n",
              "  </style>\n",
              "\n",
              "      <script>\n",
              "        const buttonEl =\n",
              "          document.querySelector('#df-0d7a5d6b-7890-4084-ba19-e2a703944945 button.colab-df-convert');\n",
              "        buttonEl.style.display =\n",
              "          google.colab.kernel.accessAllowed ? 'block' : 'none';\n",
              "\n",
              "        async function convertToInteractive(key) {\n",
              "          const element = document.querySelector('#df-0d7a5d6b-7890-4084-ba19-e2a703944945');\n",
              "          const dataTable =\n",
              "            await google.colab.kernel.invokeFunction('convertToInteractive',\n",
              "                                                     [key], {});\n",
              "          if (!dataTable) return;\n",
              "\n",
              "          const docLinkHtml = 'Like what you see? Visit the ' +\n",
              "            '<a target=\"_blank\" href=https://colab.research.google.com/notebooks/data_table.ipynb>data table notebook</a>'\n",
              "            + ' to learn more about interactive tables.';\n",
              "          element.innerHTML = '';\n",
              "          dataTable['output_type'] = 'display_data';\n",
              "          await google.colab.output.renderOutput(dataTable, element);\n",
              "          const docLink = document.createElement('div');\n",
              "          docLink.innerHTML = docLinkHtml;\n",
              "          element.appendChild(docLink);\n",
              "        }\n",
              "      </script>\n",
              "    </div>\n",
              "  </div>\n",
              "  "
            ]
          },
          "metadata": {},
          "execution_count": 3
        }
      ]
    },
    {
      "cell_type": "markdown",
      "source": [
        "From the above dataset, we can see that the Missing values are encoded as ?. But we don't know if these values have been considered as NULL in Pandas Dataframe or not."
      ],
      "metadata": {
        "id": "jj9V6C1eKHru"
      }
    },
    {
      "cell_type": "markdown",
      "source": [
        "# Data Preprocessing "
      ],
      "metadata": {
        "id": "tzBNK5LvH1i3"
      }
    },
    {
      "cell_type": "markdown",
      "source": [
        "## Data Cleaning\n",
        "\n",
        "### Step 1: Encoding as NaN value"
      ],
      "metadata": {
        "id": "ALp2bT-Df0mk"
      }
    },
    {
      "cell_type": "markdown",
      "source": [
        "Checking the data type of each column in dataset. Here we can see that all the columns are appearing to be Not Null even though they have \"?\" values"
      ],
      "metadata": {
        "id": "nOwRdkRmJ-81"
      }
    },
    {
      "cell_type": "code",
      "source": [
        "df.info()"
      ],
      "metadata": {
        "colab": {
          "base_uri": "https://localhost:8080/"
        },
        "id": "TZDx9SUsMh1r",
        "outputId": "81d4c80f-fbda-4737-81d8-a8c636f344eb"
      },
      "execution_count": null,
      "outputs": [
        {
          "output_type": "stream",
          "name": "stdout",
          "text": [
            "<class 'pandas.core.frame.DataFrame'>\n",
            "RangeIndex: 300 entries, 0 to 299\n",
            "Data columns (total 28 columns):\n",
            " #   Column  Non-Null Count  Dtype \n",
            "---  ------  --------------  ----- \n",
            " 0   0       300 non-null    object\n",
            " 1   1       300 non-null    int64 \n",
            " 2   2       300 non-null    int64 \n",
            " 3   3       300 non-null    object\n",
            " 4   4       300 non-null    object\n",
            " 5   5       300 non-null    object\n",
            " 6   6       300 non-null    object\n",
            " 7   7       300 non-null    object\n",
            " 8   8       300 non-null    object\n",
            " 9   9       300 non-null    object\n",
            " 10  10      300 non-null    object\n",
            " 11  11      300 non-null    object\n",
            " 12  12      300 non-null    object\n",
            " 13  13      300 non-null    object\n",
            " 14  14      300 non-null    object\n",
            " 15  15      300 non-null    object\n",
            " 16  16      300 non-null    object\n",
            " 17  17      300 non-null    object\n",
            " 18  18      300 non-null    object\n",
            " 19  19      300 non-null    object\n",
            " 20  20      300 non-null    object\n",
            " 21  21      300 non-null    object\n",
            " 22  22      300 non-null    object\n",
            " 23  23      300 non-null    int64 \n",
            " 24  24      300 non-null    int64 \n",
            " 25  25      300 non-null    int64 \n",
            " 26  26      300 non-null    int64 \n",
            " 27  27      300 non-null    int64 \n",
            "dtypes: int64(7), object(21)\n",
            "memory usage: 65.8+ KB\n"
          ]
        }
      ]
    },
    {
      "cell_type": "markdown",
      "source": [
        "##### Encoding \"?\" as NaN so that they will be considered as missing values. Pandas Read Excel function has an option of encoding a certain value as NaN by using na_values parameter"
      ],
      "metadata": {
        "id": "173oxtm8dngu"
      }
    },
    {
      "cell_type": "code",
      "source": [
        "df = pd.read_csv('/content/drive/MyDrive/horse-colic.csv',na_values= ['?'], header=None)"
      ],
      "metadata": {
        "id": "eMxccCvoMPfj"
      },
      "execution_count": null,
      "outputs": []
    },
    {
      "cell_type": "code",
      "source": [
        "df.info()"
      ],
      "metadata": {
        "colab": {
          "base_uri": "https://localhost:8080/"
        },
        "id": "qBa8vm_fU5W_",
        "outputId": "e1c70b3f-5f8e-4b1e-acfa-296b1c21c310"
      },
      "execution_count": null,
      "outputs": [
        {
          "output_type": "stream",
          "name": "stdout",
          "text": [
            "<class 'pandas.core.frame.DataFrame'>\n",
            "RangeIndex: 300 entries, 0 to 299\n",
            "Data columns (total 28 columns):\n",
            " #   Column  Non-Null Count  Dtype  \n",
            "---  ------  --------------  -----  \n",
            " 0   0       299 non-null    float64\n",
            " 1   1       300 non-null    int64  \n",
            " 2   2       300 non-null    int64  \n",
            " 3   3       240 non-null    float64\n",
            " 4   4       276 non-null    float64\n",
            " 5   5       242 non-null    float64\n",
            " 6   6       244 non-null    float64\n",
            " 7   7       231 non-null    float64\n",
            " 8   8       253 non-null    float64\n",
            " 9   9       268 non-null    float64\n",
            " 10  10      245 non-null    float64\n",
            " 11  11      256 non-null    float64\n",
            " 12  12      244 non-null    float64\n",
            " 13  13      196 non-null    float64\n",
            " 14  14      194 non-null    float64\n",
            " 15  15      53 non-null     float64\n",
            " 16  16      198 non-null    float64\n",
            " 17  17      182 non-null    float64\n",
            " 18  18      271 non-null    float64\n",
            " 19  19      267 non-null    float64\n",
            " 20  20      135 non-null    float64\n",
            " 21  21      102 non-null    float64\n",
            " 22  22      299 non-null    float64\n",
            " 23  23      300 non-null    int64  \n",
            " 24  24      300 non-null    int64  \n",
            " 25  25      300 non-null    int64  \n",
            " 26  26      300 non-null    int64  \n",
            " 27  27      300 non-null    int64  \n",
            "dtypes: float64(21), int64(7)\n",
            "memory usage: 65.8 KB\n"
          ]
        }
      ]
    },
    {
      "cell_type": "markdown",
      "source": [
        "Therefore, \"?\" values have been converted to NaN"
      ],
      "metadata": {
        "id": "dNWiJrqxMpAE"
      }
    },
    {
      "cell_type": "code",
      "source": [
        "df.head()"
      ],
      "metadata": {
        "colab": {
          "base_uri": "https://localhost:8080/",
          "height": 235
        },
        "id": "cTg3xiEeMaZI",
        "outputId": "a15661a8-54c7-4ed6-d539-965f8992ea60"
      },
      "execution_count": null,
      "outputs": [
        {
          "output_type": "execute_result",
          "data": {
            "text/plain": [
              "    0   1        2     3      4     5    6    7    8    9   ...    18    19  \\\n",
              "0  2.0   1   530101  38.5   66.0  28.0  3.0  3.0  NaN  2.0  ...  45.0   8.4   \n",
              "1  1.0   1   534817  39.2   88.0  20.0  NaN  NaN  4.0  1.0  ...  50.0  85.0   \n",
              "2  2.0   1   530334  38.3   40.0  24.0  1.0  1.0  3.0  1.0  ...  33.0   6.7   \n",
              "3  1.0   9  5290409  39.1  164.0  84.0  4.0  1.0  6.0  2.0  ...  48.0   7.2   \n",
              "4  2.0   1   530255  37.3  104.0  35.0  NaN  NaN  6.0  2.0  ...  74.0   7.4   \n",
              "\n",
              "    20   21   22  23     24  25  26  27  \n",
              "0  NaN  NaN  2.0   2  11300   0   0   2  \n",
              "1  2.0  2.0  3.0   2   2208   0   0   2  \n",
              "2  NaN  NaN  1.0   2      0   0   0   1  \n",
              "3  3.0  5.3  2.0   1   2208   0   0   1  \n",
              "4  NaN  NaN  2.0   2   4300   0   0   2  \n",
              "\n",
              "[5 rows x 28 columns]"
            ],
            "text/html": [
              "\n",
              "  <div id=\"df-955aa619-751c-4075-a5a2-6906fc9e3d4e\">\n",
              "    <div class=\"colab-df-container\">\n",
              "      <div>\n",
              "<style scoped>\n",
              "    .dataframe tbody tr th:only-of-type {\n",
              "        vertical-align: middle;\n",
              "    }\n",
              "\n",
              "    .dataframe tbody tr th {\n",
              "        vertical-align: top;\n",
              "    }\n",
              "\n",
              "    .dataframe thead th {\n",
              "        text-align: right;\n",
              "    }\n",
              "</style>\n",
              "<table border=\"1\" class=\"dataframe\">\n",
              "  <thead>\n",
              "    <tr style=\"text-align: right;\">\n",
              "      <th></th>\n",
              "      <th>0</th>\n",
              "      <th>1</th>\n",
              "      <th>2</th>\n",
              "      <th>3</th>\n",
              "      <th>4</th>\n",
              "      <th>5</th>\n",
              "      <th>6</th>\n",
              "      <th>7</th>\n",
              "      <th>8</th>\n",
              "      <th>9</th>\n",
              "      <th>...</th>\n",
              "      <th>18</th>\n",
              "      <th>19</th>\n",
              "      <th>20</th>\n",
              "      <th>21</th>\n",
              "      <th>22</th>\n",
              "      <th>23</th>\n",
              "      <th>24</th>\n",
              "      <th>25</th>\n",
              "      <th>26</th>\n",
              "      <th>27</th>\n",
              "    </tr>\n",
              "  </thead>\n",
              "  <tbody>\n",
              "    <tr>\n",
              "      <th>0</th>\n",
              "      <td>2.0</td>\n",
              "      <td>1</td>\n",
              "      <td>530101</td>\n",
              "      <td>38.5</td>\n",
              "      <td>66.0</td>\n",
              "      <td>28.0</td>\n",
              "      <td>3.0</td>\n",
              "      <td>3.0</td>\n",
              "      <td>NaN</td>\n",
              "      <td>2.0</td>\n",
              "      <td>...</td>\n",
              "      <td>45.0</td>\n",
              "      <td>8.4</td>\n",
              "      <td>NaN</td>\n",
              "      <td>NaN</td>\n",
              "      <td>2.0</td>\n",
              "      <td>2</td>\n",
              "      <td>11300</td>\n",
              "      <td>0</td>\n",
              "      <td>0</td>\n",
              "      <td>2</td>\n",
              "    </tr>\n",
              "    <tr>\n",
              "      <th>1</th>\n",
              "      <td>1.0</td>\n",
              "      <td>1</td>\n",
              "      <td>534817</td>\n",
              "      <td>39.2</td>\n",
              "      <td>88.0</td>\n",
              "      <td>20.0</td>\n",
              "      <td>NaN</td>\n",
              "      <td>NaN</td>\n",
              "      <td>4.0</td>\n",
              "      <td>1.0</td>\n",
              "      <td>...</td>\n",
              "      <td>50.0</td>\n",
              "      <td>85.0</td>\n",
              "      <td>2.0</td>\n",
              "      <td>2.0</td>\n",
              "      <td>3.0</td>\n",
              "      <td>2</td>\n",
              "      <td>2208</td>\n",
              "      <td>0</td>\n",
              "      <td>0</td>\n",
              "      <td>2</td>\n",
              "    </tr>\n",
              "    <tr>\n",
              "      <th>2</th>\n",
              "      <td>2.0</td>\n",
              "      <td>1</td>\n",
              "      <td>530334</td>\n",
              "      <td>38.3</td>\n",
              "      <td>40.0</td>\n",
              "      <td>24.0</td>\n",
              "      <td>1.0</td>\n",
              "      <td>1.0</td>\n",
              "      <td>3.0</td>\n",
              "      <td>1.0</td>\n",
              "      <td>...</td>\n",
              "      <td>33.0</td>\n",
              "      <td>6.7</td>\n",
              "      <td>NaN</td>\n",
              "      <td>NaN</td>\n",
              "      <td>1.0</td>\n",
              "      <td>2</td>\n",
              "      <td>0</td>\n",
              "      <td>0</td>\n",
              "      <td>0</td>\n",
              "      <td>1</td>\n",
              "    </tr>\n",
              "    <tr>\n",
              "      <th>3</th>\n",
              "      <td>1.0</td>\n",
              "      <td>9</td>\n",
              "      <td>5290409</td>\n",
              "      <td>39.1</td>\n",
              "      <td>164.0</td>\n",
              "      <td>84.0</td>\n",
              "      <td>4.0</td>\n",
              "      <td>1.0</td>\n",
              "      <td>6.0</td>\n",
              "      <td>2.0</td>\n",
              "      <td>...</td>\n",
              "      <td>48.0</td>\n",
              "      <td>7.2</td>\n",
              "      <td>3.0</td>\n",
              "      <td>5.3</td>\n",
              "      <td>2.0</td>\n",
              "      <td>1</td>\n",
              "      <td>2208</td>\n",
              "      <td>0</td>\n",
              "      <td>0</td>\n",
              "      <td>1</td>\n",
              "    </tr>\n",
              "    <tr>\n",
              "      <th>4</th>\n",
              "      <td>2.0</td>\n",
              "      <td>1</td>\n",
              "      <td>530255</td>\n",
              "      <td>37.3</td>\n",
              "      <td>104.0</td>\n",
              "      <td>35.0</td>\n",
              "      <td>NaN</td>\n",
              "      <td>NaN</td>\n",
              "      <td>6.0</td>\n",
              "      <td>2.0</td>\n",
              "      <td>...</td>\n",
              "      <td>74.0</td>\n",
              "      <td>7.4</td>\n",
              "      <td>NaN</td>\n",
              "      <td>NaN</td>\n",
              "      <td>2.0</td>\n",
              "      <td>2</td>\n",
              "      <td>4300</td>\n",
              "      <td>0</td>\n",
              "      <td>0</td>\n",
              "      <td>2</td>\n",
              "    </tr>\n",
              "  </tbody>\n",
              "</table>\n",
              "<p>5 rows × 28 columns</p>\n",
              "</div>\n",
              "      <button class=\"colab-df-convert\" onclick=\"convertToInteractive('df-955aa619-751c-4075-a5a2-6906fc9e3d4e')\"\n",
              "              title=\"Convert this dataframe to an interactive table.\"\n",
              "              style=\"display:none;\">\n",
              "        \n",
              "  <svg xmlns=\"http://www.w3.org/2000/svg\" height=\"24px\"viewBox=\"0 0 24 24\"\n",
              "       width=\"24px\">\n",
              "    <path d=\"M0 0h24v24H0V0z\" fill=\"none\"/>\n",
              "    <path d=\"M18.56 5.44l.94 2.06.94-2.06 2.06-.94-2.06-.94-.94-2.06-.94 2.06-2.06.94zm-11 1L8.5 8.5l.94-2.06 2.06-.94-2.06-.94L8.5 2.5l-.94 2.06-2.06.94zm10 10l.94 2.06.94-2.06 2.06-.94-2.06-.94-.94-2.06-.94 2.06-2.06.94z\"/><path d=\"M17.41 7.96l-1.37-1.37c-.4-.4-.92-.59-1.43-.59-.52 0-1.04.2-1.43.59L10.3 9.45l-7.72 7.72c-.78.78-.78 2.05 0 2.83L4 21.41c.39.39.9.59 1.41.59.51 0 1.02-.2 1.41-.59l7.78-7.78 2.81-2.81c.8-.78.8-2.07 0-2.86zM5.41 20L4 18.59l7.72-7.72 1.47 1.35L5.41 20z\"/>\n",
              "  </svg>\n",
              "      </button>\n",
              "      \n",
              "  <style>\n",
              "    .colab-df-container {\n",
              "      display:flex;\n",
              "      flex-wrap:wrap;\n",
              "      gap: 12px;\n",
              "    }\n",
              "\n",
              "    .colab-df-convert {\n",
              "      background-color: #E8F0FE;\n",
              "      border: none;\n",
              "      border-radius: 50%;\n",
              "      cursor: pointer;\n",
              "      display: none;\n",
              "      fill: #1967D2;\n",
              "      height: 32px;\n",
              "      padding: 0 0 0 0;\n",
              "      width: 32px;\n",
              "    }\n",
              "\n",
              "    .colab-df-convert:hover {\n",
              "      background-color: #E2EBFA;\n",
              "      box-shadow: 0px 1px 2px rgba(60, 64, 67, 0.3), 0px 1px 3px 1px rgba(60, 64, 67, 0.15);\n",
              "      fill: #174EA6;\n",
              "    }\n",
              "\n",
              "    [theme=dark] .colab-df-convert {\n",
              "      background-color: #3B4455;\n",
              "      fill: #D2E3FC;\n",
              "    }\n",
              "\n",
              "    [theme=dark] .colab-df-convert:hover {\n",
              "      background-color: #434B5C;\n",
              "      box-shadow: 0px 1px 3px 1px rgba(0, 0, 0, 0.15);\n",
              "      filter: drop-shadow(0px 1px 2px rgba(0, 0, 0, 0.3));\n",
              "      fill: #FFFFFF;\n",
              "    }\n",
              "  </style>\n",
              "\n",
              "      <script>\n",
              "        const buttonEl =\n",
              "          document.querySelector('#df-955aa619-751c-4075-a5a2-6906fc9e3d4e button.colab-df-convert');\n",
              "        buttonEl.style.display =\n",
              "          google.colab.kernel.accessAllowed ? 'block' : 'none';\n",
              "\n",
              "        async function convertToInteractive(key) {\n",
              "          const element = document.querySelector('#df-955aa619-751c-4075-a5a2-6906fc9e3d4e');\n",
              "          const dataTable =\n",
              "            await google.colab.kernel.invokeFunction('convertToInteractive',\n",
              "                                                     [key], {});\n",
              "          if (!dataTable) return;\n",
              "\n",
              "          const docLinkHtml = 'Like what you see? Visit the ' +\n",
              "            '<a target=\"_blank\" href=https://colab.research.google.com/notebooks/data_table.ipynb>data table notebook</a>'\n",
              "            + ' to learn more about interactive tables.';\n",
              "          element.innerHTML = '';\n",
              "          dataTable['output_type'] = 'display_data';\n",
              "          await google.colab.output.renderOutput(dataTable, element);\n",
              "          const docLink = document.createElement('div');\n",
              "          docLink.innerHTML = docLinkHtml;\n",
              "          element.appendChild(docLink);\n",
              "        }\n",
              "      </script>\n",
              "    </div>\n",
              "  </div>\n",
              "  "
            ]
          },
          "metadata": {},
          "execution_count": 7
        }
      ]
    },
    {
      "cell_type": "markdown",
      "source": [
        "In the above dataset we can also see that the columns have not been named. Hence we will rename the columns based on data description"
      ],
      "metadata": {
        "id": "04_Uf6jAKdaw"
      }
    },
    {
      "cell_type": "code",
      "source": [
        "columns = ['surgery',\t'age',\t'hospital_number',\t'rectal_temp',\t'pulse',\t'respiratory_rate',\t'temp_of_extremities',\t'peripheral_pulse',\t'mucous_membrane',\t'capillary_refill_time',\t'pain',\t'peristalsis',\t'abdominal_distention','nasogastric_tube',\t'nasogastric_reflux', 'nasogastric_reflux_ph', 'rectal_exam_feces','abdomen', 'packed_cell_volume', 'total_protein', 'abdomo_appearance', 'abdomo_protein', 'outcome', 'surgical_lesion', 'lesion_1',\t'lesion_2',\t'lesion_3', 'cp_data' ]\n"
      ],
      "metadata": {
        "id": "n6_1S1_FKcDS"
      },
      "execution_count": null,
      "outputs": []
    },
    {
      "cell_type": "code",
      "source": [
        "df.columns = columns"
      ],
      "metadata": {
        "id": "lgfmsMe3L3EJ"
      },
      "execution_count": null,
      "outputs": []
    },
    {
      "cell_type": "markdown",
      "source": [
        "Dataframe after renaming the columns"
      ],
      "metadata": {
        "id": "nk_fz_WTKoMB"
      }
    },
    {
      "cell_type": "code",
      "source": [
        "df.head()"
      ],
      "metadata": {
        "colab": {
          "base_uri": "https://localhost:8080/",
          "height": 299
        },
        "id": "vQ4XkoWFL4Su",
        "outputId": "99d1125c-2fe2-482a-f9df-3e9919ebdb93"
      },
      "execution_count": null,
      "outputs": [
        {
          "output_type": "execute_result",
          "data": {
            "text/plain": [
              "   surgery  age  hospital_number  rectal_temp  pulse  respiratory_rate  \\\n",
              "0      2.0    1           530101         38.5   66.0              28.0   \n",
              "1      1.0    1           534817         39.2   88.0              20.0   \n",
              "2      2.0    1           530334         38.3   40.0              24.0   \n",
              "3      1.0    9          5290409         39.1  164.0              84.0   \n",
              "4      2.0    1           530255         37.3  104.0              35.0   \n",
              "\n",
              "   temp_of_extremities  peripheral_pulse  mucous_membrane  \\\n",
              "0                  3.0               3.0              NaN   \n",
              "1                  NaN               NaN              4.0   \n",
              "2                  1.0               1.0              3.0   \n",
              "3                  4.0               1.0              6.0   \n",
              "4                  NaN               NaN              6.0   \n",
              "\n",
              "   capillary_refill_time  ...  packed_cell_volume  total_protein  \\\n",
              "0                    2.0  ...                45.0            8.4   \n",
              "1                    1.0  ...                50.0           85.0   \n",
              "2                    1.0  ...                33.0            6.7   \n",
              "3                    2.0  ...                48.0            7.2   \n",
              "4                    2.0  ...                74.0            7.4   \n",
              "\n",
              "   abdomo_appearance  abdomo_protein  outcome  surgical_lesion  lesion_1  \\\n",
              "0                NaN             NaN      2.0                2     11300   \n",
              "1                2.0             2.0      3.0                2      2208   \n",
              "2                NaN             NaN      1.0                2         0   \n",
              "3                3.0             5.3      2.0                1      2208   \n",
              "4                NaN             NaN      2.0                2      4300   \n",
              "\n",
              "   lesion_2  lesion_3  cp_data  \n",
              "0         0         0        2  \n",
              "1         0         0        2  \n",
              "2         0         0        1  \n",
              "3         0         0        1  \n",
              "4         0         0        2  \n",
              "\n",
              "[5 rows x 28 columns]"
            ],
            "text/html": [
              "\n",
              "  <div id=\"df-e9e90ec4-9e8a-4b99-9bca-99b0e988ce22\">\n",
              "    <div class=\"colab-df-container\">\n",
              "      <div>\n",
              "<style scoped>\n",
              "    .dataframe tbody tr th:only-of-type {\n",
              "        vertical-align: middle;\n",
              "    }\n",
              "\n",
              "    .dataframe tbody tr th {\n",
              "        vertical-align: top;\n",
              "    }\n",
              "\n",
              "    .dataframe thead th {\n",
              "        text-align: right;\n",
              "    }\n",
              "</style>\n",
              "<table border=\"1\" class=\"dataframe\">\n",
              "  <thead>\n",
              "    <tr style=\"text-align: right;\">\n",
              "      <th></th>\n",
              "      <th>surgery</th>\n",
              "      <th>age</th>\n",
              "      <th>hospital_number</th>\n",
              "      <th>rectal_temp</th>\n",
              "      <th>pulse</th>\n",
              "      <th>respiratory_rate</th>\n",
              "      <th>temp_of_extremities</th>\n",
              "      <th>peripheral_pulse</th>\n",
              "      <th>mucous_membrane</th>\n",
              "      <th>capillary_refill_time</th>\n",
              "      <th>...</th>\n",
              "      <th>packed_cell_volume</th>\n",
              "      <th>total_protein</th>\n",
              "      <th>abdomo_appearance</th>\n",
              "      <th>abdomo_protein</th>\n",
              "      <th>outcome</th>\n",
              "      <th>surgical_lesion</th>\n",
              "      <th>lesion_1</th>\n",
              "      <th>lesion_2</th>\n",
              "      <th>lesion_3</th>\n",
              "      <th>cp_data</th>\n",
              "    </tr>\n",
              "  </thead>\n",
              "  <tbody>\n",
              "    <tr>\n",
              "      <th>0</th>\n",
              "      <td>2.0</td>\n",
              "      <td>1</td>\n",
              "      <td>530101</td>\n",
              "      <td>38.5</td>\n",
              "      <td>66.0</td>\n",
              "      <td>28.0</td>\n",
              "      <td>3.0</td>\n",
              "      <td>3.0</td>\n",
              "      <td>NaN</td>\n",
              "      <td>2.0</td>\n",
              "      <td>...</td>\n",
              "      <td>45.0</td>\n",
              "      <td>8.4</td>\n",
              "      <td>NaN</td>\n",
              "      <td>NaN</td>\n",
              "      <td>2.0</td>\n",
              "      <td>2</td>\n",
              "      <td>11300</td>\n",
              "      <td>0</td>\n",
              "      <td>0</td>\n",
              "      <td>2</td>\n",
              "    </tr>\n",
              "    <tr>\n",
              "      <th>1</th>\n",
              "      <td>1.0</td>\n",
              "      <td>1</td>\n",
              "      <td>534817</td>\n",
              "      <td>39.2</td>\n",
              "      <td>88.0</td>\n",
              "      <td>20.0</td>\n",
              "      <td>NaN</td>\n",
              "      <td>NaN</td>\n",
              "      <td>4.0</td>\n",
              "      <td>1.0</td>\n",
              "      <td>...</td>\n",
              "      <td>50.0</td>\n",
              "      <td>85.0</td>\n",
              "      <td>2.0</td>\n",
              "      <td>2.0</td>\n",
              "      <td>3.0</td>\n",
              "      <td>2</td>\n",
              "      <td>2208</td>\n",
              "      <td>0</td>\n",
              "      <td>0</td>\n",
              "      <td>2</td>\n",
              "    </tr>\n",
              "    <tr>\n",
              "      <th>2</th>\n",
              "      <td>2.0</td>\n",
              "      <td>1</td>\n",
              "      <td>530334</td>\n",
              "      <td>38.3</td>\n",
              "      <td>40.0</td>\n",
              "      <td>24.0</td>\n",
              "      <td>1.0</td>\n",
              "      <td>1.0</td>\n",
              "      <td>3.0</td>\n",
              "      <td>1.0</td>\n",
              "      <td>...</td>\n",
              "      <td>33.0</td>\n",
              "      <td>6.7</td>\n",
              "      <td>NaN</td>\n",
              "      <td>NaN</td>\n",
              "      <td>1.0</td>\n",
              "      <td>2</td>\n",
              "      <td>0</td>\n",
              "      <td>0</td>\n",
              "      <td>0</td>\n",
              "      <td>1</td>\n",
              "    </tr>\n",
              "    <tr>\n",
              "      <th>3</th>\n",
              "      <td>1.0</td>\n",
              "      <td>9</td>\n",
              "      <td>5290409</td>\n",
              "      <td>39.1</td>\n",
              "      <td>164.0</td>\n",
              "      <td>84.0</td>\n",
              "      <td>4.0</td>\n",
              "      <td>1.0</td>\n",
              "      <td>6.0</td>\n",
              "      <td>2.0</td>\n",
              "      <td>...</td>\n",
              "      <td>48.0</td>\n",
              "      <td>7.2</td>\n",
              "      <td>3.0</td>\n",
              "      <td>5.3</td>\n",
              "      <td>2.0</td>\n",
              "      <td>1</td>\n",
              "      <td>2208</td>\n",
              "      <td>0</td>\n",
              "      <td>0</td>\n",
              "      <td>1</td>\n",
              "    </tr>\n",
              "    <tr>\n",
              "      <th>4</th>\n",
              "      <td>2.0</td>\n",
              "      <td>1</td>\n",
              "      <td>530255</td>\n",
              "      <td>37.3</td>\n",
              "      <td>104.0</td>\n",
              "      <td>35.0</td>\n",
              "      <td>NaN</td>\n",
              "      <td>NaN</td>\n",
              "      <td>6.0</td>\n",
              "      <td>2.0</td>\n",
              "      <td>...</td>\n",
              "      <td>74.0</td>\n",
              "      <td>7.4</td>\n",
              "      <td>NaN</td>\n",
              "      <td>NaN</td>\n",
              "      <td>2.0</td>\n",
              "      <td>2</td>\n",
              "      <td>4300</td>\n",
              "      <td>0</td>\n",
              "      <td>0</td>\n",
              "      <td>2</td>\n",
              "    </tr>\n",
              "  </tbody>\n",
              "</table>\n",
              "<p>5 rows × 28 columns</p>\n",
              "</div>\n",
              "      <button class=\"colab-df-convert\" onclick=\"convertToInteractive('df-e9e90ec4-9e8a-4b99-9bca-99b0e988ce22')\"\n",
              "              title=\"Convert this dataframe to an interactive table.\"\n",
              "              style=\"display:none;\">\n",
              "        \n",
              "  <svg xmlns=\"http://www.w3.org/2000/svg\" height=\"24px\"viewBox=\"0 0 24 24\"\n",
              "       width=\"24px\">\n",
              "    <path d=\"M0 0h24v24H0V0z\" fill=\"none\"/>\n",
              "    <path d=\"M18.56 5.44l.94 2.06.94-2.06 2.06-.94-2.06-.94-.94-2.06-.94 2.06-2.06.94zm-11 1L8.5 8.5l.94-2.06 2.06-.94-2.06-.94L8.5 2.5l-.94 2.06-2.06.94zm10 10l.94 2.06.94-2.06 2.06-.94-2.06-.94-.94-2.06-.94 2.06-2.06.94z\"/><path d=\"M17.41 7.96l-1.37-1.37c-.4-.4-.92-.59-1.43-.59-.52 0-1.04.2-1.43.59L10.3 9.45l-7.72 7.72c-.78.78-.78 2.05 0 2.83L4 21.41c.39.39.9.59 1.41.59.51 0 1.02-.2 1.41-.59l7.78-7.78 2.81-2.81c.8-.78.8-2.07 0-2.86zM5.41 20L4 18.59l7.72-7.72 1.47 1.35L5.41 20z\"/>\n",
              "  </svg>\n",
              "      </button>\n",
              "      \n",
              "  <style>\n",
              "    .colab-df-container {\n",
              "      display:flex;\n",
              "      flex-wrap:wrap;\n",
              "      gap: 12px;\n",
              "    }\n",
              "\n",
              "    .colab-df-convert {\n",
              "      background-color: #E8F0FE;\n",
              "      border: none;\n",
              "      border-radius: 50%;\n",
              "      cursor: pointer;\n",
              "      display: none;\n",
              "      fill: #1967D2;\n",
              "      height: 32px;\n",
              "      padding: 0 0 0 0;\n",
              "      width: 32px;\n",
              "    }\n",
              "\n",
              "    .colab-df-convert:hover {\n",
              "      background-color: #E2EBFA;\n",
              "      box-shadow: 0px 1px 2px rgba(60, 64, 67, 0.3), 0px 1px 3px 1px rgba(60, 64, 67, 0.15);\n",
              "      fill: #174EA6;\n",
              "    }\n",
              "\n",
              "    [theme=dark] .colab-df-convert {\n",
              "      background-color: #3B4455;\n",
              "      fill: #D2E3FC;\n",
              "    }\n",
              "\n",
              "    [theme=dark] .colab-df-convert:hover {\n",
              "      background-color: #434B5C;\n",
              "      box-shadow: 0px 1px 3px 1px rgba(0, 0, 0, 0.15);\n",
              "      filter: drop-shadow(0px 1px 2px rgba(0, 0, 0, 0.3));\n",
              "      fill: #FFFFFF;\n",
              "    }\n",
              "  </style>\n",
              "\n",
              "      <script>\n",
              "        const buttonEl =\n",
              "          document.querySelector('#df-e9e90ec4-9e8a-4b99-9bca-99b0e988ce22 button.colab-df-convert');\n",
              "        buttonEl.style.display =\n",
              "          google.colab.kernel.accessAllowed ? 'block' : 'none';\n",
              "\n",
              "        async function convertToInteractive(key) {\n",
              "          const element = document.querySelector('#df-e9e90ec4-9e8a-4b99-9bca-99b0e988ce22');\n",
              "          const dataTable =\n",
              "            await google.colab.kernel.invokeFunction('convertToInteractive',\n",
              "                                                     [key], {});\n",
              "          if (!dataTable) return;\n",
              "\n",
              "          const docLinkHtml = 'Like what you see? Visit the ' +\n",
              "            '<a target=\"_blank\" href=https://colab.research.google.com/notebooks/data_table.ipynb>data table notebook</a>'\n",
              "            + ' to learn more about interactive tables.';\n",
              "          element.innerHTML = '';\n",
              "          dataTable['output_type'] = 'display_data';\n",
              "          await google.colab.output.renderOutput(dataTable, element);\n",
              "          const docLink = document.createElement('div');\n",
              "          docLink.innerHTML = docLinkHtml;\n",
              "          element.appendChild(docLink);\n",
              "        }\n",
              "      </script>\n",
              "    </div>\n",
              "  </div>\n",
              "  "
            ]
          },
          "metadata": {},
          "execution_count": 10
        }
      ]
    },
    {
      "cell_type": "code",
      "source": [
        "df.shape"
      ],
      "metadata": {
        "colab": {
          "base_uri": "https://localhost:8080/"
        },
        "id": "G6f54fYxQQge",
        "outputId": "c805add8-4675-40e4-8d03-08bf2d2ff847"
      },
      "execution_count": null,
      "outputs": [
        {
          "output_type": "execute_result",
          "data": {
            "text/plain": [
              "(300, 28)"
            ]
          },
          "metadata": {},
          "execution_count": 11
        }
      ]
    },
    {
      "cell_type": "markdown",
      "source": [
        "The dataframe has 300 rows and 28 columns"
      ],
      "metadata": {
        "id": "IoSaXUJVLx4B"
      }
    },
    {
      "cell_type": "code",
      "source": [
        "df.info()"
      ],
      "metadata": {
        "colab": {
          "base_uri": "https://localhost:8080/"
        },
        "id": "9Pp5VkacNWZ3",
        "outputId": "e32e281f-5926-4297-962a-5eba4c1e7b00"
      },
      "execution_count": null,
      "outputs": [
        {
          "output_type": "stream",
          "name": "stdout",
          "text": [
            "<class 'pandas.core.frame.DataFrame'>\n",
            "RangeIndex: 300 entries, 0 to 299\n",
            "Data columns (total 28 columns):\n",
            " #   Column                 Non-Null Count  Dtype  \n",
            "---  ------                 --------------  -----  \n",
            " 0   surgery                299 non-null    float64\n",
            " 1   age                    300 non-null    int64  \n",
            " 2   hospital_number        300 non-null    int64  \n",
            " 3   rectal_temp            240 non-null    float64\n",
            " 4   pulse                  276 non-null    float64\n",
            " 5   respiratory_rate       242 non-null    float64\n",
            " 6   temp_of_extremities    244 non-null    float64\n",
            " 7   peripheral_pulse       231 non-null    float64\n",
            " 8   mucous_membrane        253 non-null    float64\n",
            " 9   capillary_refill_time  268 non-null    float64\n",
            " 10  pain                   245 non-null    float64\n",
            " 11  peristalsis            256 non-null    float64\n",
            " 12  abdominal_distention   244 non-null    float64\n",
            " 13  nasogastric_tube       196 non-null    float64\n",
            " 14  nasogastric_reflux     194 non-null    float64\n",
            " 15  nasogastric_reflux_ph  53 non-null     float64\n",
            " 16  rectal_exam_feces      198 non-null    float64\n",
            " 17  abdomen                182 non-null    float64\n",
            " 18  packed_cell_volume     271 non-null    float64\n",
            " 19  total_protein          267 non-null    float64\n",
            " 20  abdomo_appearance      135 non-null    float64\n",
            " 21  abdomo_protein         102 non-null    float64\n",
            " 22  outcome                299 non-null    float64\n",
            " 23  surgical_lesion        300 non-null    int64  \n",
            " 24  lesion_1               300 non-null    int64  \n",
            " 25  lesion_2               300 non-null    int64  \n",
            " 26  lesion_3               300 non-null    int64  \n",
            " 27  cp_data                300 non-null    int64  \n",
            "dtypes: float64(21), int64(7)\n",
            "memory usage: 65.8 KB\n"
          ]
        }
      ]
    },
    {
      "cell_type": "markdown",
      "source": [
        "In the above data description we can see that many columns have missing values "
      ],
      "metadata": {
        "id": "WxZ3bvjLKtjQ"
      }
    },
    {
      "cell_type": "markdown",
      "source": [
        "#### Percentage of NaN values for each column"
      ],
      "metadata": {
        "id": "B3yR_p28Osmd"
      }
    },
    {
      "cell_type": "code",
      "source": [
        "length = len(df)\n",
        "for col in df.columns:\n",
        "    print(f'{col}:   {((df[col].isna().sum()/length)*100).round(2)} %')"
      ],
      "metadata": {
        "colab": {
          "base_uri": "https://localhost:8080/"
        },
        "id": "EzLt9DQ7L7mx",
        "outputId": "3c802afe-24bd-4adc-ac44-58b12e7aef23"
      },
      "execution_count": null,
      "outputs": [
        {
          "output_type": "stream",
          "name": "stdout",
          "text": [
            "surgery:   0.33 %\n",
            "age:   0.0 %\n",
            "hospital_number:   0.0 %\n",
            "rectal_temp:   20.0 %\n",
            "pulse:   8.0 %\n",
            "respiratory_rate:   19.33 %\n",
            "temp_of_extremities:   18.67 %\n",
            "peripheral_pulse:   23.0 %\n",
            "mucous_membrane:   15.67 %\n",
            "capillary_refill_time:   10.67 %\n",
            "pain:   18.33 %\n",
            "peristalsis:   14.67 %\n",
            "abdominal_distention:   18.67 %\n",
            "nasogastric_tube:   34.67 %\n",
            "nasogastric_reflux:   35.33 %\n",
            "nasogastric_reflux_ph:   82.33 %\n",
            "rectal_exam_feces:   34.0 %\n",
            "abdomen:   39.33 %\n",
            "packed_cell_volume:   9.67 %\n",
            "total_protein:   11.0 %\n",
            "abdomo_appearance:   55.0 %\n",
            "abdomo_protein:   66.0 %\n",
            "outcome:   0.33 %\n",
            "surgical_lesion:   0.0 %\n",
            "lesion_1:   0.0 %\n",
            "lesion_2:   0.0 %\n",
            "lesion_3:   0.0 %\n",
            "cp_data:   0.0 %\n"
          ]
        }
      ]
    },
    {
      "cell_type": "markdown",
      "source": [
        "#### Dropping nasogastric_reflux_ph, abdomo_protein column since they have more than 60% missing values"
      ],
      "metadata": {
        "id": "gEqgOdSbPJnT"
      }
    },
    {
      "cell_type": "code",
      "source": [
        "df_clean = df.drop(['nasogastric_reflux_ph', 'abdomo_protein'], axis=1)"
      ],
      "metadata": {
        "id": "hw1jcLHAOjZW"
      },
      "execution_count": null,
      "outputs": []
    },
    {
      "cell_type": "code",
      "source": [
        "df_clean.isna().sum()"
      ],
      "metadata": {
        "colab": {
          "base_uri": "https://localhost:8080/"
        },
        "id": "dBDRDwbIQIpe",
        "outputId": "c6f4dbb8-5bad-4a28-d1a8-ef5b0723b18f"
      },
      "execution_count": null,
      "outputs": [
        {
          "output_type": "execute_result",
          "data": {
            "text/plain": [
              "surgery                    1\n",
              "age                        0\n",
              "hospital_number            0\n",
              "rectal_temp               60\n",
              "pulse                     24\n",
              "respiratory_rate          58\n",
              "temp_of_extremities       56\n",
              "peripheral_pulse          69\n",
              "mucous_membrane           47\n",
              "capillary_refill_time     32\n",
              "pain                      55\n",
              "peristalsis               44\n",
              "abdominal_distention      56\n",
              "nasogastric_tube         104\n",
              "nasogastric_reflux       106\n",
              "rectal_exam_feces        102\n",
              "abdomen                  118\n",
              "packed_cell_volume        29\n",
              "total_protein             33\n",
              "abdomo_appearance        165\n",
              "outcome                    1\n",
              "surgical_lesion            0\n",
              "lesion_1                   0\n",
              "lesion_2                   0\n",
              "lesion_3                   0\n",
              "cp_data                    0\n",
              "dtype: int64"
            ]
          },
          "metadata": {},
          "execution_count": 15
        }
      ]
    },
    {
      "cell_type": "markdown",
      "source": [
        "Now, before we handle the missing values of other columns, let's separate the columns based on Categorical and Numeric. We are doing this so that we can handle missing values of Categorical and numeric columns separately."
      ],
      "metadata": {
        "id": "72F5x0SgVgkC"
      }
    },
    {
      "cell_type": "markdown",
      "source": [
        "#### Separate Categorical and Numeric Columns"
      ],
      "metadata": {
        "id": "sFPjv4HLRXHY"
      }
    },
    {
      "cell_type": "markdown",
      "source": [
        "Based on data description, we can identify the below categorical columns"
      ],
      "metadata": {
        "id": "TRtNE01YV2kj"
      }
    },
    {
      "cell_type": "code",
      "source": [
        "cat_col = ['surgery', 'age', 'temp_of_extremities', 'peripheral_pulse', 'mucous_membrane', 'capillary_refill_time', 'pain', \n",
        "           'peristalsis', 'abdominal_distention', 'nasogastric_tube', 'nasogastric_reflux', 'rectal_exam_feces', \n",
        "           'abdomen', 'abdomo_appearance', 'outcome', 'surgical_lesion', 'cp_data']"
      ],
      "metadata": {
        "id": "aYVrN4hvQKuJ"
      },
      "execution_count": null,
      "outputs": []
    },
    {
      "cell_type": "markdown",
      "source": [
        "Converting the datatype of categorical columns to object"
      ],
      "metadata": {
        "id": "_DkEVChcK_Bc"
      }
    },
    {
      "cell_type": "code",
      "source": [
        "for col in cat_col:\n",
        "    df_clean[col] = df_clean[col].astype('object') "
      ],
      "metadata": {
        "id": "NKDdv1u0R_Lq"
      },
      "execution_count": null,
      "outputs": []
    },
    {
      "cell_type": "markdown",
      "source": [
        "Based on data description, we can identify the below numerical columns"
      ],
      "metadata": {
        "id": "wBY-JoqoWMyt"
      }
    },
    {
      "cell_type": "code",
      "source": [
        "num_col = ['hospital_number', 'rectal_temp', 'pulse', 'respiratory_rate', 'packed_cell_volume', 'total_protein', \n",
        "            'lesion_1', 'lesion_2', 'lesion_3']"
      ],
      "metadata": {
        "id": "xhLlW6ztRs28"
      },
      "execution_count": null,
      "outputs": []
    },
    {
      "cell_type": "code",
      "source": [
        "df_clean.info()"
      ],
      "metadata": {
        "colab": {
          "base_uri": "https://localhost:8080/"
        },
        "id": "LZR1FcO2SZf1",
        "outputId": "779e0873-6eb2-410d-80b7-cfead8089e95"
      },
      "execution_count": null,
      "outputs": [
        {
          "output_type": "stream",
          "name": "stdout",
          "text": [
            "<class 'pandas.core.frame.DataFrame'>\n",
            "RangeIndex: 300 entries, 0 to 299\n",
            "Data columns (total 26 columns):\n",
            " #   Column                 Non-Null Count  Dtype  \n",
            "---  ------                 --------------  -----  \n",
            " 0   surgery                299 non-null    object \n",
            " 1   age                    300 non-null    object \n",
            " 2   hospital_number        300 non-null    int64  \n",
            " 3   rectal_temp            240 non-null    float64\n",
            " 4   pulse                  276 non-null    float64\n",
            " 5   respiratory_rate       242 non-null    float64\n",
            " 6   temp_of_extremities    244 non-null    object \n",
            " 7   peripheral_pulse       231 non-null    object \n",
            " 8   mucous_membrane        253 non-null    object \n",
            " 9   capillary_refill_time  268 non-null    object \n",
            " 10  pain                   245 non-null    object \n",
            " 11  peristalsis            256 non-null    object \n",
            " 12  abdominal_distention   244 non-null    object \n",
            " 13  nasogastric_tube       196 non-null    object \n",
            " 14  nasogastric_reflux     194 non-null    object \n",
            " 15  rectal_exam_feces      198 non-null    object \n",
            " 16  abdomen                182 non-null    object \n",
            " 17  packed_cell_volume     271 non-null    float64\n",
            " 18  total_protein          267 non-null    float64\n",
            " 19  abdomo_appearance      135 non-null    object \n",
            " 20  outcome                299 non-null    object \n",
            " 21  surgical_lesion        300 non-null    object \n",
            " 22  lesion_1               300 non-null    int64  \n",
            " 23  lesion_2               300 non-null    int64  \n",
            " 24  lesion_3               300 non-null    int64  \n",
            " 25  cp_data                300 non-null    object \n",
            "dtypes: float64(5), int64(4), object(17)\n",
            "memory usage: 61.1+ KB\n"
          ]
        }
      ]
    },
    {
      "cell_type": "markdown",
      "source": [
        "From data info we can see that the categorical columns have \"object\" datatype and numerical columns have float or int datatype"
      ],
      "metadata": {
        "id": "3RYd3PzrWQjU"
      }
    },
    {
      "cell_type": "markdown",
      "source": [
        "Now we can handle missing values"
      ],
      "metadata": {
        "id": "uTWUiiPsXy-Z"
      }
    },
    {
      "cell_type": "markdown",
      "source": [
        "### Handling Missing Values"
      ],
      "metadata": {
        "id": "wr9xmCb-Sj_f"
      }
    },
    {
      "cell_type": "markdown",
      "source": [
        "#### Handling missing values of Categorical variables "
      ],
      "metadata": {
        "id": "_syQLk8Dpg6r"
      }
    },
    {
      "cell_type": "markdown",
      "source": [
        "Printing number of missing values for categorical columns"
      ],
      "metadata": {
        "id": "xc-MOf0rX5CS"
      }
    },
    {
      "cell_type": "code",
      "source": [
        "df_clean[cat_col].isna().sum()"
      ],
      "metadata": {
        "colab": {
          "base_uri": "https://localhost:8080/"
        },
        "id": "it-AQTbJmqMJ",
        "outputId": "9b734219-1da2-4868-fbd9-efdb1b3de8c1"
      },
      "execution_count": null,
      "outputs": [
        {
          "output_type": "execute_result",
          "data": {
            "text/plain": [
              "surgery                    1\n",
              "age                        0\n",
              "temp_of_extremities       56\n",
              "peripheral_pulse          69\n",
              "mucous_membrane           47\n",
              "capillary_refill_time     32\n",
              "pain                      55\n",
              "peristalsis               44\n",
              "abdominal_distention      56\n",
              "nasogastric_tube         104\n",
              "nasogastric_reflux       106\n",
              "rectal_exam_feces        102\n",
              "abdomen                  118\n",
              "abdomo_appearance        165\n",
              "outcome                    1\n",
              "surgical_lesion            0\n",
              "cp_data                    0\n",
              "dtype: int64"
            ]
          },
          "metadata": {},
          "execution_count": 20
        }
      ]
    },
    {
      "cell_type": "markdown",
      "source": [
        "##### First drop the row in which Outcome variable is missing"
      ],
      "metadata": {
        "id": "0y70J4fgqboO"
      }
    },
    {
      "cell_type": "markdown",
      "source": [
        "We will drop the row in which Outcome variable is missing because Outcome is the target variable."
      ],
      "metadata": {
        "id": "jnz6kkDrX__e"
      }
    },
    {
      "cell_type": "code",
      "source": [
        "df_clean = df_clean[ ~ df_clean['outcome'].isna()].copy()"
      ],
      "metadata": {
        "id": "uT7SHsZQqxNV"
      },
      "execution_count": null,
      "outputs": []
    },
    {
      "cell_type": "code",
      "source": [
        "df_clean[cat_col].isna().sum()"
      ],
      "metadata": {
        "colab": {
          "base_uri": "https://localhost:8080/"
        },
        "id": "XuNVdlMGrPfU",
        "outputId": "bd8a8e56-0080-4b7a-a1d8-c181c4cd1381"
      },
      "execution_count": null,
      "outputs": [
        {
          "output_type": "execute_result",
          "data": {
            "text/plain": [
              "surgery                    0\n",
              "age                        0\n",
              "temp_of_extremities       56\n",
              "peripheral_pulse          69\n",
              "mucous_membrane           47\n",
              "capillary_refill_time     32\n",
              "pain                      55\n",
              "peristalsis               44\n",
              "abdominal_distention      56\n",
              "nasogastric_tube         104\n",
              "nasogastric_reflux       106\n",
              "rectal_exam_feces        102\n",
              "abdomen                  118\n",
              "abdomo_appearance        165\n",
              "outcome                    0\n",
              "surgical_lesion            0\n",
              "cp_data                    0\n",
              "dtype: int64"
            ]
          },
          "metadata": {},
          "execution_count": 22
        }
      ]
    },
    {
      "cell_type": "markdown",
      "source": [
        "##### Fill Missing Values of Categorical variables by Mode with respect to outcome variable. \n",
        "\n",
        "This is because columns such as Pulse, abdominal distention etc will be dependent on the Outcome variable"
      ],
      "metadata": {
        "id": "4zQcyJeQqLtj"
      }
    },
    {
      "cell_type": "markdown",
      "source": [
        "Filling missing values of categorical variables by Mode wrt Outcome variable"
      ],
      "metadata": {
        "id": "qaNYewUjMW4O"
      }
    },
    {
      "cell_type": "code",
      "source": [
        "df_clean['outcome'] = df_clean['outcome'].astype('category').cat.codes\n",
        "\n",
        "for col in cat_col:\n",
        "\n",
        "    m1 = (df_clean['outcome'] == 0) \n",
        "    m2 = (df_clean['outcome'] == 1)\n",
        "    m3 = (df_clean['outcome'] == 2)\n",
        "\n",
        "    df_clean.loc[m1,col] = df_clean.loc[m1,col].fillna(df_clean.loc[m1,col].mode()[0])\n",
        "    df_clean.loc[m2,col] = df_clean.loc[m2,col].fillna(df_clean.loc[m2,col].mode()[0])\n",
        "    df_clean.loc[m3,col] = df_clean.loc[m3,col].fillna(df_clean.loc[m3,col].mode()[0])\n",
        "    df_clean[col] = df_clean[col].astype('category').cat.codes"
      ],
      "metadata": {
        "id": "KTSxhbtcfbhQ"
      },
      "execution_count": null,
      "outputs": []
    },
    {
      "cell_type": "markdown",
      "source": [
        "#### Now the missing values of all categorical variables have been handled "
      ],
      "metadata": {
        "id": "ZvFPTkM6hfxs"
      }
    },
    {
      "cell_type": "code",
      "source": [
        "df_clean[cat_col].isna().sum()"
      ],
      "metadata": {
        "colab": {
          "base_uri": "https://localhost:8080/"
        },
        "id": "BkUAoUk6fwnj",
        "outputId": "5e688042-59a1-452d-c722-de85b681e61b"
      },
      "execution_count": null,
      "outputs": [
        {
          "output_type": "execute_result",
          "data": {
            "text/plain": [
              "surgery                  0\n",
              "age                      0\n",
              "temp_of_extremities      0\n",
              "peripheral_pulse         0\n",
              "mucous_membrane          0\n",
              "capillary_refill_time    0\n",
              "pain                     0\n",
              "peristalsis              0\n",
              "abdominal_distention     0\n",
              "nasogastric_tube         0\n",
              "nasogastric_reflux       0\n",
              "rectal_exam_feces        0\n",
              "abdomen                  0\n",
              "abdomo_appearance        0\n",
              "outcome                  0\n",
              "surgical_lesion          0\n",
              "cp_data                  0\n",
              "dtype: int64"
            ]
          },
          "metadata": {},
          "execution_count": 24
        }
      ]
    },
    {
      "cell_type": "markdown",
      "source": [
        "#### Handling Missing values of Numerical Columns"
      ],
      "metadata": {
        "id": "PABhRDeHMnFS"
      }
    },
    {
      "cell_type": "markdown",
      "source": [
        "Printing number of missing values for numerical columns"
      ],
      "metadata": {
        "id": "_8cAQoG5MtPc"
      }
    },
    {
      "cell_type": "code",
      "source": [
        "df_clean[num_col].isna().sum()"
      ],
      "metadata": {
        "colab": {
          "base_uri": "https://localhost:8080/"
        },
        "id": "6L57CfK3Sr_k",
        "outputId": "b0258777-775a-41ad-d13e-b0a69e7f310f"
      },
      "execution_count": null,
      "outputs": [
        {
          "output_type": "execute_result",
          "data": {
            "text/plain": [
              "hospital_number        0\n",
              "rectal_temp           60\n",
              "pulse                 24\n",
              "respiratory_rate      58\n",
              "packed_cell_volume    29\n",
              "total_protein         33\n",
              "lesion_1               0\n",
              "lesion_2               0\n",
              "lesion_3               0\n",
              "dtype: int64"
            ]
          },
          "metadata": {},
          "execution_count": 26
        }
      ]
    },
    {
      "cell_type": "markdown",
      "source": [
        "#### Filling missing values of Rectal_Temp by Median\n",
        "\n",
        "#### The distribution of the Variable wrt Outcome Variable is necessary to fill missing values"
      ],
      "metadata": {
        "id": "UZf8_wipTX-n"
      }
    },
    {
      "cell_type": "code",
      "source": [
        "_ = sns.histplot(data = df_clean, x = 'rectal_temp', hue ='outcome',kde = True)"
      ],
      "metadata": {
        "colab": {
          "base_uri": "https://localhost:8080/",
          "height": 280
        },
        "id": "dKto9ULVUoT2",
        "outputId": "d4df6397-ee85-47c5-8ae0-8ca276e7d610"
      },
      "execution_count": null,
      "outputs": [
        {
          "output_type": "display_data",
          "data": {
            "text/plain": [
              "<Figure size 432x288 with 1 Axes>"
            ],
            "image/png": "[encoded data removed]"
          },
          "metadata": {
            "needs_background": "light"
          }
        }
      ]
    },
    {
      "cell_type": "markdown",
      "source": [
        "##### Fill Missing Values by Median with respect to outcome variable. \n",
        "This is because as we can see from the above distribution, the rectal_temp variable is dependent on the Outcome variable"
      ],
      "metadata": {
        "id": "ZuPLAUZ9NEH_"
      }
    },
    {
      "cell_type": "code",
      "source": [
        "m1 = (df_clean['outcome'] == 0) \n",
        "\n",
        "m2 = (df_clean['outcome'] == 1)\n",
        "\n",
        "m3 = (df_clean['outcome'] == 2)\n",
        "\n",
        "df_clean.loc[m1,'rectal_temp'] = df_clean.loc[m1,'rectal_temp'].fillna(df_clean.loc[m1,'rectal_temp'].median())\n",
        "df_clean.loc[m2,'rectal_temp'] = df_clean.loc[m2,'rectal_temp'].fillna(df_clean.loc[m2,'rectal_temp'].median())\n",
        "df_clean.loc[m3,'rectal_temp'] = df_clean.loc[m3,'rectal_temp'].fillna(df_clean.loc[m3,'rectal_temp'].median())"
      ],
      "metadata": {
        "id": "8H16HhgIIhvg"
      },
      "execution_count": null,
      "outputs": []
    },
    {
      "cell_type": "code",
      "source": [
        "df_clean[num_col].isna().sum()"
      ],
      "metadata": {
        "colab": {
          "base_uri": "https://localhost:8080/"
        },
        "id": "dZLoazPNTsiv",
        "outputId": "ccffb41b-5ab5-4d47-e3b0-64a5445c4b6a"
      },
      "execution_count": null,
      "outputs": [
        {
          "output_type": "execute_result",
          "data": {
            "text/plain": [
              "hospital_number        0\n",
              "rectal_temp            0\n",
              "pulse                 24\n",
              "respiratory_rate      58\n",
              "packed_cell_volume    29\n",
              "total_protein         33\n",
              "lesion_1               0\n",
              "lesion_2               0\n",
              "lesion_3               0\n",
              "dtype: int64"
            ]
          },
          "metadata": {},
          "execution_count": 29
        }
      ]
    },
    {
      "cell_type": "markdown",
      "source": [
        "#### Filling missing values of Pulse by Median\n",
        "\n"
      ],
      "metadata": {
        "id": "uUDd9ZHgUkOT"
      }
    },
    {
      "cell_type": "markdown",
      "source": [
        "#### The distribution of the Variable wrt Outcome Variable is necessary to fill missing values"
      ],
      "metadata": {
        "id": "THIU2W5YNiMn"
      }
    },
    {
      "cell_type": "code",
      "source": [
        "_ = sns.histplot(data  = df_clean, x = 'pulse' , hue = 'outcome',kde = True)"
      ],
      "metadata": {
        "colab": {
          "base_uri": "https://localhost:8080/",
          "height": 279
        },
        "id": "GWe2ROLJpNBS",
        "outputId": "c4cda614-ddc9-40d2-ddd7-5dda794300f2"
      },
      "execution_count": null,
      "outputs": [
        {
          "output_type": "display_data",
          "data": {
            "text/plain": [
              "<Figure size 432x288 with 1 Axes>"
            ],
            "image/png": "[encoded data removed]"
          },
          "metadata": {
            "needs_background": "light"
          }
        }
      ]
    },
    {
      "cell_type": "markdown",
      "source": [
        "##### Fill Missing Values by Median with respect to outcome variable. \n",
        "This is because as we can see from the above distribution, the Pulse variable is dependent on the Outcome variable"
      ],
      "metadata": {
        "id": "LwgCxOLdNrWC"
      }
    },
    {
      "cell_type": "code",
      "source": [
        "m1 = (df_clean['outcome'] == 0) \n",
        "m2 = (df_clean['outcome'] == 1)\n",
        "m3 = (df_clean['outcome'] == 2)\n",
        "\n",
        "\n",
        "df_clean.loc[m1,'pulse'] = df_clean.loc[m1,'pulse'].fillna(df_clean.loc[m1,'pulse'].median())\n",
        "df_clean.loc[m2,'pulse'] = df_clean.loc[m2,'pulse'].fillna(df_clean.loc[m2,'pulse'].median())\n",
        "df_clean.loc[m3,'pulse'] = df_clean.loc[m3,'pulse'].fillna(df_clean.loc[m3,'pulse'].median())"
      ],
      "metadata": {
        "id": "QKxJ-tOFJisH"
      },
      "execution_count": null,
      "outputs": []
    },
    {
      "cell_type": "code",
      "source": [
        "df_clean[num_col].isna().sum()"
      ],
      "metadata": {
        "colab": {
          "base_uri": "https://localhost:8080/"
        },
        "id": "JGpmDQ5gsbZL",
        "outputId": "2da27340-9abd-490d-ab24-e1a5a162fbfc"
      },
      "execution_count": null,
      "outputs": [
        {
          "output_type": "execute_result",
          "data": {
            "text/plain": [
              "hospital_number        0\n",
              "rectal_temp            0\n",
              "pulse                  0\n",
              "respiratory_rate      58\n",
              "packed_cell_volume    29\n",
              "total_protein         33\n",
              "lesion_1               0\n",
              "lesion_2               0\n",
              "lesion_3               0\n",
              "dtype: int64"
            ]
          },
          "metadata": {},
          "execution_count": 32
        }
      ]
    },
    {
      "cell_type": "markdown",
      "source": [
        "#### Filling missing values of Respiratory_rate by Mean"
      ],
      "metadata": {
        "id": "i-7wbz2Ly9ET"
      }
    },
    {
      "cell_type": "code",
      "source": [
        "_ = sns.histplot(data = df_clean, x = 'respiratory_rate', hue ='outcome',kde = True)                                                                   "
      ],
      "metadata": {
        "colab": {
          "base_uri": "https://localhost:8080/",
          "height": 281
        },
        "id": "K2xr0UHFxFx6",
        "outputId": "f3cde0a1-9d14-4dfc-a3f8-b95453b5eb45"
      },
      "execution_count": null,
      "outputs": [
        {
          "output_type": "display_data",
          "data": {
            "text/plain": [
              "<Figure size 432x288 with 1 Axes>"
            ],
            "image/png": "[encoded data removed]"
          },
          "metadata": {
            "needs_background": "light"
          }
        }
      ]
    },
    {
      "cell_type": "markdown",
      "source": [
        "##### Fill Missing Values by Median with respect to outcome variable. \n",
        "This is because as we can see from the above distribution, the Respiratory Rate variable is dependent on the Outcome variable"
      ],
      "metadata": {
        "id": "YnThGUEoNzlw"
      }
    },
    {
      "cell_type": "code",
      "source": [
        "m1 = (df_clean['outcome'] == 0) \n",
        "m2 = (df_clean['outcome'] == 1)\n",
        "m3 = (df_clean['outcome'] == 2)\n",
        "\n",
        "\n",
        "df_clean.loc[m1,'respiratory_rate'] = df_clean.loc[m1,'respiratory_rate'].fillna(df_clean.loc[m1,'respiratory_rate'].median())\n",
        "df_clean.loc[m2,'respiratory_rate'] = df_clean.loc[m2,'respiratory_rate'].fillna(df_clean.loc[m2,'respiratory_rate'].median())\n",
        "df_clean.loc[m3,'respiratory_rate'] = df_clean.loc[m3,'respiratory_rate'].fillna(df_clean.loc[m3,'respiratory_rate'].median())"
      ],
      "metadata": {
        "id": "s_kI8iJPKXuo"
      },
      "execution_count": null,
      "outputs": []
    },
    {
      "cell_type": "code",
      "source": [
        "df_clean[num_col].isna().sum()"
      ],
      "metadata": {
        "colab": {
          "base_uri": "https://localhost:8080/"
        },
        "outputId": "3110efc5-8f48-4588-f908-ef86f56c9162",
        "id": "7AOiPU_d1Eyl"
      },
      "execution_count": null,
      "outputs": [
        {
          "output_type": "execute_result",
          "data": {
            "text/plain": [
              "hospital_number        0\n",
              "rectal_temp            0\n",
              "pulse                  0\n",
              "respiratory_rate       0\n",
              "packed_cell_volume    29\n",
              "total_protein         33\n",
              "lesion_1               0\n",
              "lesion_2               0\n",
              "lesion_3               0\n",
              "dtype: int64"
            ]
          },
          "metadata": {},
          "execution_count": 35
        }
      ]
    },
    {
      "cell_type": "markdown",
      "source": [
        "#### Filling Missing Values for packed_cell_volume"
      ],
      "metadata": {
        "id": "KFr04P51glRh"
      }
    },
    {
      "cell_type": "code",
      "source": [
        "_ = sns.histplot(data = df_clean,x = 'packed_cell_volume', hue = 'outcome',kde = True)                                                                   "
      ],
      "metadata": {
        "colab": {
          "base_uri": "https://localhost:8080/",
          "height": 280
        },
        "outputId": "4f607bb5-453f-412c-9a5e-fddb00e42552",
        "id": "_J6Kpf5Agzsf"
      },
      "execution_count": null,
      "outputs": [
        {
          "output_type": "display_data",
          "data": {
            "text/plain": [
              "<Figure size 432x288 with 1 Axes>"
            ],
            "image/png": "[encoded data removed]"
          },
          "metadata": {
            "needs_background": "light"
          }
        }
      ]
    },
    {
      "cell_type": "markdown",
      "source": [
        "##### Fill Missing Values by Median with respect to outcome variable. \n",
        "This is because as we can see from the above distribution, the Packed_cell_volume variable is dependent on the Outcome variable"
      ],
      "metadata": {
        "id": "86YzBpc4N5T3"
      }
    },
    {
      "cell_type": "code",
      "source": [
        "m1 = (df_clean['outcome'] == 0) \n",
        "m2 = (df_clean['outcome'] == 1)\n",
        "m3 = (df_clean['outcome'] == 2)\n",
        "\n",
        "df_clean.loc[m1,'packed_cell_volume'] = df_clean.loc[m1,'packed_cell_volume'].fillna(df_clean.loc[m1,'packed_cell_volume'].median())\n",
        "df_clean.loc[m2,'packed_cell_volume'] = df_clean.loc[m2,'packed_cell_volume'].fillna(df_clean.loc[m2,'packed_cell_volume'].median())\n",
        "df_clean.loc[m3,'packed_cell_volume'] = df_clean.loc[m3,'packed_cell_volume'].fillna(df_clean.loc[m3,'packed_cell_volume'].median())"
      ],
      "metadata": {
        "id": "c8XdLXt8J52U"
      },
      "execution_count": null,
      "outputs": []
    },
    {
      "cell_type": "code",
      "source": [
        "df_clean[num_col].isna().sum()"
      ],
      "metadata": {
        "colab": {
          "base_uri": "https://localhost:8080/"
        },
        "id": "m3LXbvlKhxNo",
        "outputId": "d3ce9f47-4e95-44ff-efdb-e5237790b294"
      },
      "execution_count": null,
      "outputs": [
        {
          "output_type": "execute_result",
          "data": {
            "text/plain": [
              "hospital_number        0\n",
              "rectal_temp            0\n",
              "pulse                  0\n",
              "respiratory_rate       0\n",
              "packed_cell_volume     0\n",
              "total_protein         33\n",
              "lesion_1               0\n",
              "lesion_2               0\n",
              "lesion_3               0\n",
              "dtype: int64"
            ]
          },
          "metadata": {},
          "execution_count": 38
        }
      ]
    },
    {
      "cell_type": "markdown",
      "source": [
        "#### Filling Missing Values for total_protein by Median"
      ],
      "metadata": {
        "id": "S0iFfI-JksKF"
      }
    },
    {
      "cell_type": "code",
      "source": [
        "_ = sns.histplot(data = df_clean, x = 'total_protein', hue = 'outcome',kde = True)                                                                   "
      ],
      "metadata": {
        "colab": {
          "base_uri": "https://localhost:8080/",
          "height": 280
        },
        "outputId": "53ab70d2-3a73-48c3-eaef-3fc6d93b587c",
        "id": "-3kjJO9NksKH"
      },
      "execution_count": null,
      "outputs": [
        {
          "output_type": "display_data",
          "data": {
            "text/plain": [
              "<Figure size 432x288 with 1 Axes>"
            ],
            "image/png": "[encoded data removed]"
          },
          "metadata": {
            "needs_background": "light"
          }
        }
      ]
    },
    {
      "cell_type": "markdown",
      "source": [
        "##### Fill Missing Values by Median with respect to outcome variable. \n",
        "This is because as we can see from the above distribution, the Total_protein variable is dependent on the Outcome variable"
      ],
      "metadata": {
        "id": "F-nFpqDPOCN9"
      }
    },
    {
      "cell_type": "code",
      "source": [
        "m1 = (df_clean['outcome'] == 0) \n",
        "m2 = (df_clean['outcome'] == 1)\n",
        "m3 = (df_clean['outcome'] == 2)\n",
        "\n",
        "df_clean.loc[m1,'total_protein'] = df_clean.loc[m1,'total_protein'].fillna(df_clean.loc[m1,'total_protein'].median())\n",
        "df_clean.loc[m2,'total_protein'] = df_clean.loc[m2,'total_protein'].fillna(df_clean.loc[m2,'total_protein'].median())\n",
        "df_clean.loc[m3,'total_protein'] = df_clean.loc[m3,'total_protein'].fillna(df_clean.loc[m3,'total_protein'].median())"
      ],
      "metadata": {
        "id": "eqmX2bi-Krq-"
      },
      "execution_count": null,
      "outputs": []
    },
    {
      "cell_type": "markdown",
      "source": [
        "#### Now the missing values for all the Numeric columns have been handled"
      ],
      "metadata": {
        "id": "sC7nIK2Gmyj0"
      }
    },
    {
      "cell_type": "code",
      "source": [
        "df_clean[num_col].isna().sum()"
      ],
      "metadata": {
        "colab": {
          "base_uri": "https://localhost:8080/"
        },
        "id": "XhNJdxoOmniX",
        "outputId": "cdfcebbc-2b39-47c9-c86b-9f19b97d2890"
      },
      "execution_count": null,
      "outputs": [
        {
          "output_type": "execute_result",
          "data": {
            "text/plain": [
              "hospital_number       0\n",
              "rectal_temp           0\n",
              "pulse                 0\n",
              "respiratory_rate      0\n",
              "packed_cell_volume    0\n",
              "total_protein         0\n",
              "lesion_1              0\n",
              "lesion_2              0\n",
              "lesion_3              0\n",
              "dtype: int64"
            ]
          },
          "metadata": {},
          "execution_count": 41
        }
      ]
    },
    {
      "cell_type": "markdown",
      "source": [
        "#### All the missing values have been handled"
      ],
      "metadata": {
        "id": "e_HQsafeiN10"
      }
    },
    {
      "cell_type": "code",
      "source": [
        "df_clean.isna().sum()"
      ],
      "metadata": {
        "colab": {
          "base_uri": "https://localhost:8080/"
        },
        "id": "Zxr7VWNIhYwY",
        "outputId": "c05b47b7-fd31-43f6-99b3-3a7502b9a800"
      },
      "execution_count": null,
      "outputs": [
        {
          "output_type": "execute_result",
          "data": {
            "text/plain": [
              "surgery                  0\n",
              "age                      0\n",
              "hospital_number          0\n",
              "rectal_temp              0\n",
              "pulse                    0\n",
              "respiratory_rate         0\n",
              "temp_of_extremities      0\n",
              "peripheral_pulse         0\n",
              "mucous_membrane          0\n",
              "capillary_refill_time    0\n",
              "pain                     0\n",
              "peristalsis              0\n",
              "abdominal_distention     0\n",
              "nasogastric_tube         0\n",
              "nasogastric_reflux       0\n",
              "rectal_exam_feces        0\n",
              "abdomen                  0\n",
              "packed_cell_volume       0\n",
              "total_protein            0\n",
              "abdomo_appearance        0\n",
              "outcome                  0\n",
              "surgical_lesion          0\n",
              "lesion_1                 0\n",
              "lesion_2                 0\n",
              "lesion_3                 0\n",
              "cp_data                  0\n",
              "dtype: int64"
            ]
          },
          "metadata": {},
          "execution_count": 42
        }
      ]
    },
    {
      "cell_type": "markdown",
      "source": [
        "## Data Reduction"
      ],
      "metadata": {
        "id": "b_njMr42mBpD"
      }
    },
    {
      "cell_type": "code",
      "source": [
        "df_clean.head()"
      ],
      "metadata": {
        "colab": {
          "base_uri": "https://localhost:8080/",
          "height": 299
        },
        "id": "Avukp-xJmOFS",
        "outputId": "d8e47f9d-452f-4ab6-e110-5415af379614"
      },
      "execution_count": null,
      "outputs": [
        {
          "output_type": "execute_result",
          "data": {
            "text/plain": [
              "   surgery  age  hospital_number  rectal_temp  pulse  respiratory_rate  \\\n",
              "0        1    0           530101         38.5   66.0              28.0   \n",
              "1        0    0           534817         39.2   88.0              20.0   \n",
              "2        1    0           530334         38.3   40.0              24.0   \n",
              "3        0    1          5290409         39.1  164.0              84.0   \n",
              "4        1    0           530255         37.3  104.0              35.0   \n",
              "\n",
              "   temp_of_extremities  peripheral_pulse  mucous_membrane  \\\n",
              "0                    2                 2                2   \n",
              "1                    2                 2                3   \n",
              "2                    0                 0                2   \n",
              "3                    3                 0                5   \n",
              "4                    2                 2                5   \n",
              "\n",
              "   capillary_refill_time  ...  abdomen  packed_cell_volume  total_protein  \\\n",
              "0                      1  ...        4                45.0            8.4   \n",
              "1                      0  ...        1                50.0           85.0   \n",
              "2                      0  ...        0                33.0            6.7   \n",
              "3                      1  ...        4                48.0            7.2   \n",
              "4                      1  ...        4                74.0            7.4   \n",
              "\n",
              "   abdomo_appearance  outcome  surgical_lesion  lesion_1  lesion_2  lesion_3  \\\n",
              "0                  2        1                1     11300         0         0   \n",
              "1                  1        2                1      2208         0         0   \n",
              "2                  0        0                1         0         0         0   \n",
              "3                  2        1                0      2208         0         0   \n",
              "4                  2        1                1      4300         0         0   \n",
              "\n",
              "   cp_data  \n",
              "0        1  \n",
              "1        1  \n",
              "2        0  \n",
              "3        0  \n",
              "4        1  \n",
              "\n",
              "[5 rows x 26 columns]"
            ],
            "text/html": [
              "\n",
              "  <div id=\"df-4848385b-a1e8-4555-8c84-cedab02ce129\">\n",
              "    <div class=\"colab-df-container\">\n",
              "      <div>\n",
              "<style scoped>\n",
              "    .dataframe tbody tr th:only-of-type {\n",
              "        vertical-align: middle;\n",
              "    }\n",
              "\n",
              "    .dataframe tbody tr th {\n",
              "        vertical-align: top;\n",
              "    }\n",
              "\n",
              "    .dataframe thead th {\n",
              "        text-align: right;\n",
              "    }\n",
              "</style>\n",
              "<table border=\"1\" class=\"dataframe\">\n",
              "  <thead>\n",
              "    <tr style=\"text-align: right;\">\n",
              "      <th></th>\n",
              "      <th>surgery</th>\n",
              "      <th>age</th>\n",
              "      <th>hospital_number</th>\n",
              "      <th>rectal_temp</th>\n",
              "      <th>pulse</th>\n",
              "      <th>respiratory_rate</th>\n",
              "      <th>temp_of_extremities</th>\n",
              "      <th>peripheral_pulse</th>\n",
              "      <th>mucous_membrane</th>\n",
              "      <th>capillary_refill_time</th>\n",
              "      <th>...</th>\n",
              "      <th>abdomen</th>\n",
              "      <th>packed_cell_volume</th>\n",
              "      <th>total_protein</th>\n",
              "      <th>abdomo_appearance</th>\n",
              "      <th>outcome</th>\n",
              "      <th>surgical_lesion</th>\n",
              "      <th>lesion_1</th>\n",
              "      <th>lesion_2</th>\n",
              "      <th>lesion_3</th>\n",
              "      <th>cp_data</th>\n",
              "    </tr>\n",
              "  </thead>\n",
              "  <tbody>\n",
              "    <tr>\n",
              "      <th>0</th>\n",
              "      <td>1</td>\n",
              "      <td>0</td>\n",
              "      <td>530101</td>\n",
              "      <td>38.5</td>\n",
              "      <td>66.0</td>\n",
              "      <td>28.0</td>\n",
              "      <td>2</td>\n",
              "      <td>2</td>\n",
              "      <td>2</td>\n",
              "      <td>1</td>\n",
              "      <td>...</td>\n",
              "      <td>4</td>\n",
              "      <td>45.0</td>\n",
              "      <td>8.4</td>\n",
              "      <td>2</td>\n",
              "      <td>1</td>\n",
              "      <td>1</td>\n",
              "      <td>11300</td>\n",
              "      <td>0</td>\n",
              "      <td>0</td>\n",
              "      <td>1</td>\n",
              "    </tr>\n",
              "    <tr>\n",
              "      <th>1</th>\n",
              "      <td>0</td>\n",
              "      <td>0</td>\n",
              "      <td>534817</td>\n",
              "      <td>39.2</td>\n",
              "      <td>88.0</td>\n",
              "      <td>20.0</td>\n",
              "      <td>2</td>\n",
              "      <td>2</td>\n",
              "      <td>3</td>\n",
              "      <td>0</td>\n",
              "      <td>...</td>\n",
              "      <td>1</td>\n",
              "      <td>50.0</td>\n",
              "      <td>85.0</td>\n",
              "      <td>1</td>\n",
              "      <td>2</td>\n",
              "      <td>1</td>\n",
              "      <td>2208</td>\n",
              "      <td>0</td>\n",
              "      <td>0</td>\n",
              "      <td>1</td>\n",
              "    </tr>\n",
              "    <tr>\n",
              "      <th>2</th>\n",
              "      <td>1</td>\n",
              "      <td>0</td>\n",
              "      <td>530334</td>\n",
              "      <td>38.3</td>\n",
              "      <td>40.0</td>\n",
              "      <td>24.0</td>\n",
              "      <td>0</td>\n",
              "      <td>0</td>\n",
              "      <td>2</td>\n",
              "      <td>0</td>\n",
              "      <td>...</td>\n",
              "      <td>0</td>\n",
              "      <td>33.0</td>\n",
              "      <td>6.7</td>\n",
              "      <td>0</td>\n",
              "      <td>0</td>\n",
              "      <td>1</td>\n",
              "      <td>0</td>\n",
              "      <td>0</td>\n",
              "      <td>0</td>\n",
              "      <td>0</td>\n",
              "    </tr>\n",
              "    <tr>\n",
              "      <th>3</th>\n",
              "      <td>0</td>\n",
              "      <td>1</td>\n",
              "      <td>5290409</td>\n",
              "      <td>39.1</td>\n",
              "      <td>164.0</td>\n",
              "      <td>84.0</td>\n",
              "      <td>3</td>\n",
              "      <td>0</td>\n",
              "      <td>5</td>\n",
              "      <td>1</td>\n",
              "      <td>...</td>\n",
              "      <td>4</td>\n",
              "      <td>48.0</td>\n",
              "      <td>7.2</td>\n",
              "      <td>2</td>\n",
              "      <td>1</td>\n",
              "      <td>0</td>\n",
              "      <td>2208</td>\n",
              "      <td>0</td>\n",
              "      <td>0</td>\n",
              "      <td>0</td>\n",
              "    </tr>\n",
              "    <tr>\n",
              "      <th>4</th>\n",
              "      <td>1</td>\n",
              "      <td>0</td>\n",
              "      <td>530255</td>\n",
              "      <td>37.3</td>\n",
              "      <td>104.0</td>\n",
              "      <td>35.0</td>\n",
              "      <td>2</td>\n",
              "      <td>2</td>\n",
              "      <td>5</td>\n",
              "      <td>1</td>\n",
              "      <td>...</td>\n",
              "      <td>4</td>\n",
              "      <td>74.0</td>\n",
              "      <td>7.4</td>\n",
              "      <td>2</td>\n",
              "      <td>1</td>\n",
              "      <td>1</td>\n",
              "      <td>4300</td>\n",
              "      <td>0</td>\n",
              "      <td>0</td>\n",
              "      <td>1</td>\n",
              "    </tr>\n",
              "  </tbody>\n",
              "</table>\n",
              "<p>5 rows × 26 columns</p>\n",
              "</div>\n",
              "      <button class=\"colab-df-convert\" onclick=\"convertToInteractive('df-4848385b-a1e8-4555-8c84-cedab02ce129')\"\n",
              "              title=\"Convert this dataframe to an interactive table.\"\n",
              "              style=\"display:none;\">\n",
              "        \n",
              "  <svg xmlns=\"http://www.w3.org/2000/svg\" height=\"24px\"viewBox=\"0 0 24 24\"\n",
              "       width=\"24px\">\n",
              "    <path d=\"M0 0h24v24H0V0z\" fill=\"none\"/>\n",
              "    <path d=\"M18.56 5.44l.94 2.06.94-2.06 2.06-.94-2.06-.94-.94-2.06-.94 2.06-2.06.94zm-11 1L8.5 8.5l.94-2.06 2.06-.94-2.06-.94L8.5 2.5l-.94 2.06-2.06.94zm10 10l.94 2.06.94-2.06 2.06-.94-2.06-.94-.94-2.06-.94 2.06-2.06.94z\"/><path d=\"M17.41 7.96l-1.37-1.37c-.4-.4-.92-.59-1.43-.59-.52 0-1.04.2-1.43.59L10.3 9.45l-7.72 7.72c-.78.78-.78 2.05 0 2.83L4 21.41c.39.39.9.59 1.41.59.51 0 1.02-.2 1.41-.59l7.78-7.78 2.81-2.81c.8-.78.8-2.07 0-2.86zM5.41 20L4 18.59l7.72-7.72 1.47 1.35L5.41 20z\"/>\n",
              "  </svg>\n",
              "      </button>\n",
              "      \n",
              "  <style>\n",
              "    .colab-df-container {\n",
              "      display:flex;\n",
              "      flex-wrap:wrap;\n",
              "      gap: 12px;\n",
              "    }\n",
              "\n",
              "    .colab-df-convert {\n",
              "      background-color: #E8F0FE;\n",
              "      border: none;\n",
              "      border-radius: 50%;\n",
              "      cursor: pointer;\n",
              "      display: none;\n",
              "      fill: #1967D2;\n",
              "      height: 32px;\n",
              "      padding: 0 0 0 0;\n",
              "      width: 32px;\n",
              "    }\n",
              "\n",
              "    .colab-df-convert:hover {\n",
              "      background-color: #E2EBFA;\n",
              "      box-shadow: 0px 1px 2px rgba(60, 64, 67, 0.3), 0px 1px 3px 1px rgba(60, 64, 67, 0.15);\n",
              "      fill: #174EA6;\n",
              "    }\n",
              "\n",
              "    [theme=dark] .colab-df-convert {\n",
              "      background-color: #3B4455;\n",
              "      fill: #D2E3FC;\n",
              "    }\n",
              "\n",
              "    [theme=dark] .colab-df-convert:hover {\n",
              "      background-color: #434B5C;\n",
              "      box-shadow: 0px 1px 3px 1px rgba(0, 0, 0, 0.15);\n",
              "      filter: drop-shadow(0px 1px 2px rgba(0, 0, 0, 0.3));\n",
              "      fill: #FFFFFF;\n",
              "    }\n",
              "  </style>\n",
              "\n",
              "      <script>\n",
              "        const buttonEl =\n",
              "          document.querySelector('#df-4848385b-a1e8-4555-8c84-cedab02ce129 button.colab-df-convert');\n",
              "        buttonEl.style.display =\n",
              "          google.colab.kernel.accessAllowed ? 'block' : 'none';\n",
              "\n",
              "        async function convertToInteractive(key) {\n",
              "          const element = document.querySelector('#df-4848385b-a1e8-4555-8c84-cedab02ce129');\n",
              "          const dataTable =\n",
              "            await google.colab.kernel.invokeFunction('convertToInteractive',\n",
              "                                                     [key], {});\n",
              "          if (!dataTable) return;\n",
              "\n",
              "          const docLinkHtml = 'Like what you see? Visit the ' +\n",
              "            '<a target=\"_blank\" href=https://colab.research.google.com/notebooks/data_table.ipynb>data table notebook</a>'\n",
              "            + ' to learn more about interactive tables.';\n",
              "          element.innerHTML = '';\n",
              "          dataTable['output_type'] = 'display_data';\n",
              "          await google.colab.output.renderOutput(dataTable, element);\n",
              "          const docLink = document.createElement('div');\n",
              "          docLink.innerHTML = docLinkHtml;\n",
              "          element.appendChild(docLink);\n",
              "        }\n",
              "      </script>\n",
              "    </div>\n",
              "  </div>\n",
              "  "
            ]
          },
          "metadata": {},
          "execution_count": 43
        }
      ]
    },
    {
      "cell_type": "markdown",
      "source": [
        "Since we have 26 columns in this dataset, we will drop those columns that are not correlated."
      ],
      "metadata": {
        "id": "lIfFeD-aZDnZ"
      }
    },
    {
      "cell_type": "markdown",
      "source": [
        "#### Plotting Correlation matrix to drop uncorrelated features"
      ],
      "metadata": {
        "id": "xYtaC-FspZs4"
      }
    },
    {
      "cell_type": "code",
      "source": [
        "corr= df_clean.corr()\n",
        "core = abs(corr.outcome.sort_values(ascending = False))\n",
        "core.sort_values(ascending = False)"
      ],
      "metadata": {
        "colab": {
          "base_uri": "https://localhost:8080/"
        },
        "id": "eBpJozF5uiH2",
        "outputId": "3391a194-d780-4b47-8cf3-5bd18af02506"
      },
      "execution_count": null,
      "outputs": [
        {
          "output_type": "execute_result",
          "data": {
            "text/plain": [
              "outcome                  1.000000\n",
              "abdomo_appearance        0.539502\n",
              "peripheral_pulse         0.520933\n",
              "rectal_exam_feces        0.470276\n",
              "mucous_membrane          0.460641\n",
              "temp_of_extremities      0.445348\n",
              "abdominal_distention     0.441105\n",
              "packed_cell_volume       0.387711\n",
              "capillary_refill_time    0.342479\n",
              "pulse                    0.334478\n",
              "peristalsis              0.315860\n",
              "pain                     0.252282\n",
              "surgical_lesion          0.209143\n",
              "nasogastric_reflux       0.191276\n",
              "abdomen                  0.169277\n",
              "surgery                  0.117619\n",
              "total_protein            0.091794\n",
              "lesion_2                 0.084915\n",
              "rectal_temp              0.070797\n",
              "respiratory_rate         0.065392\n",
              "lesion_3                 0.043436\n",
              "lesion_1                 0.041391\n",
              "cp_data                  0.035073\n",
              "nasogastric_tube         0.021049\n",
              "hospital_number          0.004377\n",
              "age                      0.004083\n",
              "Name: outcome, dtype: float64"
            ]
          },
          "metadata": {},
          "execution_count": 44
        }
      ]
    },
    {
      "cell_type": "markdown",
      "source": [
        "Heatmap to understand correlation between variables"
      ],
      "metadata": {
        "id": "J0X8S1W4OLxJ"
      }
    },
    {
      "cell_type": "code",
      "source": [
        "fig = plt.figure(figsize =(20, 10))\n",
        "\n",
        "_ = sns.heatmap(df_clean.corr(), annot = True, vmax = 0.85) "
      ],
      "metadata": {
        "colab": {
          "base_uri": "https://localhost:8080/",
          "height": 689
        },
        "id": "0H698FKpiKxx",
        "outputId": "1e0e4350-7513-4f59-bece-9a5be6c06bfb"
      },
      "execution_count": null,
      "outputs": [
        {
          "output_type": "display_data",
          "data": {
            "text/plain": [
              "<Figure size 1440x720 with 2 Axes>"
            ],
            "image/png": "[encoded data removed]"
          },
          "metadata": {
            "needs_background": "light"
          }
        }
      ]
    },
    {
      "cell_type": "markdown",
      "source": [
        "From the correlation matrix we can see that Columns like 'nasogastric_reflux', 'abdomen', 'surgery' ,'total_protein', 'lesion_2', 'respiratory_rate','lesion_1', 'hospital_number', 'age', 'rectal_temp','lesion_3', 'cp_data', 'nasogastric_tube' have very low correlation. So we can drop them       "
      ],
      "metadata": {
        "id": "ZFEE3ESfp-p0"
      }
    },
    {
      "cell_type": "code",
      "source": [
        "df_clean = df_clean.drop(['nasogastric_reflux', 'abdomen', 'surgery' ,           \n",
        "                          'total_protein', 'lesion_2', 'respiratory_rate',    \n",
        "                          'lesion_1', 'hospital_number', 'age', 'rectal_temp',       \n",
        "                          'lesion_3', 'cp_data', 'nasogastric_tube' ],\n",
        "                         axis=1)\n",
        "                "
      ],
      "metadata": {
        "id": "gTzulesMlrFA"
      },
      "execution_count": null,
      "outputs": []
    },
    {
      "cell_type": "code",
      "source": [
        "df_clean.shape"
      ],
      "metadata": {
        "colab": {
          "base_uri": "https://localhost:8080/"
        },
        "id": "prpozy-X0RPG",
        "outputId": "5583e42b-cf3b-4319-c480-35c3d6b2479a"
      },
      "execution_count": null,
      "outputs": [
        {
          "output_type": "execute_result",
          "data": {
            "text/plain": [
              "(299, 13)"
            ]
          },
          "metadata": {},
          "execution_count": 47
        }
      ]
    },
    {
      "cell_type": "markdown",
      "source": [
        "After data reduction, we have 13 columns in the dataset.\n",
        "Next we will perform data visualization to understand some relationships in the data."
      ],
      "metadata": {
        "id": "A5BQSuwdZTat"
      }
    },
    {
      "cell_type": "markdown",
      "source": [
        "## Data Visualization"
      ],
      "metadata": {
        "id": "IApMPQz00k6-"
      }
    },
    {
      "cell_type": "markdown",
      "source": [
        "### Seeing the distribution of Target variable"
      ],
      "metadata": {
        "id": "0SWg_J2Z2oH4"
      }
    },
    {
      "cell_type": "code",
      "source": [
        "g = sns.countplot(data=df_clean, x=\"outcome\");\n",
        "g.set_xticklabels(['lived','died','was euthanized']);"
      ],
      "metadata": {
        "colab": {
          "base_uri": "https://localhost:8080/",
          "height": 279
        },
        "id": "yRrVmE3N0YCV",
        "outputId": "59393682-a1cf-47d0-97ed-a836ec6bd42c"
      },
      "execution_count": null,
      "outputs": [
        {
          "output_type": "display_data",
          "data": {
            "text/plain": [
              "<Figure size 432x288 with 1 Axes>"
            ],
            "image/png": "[encoded data removed]"
          },
          "metadata": {
            "needs_background": "light"
          }
        }
      ]
    },
    {
      "cell_type": "markdown",
      "source": [
        "*   As we can see, this is a multiclass classification problem.\n",
        "*   Also, most of the samples belong to class 'lived'. Class 'euthanized has least number of samples. \n",
        "\n",
        "\n",
        " "
      ],
      "metadata": {
        "id": "3sRqI22Y2sYn"
      }
    },
    {
      "cell_type": "markdown",
      "source": [
        "#### Finding the relationship between Peripheral pulse and Outcome variable. "
      ],
      "metadata": {
        "id": "0txczGUNae7G"
      }
    },
    {
      "cell_type": "code",
      "source": [
        "g = sns.countplot(data=df_clean, x=\"peripheral_pulse\", hue = \"outcome\" );\n",
        "g.set_xticklabels(['normal','increased', 'reduced', 'absent']);                                               \n",
        "plt.legend(title='outcome',  labels=['lived','died','was euthanized']); "
      ],
      "metadata": {
        "colab": {
          "base_uri": "https://localhost:8080/",
          "height": 280
        },
        "id": "Tx7EvE69M-II",
        "outputId": "c23c7bf2-bd0f-4f19-c018-f95999f4ece6"
      },
      "execution_count": null,
      "outputs": [
        {
          "output_type": "display_data",
          "data": {
            "text/plain": [
              "<Figure size 432x288 with 1 Axes>"
            ],
            "image/png": "[encoded data removed]"
          },
          "metadata": {
            "needs_background": "light"
          }
        }
      ]
    },
    {
      "cell_type": "markdown",
      "source": [
        " \n",
        "\n",
        "\n",
        "*   Similar to what we can expect, most of the horses who lived have peripheral pulse in the normal range.\n",
        "*   Majority of the horses who died had reduced peripheral pulse. \n",
        "\n"
      ],
      "metadata": {
        "id": "mLPyHPIdaV6j"
      }
    },
    {
      "cell_type": "markdown",
      "source": [
        "#### Finding relationship between abdomo_appearance and outcome variable "
      ],
      "metadata": {
        "id": "cj9N-wQwa9Kb"
      }
    },
    {
      "cell_type": "code",
      "source": [
        "g = sns.countplot(data=df_clean, x=\"abdomo_appearance\", hue = \"outcome\" );\n",
        "g.set_xticklabels(['clear', 'cloudy', 'serosanguinous']);                                               \n",
        "plt.legend(title='outcome',  labels=['lived','died','was euthanized']); "
      ],
      "metadata": {
        "colab": {
          "base_uri": "https://localhost:8080/",
          "height": 280
        },
        "id": "5RJkgUrgcyp0",
        "outputId": "6920d314-e670-4db6-ef47-5ce7a314680e"
      },
      "execution_count": null,
      "outputs": [
        {
          "output_type": "display_data",
          "data": {
            "text/plain": [
              "<Figure size 432x288 with 1 Axes>"
            ],
            "image/png": "[encoded data removed]"
          },
          "metadata": {
            "needs_background": "light"
          }
        }
      ]
    },
    {
      "cell_type": "markdown",
      "source": [
        "  \n",
        "\n",
        "\n",
        "\n",
        "*   As given in data description, normal abdomo has a Clear appearance. Similar pattern can be observed from the above CountPlot.\n",
        "*   Most of the horses who lived had clear abdomo_appearance.\n",
        "\n"
      ],
      "metadata": {
        "id": "geWzK_tsdMuC"
      }
    },
    {
      "cell_type": "markdown",
      "source": [
        "#### Finding relationship between packed_cell_volume and outcome\n"
      ],
      "metadata": {
        "id": "gh29vp31gcSv"
      }
    },
    {
      "cell_type": "code",
      "source": [
        "_ = sns.histplot(data = df_clean, x = 'packed_cell_volume', hue=\"outcome\")\n",
        "plt.legend(title='outcome',  labels=['lived','died','was euthanized']); "
      ],
      "metadata": {
        "colab": {
          "base_uri": "https://localhost:8080/",
          "height": 280
        },
        "id": "1gOHXmlfc23X",
        "outputId": "a9b1b497-752d-4af1-8ac4-b673183ef810"
      },
      "execution_count": null,
      "outputs": [
        {
          "output_type": "display_data",
          "data": {
            "text/plain": [
              "<Figure size 432x288 with 1 Axes>"
            ],
            "image/png": "[encoded data removed]"
          },
          "metadata": {
            "needs_background": "light"
          }
        }
      ]
    },
    {
      "cell_type": "markdown",
      "source": [
        " \n",
        "*   Normal range of Packed_cell_volume is 30 to 50 as given in data description.\n",
        "*   From the Histogram we can observe that those horses who have packed_cell_volume in normal range survived while those who have higer cell_volume died. \n",
        "\n"
      ],
      "metadata": {
        "id": "TFR5J2aAbjtX"
      }
    },
    {
      "cell_type": "markdown",
      "source": [
        "#### Finding relationship between Packed_cell_volume and outcome"
      ],
      "metadata": {
        "id": "kZ00BBpMcH2j"
      }
    },
    {
      "cell_type": "code",
      "source": [
        "f, axes = plt.subplots(1, 2, figsize=(15,7))\n",
        "g = sns.stripplot(data=df_clean, y=\"packed_cell_volume\", x = \"outcome\", ax=axes[0] );\n",
        "g.set_xticklabels(['lived','died','was euthanized']); \n",
        "g = sns.barplot(data=df_clean, x=\"outcome\", y=\"packed_cell_volume\", ax=axes[1]  );\n",
        "g.set_xticklabels(['lived','died','was euthanized']); "
      ],
      "metadata": {
        "colab": {
          "base_uri": "https://localhost:8080/",
          "height": 442
        },
        "id": "JnW7ef3h01Ii",
        "outputId": "e63b793c-6979-4d6c-8eae-3a16451d9808"
      },
      "execution_count": null,
      "outputs": [
        {
          "output_type": "display_data",
          "data": {
            "text/plain": [
              "<Figure size 1080x504 with 2 Axes>"
            ],
            "image/png": "[encoded data removed]"
          },
          "metadata": {
            "needs_background": "light"
          }
        }
      ]
    },
    {
      "cell_type": "markdown",
      "source": [
        " \n",
        "\n",
        "\n",
        "\n",
        "*   From the above graphs we can observe that most of the horses who lived, had lower packed_cell_volume and those who died had higher.\n",
        "*   The bar graph shows the mean value of packed_cell_volume for each class. \n",
        "\n"
      ],
      "metadata": {
        "id": "OnYl6p5kcS99"
      }
    },
    {
      "cell_type": "markdown",
      "source": [
        "#### Finding relationship between Peripheral_pulse and pulse"
      ],
      "metadata": {
        "id": "1HwickgVfGW2"
      }
    },
    {
      "cell_type": "code",
      "source": [
        "f, axes = plt.subplots(1, 2, figsize=(15,7))\n",
        "g = sns.stripplot(data=df_clean, y=\"pulse\", x = \"peripheral_pulse\", ax=axes[0] );\n",
        "g.set_xticklabels(['normal', 'increased', 'reduced', 'absent' ]);\n",
        "g = sns.barplot(data=df_clean, x=\"peripheral_pulse\", y=\"pulse\" , ax=axes[1] );\n",
        "g.set_xticklabels(['normal', 'increased', 'reduced', 'absent' ]);"
      ],
      "metadata": {
        "colab": {
          "base_uri": "https://localhost:8080/",
          "height": 443
        },
        "id": "lzoI75uE4l_c",
        "outputId": "3d25d657-f604-49b3-acce-25d554f7b366"
      },
      "execution_count": null,
      "outputs": [
        {
          "output_type": "display_data",
          "data": {
            "text/plain": [
              "<Figure size 1080x504 with 2 Axes>"
            ],
            "image/png": "[encoded data removed]"
          },
          "metadata": {
            "needs_background": "light"
          }
        }
      ]
    },
    {
      "cell_type": "markdown",
      "source": [
        " \n",
        "\n",
        "\n",
        "\n",
        "*   From the above graphs we can observe that those horses having normal or increased peripheral pulse have pulse in the normal range as well. \n",
        "*   While those having reduced and absent peripheral pulse have pulse in higher range\n",
        "\n"
      ],
      "metadata": {
        "id": "4oKXmFAhevkR"
      }
    },
    {
      "cell_type": "markdown",
      "source": [
        "#### Finding relationship between mucous_membrane and pulse"
      ],
      "metadata": {
        "id": "ilFXOes_fOfe"
      }
    },
    {
      "cell_type": "code",
      "source": [
        "f, axes = plt.subplots(1, 2, figsize=(20,7))\n",
        "g = sns.stripplot(data=df_clean, x = \"mucous_membrane\" ,y=\"pulse\", ax=axes[0] );\n",
        "g.set_xticklabels(['normal pink', 'bright pink', 'pale pink', 'pale cyanotic', \n",
        "                    'bright red / injected', 'dark cyanotic' ]);\n",
        "g = sns.barplot(data=df_clean, x=\"mucous_membrane\", y=\"pulse\" , ax=axes[1] );\n",
        "g.set_xticklabels(['normal pink', 'bright pink', 'pale pink', 'pale cyanotic', \n",
        "                    'bright red / injected', 'dark cyanotic' ]);"
      ],
      "metadata": {
        "colab": {
          "base_uri": "https://localhost:8080/",
          "height": 446
        },
        "id": "wbyz09GM41YD",
        "outputId": "58266dbf-4bf3-4c1f-f499-9ac626ca0fff"
      },
      "execution_count": null,
      "outputs": [
        {
          "output_type": "display_data",
          "data": {
            "text/plain": [
              "<Figure size 1440x504 with 2 Axes>"
            ],
            "image/png": "[encoded data removed]"
          },
          "metadata": {
            "needs_background": "light"
          }
        }
      ]
    },
    {
      "cell_type": "markdown",
      "source": [
        "\n",
        "\n",
        "\n",
        "\n",
        "*   Normal pink and bright pink mucous_membrane indicates normal circulation. The other types indicate compromised circulation. \n",
        "*   Dark cynotic indicates highly compromised circulation hence the mean pulse is the highest as seen from the graph.\n",
        "\n"
      ],
      "metadata": {
        "id": "E1E3IOIefZMi"
      }
    },
    {
      "cell_type": "markdown",
      "source": [
        "#### Finding relationship between mucous_membrane and packed_cell_volume"
      ],
      "metadata": {
        "id": "ayTqIhIMfzky"
      }
    },
    {
      "cell_type": "code",
      "source": [
        "f, axes = plt.subplots(1, 2, figsize=(20,7))\n",
        "g = sns.stripplot(data=df_clean, x = \"mucous_membrane\" ,y=\"packed_cell_volume\", ax=axes[0] );\n",
        "g.set_xticklabels(['normal pink', 'bright pink', 'pale pink', 'pale cyanotic', \n",
        "                    'bright red / injected', 'dark cyanotic' ]);\n",
        "g = sns.barplot(data=df_clean, x=\"mucous_membrane\", y=\"packed_cell_volume\" , ax=axes[1] );\n",
        "g.set_xticklabels(['normal pink', 'bright pink', 'pale pink', 'pale cyanotic', \n",
        "                    'bright red / injected', 'dark cyanotic' ]);"
      ],
      "metadata": {
        "colab": {
          "base_uri": "https://localhost:8080/",
          "height": 443
        },
        "id": "VgSjBBpF4_vd",
        "outputId": "08117438-0d11-495b-ae14-040a01ea63e3"
      },
      "execution_count": null,
      "outputs": [
        {
          "output_type": "display_data",
          "data": {
            "text/plain": [
              "<Figure size 1440x504 with 2 Axes>"
            ],
            "image/png": "[encoded data removed]"
          },
          "metadata": {
            "needs_background": "light"
          }
        }
      ]
    },
    {
      "cell_type": "markdown",
      "source": [
        "\n",
        "\n",
        "\n",
        "\n",
        "*   Normal pink and bright pink mucous_membrane indicates normal level of packed_cell_volume.\n",
        "*    Dark cynotic indicates highly level of packed_cell_volume as seen from graph\n",
        "\n"
      ],
      "metadata": {
        "id": "b6Wr9ENWgGqb"
      }
    },
    {
      "cell_type": "code",
      "source": [
        "df_clean.head()"
      ],
      "metadata": {
        "colab": {
          "base_uri": "https://localhost:8080/",
          "height": 270
        },
        "id": "KqgyeWYC2veW",
        "outputId": "e63c3587-e6bb-47b8-de23-357ddb6abe71"
      },
      "execution_count": null,
      "outputs": [
        {
          "output_type": "execute_result",
          "data": {
            "text/plain": [
              "   pulse  temp_of_extremities  peripheral_pulse  mucous_membrane  \\\n",
              "0   66.0                    2                 2                2   \n",
              "1   88.0                    2                 2                3   \n",
              "2   40.0                    0                 0                2   \n",
              "3  164.0                    3                 0                5   \n",
              "4  104.0                    2                 2                5   \n",
              "\n",
              "   capillary_refill_time  pain  peristalsis  abdominal_distention  \\\n",
              "0                      1     4            3                     3   \n",
              "1                      0     2            3                     1   \n",
              "2                      0     2            2                     0   \n",
              "3                      1     1            3                     3   \n",
              "4                      1     4            2                     2   \n",
              "\n",
              "   rectal_exam_feces  packed_cell_volume  abdomo_appearance  outcome  \\\n",
              "0                  2                45.0                  2        1   \n",
              "1                  3                50.0                  1        2   \n",
              "2                  0                33.0                  0        0   \n",
              "3                  2                48.0                  2        1   \n",
              "4                  3                74.0                  2        1   \n",
              "\n",
              "   surgical_lesion  \n",
              "0                1  \n",
              "1                1  \n",
              "2                1  \n",
              "3                0  \n",
              "4                1  "
            ],
            "text/html": [
              "\n",
              "  <div id=\"df-1de5d577-bb95-42a9-a877-9da269de4c7b\">\n",
              "    <div class=\"colab-df-container\">\n",
              "      <div>\n",
              "<style scoped>\n",
              "    .dataframe tbody tr th:only-of-type {\n",
              "        vertical-align: middle;\n",
              "    }\n",
              "\n",
              "    .dataframe tbody tr th {\n",
              "        vertical-align: top;\n",
              "    }\n",
              "\n",
              "    .dataframe thead th {\n",
              "        text-align: right;\n",
              "    }\n",
              "</style>\n",
              "<table border=\"1\" class=\"dataframe\">\n",
              "  <thead>\n",
              "    <tr style=\"text-align: right;\">\n",
              "      <th></th>\n",
              "      <th>pulse</th>\n",
              "      <th>temp_of_extremities</th>\n",
              "      <th>peripheral_pulse</th>\n",
              "      <th>mucous_membrane</th>\n",
              "      <th>capillary_refill_time</th>\n",
              "      <th>pain</th>\n",
              "      <th>peristalsis</th>\n",
              "      <th>abdominal_distention</th>\n",
              "      <th>rectal_exam_feces</th>\n",
              "      <th>packed_cell_volume</th>\n",
              "      <th>abdomo_appearance</th>\n",
              "      <th>outcome</th>\n",
              "      <th>surgical_lesion</th>\n",
              "    </tr>\n",
              "  </thead>\n",
              "  <tbody>\n",
              "    <tr>\n",
              "      <th>0</th>\n",
              "      <td>66.0</td>\n",
              "      <td>2</td>\n",
              "      <td>2</td>\n",
              "      <td>2</td>\n",
              "      <td>1</td>\n",
              "      <td>4</td>\n",
              "      <td>3</td>\n",
              "      <td>3</td>\n",
              "      <td>2</td>\n",
              "      <td>45.0</td>\n",
              "      <td>2</td>\n",
              "      <td>1</td>\n",
              "      <td>1</td>\n",
              "    </tr>\n",
              "    <tr>\n",
              "      <th>1</th>\n",
              "      <td>88.0</td>\n",
              "      <td>2</td>\n",
              "      <td>2</td>\n",
              "      <td>3</td>\n",
              "      <td>0</td>\n",
              "      <td>2</td>\n",
              "      <td>3</td>\n",
              "      <td>1</td>\n",
              "      <td>3</td>\n",
              "      <td>50.0</td>\n",
              "      <td>1</td>\n",
              "      <td>2</td>\n",
              "      <td>1</td>\n",
              "    </tr>\n",
              "    <tr>\n",
              "      <th>2</th>\n",
              "      <td>40.0</td>\n",
              "      <td>0</td>\n",
              "      <td>0</td>\n",
              "      <td>2</td>\n",
              "      <td>0</td>\n",
              "      <td>2</td>\n",
              "      <td>2</td>\n",
              "      <td>0</td>\n",
              "      <td>0</td>\n",
              "      <td>33.0</td>\n",
              "      <td>0</td>\n",
              "      <td>0</td>\n",
              "      <td>1</td>\n",
              "    </tr>\n",
              "    <tr>\n",
              "      <th>3</th>\n",
              "      <td>164.0</td>\n",
              "      <td>3</td>\n",
              "      <td>0</td>\n",
              "      <td>5</td>\n",
              "      <td>1</td>\n",
              "      <td>1</td>\n",
              "      <td>3</td>\n",
              "      <td>3</td>\n",
              "      <td>2</td>\n",
              "      <td>48.0</td>\n",
              "      <td>2</td>\n",
              "      <td>1</td>\n",
              "      <td>0</td>\n",
              "    </tr>\n",
              "    <tr>\n",
              "      <th>4</th>\n",
              "      <td>104.0</td>\n",
              "      <td>2</td>\n",
              "      <td>2</td>\n",
              "      <td>5</td>\n",
              "      <td>1</td>\n",
              "      <td>4</td>\n",
              "      <td>2</td>\n",
              "      <td>2</td>\n",
              "      <td>3</td>\n",
              "      <td>74.0</td>\n",
              "      <td>2</td>\n",
              "      <td>1</td>\n",
              "      <td>1</td>\n",
              "    </tr>\n",
              "  </tbody>\n",
              "</table>\n",
              "</div>\n",
              "      <button class=\"colab-df-convert\" onclick=\"convertToInteractive('df-1de5d577-bb95-42a9-a877-9da269de4c7b')\"\n",
              "              title=\"Convert this dataframe to an interactive table.\"\n",
              "              style=\"display:none;\">\n",
              "        \n",
              "  <svg xmlns=\"http://www.w3.org/2000/svg\" height=\"24px\"viewBox=\"0 0 24 24\"\n",
              "       width=\"24px\">\n",
              "    <path d=\"M0 0h24v24H0V0z\" fill=\"none\"/>\n",
              "    <path d=\"M18.56 5.44l.94 2.06.94-2.06 2.06-.94-2.06-.94-.94-2.06-.94 2.06-2.06.94zm-11 1L8.5 8.5l.94-2.06 2.06-.94-2.06-.94L8.5 2.5l-.94 2.06-2.06.94zm10 10l.94 2.06.94-2.06 2.06-.94-2.06-.94-.94-2.06-.94 2.06-2.06.94z\"/><path d=\"M17.41 7.96l-1.37-1.37c-.4-.4-.92-.59-1.43-.59-.52 0-1.04.2-1.43.59L10.3 9.45l-7.72 7.72c-.78.78-.78 2.05 0 2.83L4 21.41c.39.39.9.59 1.41.59.51 0 1.02-.2 1.41-.59l7.78-7.78 2.81-2.81c.8-.78.8-2.07 0-2.86zM5.41 20L4 18.59l7.72-7.72 1.47 1.35L5.41 20z\"/>\n",
              "  </svg>\n",
              "      </button>\n",
              "      \n",
              "  <style>\n",
              "    .colab-df-container {\n",
              "      display:flex;\n",
              "      flex-wrap:wrap;\n",
              "      gap: 12px;\n",
              "    }\n",
              "\n",
              "    .colab-df-convert {\n",
              "      background-color: #E8F0FE;\n",
              "      border: none;\n",
              "      border-radius: 50%;\n",
              "      cursor: pointer;\n",
              "      display: none;\n",
              "      fill: #1967D2;\n",
              "      height: 32px;\n",
              "      padding: 0 0 0 0;\n",
              "      width: 32px;\n",
              "    }\n",
              "\n",
              "    .colab-df-convert:hover {\n",
              "      background-color: #E2EBFA;\n",
              "      box-shadow: 0px 1px 2px rgba(60, 64, 67, 0.3), 0px 1px 3px 1px rgba(60, 64, 67, 0.15);\n",
              "      fill: #174EA6;\n",
              "    }\n",
              "\n",
              "    [theme=dark] .colab-df-convert {\n",
              "      background-color: #3B4455;\n",
              "      fill: #D2E3FC;\n",
              "    }\n",
              "\n",
              "    [theme=dark] .colab-df-convert:hover {\n",
              "      background-color: #434B5C;\n",
              "      box-shadow: 0px 1px 3px 1px rgba(0, 0, 0, 0.15);\n",
              "      filter: drop-shadow(0px 1px 2px rgba(0, 0, 0, 0.3));\n",
              "      fill: #FFFFFF;\n",
              "    }\n",
              "  </style>\n",
              "\n",
              "      <script>\n",
              "        const buttonEl =\n",
              "          document.querySelector('#df-1de5d577-bb95-42a9-a877-9da269de4c7b button.colab-df-convert');\n",
              "        buttonEl.style.display =\n",
              "          google.colab.kernel.accessAllowed ? 'block' : 'none';\n",
              "\n",
              "        async function convertToInteractive(key) {\n",
              "          const element = document.querySelector('#df-1de5d577-bb95-42a9-a877-9da269de4c7b');\n",
              "          const dataTable =\n",
              "            await google.colab.kernel.invokeFunction('convertToInteractive',\n",
              "                                                     [key], {});\n",
              "          if (!dataTable) return;\n",
              "\n",
              "          const docLinkHtml = 'Like what you see? Visit the ' +\n",
              "            '<a target=\"_blank\" href=https://colab.research.google.com/notebooks/data_table.ipynb>data table notebook</a>'\n",
              "            + ' to learn more about interactive tables.';\n",
              "          element.innerHTML = '';\n",
              "          dataTable['output_type'] = 'display_data';\n",
              "          await google.colab.output.renderOutput(dataTable, element);\n",
              "          const docLink = document.createElement('div');\n",
              "          docLink.innerHTML = docLinkHtml;\n",
              "          element.appendChild(docLink);\n",
              "        }\n",
              "      </script>\n",
              "    </div>\n",
              "  </div>\n",
              "  "
            ]
          },
          "metadata": {},
          "execution_count": 57
        }
      ]
    },
    {
      "cell_type": "markdown",
      "source": [
        "### Data Encoding "
      ],
      "metadata": {
        "id": "2_1N16KoBwB1"
      }
    },
    {
      "cell_type": "markdown",
      "source": [
        "Next we will perform data encoding so that it can be trained on Logistic Regression model."
      ],
      "metadata": {
        "id": "gkOBea5Ha3zj"
      }
    },
    {
      "cell_type": "code",
      "source": [
        "df_pre = df_clean.copy()"
      ],
      "metadata": {
        "id": "mruuqflL_A5n"
      },
      "execution_count": null,
      "outputs": []
    },
    {
      "cell_type": "markdown",
      "source": [
        "Splitting the data into Train and test for model training. 80% training data and 20% testing data"
      ],
      "metadata": {
        "id": "gnqakloNOhEK"
      }
    },
    {
      "cell_type": "code",
      "source": [
        "y = df_pre[\"outcome\"] \n",
        "X = df_pre.drop([\"outcome\"], axis=1)\n",
        "X_train, X_test, y_train, y_test = train_test_split(X, y, test_size=0.20, random_state = 53)"
      ],
      "metadata": {
        "id": "2bub3PUTDMqW"
      },
      "execution_count": null,
      "outputs": []
    },
    {
      "cell_type": "code",
      "source": [
        "X_train.shape, y_train.shape, X_test.shape, y_test.shape"
      ],
      "metadata": {
        "colab": {
          "base_uri": "https://localhost:8080/"
        },
        "id": "7MqxctlDDV8Z",
        "outputId": "4c75bcbe-b453-40bd-c3f5-b988f0ef8a0f"
      },
      "execution_count": null,
      "outputs": [
        {
          "output_type": "execute_result",
          "data": {
            "text/plain": [
              "((239, 12), (239,), (60, 12), (60,))"
            ]
          },
          "metadata": {},
          "execution_count": 63
        }
      ]
    },
    {
      "cell_type": "markdown",
      "source": [
        "Since we have categorical columns, we need to label Encode them so that they can be used in the model"
      ],
      "metadata": {
        "id": "7FhStOBJOrQQ"
      }
    },
    {
      "cell_type": "code",
      "source": [
        "le = preprocessing.LabelEncoder()\n",
        "for col in ['temp_of_extremities', 'peripheral_pulse',\n",
        "       'mucous_membrane', 'capillary_refill_time', 'pain', 'peristalsis',\n",
        "       'abdominal_distention', 'rectal_exam_feces','abdomo_appearance',\n",
        "       'surgical_lesion']:                                                      \n",
        "\n",
        "    trained_le = le.fit(X_train[col])\n",
        "    X_train[col] = trained_le.transform(X_train[col])                           \n",
        "    X_test[col] = trained_le.transform(X_test[col])\n",
        "\n",
        "train_le = le.fit(y_train)\n",
        "y_train = train_le.transform(y_train)\n",
        "y_test = train_le.transform(y_test)"
      ],
      "metadata": {
        "id": "WvVu3GJaKiOS"
      },
      "execution_count": null,
      "outputs": []
    },
    {
      "cell_type": "code",
      "source": [
        "X_train"
      ],
      "metadata": {
        "colab": {
          "base_uri": "https://localhost:8080/",
          "height": 487
        },
        "id": "AecJ0I2Jbm7J",
        "outputId": "f16ad89a-6e4b-4da8-cd37-b4bf4e7c9a59"
      },
      "execution_count": null,
      "outputs": [
        {
          "output_type": "execute_result",
          "data": {
            "text/plain": [
              "     pulse  temp_of_extremities  peripheral_pulse  mucous_membrane  \\\n",
              "288   54.0                    0                 0                0   \n",
              "271   80.0                    2                 2                5   \n",
              "163   66.0                    0                 2                2   \n",
              "256   72.0                    1                 0                0   \n",
              "183   56.0                    0                 0                1   \n",
              "..     ...                  ...               ...              ...   \n",
              "151   86.0                    3                 2                5   \n",
              "190   40.0                    0                 0                3   \n",
              "252  124.0                    2                 0                1   \n",
              "286   82.0                    2                 0                0   \n",
              "25    60.0                    0                 0                0   \n",
              "\n",
              "     capillary_refill_time  pain  peristalsis  abdominal_distention  \\\n",
              "288                      0     2            2                     0   \n",
              "271                      0     4            3                     0   \n",
              "163                      0     4            2                     0   \n",
              "256                      0     1            0                     0   \n",
              "183                      0     1            0                     0   \n",
              "..                     ...   ...          ...                   ...   \n",
              "151                      1     3            3                     1   \n",
              "190                      0     2            2                     0   \n",
              "252                      0     1            2                     3   \n",
              "286                      1     3            3                     2   \n",
              "25                       0     2            2                     0   \n",
              "\n",
              "     rectal_exam_feces  packed_cell_volume  abdomo_appearance  surgical_lesion  \n",
              "288                  0                42.0                  0                0  \n",
              "271                  2                50.0                  2                0  \n",
              "163                  2                46.0                  2                0  \n",
              "256                  0                35.0                  1                0  \n",
              "183                  0                44.0                  0                1  \n",
              "..                 ...                 ...                ...              ...  \n",
              "151                  3                75.0                  2                0  \n",
              "190                  2                23.0                  2                0  \n",
              "252                  3                50.0                  2                0  \n",
              "286                  3                50.0                  1                0  \n",
              "25                   0                42.0                  0                1  \n",
              "\n",
              "[239 rows x 12 columns]"
            ],
            "text/html": [
              "\n",
              "  <div id=\"df-3cda712b-fc54-4fe5-a1c5-7d747076786c\">\n",
              "    <div class=\"colab-df-container\">\n",
              "      <div>\n",
              "<style scoped>\n",
              "    .dataframe tbody tr th:only-of-type {\n",
              "        vertical-align: middle;\n",
              "    }\n",
              "\n",
              "    .dataframe tbody tr th {\n",
              "        vertical-align: top;\n",
              "    }\n",
              "\n",
              "    .dataframe thead th {\n",
              "        text-align: right;\n",
              "    }\n",
              "</style>\n",
              "<table border=\"1\" class=\"dataframe\">\n",
              "  <thead>\n",
              "    <tr style=\"text-align: right;\">\n",
              "      <th></th>\n",
              "      <th>pulse</th>\n",
              "      <th>temp_of_extremities</th>\n",
              "      <th>peripheral_pulse</th>\n",
              "      <th>mucous_membrane</th>\n",
              "      <th>capillary_refill_time</th>\n",
              "      <th>pain</th>\n",
              "      <th>peristalsis</th>\n",
              "      <th>abdominal_distention</th>\n",
              "      <th>rectal_exam_feces</th>\n",
              "      <th>packed_cell_volume</th>\n",
              "      <th>abdomo_appearance</th>\n",
              "      <th>surgical_lesion</th>\n",
              "    </tr>\n",
              "  </thead>\n",
              "  <tbody>\n",
              "    <tr>\n",
              "      <th>288</th>\n",
              "      <td>54.0</td>\n",
              "      <td>0</td>\n",
              "      <td>0</td>\n",
              "      <td>0</td>\n",
              "      <td>0</td>\n",
              "      <td>2</td>\n",
              "      <td>2</td>\n",
              "      <td>0</td>\n",
              "      <td>0</td>\n",
              "      <td>42.0</td>\n",
              "      <td>0</td>\n",
              "      <td>0</td>\n",
              "    </tr>\n",
              "    <tr>\n",
              "      <th>271</th>\n",
              "      <td>80.0</td>\n",
              "      <td>2</td>\n",
              "      <td>2</td>\n",
              "      <td>5</td>\n",
              "      <td>0</td>\n",
              "      <td>4</td>\n",
              "      <td>3</td>\n",
              "      <td>0</td>\n",
              "      <td>2</td>\n",
              "      <td>50.0</td>\n",
              "      <td>2</td>\n",
              "      <td>0</td>\n",
              "    </tr>\n",
              "    <tr>\n",
              "      <th>163</th>\n",
              "      <td>66.0</td>\n",
              "      <td>0</td>\n",
              "      <td>2</td>\n",
              "      <td>2</td>\n",
              "      <td>0</td>\n",
              "      <td>4</td>\n",
              "      <td>2</td>\n",
              "      <td>0</td>\n",
              "      <td>2</td>\n",
              "      <td>46.0</td>\n",
              "      <td>2</td>\n",
              "      <td>0</td>\n",
              "    </tr>\n",
              "    <tr>\n",
              "      <th>256</th>\n",
              "      <td>72.0</td>\n",
              "      <td>1</td>\n",
              "      <td>0</td>\n",
              "      <td>0</td>\n",
              "      <td>0</td>\n",
              "      <td>1</td>\n",
              "      <td>0</td>\n",
              "      <td>0</td>\n",
              "      <td>0</td>\n",
              "      <td>35.0</td>\n",
              "      <td>1</td>\n",
              "      <td>0</td>\n",
              "    </tr>\n",
              "    <tr>\n",
              "      <th>183</th>\n",
              "      <td>56.0</td>\n",
              "      <td>0</td>\n",
              "      <td>0</td>\n",
              "      <td>1</td>\n",
              "      <td>0</td>\n",
              "      <td>1</td>\n",
              "      <td>0</td>\n",
              "      <td>0</td>\n",
              "      <td>0</td>\n",
              "      <td>44.0</td>\n",
              "      <td>0</td>\n",
              "      <td>1</td>\n",
              "    </tr>\n",
              "    <tr>\n",
              "      <th>...</th>\n",
              "      <td>...</td>\n",
              "      <td>...</td>\n",
              "      <td>...</td>\n",
              "      <td>...</td>\n",
              "      <td>...</td>\n",
              "      <td>...</td>\n",
              "      <td>...</td>\n",
              "      <td>...</td>\n",
              "      <td>...</td>\n",
              "      <td>...</td>\n",
              "      <td>...</td>\n",
              "      <td>...</td>\n",
              "    </tr>\n",
              "    <tr>\n",
              "      <th>151</th>\n",
              "      <td>86.0</td>\n",
              "      <td>3</td>\n",
              "      <td>2</td>\n",
              "      <td>5</td>\n",
              "      <td>1</td>\n",
              "      <td>3</td>\n",
              "      <td>3</td>\n",
              "      <td>1</td>\n",
              "      <td>3</td>\n",
              "      <td>75.0</td>\n",
              "      <td>2</td>\n",
              "      <td>0</td>\n",
              "    </tr>\n",
              "    <tr>\n",
              "      <th>190</th>\n",
              "      <td>40.0</td>\n",
              "      <td>0</td>\n",
              "      <td>0</td>\n",
              "      <td>3</td>\n",
              "      <td>0</td>\n",
              "      <td>2</td>\n",
              "      <td>2</td>\n",
              "      <td>0</td>\n",
              "      <td>2</td>\n",
              "      <td>23.0</td>\n",
              "      <td>2</td>\n",
              "      <td>0</td>\n",
              "    </tr>\n",
              "    <tr>\n",
              "      <th>252</th>\n",
              "      <td>124.0</td>\n",
              "      <td>2</td>\n",
              "      <td>0</td>\n",
              "      <td>1</td>\n",
              "      <td>0</td>\n",
              "      <td>1</td>\n",
              "      <td>2</td>\n",
              "      <td>3</td>\n",
              "      <td>3</td>\n",
              "      <td>50.0</td>\n",
              "      <td>2</td>\n",
              "      <td>0</td>\n",
              "    </tr>\n",
              "    <tr>\n",
              "      <th>286</th>\n",
              "      <td>82.0</td>\n",
              "      <td>2</td>\n",
              "      <td>0</td>\n",
              "      <td>0</td>\n",
              "      <td>1</td>\n",
              "      <td>3</td>\n",
              "      <td>3</td>\n",
              "      <td>2</td>\n",
              "      <td>3</td>\n",
              "      <td>50.0</td>\n",
              "      <td>1</td>\n",
              "      <td>0</td>\n",
              "    </tr>\n",
              "    <tr>\n",
              "      <th>25</th>\n",
              "      <td>60.0</td>\n",
              "      <td>0</td>\n",
              "      <td>0</td>\n",
              "      <td>0</td>\n",
              "      <td>0</td>\n",
              "      <td>2</td>\n",
              "      <td>2</td>\n",
              "      <td>0</td>\n",
              "      <td>0</td>\n",
              "      <td>42.0</td>\n",
              "      <td>0</td>\n",
              "      <td>1</td>\n",
              "    </tr>\n",
              "  </tbody>\n",
              "</table>\n",
              "<p>239 rows × 12 columns</p>\n",
              "</div>\n",
              "      <button class=\"colab-df-convert\" onclick=\"convertToInteractive('df-3cda712b-fc54-4fe5-a1c5-7d747076786c')\"\n",
              "              title=\"Convert this dataframe to an interactive table.\"\n",
              "              style=\"display:none;\">\n",
              "        \n",
              "  <svg xmlns=\"http://www.w3.org/2000/svg\" height=\"24px\"viewBox=\"0 0 24 24\"\n",
              "       width=\"24px\">\n",
              "    <path d=\"M0 0h24v24H0V0z\" fill=\"none\"/>\n",
              "    <path d=\"M18.56 5.44l.94 2.06.94-2.06 2.06-.94-2.06-.94-.94-2.06-.94 2.06-2.06.94zm-11 1L8.5 8.5l.94-2.06 2.06-.94-2.06-.94L8.5 2.5l-.94 2.06-2.06.94zm10 10l.94 2.06.94-2.06 2.06-.94-2.06-.94-.94-2.06-.94 2.06-2.06.94z\"/><path d=\"M17.41 7.96l-1.37-1.37c-.4-.4-.92-.59-1.43-.59-.52 0-1.04.2-1.43.59L10.3 9.45l-7.72 7.72c-.78.78-.78 2.05 0 2.83L4 21.41c.39.39.9.59 1.41.59.51 0 1.02-.2 1.41-.59l7.78-7.78 2.81-2.81c.8-.78.8-2.07 0-2.86zM5.41 20L4 18.59l7.72-7.72 1.47 1.35L5.41 20z\"/>\n",
              "  </svg>\n",
              "      </button>\n",
              "      \n",
              "  <style>\n",
              "    .colab-df-container {\n",
              "      display:flex;\n",
              "      flex-wrap:wrap;\n",
              "      gap: 12px;\n",
              "    }\n",
              "\n",
              "    .colab-df-convert {\n",
              "      background-color: #E8F0FE;\n",
              "      border: none;\n",
              "      border-radius: 50%;\n",
              "      cursor: pointer;\n",
              "      display: none;\n",
              "      fill: #1967D2;\n",
              "      height: 32px;\n",
              "      padding: 0 0 0 0;\n",
              "      width: 32px;\n",
              "    }\n",
              "\n",
              "    .colab-df-convert:hover {\n",
              "      background-color: #E2EBFA;\n",
              "      box-shadow: 0px 1px 2px rgba(60, 64, 67, 0.3), 0px 1px 3px 1px rgba(60, 64, 67, 0.15);\n",
              "      fill: #174EA6;\n",
              "    }\n",
              "\n",
              "    [theme=dark] .colab-df-convert {\n",
              "      background-color: #3B4455;\n",
              "      fill: #D2E3FC;\n",
              "    }\n",
              "\n",
              "    [theme=dark] .colab-df-convert:hover {\n",
              "      background-color: #434B5C;\n",
              "      box-shadow: 0px 1px 3px 1px rgba(0, 0, 0, 0.15);\n",
              "      filter: drop-shadow(0px 1px 2px rgba(0, 0, 0, 0.3));\n",
              "      fill: #FFFFFF;\n",
              "    }\n",
              "  </style>\n",
              "\n",
              "      <script>\n",
              "        const buttonEl =\n",
              "          document.querySelector('#df-3cda712b-fc54-4fe5-a1c5-7d747076786c button.colab-df-convert');\n",
              "        buttonEl.style.display =\n",
              "          google.colab.kernel.accessAllowed ? 'block' : 'none';\n",
              "\n",
              "        async function convertToInteractive(key) {\n",
              "          const element = document.querySelector('#df-3cda712b-fc54-4fe5-a1c5-7d747076786c');\n",
              "          const dataTable =\n",
              "            await google.colab.kernel.invokeFunction('convertToInteractive',\n",
              "                                                     [key], {});\n",
              "          if (!dataTable) return;\n",
              "\n",
              "          const docLinkHtml = 'Like what you see? Visit the ' +\n",
              "            '<a target=\"_blank\" href=https://colab.research.google.com/notebooks/data_table.ipynb>data table notebook</a>'\n",
              "            + ' to learn more about interactive tables.';\n",
              "          element.innerHTML = '';\n",
              "          dataTable['output_type'] = 'display_data';\n",
              "          await google.colab.output.renderOutput(dataTable, element);\n",
              "          const docLink = document.createElement('div');\n",
              "          docLink.innerHTML = docLinkHtml;\n",
              "          element.appendChild(docLink);\n",
              "        }\n",
              "      </script>\n",
              "    </div>\n",
              "  </div>\n",
              "  "
            ]
          },
          "metadata": {},
          "execution_count": 66
        }
      ]
    },
    {
      "cell_type": "markdown",
      "source": [
        "Now, all the categorical columns are label encoded. We can train our Logistic Regression model"
      ],
      "metadata": {
        "id": "v4kbIJS4buuQ"
      }
    },
    {
      "cell_type": "markdown",
      "source": [
        "### Model Training"
      ],
      "metadata": {
        "id": "qoOvW-kYO36j"
      }
    },
    {
      "cell_type": "markdown",
      "source": [
        "Initializing Logistic Regression Model"
      ],
      "metadata": {
        "id": "HZTkHhqkOznU"
      }
    },
    {
      "cell_type": "code",
      "source": [
        "logisticRegr = LogisticRegression(max_iter=10000)     "
      ],
      "metadata": {
        "id": "2rbjF8bZckox"
      },
      "execution_count": null,
      "outputs": []
    },
    {
      "cell_type": "markdown",
      "source": [
        "Fitting the Baseline Model"
      ],
      "metadata": {
        "id": "uy03HLU4O7RF"
      }
    },
    {
      "cell_type": "code",
      "source": [
        "logisticRegr.fit(X_train, y_train)                                              "
      ],
      "metadata": {
        "colab": {
          "base_uri": "https://localhost:8080/"
        },
        "id": "H2IWzYWNcmrC",
        "outputId": "70ddd8fa-e4e7-4440-a15f-e51ceb1f6676"
      },
      "execution_count": null,
      "outputs": [
        {
          "output_type": "execute_result",
          "data": {
            "text/plain": [
              "LogisticRegression(max_iter=10000)"
            ]
          },
          "metadata": {},
          "execution_count": 68
        }
      ]
    },
    {
      "cell_type": "code",
      "source": [
        "print(f'Accuracy on Training data: {logisticRegr.score(X_train, y_train) * 100} %')"
      ],
      "metadata": {
        "colab": {
          "base_uri": "https://localhost:8080/"
        },
        "id": "op7WSKApcoZD",
        "outputId": "774373a0-8dec-4e95-90e5-d07f22f2ed50"
      },
      "execution_count": null,
      "outputs": [
        {
          "output_type": "stream",
          "name": "stdout",
          "text": [
            "Accuracy on Training data: 81.17154811715481 %\n"
          ]
        }
      ]
    },
    {
      "cell_type": "code",
      "source": [
        "print(f'Accuracy on Test Data: {logisticRegr.score(X_test, y_test) * 100} %')"
      ],
      "metadata": {
        "colab": {
          "base_uri": "https://localhost:8080/"
        },
        "id": "RLNTByY0g7Vj",
        "outputId": "40c3dea6-2df7-423e-919e-36dfe4134a0e"
      },
      "execution_count": null,
      "outputs": [
        {
          "output_type": "stream",
          "name": "stdout",
          "text": [
            "Accuracy on Test Data: 80.0 %\n"
          ]
        }
      ]
    },
    {
      "cell_type": "markdown",
      "source": [
        "### Model Evaluation"
      ],
      "metadata": {
        "id": "WOkRsIqpO-8e"
      }
    },
    {
      "cell_type": "code",
      "source": [
        "from sklearn.metrics import classification_report\n",
        "y_pred_LRC = logisticRegr.predict(X_test)\n",
        "print(classification_report(y_test, y_pred_LRC))"
      ],
      "metadata": {
        "colab": {
          "base_uri": "https://localhost:8080/"
        },
        "id": "yTvEjTxpSbdM",
        "outputId": "0d14c13c-f058-4728-aa33-67ff68f94fde"
      },
      "execution_count": null,
      "outputs": [
        {
          "output_type": "stream",
          "name": "stdout",
          "text": [
            "              precision    recall  f1-score   support\n",
            "\n",
            "           0       0.89      0.91      0.90        35\n",
            "           1       0.69      0.69      0.69        16\n",
            "           2       0.62      0.56      0.59         9\n",
            "\n",
            "    accuracy                           0.80        60\n",
            "   macro avg       0.73      0.72      0.73        60\n",
            "weighted avg       0.80      0.80      0.80        60\n",
            "\n"
          ]
        }
      ]
    },
    {
      "cell_type": "markdown",
      "source": [
        "Here we can see that Accuracy of the Baseline Model is 80% on Testing Data. We can improve the model performance by tunning the hyperparameters of the model"
      ],
      "metadata": {
        "id": "mvnHVnqNPCKG"
      }
    },
    {
      "cell_type": "markdown",
      "source": [
        "### Model Tuning using Grid Search CV"
      ],
      "metadata": {
        "id": "npAMLXO5PWhK"
      }
    },
    {
      "cell_type": "code",
      "source": [
        "grid = [\n",
        "  {'C': [100, 10, 1.0, 0.1, 0.01], 'penalty': ['l1'], 'solver': ['liblinear', 'saga'], 'multi_class': ['ovr'] },\n",
        "  {'C': [100, 10, 1.0, 0.1, 0.01], 'penalty': ['l2'], 'solver': ['lbfgs','newton-cg', 'sag'], 'multi_class': ['ovr', 'multinomial']},\n",
        "  {'C': [100, 10, 1.0, 0.1, 0.01], 'penalty': ['l2'], 'solver': ['saga'], 'multi_class': ['ovr', 'multinomial'] },\n",
        " ]"
      ],
      "metadata": {
        "id": "5rzKNQO6o3Vp"
      },
      "execution_count": null,
      "outputs": []
    },
    {
      "cell_type": "code",
      "source": [
        "cv = RepeatedStratifiedKFold(n_splits=5, n_repeats=3)\n",
        "grid_search = GridSearchCV(LogisticRegression(max_iter = 1000), param_grid=grid, n_jobs=-1, cv=cv, scoring='accuracy',error_score=0)\n",
        "grid_result = grid_search.fit(X, y)"
      ],
      "metadata": {
        "id": "SCscEvaEoEd6"
      },
      "execution_count": null,
      "outputs": []
    },
    {
      "cell_type": "code",
      "source": [
        "print(f\"Best Params: {grid_result.best_params_}\")"
      ],
      "metadata": {
        "colab": {
          "base_uri": "https://localhost:8080/"
        },
        "id": "32DDoy8IpI7V",
        "outputId": "99d434dc-0de2-494b-f0bd-589789a73867"
      },
      "execution_count": null,
      "outputs": [
        {
          "output_type": "stream",
          "name": "stdout",
          "text": [
            "Best Params: {'C': 1.0, 'multi_class': 'ovr', 'penalty': 'l1', 'solver': 'liblinear'}\n"
          ]
        }
      ]
    },
    {
      "cell_type": "markdown",
      "source": [
        "#### Using the Best Params obtained from Grid Search CV to Train the Model"
      ],
      "metadata": {
        "id": "Pk7sq9i-Pa1j"
      }
    },
    {
      "cell_type": "code",
      "source": [
        "logisticRegr = LogisticRegression(C= 1.0, multi_class = 'ovr', penalty ='l1', solver = 'liblinear') "
      ],
      "metadata": {
        "id": "6rRLJ-G5PCrJ"
      },
      "execution_count": null,
      "outputs": []
    },
    {
      "cell_type": "code",
      "source": [
        "X_train, X_test, y_train, y_test = train_test_split(X, y, test_size=0.20, random_state = 46)"
      ],
      "metadata": {
        "id": "y2CGIHRMFlpT"
      },
      "execution_count": null,
      "outputs": []
    },
    {
      "cell_type": "code",
      "source": [
        "logisticRegr.fit(X_train, y_train)       "
      ],
      "metadata": {
        "colab": {
          "base_uri": "https://localhost:8080/"
        },
        "id": "2OOxN1HqFpec",
        "outputId": "52716ccc-2ad8-4905-c40a-d9a5ac22936b"
      },
      "execution_count": null,
      "outputs": [
        {
          "output_type": "execute_result",
          "data": {
            "text/plain": [
              "LogisticRegression(multi_class='ovr', penalty='l1', solver='liblinear')"
            ]
          },
          "metadata": {},
          "execution_count": 375
        }
      ]
    },
    {
      "cell_type": "code",
      "source": [
        "print(f'Accuracy on Test data after tuning: {round(logisticRegr.score(X_test, y_test), 4) *100} %')"
      ],
      "metadata": {
        "colab": {
          "base_uri": "https://localhost:8080/"
        },
        "id": "sqT7ZoKD5lLg",
        "outputId": "713b2e97-8fd3-4de1-e93d-2c4261218255"
      },
      "execution_count": null,
      "outputs": [
        {
          "output_type": "stream",
          "name": "stdout",
          "text": [
            "Accuracy on Test data after tuning: 83.33 %\n"
          ]
        }
      ]
    },
    {
      "cell_type": "markdown",
      "source": [
        "Accuracy of 83% is obtained on Testing Data after tuning the model. This is bettwe than 80% accuracy obtained before tuning "
      ],
      "metadata": {
        "id": "8EVTQKL6Pkkm"
      }
    },
    {
      "cell_type": "markdown",
      "source": [
        "#### Plotting the ROC Curve for the Tuned Model"
      ],
      "metadata": {
        "id": "edZcDYJjPqV4"
      }
    },
    {
      "cell_type": "code",
      "source": [
        "probs = logisticRegr.predict_proba(X_test)\n",
        "fpr = dict()\n",
        "tpr = dict()\n",
        "roc_auc = dict()\n",
        "\n",
        "for i in range(3):\n",
        "    fpr[i], tpr[i], _ = roc_curve(y_test, probs[:, i],pos_label=i)\n",
        "    roc_auc[i] = auc(fpr[i], tpr[i])\n",
        "    \n",
        "plt.plot(fpr[0], tpr[0], linestyle='--',color='orange', label='Class 0 vs Rest')\n",
        "plt.plot(fpr[1], tpr[1], linestyle='--',color='green', label='Class 1 vs Rest')\n",
        "plt.plot(fpr[2], tpr[2], linestyle='--',color='blue', label='Class 2 vs Rest')\n",
        "plt.plot([0, 1], [0, 1], color=\"navy\", linestyle=\"--\")\n",
        "plt.title('Multiclass ROC curve')\n",
        "plt.xlabel('False Positive Rate')\n",
        "plt.ylabel('True Positive rate')\n",
        "plt.legend(loc='best')\n",
        "plt.savefig('Multiclass ROC',dpi=300)"
      ],
      "metadata": {
        "colab": {
          "base_uri": "https://localhost:8080/",
          "height": 295
        },
        "id": "KFW7OvV8Iqod",
        "outputId": "f54d9d1c-085e-425a-f2bd-855e2cf37834"
      },
      "execution_count": null,
      "outputs": [
        {
          "output_type": "display_data",
          "data": {
            "image/png": "[encoded data removed]",
            "text/plain": [
              "<Figure size 432x288 with 1 Axes>"
            ]
          },
          "metadata": {
            "needs_background": "light"
          }
        }
      ]
    },
    {
      "cell_type": "code",
      "source": [
        "y_pred_LRC = logisticRegr.predict(X_test)\n",
        "print(classification_report(y_test, y_pred_LRC))"
      ],
      "metadata": {
        "colab": {
          "base_uri": "https://localhost:8080/"
        },
        "id": "cGqwAyX0JI3l",
        "outputId": "6592efdc-4d86-4437-dc1c-41601e077196"
      },
      "execution_count": null,
      "outputs": [
        {
          "output_type": "stream",
          "name": "stdout",
          "text": [
            "              precision    recall  f1-score   support\n",
            "\n",
            "           0       0.95      0.92      0.93        38\n",
            "           1       0.61      1.00      0.76        11\n",
            "           2       0.80      0.36      0.50        11\n",
            "\n",
            "    accuracy                           0.83        60\n",
            "   macro avg       0.79      0.76      0.73        60\n",
            "weighted avg       0.86      0.83      0.82        60\n",
            "\n"
          ]
        }
      ]
    },
    {
      "cell_type": "markdown",
      "source": [
        "We see that class 0 (lived) and class 1 (died) have highest ROC Curve."
      ],
      "metadata": {
        "id": "efAPAAC3d5lH"
      }
    },
    {
      "cell_type": "markdown",
      "source": [
        "### Conclusion"
      ],
      "metadata": {
        "id": "k2XnzA-TKAl8"
      }
    },
    {
      "cell_type": "markdown",
      "source": [
        "1. Most of the horses who lived had pulse in the normal range.\n",
        "2. Also, those having reduced or absent peripheral pulse had pulse in higher range.\n",
        "3. Moreover, those horses who had packed_cell_volume in normal range, had higher changes of survival. \n",
        "4. Furthermore, most of the horses who lived had clear abdomo_appearance.\n",
        "5. Thus, horses having normal pulse, normal packed_cell_volume, normal peripheral pulse and clear abdomo_appearance have higher changes of survival. \n"
      ],
      "metadata": {
        "id": "UTMyS5cYj0vp"
      }
    }
  ]
}